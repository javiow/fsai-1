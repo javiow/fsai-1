{
 "cells": [
  {
   "cell_type": "code",
   "execution_count": 1,
   "id": "03019a95-9ab0-4bd4-bd19-d23b565f95dc",
   "metadata": {},
   "outputs": [],
   "source": [
    "import json \n",
    "import torch\n",
    "from datasets import Dataset, load_dataset\n",
    "from transformers import (AutoTokenizer, \n",
    "                          AutoModelForCausalLM, \n",
    "                          pipeline, \n",
    "                          StoppingCriteria, \n",
    "                          StoppingCriteriaList)"
   ]
  },
  {
   "cell_type": "code",
   "execution_count": 2,
   "id": "b9882edd-dcfd-4f2f-b7e9-448a0e382e5d",
   "metadata": {},
   "outputs": [
    {
     "data": {
      "application/vnd.jupyter.widget-view+json": {
       "model_id": "0199d39c01e44a63804b69b63fa934b6",
       "version_major": 2,
       "version_minor": 0
      },
      "text/plain": [
       "Loading checkpoint shards:   0%|          | 0/5 [00:00<?, ?it/s]"
      ]
     },
     "metadata": {},
     "output_type": "display_data"
    }
   ],
   "source": [
    "model_name = \"../output\"\n",
    "model = AutoModelForCausalLM.from_pretrained(model_name, \n",
    "                                            device_map=\"auto\",\n",
    "                                            torch_dtype=torch.bfloat16\n",
    "                                            )\n",
    "tokenizer = AutoTokenizer.from_pretrained(model_name)"
   ]
  },
  {
   "cell_type": "code",
   "execution_count": null,
   "id": "59fad7c0-c9d6-4100-a611-f6db877b9c77",
   "metadata": {},
   "outputs": [],
   "source": []
  },
  {
   "cell_type": "code",
   "execution_count": 11,
   "id": "ab50d77c-d9d4-4c25-95c1-1f4bd65e30ff",
   "metadata": {},
   "outputs": [],
   "source": [
    "class StopOnTokens(StoppingCriteria):\n",
    "    def __init__(self, stop_token_ids):\n",
    "        super().__init__()\n",
    "        self.stop_token_ids = stop_token_ids\n",
    "\n",
    "    def __call__(self, input_ids: torch.LongTensor, scores: torch.FloatTensor, **kwargs) -> bool:\n",
    "        for stop_id in self.stop_token_ids:\n",
    "            if input_ids[0][-1] == stop_id:\n",
    "                return True\n",
    "        return False\n",
    "\n",
    "user_token_id = tokenizer.encode(\"user\", add_special_tokens=False)\n",
    "inst_token_id = tokenizer.encode(\"[/INST]\", add_special_tokens=False)\n",
    "stop_words_ids = [user_token_id, inst_token_id]\n",
    "stopping_criteria = StoppingCriteriaList([StopOnTokens(stop_token_ids=stop_words_ids)])"
   ]
  },
  {
   "cell_type": "code",
   "execution_count": 12,
   "id": "5ae9de71-8d93-4f46-b8e9-daafbda4d2c0",
   "metadata": {},
   "outputs": [
    {
     "data": {
      "text/plain": [
       "[733, 28748, 16289, 28793]"
      ]
     },
     "execution_count": 12,
     "metadata": {},
     "output_type": "execute_result"
    }
   ],
   "source": [
    "inst_token_id"
   ]
  },
  {
   "cell_type": "code",
   "execution_count": 9,
   "id": "30eb32e5-2ad3-4473-b77a-1d435e34723a",
   "metadata": {},
   "outputs": [],
   "source": [
    "pipe = pipeline(\n",
    "    \"text-generation\",\n",
    "    model=model,\n",
    "    tokenizer=tokenizer,\n",
    "    device_map=\"auto\",\n",
    "    return_full_text=False,\n",
    "    do_sample=True,\n",
    "    max_new_tokens=512,\n",
    "    temperature=0.2,\n",
    ")"
   ]
  },
  {
   "cell_type": "code",
   "execution_count": 5,
   "id": "140e06e7-49a9-48a7-a05f-bae86f1c7a8f",
   "metadata": {},
   "outputs": [
    {
     "data": {
      "text/plain": [
       "DatasetDict({\n",
       "    train: Dataset({\n",
       "        features: ['texts'],\n",
       "        num_rows: 140\n",
       "    })\n",
       "})"
      ]
     },
     "execution_count": 5,
     "metadata": {},
     "output_type": "execute_result"
    }
   ],
   "source": [
    "dataset = load_dataset(\"json\", data_files=\"../data/train_dataset_pipa.jsonl\")\n",
    "dataset"
   ]
  },
  {
   "cell_type": "code",
   "execution_count": 24,
   "id": "d733c39b-0cac-4616-88e2-a2983d0623bf",
   "metadata": {},
   "outputs": [],
   "source": [
    "# train_text = dataset[\"train\"][0][\"texts\"][\"instruction\"]\n",
    "train_text = \"개인정보 보호법의 목적은?\"\n",
    "# train_text = \"\"\"개인정보보호법 제76조에 따르면, 제64조의2에 따라 과징금을 부과한 행위에 대해 과태료를 부과할 수 없는 이유는 무엇인가?\n",
    "# 1 동일한 위반 행위에 대해 형사처벌이 이미 이루어졌기 때문에\n",
    "# 2 과태료 부과가 법적으로 금지되어 있기 때문에\n",
    "# 3 과징금이 이미 부과되었기 때문에\n",
    "# 4 과태료가 과징금보다 낮기 때문에\n",
    "# 5 과태료 부과가 불필요하기 때문에\"\"\""
   ]
  },
  {
   "cell_type": "code",
   "execution_count": 26,
   "id": "8784d404-2244-45ca-ba9b-ea19d3a3cf7d",
   "metadata": {},
   "outputs": [
    {
     "name": "stdout",
     "output_type": "stream",
     "text": [
      "이 법은 개인정보의 처리 및 보호에 관한 사항을 정함으로써 개인의 자유와 권리를 보호하고, 개인의 존엄과 개인의 가치를 실현함을 목적으로 한다. 제2장 개인정보 보호정책의 수립 및 시행 제1조 보호위원회의 설치 및 구\n"
     ]
    }
   ],
   "source": [
    "prompt = f\"<s>[INST] {train_text} [/INST]\"  # 답변 직전에 [/INST]\n",
    "input_ids = tokenizer(prompt, return_tensors=\"pt\").to(model.device)\n",
    "\n",
    "# generate 호출 시 start_index 지정\n",
    "prompt_len = input_ids.input_ids.shape[1]\n",
    "out_ids = model.generate(\n",
    "    **input_ids,\n",
    "    max_new_tokens=128,\n",
    "    do_sample=True,\n",
    "    temperature=0.2,\n",
    "    pad_token_id=tokenizer.eos_token_id,\n",
    ")\n",
    "# prompt_len 이후부터만 디코딩 → 첫 [/INST]는 자연히 제거됨\n",
    "print(tokenizer.decode(out_ids[0][prompt_len:], skip_special_tokens=True))\n"
   ]
  },
  {
   "cell_type": "code",
   "execution_count": null,
   "id": "bb1cb5e3-25b7-49dc-afed-2dd3e74788b1",
   "metadata": {},
   "outputs": [],
   "source": []
  },
  {
   "cell_type": "code",
   "execution_count": null,
   "id": "bbe50e6c-f68b-465d-aecb-d5fb5df9c4d2",
   "metadata": {},
   "outputs": [],
   "source": []
  }
 ],
 "metadata": {
  "kernelspec": {
   "display_name": "Python 3 (ipykernel)",
   "language": "python",
   "name": "python3"
  },
  "language_info": {
   "codemirror_mode": {
    "name": "ipython",
    "version": 3
   },
   "file_extension": ".py",
   "mimetype": "text/x-python",
   "name": "python",
   "nbconvert_exporter": "python",
   "pygments_lexer": "ipython3",
   "version": "3.10.12"
  }
 },
 "nbformat": 4,
 "nbformat_minor": 5
}
