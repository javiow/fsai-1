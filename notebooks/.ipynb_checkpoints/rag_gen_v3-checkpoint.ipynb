{
 "cells": [
  {
   "cell_type": "code",
   "execution_count": null,
   "id": "2787c6027a9610f7",
   "metadata": {},
   "outputs": [],
   "source": [
    "# !pip install pandas tqdm transformers accelerate bitsandbytes"
   ]
  },
  {
   "cell_type": "code",
   "execution_count": 1,
   "id": "initial_id",
   "metadata": {
    "ExecuteTime": {
     "end_time": "2025-08-04T09:40:16.029284Z",
     "start_time": "2025-08-04T09:40:16.025099Z"
    }
   },
   "outputs": [],
   "source": [
    "import re\n",
    "import os\n",
    "import pandas as pd\n",
    "from tqdm import tqdm\n",
    "\n",
    "import torch\n",
    "\n",
    "from transformers import AutoTokenizer, AutoModelForCausalLM, pipeline"
   ]
  },
  {
   "cell_type": "code",
   "execution_count": 2,
   "id": "3f9fbe2f1b329d63",
   "metadata": {
    "ExecuteTime": {
     "end_time": "2025-08-04T09:40:18.581689Z",
     "start_time": "2025-08-04T09:40:18.542863Z"
    }
   },
   "outputs": [
    {
     "data": {
      "text/html": [
       "<div>\n",
       "<style scoped>\n",
       "    .dataframe tbody tr th:only-of-type {\n",
       "        vertical-align: middle;\n",
       "    }\n",
       "\n",
       "    .dataframe tbody tr th {\n",
       "        vertical-align: top;\n",
       "    }\n",
       "\n",
       "    .dataframe thead th {\n",
       "        text-align: right;\n",
       "    }\n",
       "</style>\n",
       "<table border=\"1\" class=\"dataframe\">\n",
       "  <thead>\n",
       "    <tr style=\"text-align: right;\">\n",
       "      <th></th>\n",
       "      <th>ID</th>\n",
       "      <th>Question</th>\n",
       "    </tr>\n",
       "  </thead>\n",
       "  <tbody>\n",
       "    <tr>\n",
       "      <th>0</th>\n",
       "      <td>TEST_000</td>\n",
       "      <td>금융산업의 이해와 관련하여 금융투자업의 구분에 해당하지 않는 것은?\\n1 소비자금융...</td>\n",
       "    </tr>\n",
       "    <tr>\n",
       "      <th>1</th>\n",
       "      <td>TEST_001</td>\n",
       "      <td>위험 관리 계획 수립 시 고려해야 할 요소로 적절하지 않은 것은?\\n1 수행인력\\n...</td>\n",
       "    </tr>\n",
       "    <tr>\n",
       "      <th>2</th>\n",
       "      <td>TEST_002</td>\n",
       "      <td>관리체계 수립 및 운영'의 '정책 수립' 단계에서 가장 중요한 요소는 무엇인가?\\n...</td>\n",
       "    </tr>\n",
       "    <tr>\n",
       "      <th>3</th>\n",
       "      <td>TEST_003</td>\n",
       "      <td>재해 복구 계획 수립 시 고려해야 할 요소로 옳지 않은 것은?\\n1 복구 절차 수립...</td>\n",
       "    </tr>\n",
       "    <tr>\n",
       "      <th>4</th>\n",
       "      <td>TEST_004</td>\n",
       "      <td>트로이 목마(Trojan) 기반 원격제어 악성코드(RAT)의 특징과 주요 탐지 지표...</td>\n",
       "    </tr>\n",
       "    <tr>\n",
       "      <th>...</th>\n",
       "      <td>...</td>\n",
       "      <td>...</td>\n",
       "    </tr>\n",
       "    <tr>\n",
       "      <th>510</th>\n",
       "      <td>TEST_510</td>\n",
       "      <td>\"정보보호최고책임자\"의 임명에 관한 설명으로 옳지 않은 것은?\\n1 정보보호최고책임...</td>\n",
       "    </tr>\n",
       "    <tr>\n",
       "      <th>511</th>\n",
       "      <td>TEST_511</td>\n",
       "      <td>IPv6 주소 체계의 주요 특징으로 옳지 않은 것은?\\n1 NAT 필요성 감소\\n2...</td>\n",
       "    </tr>\n",
       "    <tr>\n",
       "      <th>512</th>\n",
       "      <td>TEST_512</td>\n",
       "      <td>하이브리드 위협에 대한 설명으로 가장 적절한 것은?\\n1 사이버 공간에서만 발생하는...</td>\n",
       "    </tr>\n",
       "    <tr>\n",
       "      <th>513</th>\n",
       "      <td>TEST_513</td>\n",
       "      <td>전자금융거래법의 주요 목적 중 하나는 무엇인가?\\n1 전자금융거래의 비대면성 강화\\...</td>\n",
       "    </tr>\n",
       "    <tr>\n",
       "      <th>514</th>\n",
       "      <td>TEST_514</td>\n",
       "      <td>전자서명인증업무 운영기준에 포함되지 않는 항목은 무엇인가?\\n1 전자서명인증서의 유...</td>\n",
       "    </tr>\n",
       "  </tbody>\n",
       "</table>\n",
       "<p>515 rows × 2 columns</p>\n",
       "</div>"
      ],
      "text/plain": [
       "           ID                                           Question\n",
       "0    TEST_000  금융산업의 이해와 관련하여 금융투자업의 구분에 해당하지 않는 것은?\\n1 소비자금융...\n",
       "1    TEST_001  위험 관리 계획 수립 시 고려해야 할 요소로 적절하지 않은 것은?\\n1 수행인력\\n...\n",
       "2    TEST_002  관리체계 수립 및 운영'의 '정책 수립' 단계에서 가장 중요한 요소는 무엇인가?\\n...\n",
       "3    TEST_003  재해 복구 계획 수립 시 고려해야 할 요소로 옳지 않은 것은?\\n1 복구 절차 수립...\n",
       "4    TEST_004  트로이 목마(Trojan) 기반 원격제어 악성코드(RAT)의 특징과 주요 탐지 지표...\n",
       "..        ...                                                ...\n",
       "510  TEST_510  \"정보보호최고책임자\"의 임명에 관한 설명으로 옳지 않은 것은?\\n1 정보보호최고책임...\n",
       "511  TEST_511  IPv6 주소 체계의 주요 특징으로 옳지 않은 것은?\\n1 NAT 필요성 감소\\n2...\n",
       "512  TEST_512  하이브리드 위협에 대한 설명으로 가장 적절한 것은?\\n1 사이버 공간에서만 발생하는...\n",
       "513  TEST_513  전자금융거래법의 주요 목적 중 하나는 무엇인가?\\n1 전자금융거래의 비대면성 강화\\...\n",
       "514  TEST_514  전자서명인증업무 운영기준에 포함되지 않는 항목은 무엇인가?\\n1 전자서명인증서의 유...\n",
       "\n",
       "[515 rows x 2 columns]"
      ]
     },
     "execution_count": 2,
     "metadata": {},
     "output_type": "execute_result"
    }
   ],
   "source": [
    "test = pd.read_csv('../data/test.csv')\n",
    "test"
   ]
  },
  {
   "cell_type": "code",
   "execution_count": 3,
   "id": "511d0f6574e94d3d",
   "metadata": {
    "ExecuteTime": {
     "end_time": "2025-08-04T09:40:31.325190Z",
     "start_time": "2025-08-04T09:40:31.318730Z"
    }
   },
   "outputs": [],
   "source": [
    "# 객관식 여부 판단 함수\n",
    "def is_multiple_choice(question_text):\n",
    "    \"\"\"\n",
    "    객관식 여부를 판단: 2개 이상의 숫자 선택지가 줄 단위로 존재할 경우 객관식으로 간주\n",
    "    \"\"\"\n",
    "    lines = question_text.strip().split(\"\\n\")\n",
    "    option_count = sum(bool(re.match(r\"^\\s*[1-9][0-9]?\\s\", line)) for line in lines)\n",
    "    return option_count >= 2\n",
    "\n",
    "\n",
    "# 질문과 선택지 분리 함수\n",
    "def extract_question_and_choices(full_text):\n",
    "    \"\"\"\n",
    "    전체 질문 문자열에서 질문 본문과 선택지 리스트를 분리\n",
    "    \"\"\"\n",
    "    lines = full_text.strip().split(\"\\n\")\n",
    "    q_lines = []\n",
    "    options = []\n",
    "\n",
    "    for line in lines:\n",
    "        if re.match(r\"^\\s*[1-9][0-9]?\\s\", line):\n",
    "            options.append(line.strip())\n",
    "        else:\n",
    "            q_lines.append(line.strip())\n",
    "\n",
    "    question = \" \".join(q_lines)\n",
    "    return question, options"
   ]
  },
  {
   "cell_type": "code",
   "execution_count": 4,
   "id": "d8936cae9e5905b8",
   "metadata": {
    "ExecuteTime": {
     "end_time": "2025-08-04T09:40:33.019426Z",
     "start_time": "2025-08-04T09:40:33.014808Z"
    }
   },
   "outputs": [],
   "source": [
    "# 프롬프트 생성기\n",
    "def make_prompt_auto(text):\n",
    "    if is_multiple_choice(text):\n",
    "        question, options = extract_question_and_choices(text)\n",
    "        prompt = (\n",
    "                \"당신은 금융보안 전문가입니다.\\n\"\n",
    "                \"아래 질문에 대해 적절한 **정답 선택지 번호만 출력**하세요.\\n\\n\"\n",
    "                f\"질문: {question}\\n\"\n",
    "                \"선택지:\\n\"\n",
    "                f\"{chr(10).join(options)}\\n\\n\"\n",
    "                \"답변:\"\n",
    "                )\n",
    "    else:\n",
    "        prompt = (\n",
    "                \"당신은 금융보안 전문가입니다.\\n\"\n",
    "                # \"아래 주관식 질문에 대해 정확하고 간략한 설명을 작성하세요.\\n\\n\"\n",
    "                \"아래 질문에 대해 정답의 핵심 키워드와 의미를 모두 포함하여 3문장 이내로 간결하게 답변하세요. 군더더기 없이 요점만 명확하게 작성하세요.\\n\\n\"\n",
    "                f\"질문: {text}\\n\\n\"\n",
    "                \"답변:\"\n",
    "                )\n",
    "    return prompt"
   ]
  },
  {
   "cell_type": "code",
   "execution_count": 5,
   "id": "f7c50b9e93981919",
   "metadata": {
    "ExecuteTime": {
     "end_time": "2025-08-04T09:50:33.144854Z",
     "start_time": "2025-08-04T09:40:35.988653Z"
    }
   },
   "outputs": [],
   "source": [
    "# -*- coding: utf-8 -*-\n",
    "# KULLM3 + FAISS(HNSW) 빠른 RAG (고정폭 lookbehind 수정 포함)\n",
    "\n",
    "import os, re, json, math\n",
    "from typing import List, Tuple\n",
    "import torch\n",
    "from transformers import AutoTokenizer, AutoModelForCausalLM\n",
    "\n",
    "PDF_PATH = \"../data/개인정보 보호법.pdf\"\n",
    "LLM_ID = \"nlpai-lab/KULLM3\"\n",
    "EMB_MODEL = \"jhgan/ko-sroberta-multitask\"   # 대체: intfloat/multilingual-e5-small\n",
    "TOP_K = 4\n",
    "CHUNK_TOKENS = 600\n",
    "CHUNK_OVERLAP = 32\n",
    "CTX_TOKEN_BUDGET = 900\n",
    "SEED = 42\n",
    "\n",
    "torch.manual_seed(SEED)\n",
    "\n",
    "# 0) 경량 라우터 (정규식/키워드)\n",
    "LAW_KWS = (\"개인정보\", \"제\", \"조(\", \"시행령\", \"과징금\", \"처벌\", \"보안\", \"금융\", \"증권\", \"PPI\", \"CPI\", \"자본시장법\")\n",
    "def route_is_law(query: str) -> bool:\n",
    "    q = query.lower()\n",
    "    return any(kw in q for kw in LAW_KWS)\n",
    "\n",
    "# ---------------- PDF 로드 & 정제 ----------------\n",
    "from PyPDF2 import PdfReader\n",
    "\n",
    "def clean_article_text(text: str) -> str:\n",
    "    text = re.sub(r'[\\u4e00-\\u9fff]', '', text)\n",
    "    text = re.sub(r'법제처\\s+\\d+\\s+국가법령정보센터\\s*개인정보\\s*보호법', '', text)\n",
    "    text = re.sub(r'법제처\\s+\\d+\\s+국가법령정보센터', '', text)\n",
    "    text = re.sub(r'국가법령정보센터\\s*개인정보\\s*보호법', '', text)\n",
    "    text = re.sub(r'법제처|국가법령정보센터', '', text)\n",
    "    text = re.sub(r'<[^>]+>', '', text)\n",
    "    text = re.sub(r'\\[[^\\]]+\\]', '', text)\n",
    "    circled = '①②③④⑤⑥⑦⑧⑨⑩⑪⑫⑬⑭⑮⑯⑰⑱⑲⑳'\n",
    "    for idx, c in enumerate(circled, 1):\n",
    "        text = text.replace(c, f'({idx})')\n",
    "    text = re.sub(r'\\s+', ' ', text).strip()\n",
    "    text = re.sub(r'\\(\\s*\\)', '', text)\n",
    "    return text\n",
    "\n",
    "def load_pdf_text(pdf_path: str) -> str:\n",
    "    reader = PdfReader(pdf_path)\n",
    "    full_text = \"\"\n",
    "    for page in reader.pages:\n",
    "        t = page.extract_text() or \"\"\n",
    "        full_text += t + \"\\n\"\n",
    "    return full_text\n",
    "\n",
    "def split_articles(text: str) -> List[Tuple[str, str, str]]:\n",
    "    pattern = r'(제\\d+조(?:의\\d+)?\\([^)]+\\))'\n",
    "    parts = re.split(pattern, text)\n",
    "    results = []\n",
    "    for i in range(1, len(parts), 2):\n",
    "        header = parts[i]\n",
    "        body = (parts[i+1] if i+1 < len(parts) else \"\").strip().replace(\"\\n\", \" \")\n",
    "        m = re.match(r'(제\\d+조(?:의\\d+)?)[(]([^)]+)[)]', header)\n",
    "        if not m: \n",
    "            continue\n",
    "        art_id = m.group(1)\n",
    "        title = m.group(2)\n",
    "        results.append((art_id, title, clean_article_text(body)))\n",
    "    return results\n"
   ]
  },
  {
   "cell_type": "code",
   "execution_count": 6,
   "id": "897a3e9b-e2c7-49b4-92b8-adad6e0a19e5",
   "metadata": {},
   "outputs": [
    {
     "name": "stderr",
     "output_type": "stream",
     "text": [
      "/usr/local/lib/python3.10/dist-packages/huggingface_hub/file_download.py:1132: FutureWarning: `resume_download` is deprecated and will be removed in version 1.0.0. Downloads always resume when possible. If you want to force a new download, use `force_download=True`.\n",
      "  warnings.warn(\n"
     ]
    }
   ],
   "source": [
    "# ---------------- 토큰 기준 청킹 ----------------\n",
    "llm_tokenizer = AutoTokenizer.from_pretrained(LLM_ID)\n",
    "if llm_tokenizer.pad_token is None:\n",
    "    llm_tokenizer.pad_token = llm_tokenizer.eos_token\n",
    "llm_tokenizer.padding_side = \"right\"\n",
    "\n",
    "def token_len(s: str) -> int:\n",
    "    return len(llm_tokenizer(s, add_special_tokens=False)[\"input_ids\"])\n",
    "\n",
    "def split_sentences_ko(text: str) -> List[str]:\n",
    "    \"\"\"\n",
    "    lookbehind 고정폭으로 분리:\n",
    "    - '...다.' 패턴 뒤 공백\n",
    "    - 일반 종결부호(. ? ! 。 ！ ？) 뒤 공백\n",
    "    \"\"\"\n",
    "    text = re.sub(r'\\s+', ' ', text).strip()\n",
    "    if not text:\n",
    "        return []\n",
    "    return re.split(r'(?<=다\\.)\\s+|(?<=[.?!。！？])\\s+', text)\n",
    "\n",
    "def chunk_by_tokens(text: str, header: str, max_tokens=CHUNK_TOKENS, overlap=CHUNK_OVERLAP) -> List[str]:\n",
    "    prefix = header.strip() + \"\\n\"\n",
    "    sents = split_sentences_ko(text)\n",
    "    if not sents:\n",
    "        sents = [text]\n",
    "    chunks, cur, cur_toks = [], [], token_len(prefix)\n",
    "    for s in sents:\n",
    "        tl = token_len(s)\n",
    "        if cur_toks + tl > max_tokens and cur:\n",
    "            chunks.append(prefix + \" \".join(cur))\n",
    "            if overlap > 0:\n",
    "                keep = cur[-1] if cur else \"\"\n",
    "                cur = [keep] if keep else []\n",
    "                cur_toks = token_len(prefix) + (token_len(keep) if keep else 0)\n",
    "            else:\n",
    "                cur, cur_toks = [], token_len(prefix)\n",
    "        cur.append(s)\n",
    "        cur_toks += tl\n",
    "    if cur:\n",
    "        chunks.append(prefix + \" \".join(cur))\n",
    "    return chunks\n"
   ]
  },
  {
   "cell_type": "code",
   "execution_count": 7,
   "id": "4bdeaf3b-c1a8-4e38-86d6-38975e2ad53f",
   "metadata": {},
   "outputs": [
    {
     "name": "stderr",
     "output_type": "stream",
     "text": [
      "/tmp/ipykernel_1385/4251994564.py:6: LangChainDeprecationWarning: The class `HuggingFaceEmbeddings` was deprecated in LangChain 0.2.2 and will be removed in 1.0. An updated version of the class exists in the :class:`~langchain-huggingface package and should be used instead. To use it run `pip install -U :class:`~langchain-huggingface` and import as `from :class:`~langchain_huggingface import HuggingFaceEmbeddings``.\n",
      "  embeddings = HuggingFaceEmbeddings(\n",
      "/usr/local/lib/python3.10/dist-packages/huggingface_hub/file_download.py:1132: FutureWarning: `resume_download` is deprecated and will be removed in version 1.0.0. Downloads always resume when possible. If you want to force a new download, use `force_download=True`.\n",
      "  warnings.warn(\n",
      "/usr/local/lib/python3.10/dist-packages/torch/_utils.py:831: UserWarning: TypedStorage is deprecated. It will be removed in the future and UntypedStorage will be the only storage class. This should only matter to you if you are using storages directly.  To access UntypedStorage directly, use tensor.untyped_storage() instead of tensor.storage()\n",
      "  return self.fget.__get__(instance, owner)()\n"
     ]
    }
   ],
   "source": [
    "# ---------------- 임베딩 & FAISS(HNSW) ----------------\n",
    "from langchain_community.embeddings import HuggingFaceEmbeddings\n",
    "import numpy as np, faiss\n",
    "from dataclasses import dataclass\n",
    "\n",
    "embeddings = HuggingFaceEmbeddings(\n",
    "    model_name=EMB_MODEL,\n",
    "    model_kwargs={\"device\": \"cuda\" if torch.cuda.is_available() else \"cpu\"},\n",
    "    encode_kwargs={\"normalize_embeddings\": True, \"batch_size\": 128,\n",
    "                   \"convert_to_numpy\": True, \"convert_to_tensor\": False}\n",
    ")\n",
    "\n",
    "@dataclass\n",
    "class Doc:\n",
    "    text: str\n",
    "    meta: dict\n",
    "\n",
    "def build_faiss_hnsw(vectors: np.ndarray, m: int = 32, ef_search: int = 64) -> faiss.IndexHNSWFlat:\n",
    "    dim = vectors.shape[1]\n",
    "    index = faiss.IndexHNSWFlat(dim, m)\n",
    "    index.hnsw.efSearch = ef_search\n",
    "    index.add(vectors.astype(np.float32))\n",
    "    return index\n"
   ]
  },
  {
   "cell_type": "code",
   "execution_count": 8,
   "id": "96c4719f-2c89-41e5-9df2-d3d19e18316c",
   "metadata": {},
   "outputs": [],
   "source": [
    "# ---------------- 데이터 준비 ----------------\n",
    "full_text = load_pdf_text(PDF_PATH)\n",
    "articles = split_articles(full_text)\n",
    "\n",
    "docs: List[Doc] = []\n",
    "for art_id, title, body in articles:\n",
    "    header = f\"개인정보 보호법 {art_id}({title})\"\n",
    "    for ch in chunk_by_tokens(body, header, max_tokens=CHUNK_TOKENS, overlap=CHUNK_OVERLAP):\n",
    "        docs.append(Doc(text=ch, meta={\n",
    "            \"article\": art_id, \"title\": title, \"tok_len\": token_len(ch)  # ← 캐시\n",
    "        }))\n",
    "\n",
    "corpus_texts = [d.text for d in docs]\n",
    "emb_matrix = np.array(embeddings.embed_documents(corpus_texts), dtype=np.float32)  # (N, D)\n",
    "\n",
    "# index = build_faiss_hnsw(emb_matrix, m=32, ef_search=64)\n",
    "index = build_faiss_hnsw(emb_matrix, m=32, ef_search=32)  # ← 64 -> 32 (보통 절반 가까이 빨라짐)\n",
    "\n",
    "\n",
    "def faiss_search(query: str, top_k: int = TOP_K) -> List[Doc]:\n",
    "    qv = np.array(embeddings.embed_query(query), dtype=np.float32).reshape(1, -1)\n",
    "    D, I = index.search(qv, top_k)\n",
    "    return [docs[int(i)] for i in I[0] if int(i) >= 0]\n",
    "\n",
    "# pack_context에서 캐시 활용 + 잘라붙일 때만 토크나이즈\n",
    "def pack_context(docs_in, token_budget=CTX_TOKEN_BUDGET):\n",
    "    acc, used = [], 0\n",
    "    for d in docs_in:\n",
    "        tl = d.meta.get(\"tok_len\", None)\n",
    "        if tl is None:  # 혹시 없는 경우만 계산\n",
    "            tl = token_len(d.text); d.meta[\"tok_len\"] = tl\n",
    "        if used + tl <= token_budget:\n",
    "            acc.append(d.text); used += tl\n",
    "        else:\n",
    "            remain = token_budget - used\n",
    "            if remain > 50:\n",
    "                ids = llm_tokenizer(d.text, add_special_tokens=False)[\"input_ids\"][:remain]\n",
    "                acc.append(llm_tokenizer.decode(ids))\n",
    "            break\n",
    "    return \"\\n\\n\".join(acc)\n"
   ]
  },
  {
   "cell_type": "code",
   "execution_count": 9,
   "id": "24da7e19-e130-4040-aef4-795957cd3ca4",
   "metadata": {},
   "outputs": [
    {
     "name": "stderr",
     "output_type": "stream",
     "text": [
      "The `load_in_4bit` and `load_in_8bit` arguments are deprecated and will be removed in the future versions. Please, pass a `BitsAndBytesConfig` object in `quantization_config` argument instead.\n"
     ]
    },
    {
     "data": {
      "application/vnd.jupyter.widget-view+json": {
       "model_id": "685fa6ae610f401b93d4ce45d01f994d",
       "version_major": 2,
       "version_minor": 0
      },
      "text/plain": [
       "Loading checkpoint shards:   0%|          | 0/5 [00:00<?, ?it/s]"
      ]
     },
     "metadata": {},
     "output_type": "display_data"
    },
    {
     "data": {
      "text/plain": [
       "<torch.autograd.grad_mode.set_grad_enabled at 0x702e31fc8760>"
      ]
     },
     "execution_count": 9,
     "metadata": {},
     "output_type": "execute_result"
    }
   ],
   "source": [
    "# ---------------- LLM 로드 & 생성 ----------------\n",
    "llm_model = AutoModelForCausalLM.from_pretrained(\n",
    "    LLM_ID,\n",
    "    device_map=\"auto\",\n",
    "    load_in_4bit=True,\n",
    "    torch_dtype=torch.float16\n",
    ")\n",
    "if torch.cuda.is_available():\n",
    "    torch.backends.cuda.matmul.allow_tf32 = True\n",
    "    try:\n",
    "        # llm_model.config.attn_implementation = \"sdpa\"\n",
    "        llm_model.config.attn_implementation = \"flash_attention_2\"\n",
    "        # llm_model.config.attn_implementation = \"eager\"\n",
    "    except Exception:\n",
    "        pass\n",
    "llm_model.eval()\n",
    "torch.set_grad_enabled(False)"
   ]
  },
  {
   "cell_type": "code",
   "execution_count": 10,
   "id": "bcb230fa-1d19-4cf8-a817-972f797c312d",
   "metadata": {},
   "outputs": [],
   "source": [
    "# ---------------- 텍스트 생성 ----------------\n",
    "def dynamic_max_new_tokens(question: str) -> int:\n",
    "    lines = [ln.strip() for ln in question.split(\"\\n\") if ln.strip()]\n",
    "    opt_cnt = sum(bool(re.match(r\"^\\d+(\\s|[.)])\", ln)) for ln in lines)\n",
    "    return 128 if opt_cnt >= 2 else 256\n",
    "\n",
    "SYSTEM_PROMPT = (\n",
    "    \"당신은 한국 법령, 금융, 보안 도메인 Q/A를 담당하는 도우미입니다. \"\n",
    "    \"아는 사실만 간결하게 답하고, 모르면 '알 수 없습니다'라고 말하세요.\"\n",
    ")\n",
    "USER_TPL = (\n",
    "    \"다음 컨텍스트만 사용해 한국어로 정확하게 답하세요.\\n\"\n",
    "    \"===\\n{context}\\n===\\n질문: {query}\"\n",
    ")\n",
    "\n",
    "def faiss_search_with_scores(query: str, top_k: int = TOP_K):\n",
    "    qv = np.array(embeddings.embed_query(query), dtype=np.float32).reshape(1, -1)\n",
    "    D, I = index.search(qv, top_k)              # L2 거리 (정규화 벡터)\n",
    "    cos = 1.0 - (D[0] / 2.0)                    # L2 -> cosine\n",
    "    out = []\n",
    "    for idx, i in enumerate(I[0]):\n",
    "        if int(i) >= 0:\n",
    "            out.append((docs[int(i)], float(cos[idx])))\n",
    "    return out\n",
    "\n",
    "def generate_answer(query: str) -> str:\n",
    "    # (0) 라우팅: 법/금융/보안 질의가 아니면 검색 자체를 생략 → 즉시 베이스모델\n",
    "    if not route_is_law(query):\n",
    "        prompt = (\n",
    "            \"당신은 한국어로 간결하고 정확하게 답하는 도우미입니다. \"\n",
    "            \"사실에 근거해 답하고, 모르면 '알 수 없습니다'라고 말하세요.\\n\\n\"\n",
    "            f\"질문: {query}\"\n",
    "        )\n",
    "        inputs = llm_tokenizer(prompt, return_tensors=\"pt\", truncation=True, max_length=2048, padding=False)\n",
    "        inputs = {k: v.to(llm_model.device) for k, v in inputs.items()}\n",
    "        with torch.inference_mode():\n",
    "            out = llm_model.generate(**inputs,\n",
    "                                     max_new_tokens=dynamic_max_new_tokens(query),\n",
    "                                     do_sample=False, temperature=0.2,\n",
    "                                     eos_token_id=llm_tokenizer.eos_token_id,\n",
    "                                     pad_token_id=llm_tokenizer.pad_token_id)\n",
    "        gen = out[0][inputs[\"input_ids\"].shape[1]:]\n",
    "        return llm_tokenizer.decode(gen, skip_special_tokens=True).strip()\n",
    "\n",
    "    # (1) 벡터 검색 + 점수\n",
    "    scored = faiss_search_with_scores(query, top_k=TOP_K)\n",
    "    best_cos = max((s for _, s in scored), default=0.0)\n",
    "\n",
    "    # (2) 임계치(튜닝 포인트): 0.65 → 0.70로 올리면 컨텍스트 사용 빈도↓ → 평균 지연↓\n",
    "    THRESH = 0.70\n",
    "    use_context = best_cos >= THRESH and len(scored) > 0\n",
    "\n",
    "    # (3) 컨텍스트 조립 (캐시된 tok_len 사용)\n",
    "    ctx = pack_context([d for d, _ in scored], token_budget=CTX_TOKEN_BUDGET) if use_context else \"\"\n",
    "\n",
    "    # (4) 프롬프트 구성 (불필요한 장식 최소화)\n",
    "    # 객관식 질문\n",
    "    if is_multiple_choice(query):\n",
    "        question, options = extract_question_and_choices(query)\n",
    "        if use_context:\n",
    "            prompt = (\n",
    "                \"당신은 금융보안 전문가입니다.\\n\"\n",
    "                \"아래 컨텍스트를 우선 사용해 정확히 답하세요. 불충분하면 아는 범위에서만 간결히 답하세요.\\n\\n\"\n",
    "                \"아래 질문에 대해 적절한 **정답 선택지 번호만 출력**하세요.\\n\\n\"\n",
    "                f\"=== 컨텍스트 ===\\n{ctx}\\n=== 끝 ===\\n\"\n",
    "                f\"질문: {query}\"\n",
    "                \"선택지:\\n\"\n",
    "                f\"{chr(10).join(options)}\\n\\n\"\n",
    "                \"답변:\"\n",
    "            )\n",
    "            max_new = dynamic_max_new_tokens(query)\n",
    "            max_len = 3072  # 입력 길이 상한도 줄여 토크나이즈 시간 단축\n",
    "        else:\n",
    "            prompt = (\n",
    "                \"당신은 금융보안 전문가입니다.\\n\"\n",
    "                \"아래 질문에 대해 적절한 **정답 선택지 번호만 출력**하세요.\\n\\n\"\n",
    "                f\"질문: {query}\"\n",
    "                \"선택지:\\n\"\n",
    "                f\"{chr(10).join(options)}\\n\\n\"\n",
    "                \"답변:\"\n",
    "            )\n",
    "            max_new = dynamic_max_new_tokens(query)\n",
    "            max_len = 2048\n",
    "    # 주관식 질문\n",
    "    else:\n",
    "        if use_context:\n",
    "            prompt = (\n",
    "                \"당신은 금융보안 전문가입니다.\\n\"\n",
    "                \"아래 컨텍스트를 우선 사용해 정확히 답하세요. 불충분하면 아는 범위에서만 간결히 답하세요.\\n\\n\"\n",
    "                \"아래 질문에 대해 정답의 핵심 키워드와 의미를 모두 포함하여 3문장 이내로 간결하게 답변하세요. 군더더기 없이 요점만 명확하게 작성하세요.\\n\\n\"\n",
    "                f\"=== 컨텍스트 ===\\n{ctx}\\n=== 끝 ===\\n\"\n",
    "                f\"질문: {query}\"\n",
    "                \"답변:\"\n",
    "            )\n",
    "            max_new = dynamic_max_new_tokens(query)\n",
    "            max_len = 3072  # 입력 길이 상한도 줄여 토크나이즈 시간 단축\n",
    "        else:\n",
    "            prompt = (\n",
    "                \"당신은 금융보안 전문가입니다.\\n\"\n",
    "                \"아래 질문에 대해 정답의 핵심 키워드와 의미를 모두 포함하여 3문장 이내로 간결하게 답변하세요. 군더더기 없이 요점만 명확하게 작성하세요.\\n\\n\"\n",
    "                f\"질문: {query}\"\n",
    "                \"답변:\"\n",
    "            )\n",
    "            max_new = dynamic_max_new_tokens(query)\n",
    "            max_len = 2048\n",
    "\n",
    "    # (5) 토크나이즈/생성\n",
    "    inputs = llm_tokenizer(prompt, return_tensors=\"pt\", truncation=True, max_length=max_len, padding=False)\n",
    "    inputs = {k: v.to(llm_model.device) for k, v in inputs.items()}\n",
    "    with torch.inference_mode():\n",
    "        out = llm_model.generate(\n",
    "            **inputs,\n",
    "            max_new_tokens=max_new,\n",
    "            do_sample=False,\n",
    "            temperature=0.2,\n",
    "            eos_token_id=llm_tokenizer.eos_token_id,\n",
    "            pad_token_id=llm_tokenizer.pad_token_id,\n",
    "        )\n",
    "    gen = out[0][inputs[\"input_ids\"].shape[1]:]\n",
    "    return llm_tokenizer.decode(gen, skip_special_tokens=True).strip()"
   ]
  },
  {
   "cell_type": "code",
   "execution_count": 11,
   "id": "ac0ba17ed873ebe6",
   "metadata": {},
   "outputs": [],
   "source": [
    "# 후처리 함수\n",
    "def extract_answer_only(generated_text: str, original_question: str) -> str:\n",
    "    \"\"\"\n",
    "    - \"답변:\" 이후 텍스트만 추출\n",
    "    - 객관식 문제면: 정답 숫자만 추출 (실패 시 전체 텍스트 또는 기본값 반환)\n",
    "    - 주관식 문제면: 전체 텍스트 그대로 반환\n",
    "    - 공백 또는 빈 응답 방지: 최소 \"미응답\" 반환\n",
    "    \"\"\"\n",
    "    # \"답변:\" 기준으로 텍스트 분리\n",
    "    if \"답변:\" in generated_text:\n",
    "        text = generated_text.split(\"답변:\")[-1].strip()\n",
    "    else:\n",
    "        text = generated_text.strip()\n",
    "\n",
    "    # 공백 또는 빈 문자열일 경우 기본값 지정\n",
    "    if not text:\n",
    "        return \"미응답\"\n",
    "\n",
    "    # 객관식 여부 판단\n",
    "    is_mc = is_multiple_choice(original_question)\n",
    "\n",
    "    if is_mc:\n",
    "        # 숫자만 추출\n",
    "        match = re.match(r\"\\D*([1-9][0-9]?)\", text)\n",
    "        if match:\n",
    "            return match.group(1)\n",
    "        else:\n",
    "            # 숫자 추출 실패 시 \"0\" 반환\n",
    "            return \"0\"\n",
    "    else:\n",
    "        return text\n"
   ]
  },
  {
   "cell_type": "code",
   "execution_count": 13,
   "id": "23e8bd6175f1111c",
   "metadata": {
    "scrolled": true
   },
   "outputs": [
    {
     "name": "stderr",
     "output_type": "stream",
     "text": [
      "Inference:   0%|          | 0/515 [00:00<?, ?it/s]/usr/local/lib/python3.10/dist-packages/transformers/generation/configuration_utils.py:410: UserWarning: `do_sample` is set to `False`. However, `temperature` is set to `0.2` -- this flag is only used in sample-based generation modes. You should set `do_sample=True` or unset `temperature`.\n",
      "  warnings.warn(\n",
      "/usr/local/lib/python3.10/dist-packages/bitsandbytes/nn/modules.py:426: UserWarning: Input type into Linear4bit is torch.float16, but bnb_4bit_compute_dtype=torch.float32 (default). This will lead to slow inference or training speed.\n",
      "  warnings.warn(\n"
     ]
    },
    {
     "name": "stdout",
     "output_type": "stream",
     "text": [
      "#################### Question ###########################\n",
      "금융산업의 이해와 관련하여 금융투자업의 구분에 해당하지 않는 것은?\n",
      "1 소비자금융업\n",
      "2 투자자문업\n",
      "3 투자매매업\n",
      "4 투자중개업\n",
      "5 보험중개업\n"
     ]
    },
    {
     "name": "stderr",
     "output_type": "stream",
     "text": [
      "Inference:   0%|          | 1/515 [00:02<19:45,  2.31s/it]"
     ]
    },
    {
     "name": "stdout",
     "output_type": "stream",
     "text": [
      "#################### Answer ###########################\n",
      "5\n",
      "#################### Question ###########################\n",
      "위험 관리 계획 수립 시 고려해야 할 요소로 적절하지 않은 것은?\n",
      "1 수행인력\n",
      "2 위험 수용\n",
      "3 위험 대응 전략 선정\n",
      "4 대상\n",
      "5 기간\n"
     ]
    },
    {
     "name": "stderr",
     "output_type": "stream",
     "text": [
      "/usr/local/lib/python3.10/dist-packages/transformers/generation/configuration_utils.py:410: UserWarning: `do_sample` is set to `False`. However, `temperature` is set to `0.2` -- this flag is only used in sample-based generation modes. You should set `do_sample=True` or unset `temperature`.\n",
      "  warnings.warn(\n",
      "Inference:   0%|          | 2/515 [00:04<18:37,  2.18s/it]"
     ]
    },
    {
     "name": "stdout",
     "output_type": "stream",
     "text": [
      "#################### Answer ###########################\n",
      "4\n",
      "#################### Question ###########################\n",
      "관리체계 수립 및 운영'의 '정책 수립' 단계에서 가장 중요한 요소는 무엇인가?\n",
      "1 정보보호 및 개인정보보호 정책의 제·개정\n",
      "2 경영진의 참여\n",
      "3 최고책임자의 지정\n",
      "4 자원 할당\n",
      "5 내부 감사 절차의 수립\n"
     ]
    },
    {
     "name": "stderr",
     "output_type": "stream",
     "text": [
      "Inference:   1%|          | 3/515 [00:20<1:11:06,  8.33s/it]"
     ]
    },
    {
     "name": "stdout",
     "output_type": "stream",
     "text": [
      "#################### Answer ###########################\n",
      "1\n",
      "#################### Question ###########################\n",
      "재해 복구 계획 수립 시 고려해야 할 요소로 옳지 않은 것은?\n",
      "1 복구 절차 수립\n",
      "2 비상연락체계 구축\n",
      "3 개인정보 파기 절차\n",
      "4 복구 목표시간 정의\n"
     ]
    },
    {
     "name": "stderr",
     "output_type": "stream",
     "text": [
      "Inference:   1%|          | 4/515 [00:20<44:58,  5.28s/it]  "
     ]
    },
    {
     "name": "stdout",
     "output_type": "stream",
     "text": [
      "#################### Answer ###########################\n",
      "3\n",
      "#################### Question ###########################\n",
      "트로이 목마(Trojan) 기반 원격제어 악성코드(RAT)의 특징과 주요 탐지 지표를 설명하세요.\n"
     ]
    },
    {
     "name": "stderr",
     "output_type": "stream",
     "text": [
      "Inference:   1%|          | 5/515 [01:15<3:15:22, 22.99s/it]"
     ]
    },
    {
     "name": "stdout",
     "output_type": "stream",
     "text": [
      "#################### Answer ###########################\n",
      "트로이 목마 기반 원격제어 악성코드(RAT)는 사용자의 지식 없이 시스템을 제어하고, 데이터를 훔치거나 시스템을 손상시킬 수 있는 능력을 가지고 있습니다. 이러한 악성코드는 사용자의 클라이언트 컴퓨터에 침투하여 백신 시스템을 비활성화하고, 사용자의 동의 없이 데이터를 송수신할 수 있습니다. 주요 탐지 지표로는 이러한 악성코드가 시스템 리소스를 과도하게 사용하거나, 이상한 네트워크 활동을 보이는 것이 있습니다.\n",
      "#################### Question ###########################\n",
      "한국은행이 금융통화위원회의 요청에 따라 금융회사 및 전자금융업자에게 자료제출을 요구할 수 있는 경우는?\n",
      "1 전자금융거래의 보안 강화를 위해\n",
      "2 전자금융거래의 통계조사를 위해\n",
      "3 금융회사의 경영 실적 분석을 위해\n",
      "4 통화신용정책의 수행 및 지급결제제도의 원활한 운영을 위해\n"
     ]
    },
    {
     "name": "stderr",
     "output_type": "stream",
     "text": [
      "Inference:   1%|          | 6/515 [01:23<2:32:53, 18.02s/it]"
     ]
    },
    {
     "name": "stdout",
     "output_type": "stream",
     "text": [
      "#################### Answer ###########################\n",
      "4\n",
      "#################### Question ###########################\n",
      "개인정보보호법 제22조의2에 따라 만 14세 미만 아동의 개인정보를 처리하기 위해 필요한 절차로 옳은 것은?\n",
      "1 아동의 학교의 동의를 받아야 한다.\n",
      "2 법정대리인의 동의를 받아야 한다.\n",
      "3 아동 본인의 동의만 받으면 된다.\n",
      "4 아동의 친구의 동의를 받아야 한다.\n"
     ]
    },
    {
     "name": "stderr",
     "output_type": "stream",
     "text": [
      "Inference:   1%|▏         | 7/515 [01:35<2:16:54, 16.17s/it]"
     ]
    },
    {
     "name": "stdout",
     "output_type": "stream",
     "text": [
      "#################### Answer ###########################\n",
      "2\n",
      "#################### Question ###########################\n",
      "전자금융거래법에 따라 이용자가 금융 분쟁조정을 신청할 수 있는 기관을 기술하세요.\n"
     ]
    },
    {
     "name": "stderr",
     "output_type": "stream",
     "text": [
      "Inference:   2%|▏         | 8/515 [02:09<3:04:30, 21.84s/it]"
     ]
    },
    {
     "name": "stdout",
     "output_type": "stream",
     "text": [
      "#################### Answer ###########################\n",
      "전자금융거래법에 따라 이용자가 금융 분쟁조정을 신청할 수 있는 기관은 금융분쟁조정기관입니다.\n",
      "#################### Question ###########################\n",
      "금융권에서 SBOM을 활용하는 이유로 가장 적절한 것은?\n",
      "1 금융 시스템의 접근 제어 정책을 효율적으로 구현하기 위해\n",
      "2 금융 거래의 투명성을 높이기 위해\n",
      "3 고객의 개인정보 보호를 강화하기 위해\n",
      "4 금융 상품의 다양성을 확보하기 위해\n",
      "5 S/W 공급망 공격을 예방하기 위해\n"
     ]
    },
    {
     "name": "stderr",
     "output_type": "stream",
     "text": [
      "Inference:   2%|▏         | 9/515 [02:15<2:21:30, 16.78s/it]"
     ]
    },
    {
     "name": "stdout",
     "output_type": "stream",
     "text": [
      "#################### Answer ###########################\n",
      "5\n",
      "#################### Question ###########################\n",
      "전자금융거래법 제44조에 따르면, 청문 절차가 필요한 경우는 무엇인가?\n",
      "1 전자금융거래의 중단\n",
      "2 전자금융거래의 보안 점검\n",
      "3 전자금융업자의 등록 취소\n",
      "4 전자금융거래의 수수료 변경\n"
     ]
    },
    {
     "name": "stderr",
     "output_type": "stream",
     "text": [
      "Inference:   2%|▏         | 10/515 [02:16<1:39:17, 11.80s/it]"
     ]
    },
    {
     "name": "stdout",
     "output_type": "stream",
     "text": [
      "#################### Answer ###########################\n",
      "3\n",
      "#################### Question ###########################\n",
      "다음 중 SPF(Sender Policy Framework)에 대한 설명으로 옳은 것은?\n",
      "1 SPF는 이메일 발신자의 도메인 인증 방식을 제공한다.\n",
      "2 SPF는 메일 클라이언트에서만 작동한다.\n",
      "3 SPF는 스팸 메일을 필터링하지 않는다.\n",
      "4 SMTP 서버에서 발신자의 사실 여부를 확인하지 않는다.\n"
     ]
    },
    {
     "name": "stderr",
     "output_type": "stream",
     "text": [
      "Inference:   2%|▏         | 11/515 [02:16<1:10:32,  8.40s/it]"
     ]
    },
    {
     "name": "stdout",
     "output_type": "stream",
     "text": [
      "#################### Answer ###########################\n",
      "1\n",
      "#################### Question ###########################\n",
      "전자금융거래의 보안관리 통제 중에서 의심되는 전자금융거래를 발견하고 확인하여 비정상 거래를 차단하는 통제는 무엇인가?\n",
      "1 접근통제\n",
      "2 정보유출 방지\n",
      "3 내부통제\n",
      "4 모니터링 통제\n"
     ]
    },
    {
     "name": "stderr",
     "output_type": "stream",
     "text": [
      "Inference:   2%|▏         | 12/515 [02:18<54:30,  6.50s/it]  "
     ]
    },
    {
     "name": "stdout",
     "output_type": "stream",
     "text": [
      "#################### Answer ###########################\n",
      "4\n",
      "#################### Question ###########################\n",
      "키 분배 프로토콜에서 대칭 키 기반 분배 방식의 운영에 대한 설명으로 옳지 않은 것은?\n",
      "1 대칭 키는 키 분배의 어려움이 있다.\n",
      "2 대칭 키는 빠른 암호화 속도를 제공한다.\n",
      "3 대칭 키는 두 개의 키를 사용하여 암호화한다.\n",
      "4 대칭 키는 동일한 키로 암호화 및 복호화한다.\n"
     ]
    },
    {
     "name": "stderr",
     "output_type": "stream",
     "text": [
      "Inference:   3%|▎         | 13/515 [02:19<39:40,  4.74s/it]"
     ]
    },
    {
     "name": "stdout",
     "output_type": "stream",
     "text": [
      "#################### Answer ###########################\n",
      "3\n",
      "#################### Question ###########################\n",
      "다음 중 전자금융거래법 제6조의3에 따라 계좌정보의 사용 및 관리에 대한 설명으로 옳은 것은?\n",
      "1 계좌정보는 범죄에 이용될 가능성이 있어도 제공할 수 있다.\n",
      "2 계좌정보는 범죄에 이용될 것을 알면서도 보관할 수 있다.\n",
      "3 계좌정보는 범죄에 이용될 가능성이 있어도 유통할 수 있다.\n",
      "4 계좌정보는 범죄에 이용될 목적으로 제공받아서는 안 된다.\n",
      "5 계좌정보는 정당한 사유 없이 제3자에게 양도할 수 있다.\n"
     ]
    },
    {
     "name": "stderr",
     "output_type": "stream",
     "text": [
      "Inference:   3%|▎         | 14/515 [02:20<29:32,  3.54s/it]"
     ]
    },
    {
     "name": "stdout",
     "output_type": "stream",
     "text": [
      "#################### Answer ###########################\n",
      "4\n",
      "#################### Question ###########################\n",
      "취약점 스캐닝의 특징으로 옳지 않은 것은?\n",
      "1 보안 패치가 필요한 부분을 제안한다.\n",
      "2 자동화된 도구를 사용하여 취약점을 탐지한다.\n",
      "3 네트워크 트래픽을 분석하여 암호화한다.\n",
      "4 시스템의 보안 취약점을 식별한다.\n",
      "5 취약점 스캐닝은 발견된 취약점을 자동으로 즉시 수정한다.\n"
     ]
    },
    {
     "name": "stderr",
     "output_type": "stream",
     "text": [
      "Inference:   3%|▎         | 15/515 [02:21<22:22,  2.68s/it]"
     ]
    },
    {
     "name": "stdout",
     "output_type": "stream",
     "text": [
      "#################### Answer ###########################\n",
      "3\n",
      "#################### Question ###########################\n",
      "국내대리인을 지정할 때 반드시 충족해야 하는 조건으로 옳은 것은?\n",
      "1 국내대리인은 개인정보를 직접 처리해야 한다.\n",
      "2 국내대리인은 매출액이 1조원 이상이어야 한다.\n",
      "3 국내대리인은 외국에 주소가 있어야 한다.\n",
      "4 국내대리인은 문서로 지정되어야 한다.\n"
     ]
    },
    {
     "name": "stderr",
     "output_type": "stream",
     "text": [
      "Inference:   3%|▎         | 16/515 [02:35<51:21,  6.17s/it]"
     ]
    },
    {
     "name": "stdout",
     "output_type": "stream",
     "text": [
      "#################### Answer ###########################\n",
      "4\n",
      "#################### Question ###########################\n",
      "신용정보법 제11조에 따라 신용정보회사가 겸영할 수 있는 업무로 올바른 것은?\n",
      "1 신용회복지원 협약에 따른 채권 서류의 집중 및 보관 업무\n",
      "2 신용카드 부정사용 탐지를 위한 실시간 거래 차단 서비스\n",
      "3 전자문서 및 전자거래 기본법에 따른 공인전자문서중계자의 업무\n",
      "4 기업 및 법인 또는 그 상품의 홍보ㆍ광고\n",
      "5 업무용 부동산의 임대차\n"
     ]
    },
    {
     "name": "stderr",
     "output_type": "stream",
     "text": [
      "Inference:   3%|▎         | 17/515 [02:36<37:42,  4.54s/it]"
     ]
    },
    {
     "name": "stdout",
     "output_type": "stream",
     "text": [
      "#################### Answer ###########################\n",
      "2\n",
      "#################### Question ###########################\n",
      "개인정보관리 전문기관이 수행할 수 있는 업무로 적절한 것은?\n",
      "1 정보주체에게 개인정보의 전송 요구를 강요하는 행위\n",
      "2 거짓이나 부정한 방법으로 지정을 받는 행위\n",
      "3 개인정보 처리 위탁업체의 내부 보안 점검을 대리하여 실시하는 행위\n",
      "4 정보주체의 권리행사를 지원하기 위한 개인정보 전송시스템의 구축 및 표준화\n",
      "5 개인정보를 침해하거나 정보주체의 권리를 제한할 우려가 있는 행위\n"
     ]
    },
    {
     "name": "stderr",
     "output_type": "stream",
     "text": [
      "Inference:   3%|▎         | 18/515 [03:06<1:41:44, 12.28s/it]"
     ]
    },
    {
     "name": "stdout",
     "output_type": "stream",
     "text": [
      "#################### Answer ###########################\n",
      "4\n",
      "#################### Question ###########################\n",
      "다음 중 \"정보보호최고책임자\"에 대한 설명으로 옳은 것은?\n",
      "1 정보보호최고책임자는 전자금융업무의 보안을 총괄하여 책임진다.\n",
      "2 정보보호최고책임자는 전자금융거래의 안정성 확보와 무관하다.\n",
      "3 정보보호최고책임자는 임원으로 지정될 필요가 없다.\n",
      "4 정보보호최고책임자는 모든 정보기술부문 업무를 겸직할 수 있다.\n",
      "5 정보보호최고책임자는 내부감사와 정보보호 업무를 반드시 동시에 수행해야 한다.\n"
     ]
    },
    {
     "name": "stderr",
     "output_type": "stream",
     "text": [
      "Inference:   4%|▎         | 19/515 [03:07<1:13:27,  8.89s/it]"
     ]
    },
    {
     "name": "stdout",
     "output_type": "stream",
     "text": [
      "#################### Answer ###########################\n",
      "1\n",
      "#################### Question ###########################\n",
      "국내대리인이 법을 위반한 경우, 그 책임은 누구에게 있는가?\n",
      "1 국내대리인\n",
      "2 정부기관\n",
      "3 법원\n",
      "4 정보통신서비스 제공자\n",
      "5 개인정보 처리 위탁업체\n"
     ]
    },
    {
     "name": "stderr",
     "output_type": "stream",
     "text": [
      "Inference:   4%|▍         | 20/515 [03:12<1:03:37,  7.71s/it]"
     ]
    },
    {
     "name": "stdout",
     "output_type": "stream",
     "text": [
      "#################### Answer ###########################\n",
      "1\n",
      "#################### Question ###########################\n",
      "개인정보보호법 제63조에 따르면, 보호위원회가 자료제출 요구 및 검사를 통해 수집한 서류나 자료를 제3자에게 제공하거나 일반에 공개할 수 있는 경우는?\n",
      "1 자료가 비밀이 아닌 경우\n",
      "2 개인정보처리자의 동의가 있는 경우\n",
      "3 정보주체가 개인정보 열람을 요청한 경우\n",
      "4 법에 따른 경우\n",
      "5 보호위원회의 내부 규정에 따른 경우\n"
     ]
    },
    {
     "name": "stderr",
     "output_type": "stream",
     "text": [
      "Inference:   4%|▍         | 21/515 [03:19<1:02:12,  7.56s/it]"
     ]
    },
    {
     "name": "stdout",
     "output_type": "stream",
     "text": [
      "#################### Answer ###########################\n",
      "4\n",
      "#################### Question ###########################\n",
      "신용정보 관련 산업의 육성을 위해 금융위원회가 할 수 있는 조치로 옳은 것은?\n",
      "1 신용정보 제공능력의 향상 계획 수립\n",
      "2 신용정보 제공업체의 수익성 분석\n",
      "3 신용정보 관련 산업의 규제 강화\n",
      "4 신용정보 취급기관에 대한 일괄적 영업정지 명령\n",
      "5 신용정보 보호를 위한 법률 제정\n"
     ]
    },
    {
     "name": "stderr",
     "output_type": "stream",
     "text": [
      "Inference:   4%|▍         | 22/515 [03:20<45:10,  5.50s/it]  "
     ]
    },
    {
     "name": "stdout",
     "output_type": "stream",
     "text": [
      "#################### Answer ###########################\n",
      "3\n",
      "#################### Question ###########################\n",
      "전자금융업자가 준수해야 할 경영지도기준에 해당하지 않는 것은 무엇인가?\n",
      "1 자산의 건전성\n",
      "2 자본의 적정성\n",
      "3 고객 만족도\n",
      "4 유동성\n"
     ]
    },
    {
     "name": "stderr",
     "output_type": "stream",
     "text": [
      "Inference:   4%|▍         | 23/515 [03:20<33:01,  4.03s/it]"
     ]
    },
    {
     "name": "stdout",
     "output_type": "stream",
     "text": [
      "#################### Answer ###########################\n",
      "3\n",
      "#################### Question ###########################\n",
      "다음 중 네트워크 보안에서 NAT(Network Address Translation)의 주요 목적은 무엇인가?\n",
      "1 네트워크 트래픽의 암호화\n",
      "2 네트워크 접근 제어 목록(ACL)의 자동 생성\n",
      "3 데이터 패킷의 무결성 검증\n",
      "4 사용자 인증 절차 강화\n",
      "5 IP 주소의 사설화 및 보호\n"
     ]
    },
    {
     "name": "stderr",
     "output_type": "stream",
     "text": [
      "Inference:   5%|▍         | 24/515 [03:21<24:45,  3.02s/it]"
     ]
    },
    {
     "name": "stdout",
     "output_type": "stream",
     "text": [
      "#################### Answer ###########################\n",
      "5\n",
      "#################### Question ###########################\n",
      "FTP 서비스의 개념에 대한 설명으로 옳은 것은?\n",
      "1 이메일 전송을 위한 프로토콜로, SMTP와 함께 사용된다.\n",
      "2 파일 전송을 위한 프로토콜로, 기본적으로 암호화되지 않은 상태로 전송된다.\n",
      "3 웹 페이지를 전송하는 프로토콜로, 주로 HTML 파일을 전송한다.\n",
      "4 파일 전송을 위한 프로토콜로, 기본적으로 암호화되어 있다.\n"
     ]
    },
    {
     "name": "stderr",
     "output_type": "stream",
     "text": [
      "Inference:   5%|▍         | 25/515 [03:33<45:35,  5.58s/it]"
     ]
    },
    {
     "name": "stdout",
     "output_type": "stream",
     "text": [
      "#################### Answer ###########################\n",
      "2\n",
      "#################### Question ###########################\n",
      "기업신용조회회사가 기업 및 법인의 신용상태를 평가할 때 고려해야 할 사항으로 옳은 것은?\n",
      "1 평가에 관련된 모든 정보를 무시한다.\n",
      "2 평가에 혜택을 줄 수 있는 정보만 고려한다.\n",
      "3 평가에 불이익과 혜택을 줄 수 있는 정보를 모두 고려한다.\n",
      "4 평가에 불이익이 발생할 수 있는 정보만 고려한다.\n",
      "5 평가에 사용되는 정보는 금융보안법에서 정한 표준 등급 정보만 활용한다.\n"
     ]
    },
    {
     "name": "stderr",
     "output_type": "stream",
     "text": [
      "Inference:   5%|▌         | 26/515 [03:33<33:42,  4.14s/it]"
     ]
    },
    {
     "name": "stdout",
     "output_type": "stream",
     "text": [
      "#################### Answer ###########################\n",
      "3\n",
      "#################### Question ###########################\n",
      "이동형 영상정보처리기기로 사람의 영상을 촬영할 때, 촬영 사실을 알리기 위해 필요한 조치로 적절한 것은?\n",
      "1 촬영 사실을 알리지 않고 촬영을 진행한다.\n",
      "2 촬영 후에 정보주체에게 알린다.\n",
      "3 불빛, 소리, 안내판 등으로 촬영 사실을 표시한다.\n",
      "4 정보주체의 동의 없이 촬영을 진행한다.\n"
     ]
    },
    {
     "name": "stderr",
     "output_type": "stream",
     "text": [
      "Inference:   5%|▌         | 27/515 [03:42<45:27,  5.59s/it]"
     ]
    },
    {
     "name": "stdout",
     "output_type": "stream",
     "text": [
      "#################### Answer ###########################\n",
      "3\n",
      "#################### Question ###########################\n",
      "서버 접근통제 시스템의 주요 기능으로 옳지 않은 것은?\n",
      "1 명령어 통제\n",
      "2 실시간 모니터링\n",
      "3 서버 하드웨어 장애 자동 복구\n",
      "4 데이터 전송 속도 최적화\n",
      "5 사용자별 시스템 접근 권한 통제\n"
     ]
    },
    {
     "name": "stderr",
     "output_type": "stream",
     "text": [
      "Inference:   5%|▌         | 28/515 [03:43<33:21,  4.11s/it]"
     ]
    },
    {
     "name": "stdout",
     "output_type": "stream",
     "text": [
      "#################### Answer ###########################\n",
      "3\n",
      "#################### Question ###########################\n",
      "다음 중 데이터베이스(DB) 보안에서 중요한 정보가 암호화되어 저장되는 이유로 가장 적절한 것은?\n",
      "1 데이터베이스의 기밀성을 유지하기 위해\n",
      "2 데이터베이스의 성능 향상을 위해\n",
      "3 데이터베이스의 무결성을 보장하기 위해\n",
      "4 데이터베이스의 저장 공간 절약을 위해\n"
     ]
    },
    {
     "name": "stderr",
     "output_type": "stream",
     "text": [
      "Inference:   6%|▌         | 29/515 [03:49<37:35,  4.64s/it]"
     ]
    },
    {
     "name": "stdout",
     "output_type": "stream",
     "text": [
      "#################### Answer ###########################\n",
      "1\n",
      "#################### Question ###########################\n",
      "다음 중 개인정보파일의 등록사항을 전자적으로 처리할 수 있도록 시스템을 구축ㆍ운영할 수 있는 기관은 어디인가?\n",
      "1 공공기관의 장\n",
      "2 보호위원회\n",
      "3 개인정보처리자\n",
      "4 정보주체\n"
     ]
    },
    {
     "name": "stderr",
     "output_type": "stream",
     "text": [
      "Inference:   6%|▌         | 30/515 [03:54<38:20,  4.74s/it]"
     ]
    },
    {
     "name": "stdout",
     "output_type": "stream",
     "text": [
      "#################### Answer ###########################\n",
      "2\n",
      "#################### Question ###########################\n",
      "전자서명법 제25조 양벌규정에 따르면, 법인의 대표자나 법인 또는 개인의 대리인, 사용인, 그 밖의 종업원이 법인의 업무에 관하여 위반행위를 한 경우, 법인 또는 개인에게도 벌금형을 과할 수 있는 조건은 무엇인가?\n",
      "1 법인 또는 개인이 위반행위를 방지하기 위한 주의와 감독을 철저히 한 경우\n",
      "2 법인 또는 개인이 위반행위를 방지하기 위한 주의와 감독을 일부만 한 경우\n",
      "3 법인 또는 개인이 위반행위를 방지하기 위한 주의와 감독을 게을리한 경우\n",
      "4 법인 또는 개인이 위반행위를 방지하기 위한 주의와 감독을 전혀 하지 않은 경우\n"
     ]
    },
    {
     "name": "stderr",
     "output_type": "stream",
     "text": [
      "Inference:   6%|▌         | 31/515 [04:24<1:39:44, 12.37s/it]"
     ]
    },
    {
     "name": "stdout",
     "output_type": "stream",
     "text": [
      "#################### Answer ###########################\n",
      "3\n",
      "#################### Question ###########################\n",
      "전자금융업자가 전자금융거래법 제35조에 따라 겸업제한을 위반할 경우, 어떤 조치를 받을 수 있는가?\n",
      "1 과태료 부과\n",
      "2 형사처벌\n",
      "3 영업정지\n",
      "4 경고\n"
     ]
    },
    {
     "name": "stderr",
     "output_type": "stream",
     "text": [
      "Inference:   6%|▌         | 32/515 [04:25<1:12:31,  9.01s/it]"
     ]
    },
    {
     "name": "stdout",
     "output_type": "stream",
     "text": [
      "#################### Answer ###########################\n",
      "4\n",
      "#################### Question ###########################\n",
      "다음 중 개인정보보호법 제7조의11에 따라 위원이 심의ㆍ의결에서 회피할 수 있는 경우는?\n",
      "1 위원이 해당 사안에 관하여 증언을 한 경우\n",
      "2 위원이 해당 사안의 당사자와 이해관계가 없는 경우\n",
      "3 위원이 해당 사안에 관하여 법률자문을 하지 않은 경우\n",
      "4 위원이 해당 사안의 당사자와 친족이 아닌 경우\n"
     ]
    },
    {
     "name": "stderr",
     "output_type": "stream",
     "text": [
      "Inference:   6%|▋         | 33/515 [05:46<4:04:29, 30.43s/it]"
     ]
    },
    {
     "name": "stdout",
     "output_type": "stream",
     "text": [
      "#################### Answer ###########################\n",
      "7\n",
      "#################### Question ###########################\n",
      "신용정보회사 등이 개인식별정보를 수집, 이용 및 제공할 때 준용해야 하는 신용정보법 조항은 무엇인가?\n",
      "1 제15조, 제32조, 제33조\n",
      "2 제10조, 제22조, 제29조\n",
      "3 제12조, 제30조, 제31조\n",
      "4 제20조, 제25조, 제28조\n"
     ]
    },
    {
     "name": "stderr",
     "output_type": "stream",
     "text": [
      "Inference:   7%|▋         | 34/515 [05:57<3:17:54, 24.69s/it]"
     ]
    },
    {
     "name": "stdout",
     "output_type": "stream",
     "text": [
      "#################### Answer ###########################\n",
      "4\n",
      "#################### Question ###########################\n",
      "어플리케이션 개발 보안에서 사용되는 정적 분석 도구의 주요 목적은 무엇인가?\n",
      "1 코드의 보안 취약점을 사전에 식별한다.\n",
      "2 네트워크 트래픽을 모니터링한다.\n",
      "3 사용자 인터페이스의 디자인을 개선한다.\n",
      "4 런타임 시 발생하는 오류를 탐지한다.\n"
     ]
    },
    {
     "name": "stderr",
     "output_type": "stream",
     "text": [
      "Inference:   7%|▋         | 35/515 [06:02<2:31:45, 18.97s/it]"
     ]
    },
    {
     "name": "stdout",
     "output_type": "stream",
     "text": [
      "#################### Answer ###########################\n",
      "1\n",
      "#################### Question ###########################\n",
      "정보통신망법 제49조의2에 따르면, 속이는 행위에 의한 정보의 수집을 금지하는 이유로 가장 적절한 것은?\n",
      "1 정보의 효율적인 수집을 위한 절차 간소화\n",
      "2 정보의 무단 수집으로 인한 개인정보 침해 방지\n",
      "3 정보의 국제적 교류 촉진\n",
      "4 정보의 상업적 활용을 위한 법적 근거 마련\n"
     ]
    },
    {
     "name": "stderr",
     "output_type": "stream",
     "text": [
      "Inference:   7%|▋         | 36/515 [06:21<2:30:26, 18.84s/it]"
     ]
    },
    {
     "name": "stdout",
     "output_type": "stream",
     "text": [
      "#################### Answer ###########################\n",
      "2\n",
      "#################### Question ###########################\n",
      "신용정보회사, 본인신용정보관리회사 및 채권추심회사가 사업의 전부 또는 일부를 양도ㆍ양수하거나 합병하려는 경우 필요한 절차는?\n",
      "1 국회의 동의를 받아야 한다.\n",
      "2 금융감독원의 사전 심의를 받아야 한다.\n",
      "3 법무부의 승인을 받아야 한다.\n",
      "4 대통령의 허가를 받아야 한다.\n",
      "5 금융위원회의 인가를 받아야 한다.\n"
     ]
    },
    {
     "name": "stderr",
     "output_type": "stream",
     "text": [
      "Inference:   7%|▋         | 37/515 [06:26<1:55:58, 14.56s/it]"
     ]
    },
    {
     "name": "stdout",
     "output_type": "stream",
     "text": [
      "#################### Answer ###########################\n",
      "3\n",
      "#################### Question ###########################\n",
      "침입차단시스템(Firewall)의 주요 기능으로 옳지 않은 것은?\n",
      "1 네트워크 트래픽 모니터링\n",
      "2 패킷 필터링\n",
      "3 악성코드 탐지 및 제거\n",
      "4 암호화된 데이터 복호화\n",
      "5 접근 제어\n"
     ]
    },
    {
     "name": "stderr",
     "output_type": "stream",
     "text": [
      "Inference:   7%|▋         | 38/515 [06:26<1:22:28, 10.37s/it]"
     ]
    },
    {
     "name": "stdout",
     "output_type": "stream",
     "text": [
      "#################### Answer ###########################\n",
      "4\n",
      "#################### Question ###########################\n",
      "개인정보보호법 제71조에 따르면, 정보주체의 동의를 받지 않고 개인정보를 제3자에게 제공한 자에 대한 처벌로 옳은 것은?\n",
      "1 7년 이하의 징역 또는 7천만원 이하의 벌금\n",
      "2 2년 이하의 징역 또는 2천만원 이하의 벌금\n",
      "3 10년 이하의 징역 또는 1억원 이하의 벌금\n",
      "4 3년 이하의 징역 또는 3천만원 이하의 벌금\n",
      "5 5년 이하의 징역 또는 5천만원 이하의 벌금\n"
     ]
    },
    {
     "name": "stderr",
     "output_type": "stream",
     "text": [
      "Inference:   8%|▊         | 39/515 [06:47<1:47:24, 13.54s/it]"
     ]
    },
    {
     "name": "stdout",
     "output_type": "stream",
     "text": [
      "#################### Answer ###########################\n",
      "5\n",
      "#################### Question ###########################\n",
      "전자금융거래법 제21조의6에 따라 금융회사 및 전자금융업자가 침해사고 대응능력을 확보하기 위해 연 1회 이상 수행해야 하는 것은 무엇인가?\n",
      "1 금융위원회에 보안취약점 통보\n",
      "2 전자금융거래 기록 보존\n",
      "3 금융권 통합 보안관제센터 운영\n",
      "4 침해사고 대응 및 복구훈련 계획 수립 및 시행\n"
     ]
    },
    {
     "name": "stderr",
     "output_type": "stream",
     "text": [
      "Inference:   8%|▊         | 40/515 [06:48<1:16:40,  9.69s/it]"
     ]
    },
    {
     "name": "stdout",
     "output_type": "stream",
     "text": [
      "#################### Answer ###########################\n",
      "4\n",
      "#################### Question ###########################\n",
      "소스코드 개발 보안(Secure Coding)에서 권장되는 방법으로 적절하지 않은 것은?\n",
      "1 에러 메시지에 시스템 정보를 포함시킨다.\n",
      "2 민감한 데이터는 암호화하여 저장한다.\n",
      "3 외부 라이브러리의 보안 업데이트를 주기적으로 확인한다.\n",
      "4 입력값의 유효성을 철저히 검증한다.\n"
     ]
    },
    {
     "name": "stderr",
     "output_type": "stream",
     "text": [
      "Inference:   8%|▊         | 41/515 [06:49<55:11,  6.99s/it]  "
     ]
    },
    {
     "name": "stdout",
     "output_type": "stream",
     "text": [
      "#################### Answer ###########################\n",
      "1\n",
      "#################### Question ###########################\n",
      "원격접속 공격에 대한 대응 방법으로 가장 적절한 것은?\n",
      "1 원격접속 시 계정 비밀번호를 주기적으로 메모장에 저장해 관리한다.\n",
      "2 원격접속을 허용하는 IP 주소를 무제한으로 설정한다.\n",
      "3 방화벽 설정을 통해 모든 포트를 차단한다.\n",
      "4 모든 네트워크 트래픽을 암호화하지 않고 전송한다.\n",
      "5 원격접속 시 다중 인증을 적용한다.\n"
     ]
    },
    {
     "name": "stderr",
     "output_type": "stream",
     "text": [
      "Inference:   8%|▊         | 42/515 [06:49<40:17,  5.11s/it]"
     ]
    },
    {
     "name": "stdout",
     "output_type": "stream",
     "text": [
      "#################### Answer ###########################\n",
      "5\n",
      "#################### Question ###########################\n",
      "전자서명법 제2조에 따르면, 전자서명의 정의로 올바른 것은?\n",
      "1 서명자의 금융거래내역을 검증할 수 있는 것\n",
      "2 서명자의 직위를 확인할 수 있는 것\n",
      "3 서명자의 실지명의를 확인할 수 있는 것\n",
      "4 서명자의 주소를 확인할 수 있는 것\n",
      "5 서명자의 연락처를 확인할 수 있는 것\n"
     ]
    },
    {
     "name": "stderr",
     "output_type": "stream",
     "text": [
      "Inference:   8%|▊         | 43/515 [06:50<29:46,  3.78s/it]"
     ]
    },
    {
     "name": "stdout",
     "output_type": "stream",
     "text": [
      "#################### Answer ###########################\n",
      "3\n",
      "#################### Question ###########################\n",
      "전자금융거래법 제2조에 따르면, 전자금융업자가 제공하는 서비스에 해당하는 것은 무엇인가?\n",
      "1 계좌 개설\n",
      "2 대출 상담\n",
      "3 신용카드 발급 신청\n",
      "4 온라인 송금\n",
      "5 보험 가입\n"
     ]
    },
    {
     "name": "stderr",
     "output_type": "stream",
     "text": [
      "Inference:   9%|▊         | 44/515 [06:51<22:12,  2.83s/it]"
     ]
    },
    {
     "name": "stdout",
     "output_type": "stream",
     "text": [
      "#################### Answer ###########################\n",
      "4\n",
      "#################### Question ###########################\n",
      "개인정보보호법 제64조의2에 따라 과징금을 부과받은 금융기관이 과징금을 납부한 후, 보호위원회에 통보해야 하는 시점은 언제인가?\n",
      "1 과징금을 납부한 다음 달 말일까지\n",
      "2 과징금을 납부한 다음 분기 말일까지\n",
      "3 과징금을 납부한 다음 해 말일까지\n",
      "4 과징금을 납부한 즉시\n",
      "5 과징금 부과 사실을 분기별로 일괄 통보할 때\n"
     ]
    },
    {
     "name": "stderr",
     "output_type": "stream",
     "text": [
      "Inference:   9%|▊         | 45/515 [07:03<45:31,  5.81s/it]"
     ]
    },
    {
     "name": "stdout",
     "output_type": "stream",
     "text": [
      "#################### Answer ###########################\n",
      "4\n",
      "#################### Question ###########################\n",
      "SBOM(Software Bill of Materials)의 주요 기능으로 옳은 것은?\n",
      "1 S/W 공급망의 모든 구성요소를 목록화하여 보안 취약점을 신속하게 파악\n",
      "2 S/W 개발 과정에서 발생하는 모든 오류를 자동으로 수정\n",
      "3 금융회사의 모든 거래 내역을 기록하여 보안성을 강화\n",
      "4 금융 데이터의 암호화를 통해 정보 유출을 방지\n",
      "5 S/W 라이선스 위반 여부를 자동으로 차단하여 법적 분쟁을 예방\n"
     ]
    },
    {
     "name": "stderr",
     "output_type": "stream",
     "text": [
      "Inference:   9%|▉         | 46/515 [07:04<33:33,  4.29s/it]"
     ]
    },
    {
     "name": "stdout",
     "output_type": "stream",
     "text": [
      "#################### Answer ###########################\n",
      "1\n",
      "#################### Question ###########################\n",
      "아동의 개인정보 처리와 관련하여 법정대리인의 동의를 받기 위해 수집할 수 있는 정보로 옳은 것은?\n",
      "1 아동의 친구 목록\n",
      "2 아동의 학교 성적\n",
      "3 법정대리인의 성명 및 연락처\n",
      "4 법정대리인의 직업 정보\n"
     ]
    },
    {
     "name": "stderr",
     "output_type": "stream",
     "text": [
      "Inference:   9%|▉         | 47/515 [07:16<50:53,  6.52s/it]"
     ]
    },
    {
     "name": "stdout",
     "output_type": "stream",
     "text": [
      "#################### Answer ###########################\n",
      "3\n",
      "#################### Question ###########################\n",
      "정보통신망법 제5조의2에 의거하여, 국외에서 발생한 행위가 국내 시장에 영향을 미칠 경우, 이 법의 적용 범위는 어떻게 되는가?\n",
      "1 국내 시장에 영향을 미치는 경우에만 적용된다.\n",
      "2 국외에서 발생한 행위는 국내 정보통신서비스 제공자에게만 적용된다.\n",
      "3 국내외 모든 행위에 무조건 적용된다.\n",
      "4 국외 행위는 항상 면제된다.\n",
      "5 국내 시장에 영향을 미치지 않는 경우에도 적용된다.\n"
     ]
    },
    {
     "name": "stderr",
     "output_type": "stream",
     "text": [
      "Inference:   9%|▉         | 48/515 [07:23<51:56,  6.67s/it]"
     ]
    },
    {
     "name": "stdout",
     "output_type": "stream",
     "text": [
      "#################### Answer ###########################\n",
      "1\n",
      "#################### Question ###########################\n",
      "외주 보안관리에서 아웃소싱 직원에게 금융회사의 시스템에 접속하는 경우 필요한 조치는?\n",
      "1 별도의 물리적 PC 지급 및 단말기 보호대책 적용\n",
      "2 아웃소싱 직원의 개인 장비 사용 권장\n",
      "3 아웃소싱 직원의 시스템 접근 제한 없이 업무 수행\n",
      "4 아웃소싱 직원의 자유로운 시스템 접근 허용\n"
     ]
    },
    {
     "name": "stderr",
     "output_type": "stream",
     "text": [
      "Inference:  10%|▉         | 49/515 [07:23<37:54,  4.88s/it]"
     ]
    },
    {
     "name": "stdout",
     "output_type": "stream",
     "text": [
      "#################### Answer ###########################\n",
      "1\n",
      "#################### Question ###########################\n",
      "신용정보의 이해와 활용에 대한 설명으로 옳은 것은?\n",
      "1 신용정보는 금융기관의 여신심사에 영향을 미치지 않는다.\n",
      "2 신용정보는 공공기관에서만 수집된다.\n",
      "3 신용정보는 금융기관 간에 공유되지 않는다.\n",
      "4 신용정보는 개인의 신용위험을 관리하는 데 사용된다.\n"
     ]
    },
    {
     "name": "stderr",
     "output_type": "stream",
     "text": [
      "Inference:  10%|▉         | 50/515 [07:24<28:05,  3.63s/it]"
     ]
    },
    {
     "name": "stdout",
     "output_type": "stream",
     "text": [
      "#################### Answer ###########################\n",
      "4\n",
      "#################### Question ###########################\n",
      "개인정보보호법 제35조의2에 따라 정보주체가 개인정보 전송을 요구할 수 있는 조건으로 옳지 않은 것은?\n",
      "1 전송을 요구하는 개인정보가 개인정보처리자가 수집한 개인정보를 기초로 별도로 생성한 정보일 것\n",
      "2 정보주체는 대통령령으로 정하는 기준에 해당하는 개인정보처리자에게 전송을 요구할 수 있음\n",
      "3 전송을 요구하는 개인정보가 정보처리장치로 처리되는 개인정보일 것\n",
      "4 전송 요구는 정보주체의 본인 여부가 확인된 경우에만 가능함\n"
     ]
    },
    {
     "name": "stderr",
     "output_type": "stream",
     "text": [
      "Inference:  10%|▉         | 51/515 [07:48<1:14:43,  9.66s/it]"
     ]
    },
    {
     "name": "stdout",
     "output_type": "stream",
     "text": [
      "#################### Answer ###########################\n",
      "4\n",
      "#################### Question ###########################\n",
      "금융권 정보보호 상시평가제의 수행 체계에서 금융보안원의 역할로 옳은 것은?\n",
      "1 금융기관의 정보보호 내부감사 직접 수행\n",
      "2 금융위원회의 정보보호 정책 수립\n",
      "3 상시평가 업무의 위탁 수행\n",
      "4 금융감독원의 검사 결과 활용\n",
      "5 금융회사의 정보보호 투자 결정\n"
     ]
    },
    {
     "name": "stderr",
     "output_type": "stream",
     "text": [
      "Inference:  10%|█         | 52/515 [07:49<53:47,  6.97s/it]  "
     ]
    },
    {
     "name": "stdout",
     "output_type": "stream",
     "text": [
      "#################### Answer ###########################\n",
      "3\n",
      "#################### Question ###########################\n",
      "정부가 정보통신서비스 제공자단체의 자율규제를 지원할 수 있는 활동은 무엇인가?\n",
      "1 정보통신서비스 제공자단체의 자율규제를 무시\n",
      "2 정보통신서비스 제공자단체의 모든 활동에 대한 직접 개입\n",
      "3 정보통신서비스 제공자단체의 자율규제를 위한 활동 지원\n",
      "4 정보통신서비스 제공자단체의 자율규제와 무관한 보안감사만 실시\n",
      "5 정보통신서비스 제공자단체의 자율규제를 제한\n"
     ]
    },
    {
     "name": "stderr",
     "output_type": "stream",
     "text": [
      "Inference:  10%|█         | 53/515 [07:49<39:17,  5.10s/it]"
     ]
    },
    {
     "name": "stdout",
     "output_type": "stream",
     "text": [
      "#################### Answer ###########################\n",
      "3\n",
      "#################### Question ###########################\n",
      "전자금융보안의 중요성이 부각되는 이유로 가장 적절한 것은?\n",
      "1 IT 의존도의 감소로 인한 보안 필요성 감소\n",
      "2 금융 분야의 자산과 국가 경제와의 직접적 연관성\n",
      "3 금융산업의 규제 완화로 인한 보안 필요성 감소\n",
      "4 금융거래의 비대면화로 인한 보안 위협 감소\n"
     ]
    },
    {
     "name": "stderr",
     "output_type": "stream",
     "text": [
      "Inference:  10%|█         | 54/515 [07:50<29:02,  3.78s/it]"
     ]
    },
    {
     "name": "stdout",
     "output_type": "stream",
     "text": [
      "#################### Answer ###########################\n",
      "2\n",
      "#################### Question ###########################\n",
      "다음 중 분산 서비스 거부(DDoS) 공격에 대한 대응 방법으로 가장 적절한 것은?\n",
      "1 웹 애플리케이션 방화벽을 통해 SQL 인젝션 공격을 차단한다.\n",
      "2 데이터베이스의 암호화 수준을 높인다.\n",
      "3 운영체제의 보안 패치를 최신으로 유지한다.\n",
      "4 네트워크 트래픽을 모니터링하여 이상 징후를 탐지한다.\n",
      "5 사용자 비밀번호를 주기적으로 변경한다.\n"
     ]
    },
    {
     "name": "stderr",
     "output_type": "stream",
     "text": [
      "Inference:  11%|█         | 55/515 [07:51<21:59,  2.87s/it]"
     ]
    },
    {
     "name": "stdout",
     "output_type": "stream",
     "text": [
      "#################### Answer ###########################\n",
      "4\n",
      "#################### Question ###########################\n",
      "통신과금서비스제공자가 통신과금서비스에 대한 이용자의 권익을 보호하기 위해 설치·운영할 수 있는 기관 또는 단체의 역할로 적절한 것은?\n",
      "1 통신과금서비스의 기술 개발 지원\n",
      "2 통신과금서비스의 요금 인상 결정\n",
      "3 통신과금서비스의 광고 및 홍보\n",
      "4 통신과금서비스 이용자의 분쟁 조정 및 해결\n"
     ]
    },
    {
     "name": "stderr",
     "output_type": "stream",
     "text": [
      "Inference:  11%|█         | 56/515 [07:52<16:56,  2.21s/it]"
     ]
    },
    {
     "name": "stdout",
     "output_type": "stream",
     "text": [
      "#################### Answer ###########################\n",
      "4\n",
      "#################### Question ###########################\n",
      "금융회사 전산시스템의 특징으로 옳지 않은 것은?\n",
      "1 전산시스템은 유형의 제품을 생산하여 판매한다.\n",
      "2 전산시스템 투자운영비용이 전체 비용에서 차지하는 비중이 높다.\n",
      "3 전산시스템의 오류는 직접적인 금전손실로 연계된다.\n",
      "4 전산시스템은 고객과의 거래 시 발생되는 무형의 금융상품 서비스를 제공한다.\n"
     ]
    },
    {
     "name": "stderr",
     "output_type": "stream",
     "text": [
      "Inference:  11%|█         | 57/515 [07:52<13:31,  1.77s/it]"
     ]
    },
    {
     "name": "stdout",
     "output_type": "stream",
     "text": [
      "#################### Answer ###########################\n",
      "1\n",
      "#################### Question ###########################\n",
      "다음 중 개인신용정보의 보유기간에 대한 예외 사항으로 옳지 않은 것은?\n",
      "1 시장업무규정에서 정하는 기간 중 짧은 기간 이내\n",
      "2 개인신용정보는 정보주체의 동의가 있으면 무기한으로 보유할 수 있다.\n",
      "3 영 제15조제4항제3호 및 제6호의 신용정보는 등록사유 발생일부터 5년 이내\n",
      "4 영 제15조제4항제2호의 신용정보는 해제사유 발생일부터 5년 이내\n",
      "5 모든 개인신용정보는 금융거래 종료 후 7년 이내에 삭제해야 한다.\n"
     ]
    },
    {
     "name": "stderr",
     "output_type": "stream",
     "text": [
      "Inference:  11%|█▏        | 58/515 [08:19<1:11:33,  9.40s/it]"
     ]
    },
    {
     "name": "stdout",
     "output_type": "stream",
     "text": [
      "#################### Answer ###########################\n",
      "2\n",
      "#################### Question ###########################\n",
      "정보통신망법 제42조에 따르면, 청소년유해매체물을 제공하는 정보제공자가 따라야 할 표시방법으로 옳은 것은?\n",
      "1 청소년유해매체물임을 영상으로만 표시한다.\n",
      "2 청소년유해매체물임을 문자로만 표시한다.\n",
      "3 청소년유해매체물임을 음성, 문자 또는 영상으로 표시한다.\n",
      "4 청소년유해매체물임을 음성으로만 표시한다.\n",
      "5 청소년유해매체물임을 암호화된 데이터로만 표시한다.\n"
     ]
    },
    {
     "name": "stderr",
     "output_type": "stream",
     "text": [
      "Inference:  11%|█▏        | 59/515 [08:20<51:39,  6.80s/it]  "
     ]
    },
    {
     "name": "stdout",
     "output_type": "stream",
     "text": [
      "#################### Answer ###########################\n",
      "3\n",
      "#################### Question ###########################\n",
      "전자금융거래법 제14조에 의하면, 대량으로 처리하는 거래의 경우 거래지시 철회 시기를 어떻게 정할 수 있는가?\n",
      "1 이용자가 임의로 결정한다.\n",
      "2 미리 정한 약정에 따라 정할 수 있다.\n",
      "3 거래가 완료된 후에 정할 수 있다.\n",
      "4 금융당국의 별도 지침에 따라 정할 수 있다.\n",
      "5 금융회사가 임의로 결정한다.\n"
     ]
    },
    {
     "name": "stderr",
     "output_type": "stream",
     "text": [
      "Inference:  12%|█▏        | 60/515 [08:26<49:10,  6.48s/it]"
     ]
    },
    {
     "name": "stdout",
     "output_type": "stream",
     "text": [
      "#################### Answer ###########################\n",
      "2\n",
      "#################### Question ###########################\n",
      "개인정보처리자가 개인정보 유출 사실을 알게 되었을 때, 개인정보보호법 제39조에 따라 신고해야 하는 시간은?\n",
      "1 48시간 이내\n",
      "2 24시간 이내\n",
      "3 96시간 이내\n",
      "4 72시간 이내\n"
     ]
    },
    {
     "name": "stderr",
     "output_type": "stream",
     "text": [
      "Inference:  12%|█▏        | 61/515 [08:32<48:08,  6.36s/it]"
     ]
    },
    {
     "name": "stdout",
     "output_type": "stream",
     "text": [
      "#################### Answer ###########################\n",
      "4\n",
      "#################### Question ###########################\n",
      "자율보안체계로의 전환을 위해 금융회사가 강화해야 할 핵심 요소는?\n",
      "1 외부 감사 의존도\n",
      "2 고객 서비스 품질\n",
      "3 마케팅 전략\n",
      "4 자체 보안역량\n"
     ]
    },
    {
     "name": "stderr",
     "output_type": "stream",
     "text": [
      "Inference:  12%|█▏        | 62/515 [08:33<34:59,  4.63s/it]"
     ]
    },
    {
     "name": "stdout",
     "output_type": "stream",
     "text": [
      "#################### Answer ###########################\n",
      "4\n",
      "#################### Question ###########################\n",
      "전자금융거래법 제35조에 따른 겸업제한의 목적은 무엇인가?\n",
      "1 전자금융업자의 시장 점유율 확대\n",
      "2 전자금융업자의 수익성 증대\n",
      "3 전자금융업자의 기술 혁신 촉진\n",
      "4 전자금융업자의 경영 안정성 확보\n"
     ]
    },
    {
     "name": "stderr",
     "output_type": "stream",
     "text": [
      "Inference:  12%|█▏        | 63/515 [08:38<36:03,  4.79s/it]"
     ]
    },
    {
     "name": "stdout",
     "output_type": "stream",
     "text": [
      "#################### Answer ###########################\n",
      "4\n",
      "#################### Question ###########################\n",
      "개인사업자신용평가회사의 내부통제기준에 포함되어야 할 사항으로 옳은 것은?\n",
      "1 불공정행위의 허용\n",
      "2 평가조직과 영업조직의 통합\n",
      "3 내부감사 기능의 생략\n",
      "4 개인사업자의 특성에 맞지 않는 평가기준\n",
      "5 이해상충 방지\n"
     ]
    },
    {
     "name": "stderr",
     "output_type": "stream",
     "text": [
      "Inference:  12%|█▏        | 64/515 [08:38<26:43,  3.56s/it]"
     ]
    },
    {
     "name": "stdout",
     "output_type": "stream",
     "text": [
      "#################### Answer ###########################\n",
      "4\n",
      "#################### Question ###########################\n",
      "정보집합물의 결합 후, 데이터전문기관이 결합의뢰기관에 결합된 정보집합물을 전달하기 전 수행해야 할 조치로 옳은 것은?\n",
      "1 결합키를 삭제하거나 대체한다.\n",
      "2 결합된 정보집합물에 포함된 민감정보를 별도로 분리하여 저장한다.\n",
      "3 결합된 정보집합물에 새로운 결합키를 추가한다.\n",
      "4 결합된 정보집합물을 암호화하지 않고 전달한다.\n",
      "5 결합된 정보집합물을 그대로 전달한다.\n"
     ]
    },
    {
     "name": "stderr",
     "output_type": "stream",
     "text": [
      "Inference:  13%|█▎        | 65/515 [09:02<1:11:56,  9.59s/it]"
     ]
    },
    {
     "name": "stdout",
     "output_type": "stream",
     "text": [
      "#################### Answer ###########################\n",
      "2\n",
      "#################### Question ###########################\n",
      "전자금융데이터 보안에서 암호화 방식에 대한 설명으로 옳은 것은?\n",
      "1 정형 데이터는 Plug-in, API, Hybrid 등의 암호화 방식을 적용할 수 있다.\n",
      "2 비정형 데이터는 TDE 암호화 방식을 적용할 수 있다.\n",
      "3 비정형 데이터는 다양한 암호화 방식을 적용할 수 있다.\n",
      "4 정형 데이터는 파일 암호화만 가능하다.\n",
      "5 정형 데이터에는 파일 암호화 방식만 적용하며, API 방식은 사용할 수 없다.\n"
     ]
    },
    {
     "name": "stderr",
     "output_type": "stream",
     "text": [
      "Inference:  13%|█▎        | 66/515 [09:03<51:55,  6.94s/it]  "
     ]
    },
    {
     "name": "stdout",
     "output_type": "stream",
     "text": [
      "#################### Answer ###########################\n",
      "3\n",
      "#################### Question ###########################\n",
      "다음 중 IoT 융합서비스에 대한 설명으로 가장 적절한 것은?\n",
      "1 IoT 융합서비스는 다양한 산업 분야에 적용될 수 있다.\n",
      "2 IoT 기술은 스마트시티와 같은 공공 서비스에 적용되지 않는다.\n",
      "3 IoT 융합서비스는 전통적 IT기기와 무관하다.\n",
      "4 IoT 기기는 보안 설정이 필요하지 않다.\n"
     ]
    },
    {
     "name": "stderr",
     "output_type": "stream",
     "text": [
      "Inference:  13%|█▎        | 67/515 [09:04<37:48,  5.06s/it]"
     ]
    },
    {
     "name": "stdout",
     "output_type": "stream",
     "text": [
      "#################### Answer ###########################\n",
      "1\n",
      "#################### Question ###########################\n",
      "개인정보보호법 제38조에 의하면, 개인정보처리자가 정보주체의 열람등요구에 대해 거절할 경우, 정보주체가 취할 수 있는 조치는 무엇인가?\n",
      "1 이의 제기\n",
      "2 다른 개인정보처리자에게 요청\n",
      "3 법적 소송\n",
      "4 개인정보처리자 변경\n"
     ]
    },
    {
     "name": "stderr",
     "output_type": "stream",
     "text": [
      "Inference:  13%|█▎        | 68/515 [09:09<37:38,  5.05s/it]"
     ]
    },
    {
     "name": "stdout",
     "output_type": "stream",
     "text": [
      "#################### Answer ###########################\n",
      "1\n",
      "#################### Question ###########################\n",
      "응용프로그램 접근'에 대한 보호대책으로 적절한 것은?\n",
      "1 응용프로그램의 성능 및 장애관리\n",
      "2 응용프로그램의 소스코드 보안\n",
      "3 응용프로그램의 로그 및 접속기록 관리\n",
      "4 응용프로그램의 접근 권한 관리\n"
     ]
    },
    {
     "name": "stderr",
     "output_type": "stream",
     "text": [
      "Inference:  13%|█▎        | 69/515 [09:09<27:48,  3.74s/it]"
     ]
    },
    {
     "name": "stdout",
     "output_type": "stream",
     "text": [
      "#################### Answer ###########################\n",
      "4\n",
      "#################### Question ###########################\n",
      "신용정보법 제39조에 따라 무료 열람권을 제공받을 수 있는 대상은 누구인가?\n",
      "1 모든 법인\n",
      "2 모든 금융기관\n",
      "3 정부기관\n",
      "4 개인신용평가회사\n"
     ]
    },
    {
     "name": "stderr",
     "output_type": "stream",
     "text": [
      "Inference:  14%|█▎        | 70/515 [09:10<20:44,  2.80s/it]"
     ]
    },
    {
     "name": "stdout",
     "output_type": "stream",
     "text": [
      "#################### Answer ###########################\n",
      "4\n",
      "#################### Question ###########################\n",
      "운영기준 준수사실의 인정을 받은 전자서명인증사업자와 관련하여 옳은 것은?\n",
      "1 운영기준 준수사실의 인정을 받은 후 2년간 유효하다.\n",
      "2 운영기준 준수사실의 인정을 받지 않은 자도 표시할 수 있다.\n",
      "3 운영기준 준수사실의 인정을 받은 후 즉시 재평가를 신청해야 한다.\n",
      "4 인증업무준칙을 작성하여 게시하고 성실히 준수해야 한다.\n",
      "5 평가기관의 선정 기준은 법인이 아닐 수 있다.\n"
     ]
    },
    {
     "name": "stderr",
     "output_type": "stream",
     "text": [
      "Inference:  14%|█▍        | 71/515 [09:13<21:54,  2.96s/it]"
     ]
    },
    {
     "name": "stdout",
     "output_type": "stream",
     "text": [
      "#################### Answer ###########################\n",
      "1\n",
      "#################### Question ###########################\n",
      "메일 서비스에서 POP와 IMAP 프로토콜의 공통된 기능은 무엇인가?\n",
      "1 메일 전송 경로의 암호화\n",
      "2 메일 발신자의 신원 확인\n",
      "3 사용자 기반의 메일 수신\n",
      "4 메일 서버 간의 메일 전송\n"
     ]
    },
    {
     "name": "stderr",
     "output_type": "stream",
     "text": [
      "Inference:  14%|█▍        | 72/515 [09:39<1:13:21,  9.93s/it]"
     ]
    },
    {
     "name": "stdout",
     "output_type": "stream",
     "text": [
      "#################### Answer ###########################\n",
      "5\n",
      "#################### Question ###########################\n",
      "평가기관의 선정이 취소될 수 있는 경우로 옳지 않은 것은?\n",
      "1 거짓이나 부정한 방법으로 선정된 경우\n",
      "2 정당한 사유 없이 평가 업무를 하지 않은 경우\n",
      "3 평가 업무의 공정성을 유지한 경우\n",
      "4 업무정지 기간 중에 평가 업무를 한 경우\n",
      "5 평가 업무의 독립성을 확보한 경우\n"
     ]
    },
    {
     "name": "stderr",
     "output_type": "stream",
     "text": [
      "Inference:  14%|█▍        | 73/515 [09:46<1:05:24,  8.88s/it]"
     ]
    },
    {
     "name": "stdout",
     "output_type": "stream",
     "text": [
      "#################### Answer ###########################\n",
      "4\n",
      "#################### Question ###########################\n",
      "정보통신망법 제49조의2에 따라 정보통신서비스 제공자가 속이는 행위에 대한 정보를 공유하도록 명령할 수 있는 기관은?\n",
      "1 과학기술정보통신부장관\n",
      "2 경찰청장\n",
      "3 금융감독원장\n",
      "4 방송통신위원회\n"
     ]
    },
    {
     "name": "stderr",
     "output_type": "stream",
     "text": [
      "Inference:  14%|█▍        | 74/515 [09:48<50:57,  6.93s/it]  "
     ]
    },
    {
     "name": "stdout",
     "output_type": "stream",
     "text": [
      "#################### Answer ###########################\n",
      "3\n",
      "#################### Question ###########################\n",
      "전자금융거래법 제24조에 따르면, 금융회사 또는 전자금융업자가 약관을 변경할 때, 변경된 약관의 시행일 몇 달 전에 이를 게시하고 이용자에게 알려야 하는가?\n",
      "1 6개월\n",
      "2 1개월\n",
      "3 2개월\n",
      "4 3개월\n"
     ]
    },
    {
     "name": "stderr",
     "output_type": "stream",
     "text": [
      "Inference:  15%|█▍        | 75/515 [09:50<38:36,  5.27s/it]"
     ]
    },
    {
     "name": "stdout",
     "output_type": "stream",
     "text": [
      "#################### Answer ###########################\n",
      "4\n",
      "#################### Question ###########################\n",
      "시스템 및 서비스 운영관리에서 성능 및 장애관리에 해당하는 활동은 무엇인가?\n",
      "1 정보자산의 재사용 및 폐기\n",
      "2 시스템 모니터링\n",
      "3 사용자 계정 관리\n",
      "4 네트워크 접근 통제\n"
     ]
    },
    {
     "name": "stderr",
     "output_type": "stream",
     "text": [
      "Inference:  15%|█▍        | 76/515 [09:50<28:16,  3.87s/it]"
     ]
    },
    {
     "name": "stdout",
     "output_type": "stream",
     "text": [
      "#################### Answer ###########################\n",
      "2\n",
      "#################### Question ###########################\n",
      "다음 중 신용정보회사 임원의 겸직 금지와 관련된 설명으로 옳은 것은?\n",
      "1 임원은 금융위원회의 승인 없이 채권추심 업무를 수행할 수 있다.\n",
      "2 임원은 금융위원회의 승인 없이 다른 비영리법인의 상무에 종사할 수 있다.\n",
      "3 임원은 금융위원회의 승인 없이 다른 영리법인의 상무에 종사할 수 있다.\n",
      "4 임원은 금융위원회의 승인 없이 계열 신용정보회사 이사로 겸직할 수 있다.\n",
      "5 임원은 금융위원회의 승인 없이 신용정보를 제공할 수 있다.\n"
     ]
    },
    {
     "name": "stderr",
     "output_type": "stream",
     "text": [
      "Inference:  15%|█▍        | 77/515 [09:51<21:53,  3.00s/it]"
     ]
    },
    {
     "name": "stdout",
     "output_type": "stream",
     "text": [
      "#################### Answer ###########################\n",
      "4\n",
      "#################### Question ###########################\n",
      "정부가 정보통신망 응용서비스의 개발을 촉진하기 위해 마련해야 할 시책에 포함되지 않는 것은?\n",
      "1 정보통신망 이용 교육프로그램의 개발 및 보급 지원\n",
      "2 인터넷 교육에 대한 지원\n",
      "3 정보통신망 기술인력 양성사업에 대한 지원\n",
      "4 정보통신망의 안전성 및 신뢰성 제고\n",
      "5 정보통신망 응용서비스의 개인정보 보호정책 수립\n"
     ]
    },
    {
     "name": "stderr",
     "output_type": "stream",
     "text": [
      "Inference:  15%|█▌        | 78/515 [09:52<16:53,  2.32s/it]"
     ]
    },
    {
     "name": "stdout",
     "output_type": "stream",
     "text": [
      "#################### Answer ###########################\n",
      "5\n",
      "#################### Question ###########################\n",
      "정보통신망법에 의거 \"정보통신망 이용촉진 및 정보보호등에 관한 시책의 마련\"에 포함되어야 할 사항으로 옳은 것은?\n",
      "1 정보통신망의 표준화\n",
      "2 정보통신망의 폐쇄\n",
      "3 정보통신망의 사용 제한\n",
      "4 정보통신망의 접근 권한 일괄 회수\n",
      "5 정보통신망의 비용 증가\n"
     ]
    },
    {
     "name": "stderr",
     "output_type": "stream",
     "text": [
      "Inference:  15%|█▌        | 79/515 [11:10<3:01:52, 25.03s/it]"
     ]
    },
    {
     "name": "stdout",
     "output_type": "stream",
     "text": [
      "#################### Answer ###########################\n",
      "1\n",
      "#################### Question ###########################\n",
      "신용정보회사가 폐업할 경우, 보유정보를 어떻게 처리해야 하는가?\n",
      "1 보유정보를 암호화하여 외부 저장매체에 영구 보관해야 한다.\n",
      "2 보유정보를 5년간 보관한 후 폐기해야 한다.\n",
      "3 보유정보를 고객에게 반환해야 한다.\n",
      "4 금융위원회가 정하여 고시하는 바에 따라 처분하거나 폐기해야 한다.\n",
      "5 금융위원회의 승인을 받아 보유정보를 타 회사에 양도해야 한다.\n"
     ]
    },
    {
     "name": "stderr",
     "output_type": "stream",
     "text": [
      "Inference:  16%|█▌        | 80/515 [11:11<2:08:38, 17.74s/it]"
     ]
    },
    {
     "name": "stdout",
     "output_type": "stream",
     "text": [
      "#################### Answer ###########################\n",
      "4\n",
      "#################### Question ###########################\n",
      "신용조사회사의 임직원이 신용정보를 조사할 때 지켜야 할 사항으로 옳은 것은?\n",
      "1 조사 대상자의 동의 없이 신용정보를 외부 기관에 제공할 수 있다.\n",
      "2 조사 대상자에게 신용조사회사의 명함을 제공해야 한다.\n",
      "3 조사 대상자에게 조사 자료의 제공을 요구해야 한다.\n",
      "4 조사 대상자에게 조사 결과를 즉시 통보해야 한다.\n",
      "5 신용조사업에 종사하고 있음을 나타내는 증표를 지니고 상대방에게 내보여야 한다.\n"
     ]
    },
    {
     "name": "stderr",
     "output_type": "stream",
     "text": [
      "Inference:  16%|█▌        | 81/515 [11:11<1:31:27, 12.64s/it]"
     ]
    },
    {
     "name": "stdout",
     "output_type": "stream",
     "text": [
      "#################### Answer ###########################\n",
      "5\n",
      "#################### Question ###########################\n",
      "종합신용정보집중기관의 주요 업무로 옳지 않은 것은 무엇인가?\n",
      "1 개인신용평가회사의 신용정보 제공 의무 이행 실태 조사\n",
      "2 신용정보공동전산망의 구축 및 유지 관리\n",
      "3 공공기관으로부터 수집한 신용정보의 집중관리 및 활용\n",
      "4 금융기관 전체로부터의 신용정보 집중관리 및 활용\n"
     ]
    },
    {
     "name": "stderr",
     "output_type": "stream",
     "text": [
      "Inference:  16%|█▌        | 82/515 [11:12<1:05:22,  9.06s/it]"
     ]
    },
    {
     "name": "stdout",
     "output_type": "stream",
     "text": [
      "#################### Answer ###########################\n",
      "4\n",
      "#################### Question ###########################\n",
      "딥페이크 기술 악용에 대비한 금융권의 대응 방안을 기술하세요.\n"
     ]
    },
    {
     "name": "stderr",
     "output_type": "stream",
     "text": [
      "Inference:  16%|█▌        | 83/515 [12:07<2:43:57, 22.77s/it]"
     ]
    },
    {
     "name": "stdout",
     "output_type": "stream",
     "text": [
      "#################### Answer ###########################\n",
      "딥페이크 기술의 악용으로부터 금융권을 보호하기 위한 대응 방안은 다음과 같습니다. 첫째, 기술적 대응책으로는 딥페이크 디텍션 알고리즘을 개발하여 금융거래 시스템에 적용하는 것이 필요합니다. 둘째, 법적 대응책으로는 딥페이크 기술을 사용한 금융 사기 행위에 대한 법적 규제와 처벌을 강화하는 것이 중요합니다. 셋째, 정책적 대응책으로는 금융권 내부의 투명성과 책임성\n",
      "#################### Question ###########################\n",
      "금융산업의 발전과 관련하여 금융회사의 역할로 가장 적절한 것은?\n",
      "1 정부의 재정정책 수립\n",
      "2 금융감독 정책의 직접 집행\n",
      "3 금융상품의 개발 및 제공\n",
      "4 법률 제정 및 개정\n",
      "5 외환보유액 관리\n"
     ]
    },
    {
     "name": "stderr",
     "output_type": "stream",
     "text": [
      "Inference:  16%|█▋        | 84/515 [12:08<1:55:58, 16.15s/it]"
     ]
    },
    {
     "name": "stdout",
     "output_type": "stream",
     "text": [
      "#################### Answer ###########################\n",
      "3\n",
      "#################### Question ###########################\n",
      "어플리케이션 보안에서 웹 서버 설정 시 점검해야 할 사항으로 가장 적절한 것은?\n",
      "1 DNS 보안 조치 설정 여부\n",
      "2 다양한 공격 유형에 대비한 보안 설정 여부\n",
      "3 스팸메일 릴레이 허용 여부\n",
      "4 DB 객체별 접근통제 설정 여부\n"
     ]
    },
    {
     "name": "stderr",
     "output_type": "stream",
     "text": [
      "Inference:  17%|█▋        | 85/515 [12:08<1:22:27, 11.51s/it]"
     ]
    },
    {
     "name": "stdout",
     "output_type": "stream",
     "text": [
      "#################### Answer ###########################\n",
      "2\n",
      "#################### Question ###########################\n",
      "신용정보업 등의 허가를 받기 위해 필요한 절차로 옳은 것은?\n",
      "1 금융위원회에 신청서를 제출하고 심사를 기다린다.\n",
      "2 허가 신청 후 6개월 이내에 결과를 통보받는다.\n",
      "3 허가를 받기 위해서는 국회의 승인이 필요하다.\n",
      "4 허가 절차에는 신용정보보호전문가의 별도 심사보고서가 반드시 첨부되어야 한다.\n",
      "5 금융감독원에 직접 방문하여 허가를 요청한다.\n"
     ]
    },
    {
     "name": "stderr",
     "output_type": "stream",
     "text": [
      "Inference:  17%|█▋        | 86/515 [12:10<1:02:19,  8.72s/it]"
     ]
    },
    {
     "name": "stdout",
     "output_type": "stream",
     "text": [
      "#################### Answer ###########################\n",
      "1\n",
      "#################### Question ###########################\n",
      "전자금융거래법 제27조에 따라 이용자가 분쟁조정을 신청할 수 있는 기관으로 올바른 것은?\n",
      "1 금융위원회\n",
      "2 한국은행\n",
      "3 금융감독원의 금융분쟁조정위원회\n",
      "4 국세청\n"
     ]
    },
    {
     "name": "stderr",
     "output_type": "stream",
     "text": [
      "Inference:  17%|█▋        | 87/515 [12:11<44:48,  6.28s/it]  "
     ]
    },
    {
     "name": "stdout",
     "output_type": "stream",
     "text": [
      "#################### Answer ###########################\n",
      "3\n",
      "#################### Question ###########################\n",
      "평가기관이 전자서명인증사업자로부터 평가를 신청받은 경우, 평가를 마쳐야 하는 기간은?\n",
      "1 365일 이내\n",
      "2 180일 이내\n",
      "3 120일 이내\n",
      "4 240일 이내\n",
      "5 90일 이내\n"
     ]
    },
    {
     "name": "stderr",
     "output_type": "stream",
     "text": [
      "Inference:  17%|█▋        | 88/515 [12:14<37:50,  5.32s/it]"
     ]
    },
    {
     "name": "stdout",
     "output_type": "stream",
     "text": [
      "#################### Answer ###########################\n",
      "4\n",
      "#################### Question ###########################\n",
      "개인신용정보 제공 동의 철회권에 대한 설명으로 옳은 것은?\n",
      "1 동의를 철회하려면 서면으로만 요청해야 한다.\n",
      "2 개인신용정보주체는 언제든지 동의를 철회할 수 있다.\n",
      "3 동의를 철회하려면 용역 제공을 받지 않을 의사를 명확히 밝혀야 한다.\n",
      "4 동의를 철회하면 모든 서비스 제공이 중단된다.\n"
     ]
    },
    {
     "name": "stderr",
     "output_type": "stream",
     "text": [
      "Inference:  17%|█▋        | 89/515 [12:15<27:57,  3.94s/it]"
     ]
    },
    {
     "name": "stdout",
     "output_type": "stream",
     "text": [
      "#################### Answer ###########################\n",
      "2\n",
      "#################### Question ###########################\n",
      "FTP 서비스에서 보안을 강화하기 위한 방법으로 적절하지 않은 것은?\n",
      "1 FTP 포트(21번)를 항상 외부에 개방하여 접근성을 높인다.\n",
      "2 FTPS를 사용하여 데이터 전송을 암호화한다.\n",
      "3 FTP 업로드 기능을 막아 웹셸 공격을 방지한다.\n",
      "4 익명 사용자에 대한 FTP 서비스 권한을 허용한다.\n",
      "5 특정 IP에서만 FTP 접근을 허용한다.\n"
     ]
    },
    {
     "name": "stderr",
     "output_type": "stream",
     "text": [
      "Inference:  17%|█▋        | 90/515 [12:16<21:05,  2.98s/it]"
     ]
    },
    {
     "name": "stdout",
     "output_type": "stream",
     "text": [
      "#################### Answer ###########################\n",
      "4\n",
      "#################### Question ###########################\n",
      "개인정보보호법 제39조의4에 따른 비밀유지명령의 신청을 위해 소명해야 할 사항으로 옳은 것은?\n",
      "1 영업비밀이 다른 소송에서 사용된 사실\n",
      "2 영업비밀이 이미 공개된 사실\n",
      "3 영업비밀이 소송 수행 외의 목적으로 사용될 우려\n",
      "4 영업비밀이 법원에 의해 이미 보호받고 있는 사실\n"
     ]
    },
    {
     "name": "stderr",
     "output_type": "stream",
     "text": [
      "Inference:  18%|█▊        | 91/515 [12:33<52:37,  7.45s/it]"
     ]
    },
    {
     "name": "stdout",
     "output_type": "stream",
     "text": [
      "#################### Answer ###########################\n",
      "3\n",
      "#################### Question ###########################\n",
      "전자서명법 제1조의 목적에 해당하는 것은 무엇인가?\n",
      "1 전자거래 과정에서 발생하는 분쟁을 중재하기 위함\n",
      "2 전자서명 관련 법률의 개정을 위해\n",
      "3 전자문서의 안전성과 신뢰성을 확보하기 위함\n",
      "4 전자서명 인증서의 유효기간을 연장하기 위함\n",
      "5 전자서명 기술의 국제 표준화를 위해\n"
     ]
    },
    {
     "name": "stderr",
     "output_type": "stream",
     "text": [
      "Inference:  18%|█▊        | 92/515 [12:34<38:13,  5.42s/it]"
     ]
    },
    {
     "name": "stdout",
     "output_type": "stream",
     "text": [
      "#################### Answer ###########################\n",
      "3\n",
      "#################### Question ###########################\n",
      "전자화폐를 발행하는 금융회사 또는 전자금융업자가 전자화폐를 발행할 때 반드시 해야 할 조치로 옳은 것은?\n",
      "1 전자화폐 발행 시 이용자의 본인확인 절차는 생략할 수 있다.\n",
      "2 전자화폐의 발행 및 교환의 방법과 절차는 금융회사가 자율적으로 정한다.\n",
      "3 전자화폐의 발행 시 식별번호를 부여하고 실지명의 또는 예금계좌와 연결하여 관리해야 한다.\n",
      "4 전자화폐의 발행 시 현금과 동일한 가치로 교환할 필요는 없다.\n",
      "5 전자화폐 보유자의 요청에 따라 전자화폐를 현금으로 교환할 의무는 없다.\n"
     ]
    },
    {
     "name": "stderr",
     "output_type": "stream",
     "text": [
      "Inference:  18%|█▊        | 93/515 [12:35<28:43,  4.09s/it]"
     ]
    },
    {
     "name": "stdout",
     "output_type": "stream",
     "text": [
      "#################### Answer ###########################\n",
      "3\n",
      "#################### Question ###########################\n",
      "Kali Linux에서 제공하는 도구 중 시스템 보안 취약점 분석에 주로 사용되는 도구는 무엇인가?\n",
      "1 John the Ripper\n",
      "2 Wireshark\n",
      "3 Metasploit\n",
      "4 Apache\n",
      "5 MySQL\n"
     ]
    },
    {
     "name": "stderr",
     "output_type": "stream",
     "text": [
      "Inference:  18%|█▊        | 94/515 [12:36<22:54,  3.26s/it]"
     ]
    },
    {
     "name": "stdout",
     "output_type": "stream",
     "text": [
      "#################### Answer ###########################\n",
      "3\n",
      "#################### Question ###########################\n",
      "다음 중 '비밀번호 관리'에 대한 설명으로 가장 적절한 것은?\n",
      "1 비밀번호는 초기 설정 후 변경할 필요가 없다.\n",
      "2 비밀번호는 영문, 숫자, 특수문자 중 1종류만 사용해도 된다.\n",
      "3 비밀번호는 동일한 것을 여러 서비스에서 사용하는 것이 관리에 효율적이다.\n",
      "4 비밀번호는 종이에 기록하여 보관하는 것이 안전하다.\n",
      "5 비밀번호는 변경 주기를 설정하여 주기적으로 변경해야 한다.\n"
     ]
    },
    {
     "name": "stderr",
     "output_type": "stream",
     "text": [
      "Inference:  18%|█▊        | 95/515 [13:06<1:17:15, 11.04s/it]"
     ]
    },
    {
     "name": "stdout",
     "output_type": "stream",
     "text": [
      "#################### Answer ###########################\n",
      "5\n",
      "#################### Question ###########################\n",
      "딥페이크 기술의 악용을 방지하기 위한 금융권의 선제적 대응 방안으로 가장 적절한 것은?\n",
      "1 딥페이크 탐지 기능이 없는 구식 인증 시스템 도입\n",
      "2 딥보이스 탐지 기술 개발\n",
      "3 금융기관의 음성 복제\n",
      "4 딥페이크 영상 제작 지원\n",
      "5 금융소비자 홍보 강화\n"
     ]
    },
    {
     "name": "stderr",
     "output_type": "stream",
     "text": [
      "Inference:  19%|█▊        | 96/515 [13:11<1:04:53,  9.29s/it]"
     ]
    },
    {
     "name": "stdout",
     "output_type": "stream",
     "text": [
      "#################### Answer ###########################\n",
      "2\n",
      "#################### Question ###########################\n",
      "전자화폐의 발행 및 관리업무의 허가를 받기 위해 필요한 자본금 요건으로 옳은 것은?\n",
      "1 30억원 이상\n",
      "2 50억원 이상\n",
      "3 20억원 이상\n",
      "4 10억원 이상\n"
     ]
    },
    {
     "name": "stderr",
     "output_type": "stream",
     "text": [
      "Inference:  19%|█▉        | 97/515 [13:14<52:34,  7.55s/it]  "
     ]
    },
    {
     "name": "stdout",
     "output_type": "stream",
     "text": [
      "#################### Answer ###########################\n",
      "3\n",
      "#################### Question ###########################\n",
      "사이버복원력(Cyber Resilience)에 대한 설명으로 가장 적절한 것은?\n",
      "1 보안위협을 완벽히 차단하는 능력\n",
      "2 보안 정책을 단기간에 완벽하게 구축하는 능력\n",
      "3 IT 인프라를 지속적으로 운영할 수 있는 능력\n",
      "4 금융서비스 중단 시 피해를 최소화하는 능력\n"
     ]
    },
    {
     "name": "stderr",
     "output_type": "stream",
     "text": [
      "Inference:  19%|█▉        | 98/515 [13:15<38:09,  5.49s/it]"
     ]
    },
    {
     "name": "stdout",
     "output_type": "stream",
     "text": [
      "#################### Answer ###########################\n",
      "3\n",
      "#################### Question ###########################\n",
      "신용정보법 제35조에 따르면, 신용정보주체가 자신의 신용정보 이용 및 제공 사실을 조회할 수 있도록 해야 하는 기간은 어떻게 정해지는가?\n",
      "1 매년 1회\n",
      "2 신용정보주체가 동의한 경우에만\n",
      "3 금융위원회가 정하여 고시하는 기간 이내\n",
      "4 신용정보주체가 요청한 즉시\n"
     ]
    },
    {
     "name": "stderr",
     "output_type": "stream",
     "text": [
      "Inference:  19%|█▉        | 99/515 [13:17<30:11,  4.35s/it]"
     ]
    },
    {
     "name": "stdout",
     "output_type": "stream",
     "text": [
      "#################### Answer ###########################\n",
      "3\n",
      "#################### Question ###########################\n",
      "전자서명인증사업자가 인증업무준칙을 작성하여 게시해야 하는 이유로 가장 적절한 것은?\n",
      "1 인증서 유통 경로의 다양성 확보\n",
      "2 전자서명 기술의 발전 촉진\n",
      "3 고객의 개인정보 보호 강화\n",
      "4 인증서 발급 비용 절감\n",
      "5 전자서명인증서비스의 신뢰성 확보\n"
     ]
    },
    {
     "name": "stderr",
     "output_type": "stream",
     "text": [
      "Inference:  19%|█▉        | 100/515 [13:27<43:16,  6.26s/it]"
     ]
    },
    {
     "name": "stdout",
     "output_type": "stream",
     "text": [
      "#################### Answer ###########################\n",
      "3\n",
      "#################### Question ###########################\n",
      "네트워크 접근통제(NAC)의 주요 기능으로 옳지 않은 것은?\n",
      "1 데이터 암호화 자동화\n",
      "2 무선랜과 공유 패스워드 관리\n",
      "3 네트워크 트래픽 실시간 복호화\n",
      "4 비인가 단말 반입 차단\n",
      "5 IP 추적 가능\n"
     ]
    },
    {
     "name": "stderr",
     "output_type": "stream",
     "text": [
      "Inference:  20%|█▉        | 101/515 [13:28<31:38,  4.59s/it]"
     ]
    },
    {
     "name": "stdout",
     "output_type": "stream",
     "text": [
      "#################### Answer ###########################\n",
      "3\n",
      "#################### Question ###########################\n",
      "디지털 지갑(Digital Wallet)에서 우려되는 주요 보안 위협을 설명하세요.\n"
     ]
    },
    {
     "name": "stderr",
     "output_type": "stream",
     "text": [
      "Inference:  20%|█▉        | 102/515 [13:54<1:15:33, 10.98s/it]"
     ]
    },
    {
     "name": "stdout",
     "output_type": "stream",
     "text": [
      "#################### Answer ###########################\n",
      "디지털 지갑에서 우려되는 주요 보안 위협은 해킹, 피싱, 스마트 계약 취약점입니다. 이러한 위협들은 사용자의 개인 정보와 자금을 노리며, 디지털 지갑의 보안을 강화하기 위한 지속적인 연구와 개발이 필요합니다.\n",
      "#################### Question ###########################\n",
      "개인정보 접근 권한 검토는 어떻게 수행해야 하며, 그 목적은 무엇인가요?\n"
     ]
    },
    {
     "name": "stderr",
     "output_type": "stream",
     "text": [
      "Inference:  20%|██        | 103/515 [14:38<2:23:17, 20.87s/it]"
     ]
    },
    {
     "name": "stdout",
     "output_type": "stream",
     "text": [
      "#################### Answer ###########################\n",
      "개인정보 접근 권한 검토는 개인정보 보호법에 따라 개인이 자신에 관한 정보를 검토하고 정정할 수 있는 권리를 검토하는 절차입니다. 이 검토의 목적은 개인정보 보호 원칙에 따라 개인정보 처리자가 개인정보를 처리할 때 준수해야 하는 원칙을 검토하고, 개인정보 보호 원칙에 대한 이해도를 높이며, 개인정보 보호 관련 법률 및 규정 준수를 확인하는 것입니다.\n",
      "#################### Question ###########################\n",
      "전자채권의 등록 및 관리업무를 수행하고자 하는 자가 반드시 해야 할 절차는 무엇인가?\n",
      "1 금융위원회에 등록\n",
      "2 금융감독원에 신고\n",
      "3 국세청에 신고\n",
      "4 대통령령에 따른 허가\n"
     ]
    },
    {
     "name": "stderr",
     "output_type": "stream",
     "text": [
      "Inference:  20%|██        | 104/515 [14:41<1:46:12, 15.51s/it]"
     ]
    },
    {
     "name": "stdout",
     "output_type": "stream",
     "text": [
      "#################### Answer ###########################\n",
      "1\n",
      "#################### Question ###########################\n",
      "다음 중 '네트워크 공격'에 대한 설명으로 가장 적절하지 않은 것은?\n",
      "1 네트워크 공격은 항상 물리적 접근을 필요로 한다.\n",
      "2 네트워크 공격은 오직 내부 직원에 의해서만 발생할 수 있다.\n",
      "3 해킹을 통해 금융 정보에 접근할 수 있다.\n",
      "4 악성코드를 통해 PC에 침투할 수 있다.\n",
      "5 디도스 공격을 통해 시스템을 마비시킬 수 있다.\n"
     ]
    },
    {
     "name": "stderr",
     "output_type": "stream",
     "text": [
      "Inference:  20%|██        | 105/515 [14:42<1:15:40, 11.08s/it]"
     ]
    },
    {
     "name": "stdout",
     "output_type": "stream",
     "text": [
      "#################### Answer ###########################\n",
      "1\n",
      "#################### Question ###########################\n",
      "DNSSEC의 주요 기능으로 올바른 것은?\n",
      "1 DNS 데이터를 암호화하여 전송한다.\n",
      "2 DNS 서버의 물리적 보안을 강화한다.\n",
      "3 DNS 트래픽을 모두 차단한다.\n",
      "4 DNS 데이터의 위조 및 변조를 방지한다.\n"
     ]
    },
    {
     "name": "stderr",
     "output_type": "stream",
     "text": [
      "Inference:  21%|██        | 106/515 [14:47<1:04:11,  9.42s/it]"
     ]
    },
    {
     "name": "stdout",
     "output_type": "stream",
     "text": [
      "#################### Answer ###########################\n",
      "4\n",
      "#################### Question ###########################\n",
      "메일 보안에서 SMTP 프로토콜의 역할로 가장 적절한 것은?\n",
      "1 메일 수신자의 메일함 관리\n",
      "2 메일 서버 간의 메일 전송 제어\n",
      "3 메일 전송 경로의 암호화\n",
      "4 메일 전송 및 수신을 위한 사용자 인증\n"
     ]
    },
    {
     "name": "stderr",
     "output_type": "stream",
     "text": [
      "Inference:  21%|██        | 107/515 [14:48<46:12,  6.79s/it]  "
     ]
    },
    {
     "name": "stdout",
     "output_type": "stream",
     "text": [
      "#################### Answer ###########################\n",
      "2\n",
      "#################### Question ###########################\n",
      "외부자 현황 관리에서 외부자 보안 이행 관리의 주요 목적은 무엇인가?\n",
      "1 외부자의 계약 조건 변경\n",
      "2 외부자의 보안 요구사항 준수 여부 확인\n",
      "3 외부자의 보안 위반 시 조치 강화\n",
      "4 외부자의 접근 권한 확대\n",
      "5 외부자의 업무 효율성 증대\n"
     ]
    },
    {
     "name": "stderr",
     "output_type": "stream",
     "text": [
      "Inference:  21%|██        | 108/515 [14:49<33:39,  4.96s/it]"
     ]
    },
    {
     "name": "stdout",
     "output_type": "stream",
     "text": [
      "#################### Answer ###########################\n",
      "2\n",
      "#################### Question ###########################\n",
      "정보통신망법 제44조에 따르면, 정보통신서비스 제공자가 해야 할 일로 옳은 것은?\n",
      "1 사생활 침해 정보를 적극적으로 유통시킨다.\n",
      "2 타인의 권리를 침해하는 정보가 유통되지 않도록 노력한다.\n",
      "3 타인의 권리를 침해하는 정보를 방치한다.\n",
      "4 정보통신망에 유통되는 정보를 모니터링하지 않는다.\n",
      "5 정보통신망 이용 기록을 무단으로 외부에 공개한다.\n"
     ]
    },
    {
     "name": "stderr",
     "output_type": "stream",
     "text": [
      "Inference:  21%|██        | 109/515 [15:13<1:12:24, 10.70s/it]"
     ]
    },
    {
     "name": "stdout",
     "output_type": "stream",
     "text": [
      "#################### Answer ###########################\n",
      "2\n",
      "#################### Question ###########################\n",
      "전자서명법 제17조에 따른 시정명령을 정당한 사유 없이 이행하지 않은 경우 부과되는 과태료의 최대 금액은?\n",
      "1 2,000만원\n",
      "2 500만원\n",
      "3 1,000만원\n",
      "4 3,000만원\n"
     ]
    },
    {
     "name": "stderr",
     "output_type": "stream",
     "text": [
      "Inference:  21%|██▏       | 110/515 [15:15<54:55,  8.14s/it]  "
     ]
    },
    {
     "name": "stdout",
     "output_type": "stream",
     "text": [
      "#################### Answer ###########################\n",
      "4\n",
      "#################### Question ###########################\n",
      "클라우드 마이그레이션의 주요 장점으로 옳지 않은 것은?\n",
      "1 데이터 보안 강화\n",
      "2 초기 비용 절감\n",
      "3 IT 인프라의 유연성 증가\n",
      "4 유지보수 비용 절감\n"
     ]
    },
    {
     "name": "stderr",
     "output_type": "stream",
     "text": [
      "Inference:  22%|██▏       | 111/515 [15:15<39:33,  5.87s/it]"
     ]
    },
    {
     "name": "stdout",
     "output_type": "stream",
     "text": [
      "#################### Answer ###########################\n",
      "4\n",
      "#################### Question ###########################\n",
      "신용정보법 제12조에 의하면, 신용정보회사와 유사한 업무를 수행할 수 있도록 다른 법령에서 허용한 경우, 사용할 수 있는 명칭은 무엇인가?\n",
      "1 마이데이터\n",
      "2 신용관리\n",
      "3 신용정보중개\n",
      "4 신용평가\n",
      "5 신용조사\n"
     ]
    },
    {
     "name": "stderr",
     "output_type": "stream",
     "text": [
      "Inference:  22%|██▏       | 112/515 [15:16<28:49,  4.29s/it]"
     ]
    },
    {
     "name": "stdout",
     "output_type": "stream",
     "text": [
      "#################### Answer ###########################\n",
      "3\n",
      "#################### Question ###########################\n",
      "다음 중 직접금융시장에 해당하는 금융상품은?\n",
      "1 보험\n",
      "2 예금\n",
      "3 대출\n",
      "4 채권\n"
     ]
    },
    {
     "name": "stderr",
     "output_type": "stream",
     "text": [
      "Inference:  22%|██▏       | 113/515 [15:17<21:17,  3.18s/it]"
     ]
    },
    {
     "name": "stdout",
     "output_type": "stream",
     "text": [
      "#################### Answer ###########################\n",
      "4\n",
      "#################### Question ###########################\n",
      "금융위원회가 신용정보 관련 산업의 육성 계획을 추진하기 위해 요청할 수 있는 대상은?\n",
      "1 일반 국민\n",
      "2 금융기관\n",
      "3 관계 행정기관의 장\n",
      "4 신용정보 제공업체\n",
      "5 신용정보집중기관\n"
     ]
    },
    {
     "name": "stderr",
     "output_type": "stream",
     "text": [
      "Inference:  22%|██▏       | 114/515 [15:19<20:02,  3.00s/it]"
     ]
    },
    {
     "name": "stdout",
     "output_type": "stream",
     "text": [
      "#################### Answer ###########################\n",
      "4\n",
      "#################### Question ###########################\n",
      "정보보호 관리체계 인증의 유효기간은 몇 년인가?\n",
      "1 3년\n",
      "2 5년\n",
      "3 1년\n",
      "4 2년\n"
     ]
    },
    {
     "name": "stderr",
     "output_type": "stream",
     "text": [
      "Inference:  22%|██▏       | 115/515 [15:21<17:52,  2.68s/it]"
     ]
    },
    {
     "name": "stdout",
     "output_type": "stream",
     "text": [
      "#################### Answer ###########################\n",
      "4\n",
      "#################### Question ###########################\n",
      "전자금융데이터 보안을 위해 금융회사가 적용해야 할 암호화 방식으로 적절한 것은?\n",
      "1 파일 암호화\n",
      "2 방화벽 기반 암호화\n",
      "3 블록체인 암호화\n",
      "4 무선통신망 암호화\n",
      "5 다크웹 암호화\n"
     ]
    },
    {
     "name": "stderr",
     "output_type": "stream",
     "text": [
      "Inference:  23%|██▎       | 116/515 [15:22<13:42,  2.06s/it]"
     ]
    },
    {
     "name": "stdout",
     "output_type": "stream",
     "text": [
      "#################### Answer ###########################\n",
      "3\n",
      "#################### Question ###########################\n",
      "전자금융거래 보안에서 보안관리 통제의 주요 목적은 무엇인가?\n",
      "1 전자금융시스템의 보안취약점 노출 방지\n",
      "2 전자금융거래의 비용 절감\n",
      "3 전자금융서비스의 사용자 편의성 증대\n",
      "4 전자금융거래의 속도 향상\n"
     ]
    },
    {
     "name": "stderr",
     "output_type": "stream",
     "text": [
      "Inference:  23%|██▎       | 117/515 [15:22<10:55,  1.65s/it]"
     ]
    },
    {
     "name": "stdout",
     "output_type": "stream",
     "text": [
      "#################### Answer ###########################\n",
      "1\n",
      "#################### Question ###########################\n",
      "전자채권의 양도가 「민법」 제450조제1항의 규정에 따른 대항요건을 갖추기 위해 필요한 조건으로 옳은 것은?\n",
      "1 양도인의 채권양도의 통지 또는 채무자의 승낙이 구두로 이루어질 것\n",
      "2 양도인의 채권양도의 통지 또는 채무자의 승낙이 이메일로 이루어질 것\n",
      "3 양도인의 채권양도의 통지 또는 채무자의 승낙이 인증서 없이 전자문서로 이루어질 것\n",
      "4 양도인의 채권양도의 통지 또는 채무자의 승낙이 서면으로 이루어질 것\n",
      "5 양도인의 채권양도의 통지 또는 채무자의 승낙이 전자서명된 전자문서로 이루어질 것\n"
     ]
    },
    {
     "name": "stderr",
     "output_type": "stream",
     "text": [
      "Inference:  23%|██▎       | 118/515 [15:23<09:32,  1.44s/it]"
     ]
    },
    {
     "name": "stdout",
     "output_type": "stream",
     "text": [
      "#################### Answer ###########################\n",
      "5\n",
      "#################### Question ###########################\n",
      "정보보호시스템의 기본 기능에 해당하지 않는 것은?\n",
      "1 인증\n",
      "2 인가\n",
      "3 시스템 성능 모니터링\n",
      "4 백업 및 복원\n",
      "5 데이터 압축\n"
     ]
    },
    {
     "name": "stderr",
     "output_type": "stream",
     "text": [
      "Inference:  23%|██▎       | 119/515 [15:27<14:10,  2.15s/it]"
     ]
    },
    {
     "name": "stdout",
     "output_type": "stream",
     "text": [
      "#################### Answer ###########################\n",
      "3\n",
      "#################### Question ###########################\n",
      "어플리케이션 보안 취약점 대응 기술 중 XSS(Cross-Site Scripting) 공격을 방어하기 위한 방법으로 가장 적절한 것은?\n",
      "1 네트워크 방화벽 설정 강화\n",
      "2 입력값 검증 및 출력값 인코딩\n",
      "3 사용자 인증 강화\n",
      "4 데이터베이스 암호화\n"
     ]
    },
    {
     "name": "stderr",
     "output_type": "stream",
     "text": [
      "Inference:  23%|██▎       | 120/515 [15:28<11:14,  1.71s/it]"
     ]
    },
    {
     "name": "stdout",
     "output_type": "stream",
     "text": [
      "#################### Answer ###########################\n",
      "2\n",
      "#################### Question ###########################\n",
      "정보통신망 응용서비스의 개발 촉진을 위해 정부가 지원할 수 있는 사항으로 옳은 것은?\n",
      "1 정보통신망의 안전성 및 신뢰성 제고\n",
      "2 정보통신망 응용서비스의 개발에 필요한 기술인력 양성\n",
      "3 정보통신망의 표준화\n",
      "4 정보통신망에서의 청소년 보호\n",
      "5 정보통신망 응용서비스 이용자의 금융거래 내역 자동 공개\n"
     ]
    },
    {
     "name": "stderr",
     "output_type": "stream",
     "text": [
      "Inference:  23%|██▎       | 121/515 [15:29<09:17,  1.41s/it]"
     ]
    },
    {
     "name": "stdout",
     "output_type": "stream",
     "text": [
      "#################### Answer ###########################\n",
      "2\n",
      "#################### Question ###########################\n",
      "정보통신망법 제44조의6에 따르면, 특정 이용자의 정보 제공 청구를 할 수 있는 경우는 무엇인가?\n",
      "1 정보통신서비스 제공자가 정보를 삭제한 경우\n",
      "2 이용자의 접근권한이 일시적으로 제한된 경우\n",
      "3 사생활 침해 또는 명예훼손 등 권리를 침해당한 경우\n",
      "4 이용자가 정보 제공을 거부한 경우\n",
      "5 이용자의 동의 없이 정보를 수집한 경우\n"
     ]
    },
    {
     "name": "stderr",
     "output_type": "stream",
     "text": [
      "Inference:  24%|██▎       | 122/515 [16:51<2:48:08, 25.67s/it]"
     ]
    },
    {
     "name": "stdout",
     "output_type": "stream",
     "text": [
      "#################### Answer ###########################\n",
      "44\n",
      "#################### Question ###########################\n",
      "선불전자지급수단의 환급과 관련하여 금융회사 또는 전자금융업자가 잔액의 전부를 지급한다는 내용을 약관에 포함시켜야 하는 경우는?\n",
      "1 이용자가 미리 직접 대가를 지불하지 않은 경우\n",
      "2 선불전자지급수단의 발행잔액이 일정비율 이상인 경우\n",
      "3 선불전자지급수단의 결함으로 가맹점이 재화 또는 용역을 제공하지 못하는 경우\n",
      "4 선불전자지급수단의 이용 내역이 1년간 미사용된 경우\n",
      "5 가맹점의 사업주가 동일한 경우에만 사용되는 경우\n"
     ]
    },
    {
     "name": "stderr",
     "output_type": "stream",
     "text": [
      "Inference:  24%|██▍       | 123/515 [16:54<2:03:16, 18.87s/it]"
     ]
    },
    {
     "name": "stdout",
     "output_type": "stream",
     "text": [
      "#################### Answer ###########################\n",
      "1\n",
      "#################### Question ###########################\n",
      "전자금융거래법 제13조에 따르면, 전자자금이체의 지급 효력이 발생하는 시점은 언제인가?\n",
      "1 전자자금이체가 승인된 때\n",
      "2 전자자금이체가 완료된 때\n",
      "3 전자자금이체 결과가 이용자에게 통지된 때\n",
      "4 전자자금이체 명령이 발신된 때\n",
      "5 원장에 입금기록이 끝난 때\n"
     ]
    },
    {
     "name": "stderr",
     "output_type": "stream",
     "text": [
      "Inference:  24%|██▍       | 124/515 [16:55<1:27:25, 13.42s/it]"
     ]
    },
    {
     "name": "stdout",
     "output_type": "stream",
     "text": [
      "#################### Answer ###########################\n",
      "3\n",
      "#################### Question ###########################\n",
      "정보보호 사전점검의 절차 중 첫 번째 단계는 무엇인가?\n",
      "1 보호대책 구현현황 점검\n",
      "2 보호대책 적용\n",
      "3 사전점검 준비\n",
      "4 설계 검토\n"
     ]
    },
    {
     "name": "stderr",
     "output_type": "stream",
     "text": [
      "Inference:  24%|██▍       | 125/515 [16:57<1:06:15, 10.19s/it]"
     ]
    },
    {
     "name": "stdout",
     "output_type": "stream",
     "text": [
      "#################### Answer ###########################\n",
      "4\n",
      "#################### Question ###########################\n",
      "전자지급수단의 발행권면 최고한도가 300만원인 경우는?\n",
      "1 외국인관광객이 국내에서 사용하기 위해 발행하는 경우\n",
      "2 실지명의로 발행하는 경우\n",
      "3 전자자금이체의 이용한도\n",
      "4 재난에 대응하여 국가가 지원금을 지급하기 위해 발행하는 경우\n"
     ]
    },
    {
     "name": "stderr",
     "output_type": "stream",
     "text": [
      "Inference:  24%|██▍       | 126/515 [17:24<1:39:06, 15.29s/it]"
     ]
    },
    {
     "name": "stdout",
     "output_type": "stream",
     "text": [
      "#################### Answer ###########################\n",
      "30\n",
      "#################### Question ###########################\n",
      "정보보호의 3대 요소에 해당하는 보안 목표를 3가지 기술하세요.\n"
     ]
    },
    {
     "name": "stderr",
     "output_type": "stream",
     "text": [
      "Inference:  25%|██▍       | 127/515 [17:33<1:25:33, 13.23s/it]"
     ]
    },
    {
     "name": "stdout",
     "output_type": "stream",
     "text": [
      "#################### Answer ###########################\n",
      "정보보호의 3대 요소에 해당하는 보안 목표는 기밀성, 무결성, 가용성입니다.\n",
      "#################### Question ###########################\n",
      "다음 중 Linux 운영체제에서 파일 권한 설정을 확인하는 명령어는 무엇인가?\n",
      "1 netstat -an\n",
      "2 chown\n",
      "3 ps -aux\n",
      "4 chmod\n",
      "5 ls -l\n"
     ]
    },
    {
     "name": "stderr",
     "output_type": "stream",
     "text": [
      "Inference:  25%|██▍       | 128/515 [17:33<1:00:52,  9.44s/it]"
     ]
    },
    {
     "name": "stdout",
     "output_type": "stream",
     "text": [
      "#################### Answer ###########################\n",
      "5\n",
      "#################### Question ###########################\n",
      "정보통신망법 제50조에 따르면, 영리목적의 광고성 정보를 전송할 때 필요한 조치로 옳은 것은?\n",
      "1 광고성 정보는 반드시 우편으로만 전송해야 한다.\n",
      "2 수신자가 수신을 원하지 않을 경우 전송을 중단해야 한다.\n",
      "3 광고성 정보 전송을 타인에게 위탁할 수 없다.\n",
      "4 수신자의 사전 동의 없이 전송 가능하다.\n"
     ]
    },
    {
     "name": "stderr",
     "output_type": "stream",
     "text": [
      "Inference:  25%|██▌       | 129/515 [17:34<43:51,  6.82s/it]  "
     ]
    },
    {
     "name": "stdout",
     "output_type": "stream",
     "text": [
      "#################### Answer ###########################\n",
      "2\n",
      "#################### Question ###########################\n",
      "정보보호 취약점 신고자에 대한 포상금 지급 기준에 포함되지 않는 것은?\n",
      "1 신고자의 나이\n",
      "2 침해사고의 범위\n",
      "3 취약점의 악용 용이성\n",
      "4 침해사고의 정도\n"
     ]
    },
    {
     "name": "stderr",
     "output_type": "stream",
     "text": [
      "Inference:  25%|██▌       | 130/515 [17:37<36:30,  5.69s/it]"
     ]
    },
    {
     "name": "stdout",
     "output_type": "stream",
     "text": [
      "#################### Answer ###########################\n",
      "1\n",
      "#################### Question ###########################\n",
      "보호구역 내 작업 절차에 대한 설명으로 가장 적절한 것은?\n",
      "1 작업 기록을 작성하지 않아도 된다.\n",
      "2 보호구역 내 작업은 사전 위험 평가 없이도 즉시 진행할 수 있다.\n",
      "3 작업 절차를 수립하고 작업 기록을 주기적으로 검토해야 한다.\n",
      "4 작업 신청 및 승인 절차 없이 자유롭게 작업을 수행할 수 있다.\n",
      "5 보호구역 내 작업은 비인가자도 수행할 수 있다.\n"
     ]
    },
    {
     "name": "stderr",
     "output_type": "stream",
     "text": [
      "Inference:  25%|██▌       | 131/515 [17:47<44:18,  6.92s/it]"
     ]
    },
    {
     "name": "stdout",
     "output_type": "stream",
     "text": [
      "#################### Answer ###########################\n",
      "3\n",
      "#################### Question ###########################\n",
      "금융회사가 정보보호 예산을 관리할 때, 전자금융감독규정상 정보기술부문 인력 및 예산의 기준 비율은 얼마인가요?\n"
     ]
    },
    {
     "name": "stderr",
     "output_type": "stream",
     "text": [
      "Inference:  26%|██▌       | 132/515 [18:34<2:01:09, 18.98s/it]"
     ]
    },
    {
     "name": "stdout",
     "output_type": "stream",
     "text": [
      "#################### Answer ###########################\n",
      "전자금융감독규정에 따르면, 금융회사는 정보보호 예산을 관리할 때, 정보기술부문 인력 및 예산의 기준 비율을 충족해야 합니다. 이 기준 비율은 회사의 규모와 복잡성에 따라 다를 수 있으며, 일반적으로는 정보보호 예산의 일정 비율을 정보기술부문에 할당하는 것을 포함할 수 있습니다. 구체적인 비율은 해당 금융회사의 정책과 규정을 참조해야 합니다.\n",
      "#################### Question ###########################\n",
      "정보통신망법 제47조의4에 따라 주요정보통신서비스 제공자가 정보통신망에 중대한 침해사고가 발생할 경우 취할 수 있는 조치는?\n",
      "1 이용자에게 보호조치를 요청한다.\n",
      "2 이용자의 정보를 삭제한다.\n",
      "3 이용자의 정보를 공개한다.\n",
      "4 이용자의 계정을 영구적으로 정지한다.\n"
     ]
    },
    {
     "name": "stderr",
     "output_type": "stream",
     "text": [
      "Inference:  26%|██▌       | 133/515 [18:48<1:51:24, 17.50s/it]"
     ]
    },
    {
     "name": "stdout",
     "output_type": "stream",
     "text": [
      "#################### Answer ###########################\n",
      "4\n",
      "#################### Question ###########################\n",
      "전자화폐보유자가 재화를 구입하고 그 대금을 전자화폐로 지급한 경우, 그 대금의 지급에 관한 채무는 어떻게 되는가?\n",
      "1 추후 전자화폐의 무효가 확인되면 변제 효력이 소급하여 소멸한다.\n",
      "2 변제된 것으로 본다.\n",
      "3 변제 여부는 수취인에 따라 다르다.\n",
      "4 일부만 변제된 것으로 본다.\n",
      "5 변제되지 않는다.\n"
     ]
    },
    {
     "name": "stderr",
     "output_type": "stream",
     "text": [
      "Inference:  26%|██▌       | 134/515 [18:49<1:19:06, 12.46s/it]"
     ]
    },
    {
     "name": "stdout",
     "output_type": "stream",
     "text": [
      "#################### Answer ###########################\n",
      "2\n",
      "#################### Question ###########################\n",
      "다음 중 하이브리드 위협의 사례로 적절하지 않은 것은?\n",
      "1 단순한 네트워크 트래픽 증가로 인한 서비스 지연\n",
      "2 데이터센터 화재로 인한 서비스 중단과 피싱 공격\n",
      "3 공격자가 직접 회사에 고용되어 공격 시도\n",
      "4 코로나19 방역 증명서 발급을 악용한 악성코드 설치 유도\n"
     ]
    },
    {
     "name": "stderr",
     "output_type": "stream",
     "text": [
      "Inference:  26%|██▌       | 135/515 [18:57<1:10:21, 11.11s/it]"
     ]
    },
    {
     "name": "stdout",
     "output_type": "stream",
     "text": [
      "#################### Answer ###########################\n",
      "1\n",
      "#################### Question ###########################\n",
      "중앙행정기관의 장이 매년 개인정보 보호를 위한 시행계획을 작성하여 제출해야 하는 기관은 어디인가?\n",
      "1 중앙선거관리위원회\n",
      "2 보호위원회\n",
      "3 국회\n",
      "4 헌법재판소\n"
     ]
    },
    {
     "name": "stderr",
     "output_type": "stream",
     "text": [
      "Inference:  26%|██▋       | 136/515 [19:02<58:32,  9.27s/it]  "
     ]
    },
    {
     "name": "stdout",
     "output_type": "stream",
     "text": [
      "#################### Answer ###########################\n",
      "2\n",
      "#################### Question ###########################\n",
      "다음 중 개인신용정보를 이용할 수 있는 경우에 해당하지 않는 것은?\n",
      "1 대통령령으로 정하는 경우\n",
      "2 신용정보주체의 동의를 받은 경우\n",
      "3 상품과 서비스를 소개하거나 구매를 권유할 목적으로 이용하는 경우\n",
      "4 신용정보주체가 직접 제공한 정보를 제공받은 목적으로 이용하는 경우\n"
     ]
    },
    {
     "name": "stderr",
     "output_type": "stream",
     "text": [
      "Inference:  27%|██▋       | 137/515 [19:25<1:24:58, 13.49s/it]"
     ]
    },
    {
     "name": "stdout",
     "output_type": "stream",
     "text": [
      "#################### Answer ###########################\n",
      "3\n",
      "#################### Question ###########################\n",
      "인터넷 응용 보안에서 웹 애플리케이션의 보안 취약점 중 하나로, 사용자 입력을 통해 악성 스크립트를 실행하는 공격은 무엇인가?\n",
      "1 버퍼 오버플로우\n",
      "2 SQL 인젝션\n",
      "3 세션 하이재킹\n",
      "4 크로스 사이트 스크립팅(XSS)\n"
     ]
    },
    {
     "name": "stderr",
     "output_type": "stream",
     "text": [
      "Inference:  27%|██▋       | 138/515 [19:26<1:00:29,  9.63s/it]"
     ]
    },
    {
     "name": "stdout",
     "output_type": "stream",
     "text": [
      "#################### Answer ###########################\n",
      "4\n",
      "#################### Question ###########################\n",
      "개인정보보호법 제69조에 따르면 보호위원회 또는 관계 중앙행정기관의 장의 권한을 위탁한 업무에 종사하는 관계 기관의 임직원은 어떤 경우에 공무원으로 간주되는가?\n",
      "1 형법 제129조부터 제132조까지의 규정을 적용할 때\n",
      "2 보호위원회의 내부 규정을 위반할 때\n",
      "3 보호위원회의 내부 회의에 참석할 때\n",
      "4 보호위원회의 예산을 집행할 때\n"
     ]
    },
    {
     "name": "stderr",
     "output_type": "stream",
     "text": [
      "Inference:  27%|██▋       | 139/515 [19:46<1:19:32, 12.69s/it]"
     ]
    },
    {
     "name": "stdout",
     "output_type": "stream",
     "text": [
      "#################### Answer ###########################\n",
      "1\n",
      "#################### Question ###########################\n",
      "전자서명인증사업자가 운영기준 준수사실을 표시할 수 있는 조건은 무엇인가?\n",
      "1 과학기술정보통신부령에 따라 운영기준 준수사실의 인정을 받은 경우\n",
      "2 전자서명인증사업자협회로부터 운영기준 준수 확인서를 발급받은 경우\n",
      "3 운영기준 준수사실의 인정을 받지 않고도 표시할 수 있다\n",
      "4 유효기간이 도과된 경우\n",
      "5 운영기준 준수사실의 인정을 받지 않은 경우\n"
     ]
    },
    {
     "name": "stderr",
     "output_type": "stream",
     "text": [
      "Inference:  27%|██▋       | 140/515 [20:14<1:49:43, 17.56s/it]"
     ]
    },
    {
     "name": "stdout",
     "output_type": "stream",
     "text": [
      "#################### Answer ###########################\n",
      "1\n",
      "#################### Question ###########################\n",
      "전자서명법 제26조에 따르면, 제13조 제1항을 위반하여 운영기준 준수사실을 표시한 자에게 부과되는 과태료의 최대 금액은 얼마인가?\n",
      "1 500만원\n",
      "2 1,000만원\n",
      "3 250만원\n",
      "4 350만원\n"
     ]
    },
    {
     "name": "stderr",
     "output_type": "stream",
     "text": [
      "Inference:  27%|██▋       | 141/515 [20:19<1:25:10, 13.66s/it]"
     ]
    },
    {
     "name": "stdout",
     "output_type": "stream",
     "text": [
      "#################### Answer ###########################\n",
      "3\n",
      "#################### Question ###########################\n",
      "정보통신망법 제44조의5에 의거하여 본인 확인 조치를 한 공공기관이 이용자의 명의가 제3자에 의해 부정 사용된 경우, 어떤 책임을 줄이거나 면제받을 수 있는가?\n",
      "1 손해 배상 책임\n",
      "2 민사 책임\n",
      "3 정보보호 관리체계 인증 책임\n",
      "4 형사 책임\n",
      "5 행정 책임\n"
     ]
    },
    {
     "name": "stderr",
     "output_type": "stream",
     "text": [
      "Inference:  28%|██▊       | 142/515 [21:34<3:19:28, 32.09s/it]"
     ]
    },
    {
     "name": "stdout",
     "output_type": "stream",
     "text": [
      "#################### Answer ###########################\n",
      "44\n",
      "#################### Question ###########################\n",
      "전자서명인증사업자가 전자문서의 시점을 확인할 때 필요한 조건은?\n",
      "1 전자문서의 내용 확인\n",
      "2 전자문서의 발송자 확인\n",
      "3 가입자 또는 이용자의 요청\n",
      "4 전자문서의 수신자 확인\n"
     ]
    },
    {
     "name": "stderr",
     "output_type": "stream",
     "text": [
      "Inference:  28%|██▊       | 143/515 [21:38<2:26:45, 23.67s/it]"
     ]
    },
    {
     "name": "stdout",
     "output_type": "stream",
     "text": [
      "#################### Answer ###########################\n",
      "4\n",
      "#################### Question ###########################\n",
      "개인신용평점 하락 가능성에 대한 설명의무와 관련하여, 다음 중 대통령령으로 정하는 사항에 해당하지 않는 것은?\n",
      "1 평균적으로 연체율이 높은 금융권역의 신용공여가 은행 등 다른 금융권역의 신용공여보다 신용점수가 더 큰 폭으로 하락할 수 있다는 사실\n",
      "2 개인신용평점 하락 시 금융기관의 대출 금리가 인상될 수 있다는 사실\n",
      "3 개인신용평점 하락 시 불이익 발생 가능성이 있는 금융거래 종류\n",
      "4 평균적으로 연체율이 높은 형태의 신용공여가 일반적인 신용공여보다 신용점수가 더 큰 폭으로 하락할 수 있다는 사실\n"
     ]
    },
    {
     "name": "stderr",
     "output_type": "stream",
     "text": [
      "Inference:  28%|██▊       | 144/515 [21:39<1:44:16, 16.86s/it]"
     ]
    },
    {
     "name": "stdout",
     "output_type": "stream",
     "text": [
      "#################### Answer ###########################\n",
      "4\n",
      "#################### Question ###########################\n",
      "스니핑 공격을 방지하기 위한 기술로 가장 적절한 것은?\n",
      "1 패스워드 정책 강화\n",
      "2 NAT 설정\n",
      "3 VPN 사용\n",
      "4 방화벽 설정\n",
      "5 IDS/IPS 설정\n"
     ]
    },
    {
     "name": "stderr",
     "output_type": "stream",
     "text": [
      "Inference:  28%|██▊       | 145/515 [22:05<2:00:13, 19.49s/it]"
     ]
    },
    {
     "name": "stdout",
     "output_type": "stream",
     "text": [
      "#################### Answer ###########################\n",
      "5\n",
      "#################### Question ###########################\n",
      "금융시장의 구조에 대한 설명으로 가장 적절한 것은?\n",
      "1 금융시장은 오프라인 거래만을 지원한다.\n",
      "2 금융시장은 자금세탁 방지를 위해 모든 거래가 자동으로 차단된다.\n",
      "3 금융시장은 금융상품의 물리적 교환을 중시한다.\n",
      "4 금융시장은 주로 실물 자산을 거래하는 시장이다.\n",
      "5 금융시장은 경제활동의 촉매제 역할을 한다.\n"
     ]
    },
    {
     "name": "stderr",
     "output_type": "stream",
     "text": [
      "Inference:  28%|██▊       | 146/515 [22:05<1:25:17, 13.87s/it]"
     ]
    },
    {
     "name": "stdout",
     "output_type": "stream",
     "text": [
      "#################### Answer ###########################\n",
      "5\n",
      "#################### Question ###########################\n",
      "리눅스(유닉스) 서버 보안에서 시스템 설정 단계에서 적용할 수 있는 보호조치 방법으로 옳은 것은?\n",
      "1 모든 시스템 서비스를 구동 상태로 유지한다.\n",
      "2 부트 로더에 비밀번호를 설정하지 않는다.\n",
      "3 디스크 파티셔닝을 통해 사용자의 파일 시스템에 쿼터를 설정한다.\n",
      "4 모든 소프트웨어를 설치하여 업데이트 빈도를 높인다.\n",
      "5 루트 계정의 비밀번호를 공용으로 공유하여 접근성을 높인다.\n"
     ]
    },
    {
     "name": "stderr",
     "output_type": "stream",
     "text": [
      "Inference:  29%|██▊       | 147/515 [22:06<1:00:54,  9.93s/it]"
     ]
    },
    {
     "name": "stdout",
     "output_type": "stream",
     "text": [
      "#################### Answer ###########################\n",
      "3\n",
      "#################### Question ###########################\n",
      "다음 중 금융회사의 유형에 대한 설명으로 옳지 않은 것은?\n",
      "1 신용협동기구는 주로 대기업을 대상으로 금융서비스를 제공한다.\n",
      "2 특수은행은 특정 부문에 자금을 공급하기 위해 설립되었다.\n",
      "3 상호저축은행은 서민과 중소기업을 위한 예금 및 대출업무를 수행한다.\n",
      "4 보험회사는 예금자 보호를 위해 지급준비금을 법적으로 의무적으로 적립하지 않는다.\n",
      "5 일반은행은 예금업무와 대출업무를 수행한다.\n"
     ]
    },
    {
     "name": "stderr",
     "output_type": "stream",
     "text": [
      "Inference:  29%|██▊       | 148/515 [22:07<43:54,  7.18s/it]  "
     ]
    },
    {
     "name": "stdout",
     "output_type": "stream",
     "text": [
      "#################### Answer ###########################\n",
      "4\n",
      "#################### Question ###########################\n",
      "다음 중 전자화폐의 양도성에 대한 설명으로 옳지 않은 것은?\n",
      "1 전자화폐는 발행자와의 약정에 따라 타인에게 양도할 수 있다.\n",
      "2 전자화폐의 양도는 반드시 실명확인 절차를 거쳐야만 인정된다.\n",
      "3 양도 시 발행자의 중앙전산시스템을 경유해야 한다.\n",
      "4 전자화폐는 담보로 제공할 수 없다.\n",
      "5 실지명의가 확인되지 않는 경우에도 양도할 수 있다.\n"
     ]
    },
    {
     "name": "stderr",
     "output_type": "stream",
     "text": [
      "Inference:  29%|██▉       | 149/515 [22:08<32:00,  5.25s/it]"
     ]
    },
    {
     "name": "stdout",
     "output_type": "stream",
     "text": [
      "#################### Answer ###########################\n",
      "5\n",
      "#################### Question ###########################\n",
      "인터넷 응용 보안에서 메일 서버의 보안을 강화하기 위한 방법으로 적절하지 않은 것은?\n",
      "1 메일 서버 접근 통제\n",
      "2 메일 송수신 프로토콜 암호화\n",
      "3 스팸메일 릴레이 허용\n",
      "4 SMTP 보안 설정 강화\n"
     ]
    },
    {
     "name": "stderr",
     "output_type": "stream",
     "text": [
      "Inference:  29%|██▉       | 150/515 [22:08<23:34,  3.88s/it]"
     ]
    },
    {
     "name": "stdout",
     "output_type": "stream",
     "text": [
      "#################### Answer ###########################\n",
      "3\n",
      "#################### Question ###########################\n",
      "개인정보파일의 등록 및 공개에 관한 법 제32조에 따라, 공공기관의 장이 개인정보파일을 운용하기 시작한 날로부터 몇 일 이내에 보호위원회에 등록을 신청해야 하는가?\n",
      "1 180일\n",
      "2 60일\n",
      "3 30일\n",
      "4 90일\n",
      "5 120일\n"
     ]
    },
    {
     "name": "stderr",
     "output_type": "stream",
     "text": [
      "Inference:  29%|██▉       | 151/515 [22:12<23:32,  3.88s/it]"
     ]
    },
    {
     "name": "stdout",
     "output_type": "stream",
     "text": [
      "#################### Answer ###########################\n",
      "2\n",
      "#################### Question ###########################\n",
      "SW 개발 보안의 협의의 의미로 가장 적절한 것은?\n",
      "1 프로젝트 관리\n",
      "2 보안 정책 수립\n",
      "3 사용자 교육\n",
      "4 시큐어 코딩\n"
     ]
    },
    {
     "name": "stderr",
     "output_type": "stream",
     "text": [
      "Inference:  30%|██▉       | 152/515 [22:15<20:39,  3.41s/it]"
     ]
    },
    {
     "name": "stdout",
     "output_type": "stream",
     "text": [
      "#################### Answer ###########################\n",
      "4\n",
      "#################### Question ###########################\n",
      "전자금융거래에서 전자문서의 사용에 관한 설명으로 옳은 것은?\n",
      "1 전자문서는 「전자문서 및 전자거래 기본법」의 적용을 받지 않는다.\n",
      "2 전자문서는 모든 거래에서 동일한 것으로 간주된다.\n",
      "3 전자문서는 금융회사에 의해 일괄적으로 관리된다.\n",
      "4 전자문서는 전자금융거래계약에 따라 확인절차를 거칠 수 있다.\n",
      "5 전자문서는 전자서명 없이도 법적 효력이 자동으로 인정된다.\n"
     ]
    },
    {
     "name": "stderr",
     "output_type": "stream",
     "text": [
      "Inference:  30%|██▉       | 153/515 [22:15<15:46,  2.61s/it]"
     ]
    },
    {
     "name": "stdout",
     "output_type": "stream",
     "text": [
      "#################### Answer ###########################\n",
      "4\n",
      "#################### Question ###########################\n",
      "통신과금서비스제공자가 통신과금서비스와 관련하여 마련해야 하는 절차로 적절한 것은?\n",
      "1 통신과금서비스의 고객 만족도 조사 절차\n",
      "2 통신과금서비스 이용자의 이의신청 및 권리구제 절차\n",
      "3 통신과금서비스의 요금 할인 절차\n",
      "4 통신과금서비스의 신규 서비스 출시 절차\n"
     ]
    },
    {
     "name": "stderr",
     "output_type": "stream",
     "text": [
      "Inference:  30%|██▉       | 154/515 [22:16<12:15,  2.04s/it]"
     ]
    },
    {
     "name": "stdout",
     "output_type": "stream",
     "text": [
      "#################### Answer ###########################\n",
      "2\n",
      "#################### Question ###########################\n",
      "정보시스템 도입 및 개발 보안에서 운영환경 이관 시 고려해야 할 사항으로 가장 적절한 것은?\n",
      "1 운영환경 이관 시 사용자 계정 관리\n",
      "2 운영환경 이관 시 데이터 백업\n",
      "3 운영환경 이관 시 보안 요구사항 재정의\n",
      "4 운영환경과 시험환경의 물리적 분리\n"
     ]
    },
    {
     "name": "stderr",
     "output_type": "stream",
     "text": [
      "Inference:  30%|███       | 155/515 [22:17<09:47,  1.63s/it]"
     ]
    },
    {
     "name": "stdout",
     "output_type": "stream",
     "text": [
      "#################### Answer ###########################\n",
      "3\n",
      "#################### Question ###########################\n",
      "개인정보보호법 제39조에 따르면, 개인정보처리자가 개인정보의 분실, 도난, 유출, 위조, 변조 또는 훼손으로 인해 손해배상책임을 지게 되는 경우, 정보주체가 청구할 수 있는 손해배상액의 최대 한도는 얼마인가?\n",
      "1 100만원\n",
      "2 200만원\n",
      "3 400만원\n",
      "4 300만원\n"
     ]
    },
    {
     "name": "stderr",
     "output_type": "stream",
     "text": [
      "Inference:  30%|███       | 156/515 [22:22<15:53,  2.66s/it]"
     ]
    },
    {
     "name": "stdout",
     "output_type": "stream",
     "text": [
      "#################### Answer ###########################\n",
      "4\n",
      "#################### Question ###########################\n",
      "금융위원회가 예비허가를 결정할 때 확인해야 하는 사항으로 옳은 것은?\n",
      "1 신청인의 재정 상태\n",
      "2 신청인의 사업 계획\n",
      "3 본허가 요건 충족 여부\n",
      "4 신청인의 신용 등급\n"
     ]
    },
    {
     "name": "stderr",
     "output_type": "stream",
     "text": [
      "Inference:  30%|███       | 157/515 [22:24<14:20,  2.40s/it]"
     ]
    },
    {
     "name": "stdout",
     "output_type": "stream",
     "text": [
      "#################### Answer ###########################\n",
      "1\n",
      "#################### Question ###########################\n",
      "다음 중 정보보호 관리체계 인증기관의 업무에 해당하지 않는 것은?\n",
      "1 정보보호 관리체계 인증심사원의 양성\n",
      "2 정보보호 관리체계 인증의 유효기간 연장\n",
      "3 인증서 발급 및 관리\n",
      "4 인증 신청인의 정보보호 관리체계 심사\n"
     ]
    },
    {
     "name": "stderr",
     "output_type": "stream",
     "text": [
      "Inference:  31%|███       | 158/515 [22:29<20:02,  3.37s/it]"
     ]
    },
    {
     "name": "stdout",
     "output_type": "stream",
     "text": [
      "#################### Answer ###########################\n",
      "1\n",
      "#################### Question ###########################\n",
      "금융 감독기관의 주요 기능으로 옳지 않은 것은?\n",
      "1 금융기관의 설립 인가\n",
      "2 금융소비자 보호\n",
      "3 금융기관의 자산 운용 대행\n",
      "4 금융상품의 직접 판매\n",
      "5 금융기관의 검사 및 감독\n"
     ]
    },
    {
     "name": "stderr",
     "output_type": "stream",
     "text": [
      "Inference:  31%|███       | 159/515 [22:30<15:11,  2.56s/it]"
     ]
    },
    {
     "name": "stdout",
     "output_type": "stream",
     "text": [
      "#################### Answer ###########################\n",
      "4\n",
      "#################### Question ###########################\n",
      "집적된 정보통신시설의 보호와 관련하여 정보통신서비스 제공의 중단이 발생했을 때, 과학기술정보통신부장관에게 보고해야 하는 사항으로 옳지 않은 것은?\n",
      "1 정보통신서비스 제공의 중단이 발생한 일시 및 장소\n",
      "2 정보통신서비스 제공의 중단이 발생한 원인에 대한 법적 책임\n",
      "3 정보통신서비스 제공의 중단이 발생한 원인 및 피해내용\n",
      "4 응급조치 사항\n"
     ]
    },
    {
     "name": "stderr",
     "output_type": "stream",
     "text": [
      "Inference:  31%|███       | 160/515 [22:31<11:50,  2.00s/it]"
     ]
    },
    {
     "name": "stdout",
     "output_type": "stream",
     "text": [
      "#################### Answer ###########################\n",
      "2\n",
      "#################### Question ###########################\n",
      "개인정보 침해요인 평가 결과에 따라 조치한 내용 및 개선계획을 포함해야 하는 문서는 무엇인가?\n",
      "1 개인정보 보호정책\n",
      "2 개인정보 처리방침\n",
      "3 개인정보 영향평가서\n",
      "4 개인정보 처리시스템 운영기록\n",
      "5 개인정보 유출 통지서\n"
     ]
    },
    {
     "name": "stderr",
     "output_type": "stream",
     "text": [
      "Inference:  31%|███▏      | 161/515 [22:38<22:12,  3.76s/it]"
     ]
    },
    {
     "name": "stdout",
     "output_type": "stream",
     "text": [
      "#################### Answer ###########################\n",
      "3\n",
      "#################### Question ###########################\n",
      "다음 중 네트워크 도구 중 하나로, 네트워크 경로를 추적하는 데 사용되는 것은?\n",
      "1 traceroute\n",
      "2 netstat\n",
      "3 ping\n",
      "4 ifconfig\n",
      "5 arp\n"
     ]
    },
    {
     "name": "stderr",
     "output_type": "stream",
     "text": [
      "Inference:  31%|███▏      | 162/515 [22:40<18:30,  3.15s/it]"
     ]
    },
    {
     "name": "stdout",
     "output_type": "stream",
     "text": [
      "#################### Answer ###########################\n",
      "0\n",
      "#################### Question ###########################\n",
      "정보통신망법 제48조의5에 의거하여, 정보통신망연결기기등 관련 침해사고 발생 시 과학기술정보통신부장관이 할 수 있는 조치는?\n",
      "1 침해사고의 원인을 분석하고 필요한 조치를 권고한다.\n",
      "2 침해사고 발생 시 모든 데이터를 복구한다.\n",
      "3 침해사고 발생 시 모든 관련 기관에 경고를 발송한다.\n",
      "4 침해사고 발생 시 모든 정보통신망을 차단한다.\n"
     ]
    },
    {
     "name": "stderr",
     "output_type": "stream",
     "text": [
      "Inference:  32%|███▏      | 163/515 [22:41<14:12,  2.42s/it]"
     ]
    },
    {
     "name": "stdout",
     "output_type": "stream",
     "text": [
      "#################### Answer ###########################\n",
      "1\n",
      "#################### Question ###########################\n",
      "보험업권에서 제3보험상품에 해당하는 것은?\n",
      "1 상해보험\n",
      "2 생명보험\n",
      "3 연금보험\n",
      "4 손해보험\n"
     ]
    },
    {
     "name": "stderr",
     "output_type": "stream",
     "text": [
      "Inference:  32%|███▏      | 164/515 [22:41<10:57,  1.87s/it]"
     ]
    },
    {
     "name": "stdout",
     "output_type": "stream",
     "text": [
      "#################### Answer ###########################\n",
      "3\n",
      "#################### Question ###########################\n",
      "다음 중 보안 취약점에 의한 정보유출을 방지하기 위한 기술적 보안 대책은 무엇인가?\n",
      "1 보안 정책 수립\n",
      "2 접근 통제 강화\n",
      "3 내부 감사 실시\n",
      "4 보안 교육 강화\n",
      "5 위험 평가 보고서 작성\n"
     ]
    },
    {
     "name": "stderr",
     "output_type": "stream",
     "text": [
      "Inference:  32%|███▏      | 165/515 [22:42<08:43,  1.50s/it]"
     ]
    },
    {
     "name": "stdout",
     "output_type": "stream",
     "text": [
      "#################### Answer ###########################\n",
      "2\n",
      "#################### Question ###########################\n",
      "전자지급거래계약의 효력에 관한 설명으로 옳은 것은?\n",
      "1 금융회사는 전자지급거래를 위해 수취인에게 직접 자금을 지급해야 한다.\n",
      "2 지급인이 거래지시한 금액은 수취인의 금융회사에 전송되어야 한다.\n",
      "3 전자금융업자는 지급이 이루어지지 않을 경우 수취인에게 자금을 반환해야 한다.\n",
      "4 전자지급거래는 지급인의 과실로 인해 이루어지지 않을 경우에도 비용을 공제할 수 없다.\n",
      "5 전자지급거래계약이 체결되면 금융회사는 반드시 실시간으로 거래를 정산해야 한다.\n"
     ]
    },
    {
     "name": "stderr",
     "output_type": "stream",
     "text": [
      "Inference:  32%|███▏      | 166/515 [22:43<07:48,  1.34s/it]"
     ]
    },
    {
     "name": "stdout",
     "output_type": "stream",
     "text": [
      "#################### Answer ###########################\n",
      "2\n",
      "#################### Question ###########################\n",
      "개인정보보호법 제39조의3에 의거하여, 법원이 자료 제출 명령을 받은 자가 정당한 이유 없이 명령에 따르지 않을 경우 취할 수 있는 조치는?\n",
      "1 자료 제출 명령을 취소한다.\n",
      "2 자료의 기재에 대한 신청인의 주장을 진실한 것으로 인정할 수 있다.\n",
      "3 자료 제출 명령을 받은 자를 구속한다.\n",
      "4 자료 제출 명령을 받은 자에게 벌금을 부과한다.\n"
     ]
    },
    {
     "name": "stderr",
     "output_type": "stream",
     "text": [
      "Inference:  32%|███▏      | 167/515 [22:55<25:24,  4.38s/it]"
     ]
    },
    {
     "name": "stdout",
     "output_type": "stream",
     "text": [
      "#################### Answer ###########################\n",
      "1\n",
      "#################### Question ###########################\n",
      "다음 중 해외 정보보호 관리체계 인증 및 평가 제도에 해당하지 않는 것은?\n",
      "1 ISO/IEC 27701\n",
      "2 ISMS-P\n",
      "3 ISO/IEC 27001\n",
      "4 BS10012\n"
     ]
    },
    {
     "name": "stderr",
     "output_type": "stream",
     "text": [
      "Inference:  33%|███▎      | 168/515 [22:55<18:45,  3.24s/it]"
     ]
    },
    {
     "name": "stdout",
     "output_type": "stream",
     "text": [
      "#################### Answer ###########################\n",
      "4\n",
      "#################### Question ###########################\n",
      "다음 중 IT 인프라 보안의 주요 목표에 해당하지 않는 것은?\n",
      "1 정보 기밀성 보호\n",
      "2 데이터 무결성 보장\n",
      "3 사용자 편의성 증대\n",
      "4 업무 효율성 극대화\n",
      "5 시스템 가용성 유지\n"
     ]
    },
    {
     "name": "stderr",
     "output_type": "stream",
     "text": [
      "Inference:  33%|███▎      | 169/515 [22:56<14:09,  2.46s/it]"
     ]
    },
    {
     "name": "stdout",
     "output_type": "stream",
     "text": [
      "#################### Answer ###########################\n",
      "3\n",
      "#################### Question ###########################\n",
      "네트워크 공유의 동작 원리와 관련된 프로토콜이 아닌 것은?\n",
      "1 Netbios\n",
      "2 HTTPS\n",
      "3 SMTP\n",
      "4 Netbeui\n",
      "5 P2P\n"
     ]
    },
    {
     "name": "stderr",
     "output_type": "stream",
     "text": [
      "Inference:  33%|███▎      | 170/515 [22:58<13:08,  2.29s/it]"
     ]
    },
    {
     "name": "stdout",
     "output_type": "stream",
     "text": [
      "#################### Answer ###########################\n",
      "2\n",
      "#################### Question ###########################\n",
      "신용정보집중관리위원회의 운영에 관한 설명으로 옳지 않은 것은?\n",
      "1 위원회는 신용정보의 집중관리ㆍ활용에 필요한 사항을 결정한다.\n",
      "2 위원회는 금융위원회의 결정 사항을 변경할 수 있다.\n",
      "3 위원회의 구성 및 운영에 필요한 사항은 종합신용정보집중기관의 정관으로 정한다.\n",
      "4 위원회는 소위원회를 둘 수 있다.\n"
     ]
    },
    {
     "name": "stderr",
     "output_type": "stream",
     "text": [
      "Inference:  33%|███▎      | 171/515 [23:18<44:38,  7.78s/it]"
     ]
    },
    {
     "name": "stdout",
     "output_type": "stream",
     "text": [
      "#################### Answer ###########################\n",
      "2\n",
      "#################### Question ###########################\n",
      "전자서명법 제24조에 의하면, 인증서를 부정하게 행사할 목적으로 타인에게 양도 또는 대여한 자에 대한 처벌로 옳은 것은?\n",
      "1 2년 이하의 징역 또는 2천만원 이하의 벌금\n",
      "2 6개월 이하의 징역 또는 500만원 이하의 벌금\n",
      "3 1년 이하의 징역 또는 1천만원 이하의 벌금\n",
      "4 3년 이하의 징역 또는 3천만원 이하의 벌금\n"
     ]
    },
    {
     "name": "stderr",
     "output_type": "stream",
     "text": [
      "Inference:  33%|███▎      | 172/515 [23:19<32:24,  5.67s/it]"
     ]
    },
    {
     "name": "stdout",
     "output_type": "stream",
     "text": [
      "#################### Answer ###########################\n",
      "4\n",
      "#################### Question ###########################\n",
      "금융시장의 구조에서 직접금융시장과 간접금융시장의 차이점으로 옳은 것은?\n",
      "1 간접금융시장은 기업이 직접 투자자로부터 자금을 조달하는 구조를 가진다.\n",
      "2 직접금융시장은 금융기관을 통해 자금을 조달한다.\n",
      "3 간접금융시장은 주식 발행을 통해 자금을 조달한다.\n",
      "4 직접금융시장은 증권 발행을 통해 자금을 조달한다.\n",
      "5 간접금융시장은 투자자가 직접 자금을 공급한다.\n"
     ]
    },
    {
     "name": "stderr",
     "output_type": "stream",
     "text": [
      "Inference:  34%|███▎      | 173/515 [23:20<23:54,  4.19s/it]"
     ]
    },
    {
     "name": "stdout",
     "output_type": "stream",
     "text": [
      "#################### Answer ###########################\n",
      "5\n",
      "#################### Question ###########################\n",
      "개인정보보호법 제74조의2에 의거하여, 몰수할 수 없는 경우에 취할 수 있는 조치는 무엇인가?\n",
      "1 해당 금품을 신탁기관에 위탁\n",
      "2 해당 금품을 반환\n",
      "3 해당 금품의 가액을 추징\n",
      "4 해당 금품을 기부\n",
      "5 해당 금품을 보관\n"
     ]
    },
    {
     "name": "stderr",
     "output_type": "stream",
     "text": [
      "Inference:  34%|███▍      | 174/515 [23:21<19:35,  3.45s/it]"
     ]
    },
    {
     "name": "stdout",
     "output_type": "stream",
     "text": [
      "#################### Answer ###########################\n",
      "3\n",
      "#################### Question ###########################\n",
      "전자서명법 제23조에 따라 과학기술정보통신부장관이 위탁할 수 있는 업무는?\n",
      "1 전자서명 인증서 갱신\n",
      "2 전자서명 인증서 폐기\n",
      "3 전자서명 인증업무 운영기준 마련\n",
      "4 전자서명 인증서 발급\n"
     ]
    },
    {
     "name": "stderr",
     "output_type": "stream",
     "text": [
      "Inference:  34%|███▍      | 175/515 [23:22<14:43,  2.60s/it]"
     ]
    },
    {
     "name": "stdout",
     "output_type": "stream",
     "text": [
      "#################### Answer ###########################\n",
      "3\n",
      "#################### Question ###########################\n",
      "개인정보 보호위원회의 위원 구성에 대한 설명으로 옳은 것은?\n",
      "1 위원은 개인정보 보호와 관련된 경력이 없어도 된다.\n",
      "2 모든 위원은 국회의 추천을 받아 임명된다.\n",
      "3 위원은 총 9명으로 구성되며, 상임위원은 2명이다.\n",
      "4 위원장은 대통령이 직접 임명한다.\n"
     ]
    },
    {
     "name": "stderr",
     "output_type": "stream",
     "text": [
      "Inference:  34%|███▍      | 176/515 [23:40<40:49,  7.23s/it]"
     ]
    },
    {
     "name": "stdout",
     "output_type": "stream",
     "text": [
      "#################### Answer ###########################\n",
      "3\n",
      "#################### Question ###########################\n",
      "다음 중 개인정보보호법 '제23조 민감정보의 처리 제한'에 따라 민감정보를 처리할 수 있는 경우는?\n",
      "1 정보주체의 동의 없이 처리하는 경우\n",
      "2 법령에서 민감정보의 처리를 요구하거나 허용하는 경우\n",
      "3 정보주체의 사생활을 현저히 침해할 우려가 있는 경우\n",
      "4 개인정보처리자가 민감정보의 안전성 확보 조치를 하지 않은 경우\n"
     ]
    },
    {
     "name": "stderr",
     "output_type": "stream",
     "text": [
      "Inference:  34%|███▍      | 177/515 [24:01<1:03:14, 11.23s/it]"
     ]
    },
    {
     "name": "stdout",
     "output_type": "stream",
     "text": [
      "#################### Answer ###########################\n",
      "2\n",
      "#################### Question ###########################\n",
      "전자금융거래법 제7조에 따라 거래내용의 대상기간은 무엇에 따라 결정되는가?\n",
      "1 전자금융거래의 금액\n",
      "2 전자금융거래기록의 보존기간\n",
      "3 전자금융거래의 종류\n",
      "4 전자금융이용자의 인증수단 종류\n",
      "5 전자금융거래의 상대방 정보\n"
     ]
    },
    {
     "name": "stderr",
     "output_type": "stream",
     "text": [
      "Inference:  35%|███▍      | 178/515 [24:01<45:18,  8.07s/it]  "
     ]
    },
    {
     "name": "stdout",
     "output_type": "stream",
     "text": [
      "#################### Answer ###########################\n",
      "3\n",
      "#################### Question ###########################\n",
      "전자서명법 제17조에 따른 시정명령을 위반한 경우, 과태료 부과 주체는 누구인가?\n",
      "1 경찰청장\n",
      "2 과학기술정보통신부장관\n",
      "3 금융위원회\n",
      "4 법무부장관\n"
     ]
    },
    {
     "name": "stderr",
     "output_type": "stream",
     "text": [
      "Inference:  35%|███▍      | 179/515 [24:05<37:10,  6.64s/it]"
     ]
    },
    {
     "name": "stdout",
     "output_type": "stream",
     "text": [
      "#################### Answer ###########################\n",
      "2\n",
      "#################### Question ###########################\n",
      "개인신용정보 제공 동의 철회권 행사 시 신용정보제공ㆍ이용자의 의무로 옳은 것은?\n",
      "1 철회 요청을 받은 즉시 서면으로만 고지해야 한다.\n",
      "2 철회 요청을 받은 날로부터 1개월 이내에 조치를 완료해야 한다.\n",
      "3 철회 요청을 받은 즉시 구두로만 고지해야 한다.\n",
      "4 철회 요청을 받은 즉시 모든 정보를 삭제해야 한다.\n"
     ]
    },
    {
     "name": "stderr",
     "output_type": "stream",
     "text": [
      "Inference:  35%|███▍      | 180/515 [24:30<1:08:29, 12.27s/it]"
     ]
    },
    {
     "name": "stdout",
     "output_type": "stream",
     "text": [
      "#################### Answer ###########################\n",
      "2\n",
      "#################### Question ###########################\n",
      "디바이스에 대한 인증 기술의 원리로 가장 적절한 것은 무엇인가?\n",
      "1 디바이스의 고유 식별자를 기반으로 한 인증\n",
      "2 운영체제의 버전 확인을 통한 인증\n",
      "3 네트워크 트래픽 분석을 통한 인증\n",
      "4 사용자 비밀번호를 통한 인증\n"
     ]
    },
    {
     "name": "stderr",
     "output_type": "stream",
     "text": [
      "Inference:  35%|███▌      | 181/515 [24:31<48:57,  8.79s/it]  "
     ]
    },
    {
     "name": "stdout",
     "output_type": "stream",
     "text": [
      "#################### Answer ###########################\n",
      "1\n",
      "#################### Question ###########################\n",
      "전자서명법 제16조에 의거하여, 전자서명인증사업자에 대한 검사를 수행하는 공무원이 반드시 보여주어야 하는 것은?\n",
      "1 검사 계획서\n",
      "2 출입 허가서\n",
      "3 권한 증표\n",
      "4 검사 결과 보고서\n"
     ]
    },
    {
     "name": "stderr",
     "output_type": "stream",
     "text": [
      "Inference:  35%|███▌      | 182/515 [24:33<37:07,  6.69s/it]"
     ]
    },
    {
     "name": "stdout",
     "output_type": "stream",
     "text": [
      "#################### Answer ###########################\n",
      "3\n",
      "#################### Question ###########################\n",
      "SMTP 프로토콜의 보안상 주요 역할을 설명하세요.\n"
     ]
    },
    {
     "name": "stderr",
     "output_type": "stream",
     "text": [
      "Inference:  36%|███▌      | 183/515 [24:58<1:08:52, 12.45s/it]"
     ]
    },
    {
     "name": "stdout",
     "output_type": "stream",
     "text": [
      "#################### Answer ###########################\n",
      "SMTP 프로토콜은 이메일 전송을 위해 사용되며, 보안상 주요 역할은 이메일의 발신자 인증과 데이터 암호화를 포함합니다. 이를 통해 메일 전송 시 발생할 수 있는 스팸, 바이러스, 스팸 등의 위협으로부터 사용자를 보호합니다.\n",
      "#################### Question ###########################\n",
      "전자화폐 보유자가 전자화폐를 타인에게 양도하거나 담보로 제공할 수 있는 조건으로 올바른 것은?\n",
      "1 실지명의가 확인되지 않아야 한다.\n",
      "2 발행자의 승인 없이 담보로 제공할 수 있다.\n",
      "3 발행자의 중앙전산시스템을 경유해야 한다.\n",
      "4 발행자의 동의 없이 양도할 수 있다.\n",
      "5 양도 시 블록체인에 별도의 기록 없이 거래가 완료된다.\n"
     ]
    },
    {
     "name": "stderr",
     "output_type": "stream",
     "text": [
      "Inference:  36%|███▌      | 184/515 [25:05<59:11, 10.73s/it]  "
     ]
    },
    {
     "name": "stdout",
     "output_type": "stream",
     "text": [
      "#################### Answer ###########################\n",
      "3\n",
      "#################### Question ###########################\n",
      "전자금융데이터 보안에서 비정형 데이터의 암호화 방식으로 적절한 것은?\n",
      "1 API\n",
      "2 Plug-in\n",
      "3 DBMS Transparent Security\n",
      "4 Hybrid\n",
      "5 TDE\n"
     ]
    },
    {
     "name": "stderr",
     "output_type": "stream",
     "text": [
      "Inference:  36%|███▌      | 185/515 [25:07<43:50,  7.97s/it]"
     ]
    },
    {
     "name": "stdout",
     "output_type": "stream",
     "text": [
      "#################### Answer ###########################\n",
      "3\n",
      "#################### Question ###########################\n",
      "신용정보의 이용 및 보호에 관한 법률(신용정보법)의 주요 목적에 해당하는 것은?\n",
      "1 신용정보의 오용·남용 방지\n",
      "2 금융거래의 자동화\n",
      "3 금융상품의 다양화\n",
      "4 개인신용평가의 자동화된 결정에 대한 우선적 적용\n",
      "5 금융회사의 수익성 극대화\n"
     ]
    },
    {
     "name": "stderr",
     "output_type": "stream",
     "text": [
      "Inference:  36%|███▌      | 186/515 [25:11<37:15,  6.79s/it]"
     ]
    },
    {
     "name": "stdout",
     "output_type": "stream",
     "text": [
      "#################### Answer ###########################\n",
      "1\n",
      "#################### Question ###########################\n",
      "접근통제와 암호화에 대한 설명으로 가장 적절한 것은?\n",
      "1 접근통제는 데이터 전송 시 암호화를 통해 보안을 강화한다.\n",
      "2 암호화는 시스템 자원의 접근 권한을 실시간으로 부여하는 과정이다.\n",
      "3 암호화는 비인가자의 자원 접근을 차단하는 기술이다.\n",
      "4 접근통제는 자원에 대한 비인가 접근을 감시하고 승인 여부를 결정한다.\n",
      "5 암호화는 사용자의 접근 요구를 기록하고 분석하는 기술이다.\n"
     ]
    },
    {
     "name": "stderr",
     "output_type": "stream",
     "text": [
      "Inference:  36%|███▋      | 187/515 [25:11<27:13,  4.98s/it]"
     ]
    },
    {
     "name": "stdout",
     "output_type": "stream",
     "text": [
      "#################### Answer ###########################\n",
      "3\n",
      "#################### Question ###########################\n",
      "사이버복원력의 개념에 대한 설명으로 가장 적절한 것은?\n",
      "1 보안위협을 완벽히 차단하는 능력\n",
      "2 보안 사고 발생 후 모든 데이터를 즉시 복구하는 능력\n",
      "3 보안 정책을 단기간에 완벽하게 구축하는 능력\n",
      "4 금융서비스 중단 시 피해를 최소화하는 능력\n",
      "5 IT 인프라를 지속적으로 운영할 수 있는 능력\n"
     ]
    },
    {
     "name": "stderr",
     "output_type": "stream",
     "text": [
      "Inference:  37%|███▋      | 188/515 [25:12<20:11,  3.71s/it]"
     ]
    },
    {
     "name": "stdout",
     "output_type": "stream",
     "text": [
      "#################### Answer ###########################\n",
      "4\n",
      "#################### Question ###########################\n",
      "2023년 개인정보 보호법 개정사항 중 신설된 권리가 아닌 것은?\n",
      "1 개인정보 전송요구권\n",
      "2 개인정보 정정요구권\n",
      "3 개인정보 처리방침 평가제\n",
      "4 자동화된 결정 대응권\n",
      "5 개인정보 열람권\n"
     ]
    },
    {
     "name": "stderr",
     "output_type": "stream",
     "text": [
      "Inference:  37%|███▋      | 189/515 [25:23<31:24,  5.78s/it]"
     ]
    },
    {
     "name": "stdout",
     "output_type": "stream",
     "text": [
      "#################### Answer ###########################\n",
      "3\n",
      "#################### Question ###########################\n",
      "금융위원회가 전자금융업자에게 업무 정지를 명할 수 있는 사유로 옳은 것은?\n",
      "1 법인의 합병으로 영업을 종료한 경우\n",
      "2 허위 방법으로 허가를 받은 경우\n",
      "3 제6조제1항의 규정을 위반한 경우\n",
      "4 전자금융거래의 지급 및 결제를 위한 업무를 계속한 경우\n"
     ]
    },
    {
     "name": "stderr",
     "output_type": "stream",
     "text": [
      "Inference:  37%|███▋      | 190/515 [25:24<23:02,  4.25s/it]"
     ]
    },
    {
     "name": "stdout",
     "output_type": "stream",
     "text": [
      "#################### Answer ###########################\n",
      "3\n",
      "#################### Question ###########################\n",
      "개인정보보호법 제50조의2에서 언급된 개선의견의 통보는 주로 어떤 목적으로 이루어지는가?\n",
      "1 정보주체의 권리 보호 및 개인정보 보호\n",
      "2 개인정보처리자의 처벌 강화\n",
      "3 개인정보 처리의 효율성 증대\n",
      "4 개인정보 유출 사건의 공개\n"
     ]
    },
    {
     "name": "stderr",
     "output_type": "stream",
     "text": [
      "Inference:  37%|███▋      | 191/515 [25:38<39:00,  7.22s/it]"
     ]
    },
    {
     "name": "stdout",
     "output_type": "stream",
     "text": [
      "#################### Answer ###########################\n",
      "1\n",
      "#################### Question ###########################\n",
      "개인신용정보를 이용할 수 있는 경우로 적절한 것은?\n",
      "1 신용정보주체가 직접 제공한 정보를 상품 구매 권유 목적으로 이용하는 경우\n",
      "2 신용정보주체의 질병 정보를 수집하여 제3자에게 제공하는 경우\n",
      "3 신용정보주체의 동의 없이 상거래 관계를 설정하기 위한 경우\n",
      "4 신용정보주체가 신청한 금융거래의 설정 및 유지 여부 판단을 위한 경우\n"
     ]
    },
    {
     "name": "stderr",
     "output_type": "stream",
     "text": [
      "Inference:  37%|███▋      | 192/515 [26:04<1:10:10, 13.04s/it]"
     ]
    },
    {
     "name": "stdout",
     "output_type": "stream",
     "text": [
      "#################### Answer ###########################\n",
      "4\n",
      "#################### Question ###########################\n",
      "개인정보처리자가 개인정보 유출 사실을 알게 되었을 때, 개인정보보호법 제62조에 따라 신고해야 하는 기관은 어디인가?\n",
      "1 경찰청\n",
      "2 금융감독원\n",
      "3 국세청\n",
      "4 보호위원회 또는 전문기관\n"
     ]
    },
    {
     "name": "stderr",
     "output_type": "stream",
     "text": [
      "Inference:  37%|███▋      | 193/515 [26:14<1:04:06, 11.95s/it]"
     ]
    },
    {
     "name": "stdout",
     "output_type": "stream",
     "text": [
      "#################### Answer ###########################\n",
      "4\n",
      "#################### Question ###########################\n",
      "전자금융거래법 제21조의3에 따르면, 금융회사 및 전자금융업자가 전자금융거래의 안전성과 신뢰성을 확보하기 위해 수행해야 하는 조치로 옳은 것은?\n",
      "1 전자금융거래 기록의 파기\n",
      "2 전자적 침해행위의 금지\n",
      "3 정보보호최고책임자의 임명\n",
      "4 전자금융기반시설의 취약점 분석 및 평가\n",
      "5 전자금융거래 이용자의 인증수단을 임의로 제한\n"
     ]
    },
    {
     "name": "stderr",
     "output_type": "stream",
     "text": [
      "Inference:  38%|███▊      | 194/515 [26:20<55:00, 10.28s/it]  "
     ]
    },
    {
     "name": "stdout",
     "output_type": "stream",
     "text": [
      "#################### Answer ###########################\n",
      "4\n",
      "#################### Question ###########################\n",
      "개인정보보호법 제29조에 따라 개인정보처리자가 준수해야 할 안전조치의무로 옳은 것은?\n",
      "1 개인정보의 암호화 적용을 선택적으로 시행\n",
      "2 개인정보의 무단 복제 허용\n",
      "3 개인정보의 무단 삭제 허용\n",
      "4 개인정보의 무단 공유 허용\n",
      "5 개인정보의 무단 접근 방지\n"
     ]
    },
    {
     "name": "stderr",
     "output_type": "stream",
     "text": [
      "Inference:  38%|███▊      | 195/515 [26:22<41:15,  7.74s/it]"
     ]
    },
    {
     "name": "stdout",
     "output_type": "stream",
     "text": [
      "#################### Answer ###########################\n",
      "4\n",
      "#################### Question ###########################\n",
      "전자서명인증사업자가 전자서명인증서비스에 가입하려는 자의 신원을 확인할 때, 본인확인기관인 경우 어떤 기준으로 신원을 확인해야 하는가?\n",
      "1 여권 번호\n",
      "2 공인인증서 일련번호\n",
      "3 실지명의\n",
      "4 주민등록번호\n",
      "5 운전면허증 번호\n"
     ]
    },
    {
     "name": "stderr",
     "output_type": "stream",
     "text": [
      "Inference:  38%|███▊      | 196/515 [26:44<1:03:35, 11.96s/it]"
     ]
    },
    {
     "name": "stdout",
     "output_type": "stream",
     "text": [
      "#################### Answer ###########################\n",
      "4\n",
      "#################### Question ###########################\n",
      "다음 중 분산 서비스 거부(DDoS) 공격의 유형별 동작원리와 특징에 대한 설명으로 가장 적절한 것은?\n",
      "1 DDoS 공격은 주로 네트워크의 취약점을 이용하여 데이터를 탈취하는 것을 목적으로 한다.\n",
      "2 DDoS 공격은 여러 시스템을 이용하여 동시에 공격을 수행하여 대상 서버의 자원을 소모시킨다.\n",
      "3 DDoS 공격은 단일 시스템에서 발생하며, 네트워크 트래픽을 증가시켜 서버를 마비시킨다.\n",
      "4 DDoS 공격은 방화벽을 우회하지 못하며, 항상 정상적인 사용자 요청만을 차단하는 것이 특징이다.\n",
      "5 DDoS 공격은 주로 악성 코드를 통해 시스템 내부에서 발생하는 공격이다.\n"
     ]
    },
    {
     "name": "stderr",
     "output_type": "stream",
     "text": [
      "Inference:  38%|███▊      | 197/515 [26:58<1:07:44, 12.78s/it]"
     ]
    },
    {
     "name": "stdout",
     "output_type": "stream",
     "text": [
      "#################### Answer ###########################\n",
      "2\n",
      "#################### Question ###########################\n",
      "금융보안 거버넌스의 주요 이슈로 최근 금융권의 디지털 전환에 따라 증가하고 있는 요구는 무엇인가?\n",
      "1 금융결제 인프라의 폐쇄성 강화\n",
      "2 IT부서의 전담업무로 보안 문제 해결\n",
      "3 금융회사의 자율보안체계 확립\n",
      "4 전자금융 서비스의 안전성 확보\n"
     ]
    },
    {
     "name": "stderr",
     "output_type": "stream",
     "text": [
      "Inference:  38%|███▊      | 198/515 [26:59<48:22,  9.15s/it]  "
     ]
    },
    {
     "name": "stdout",
     "output_type": "stream",
     "text": [
      "#################### Answer ###########################\n",
      "4\n",
      "#################### Question ###########################\n",
      "가명정보 처리 과정에서 특정 개인을 알아볼 수 있는 정보가 생성된 경우, 제28조의5에 따라 취해야 할 조치는 무엇인가?\n",
      "1 해당 정보를 제3자에게 제공하고, 기록을 보관한다.\n",
      "2 해당 정보의 처리를 중지하고, 지체 없이 회수ㆍ파기한다.\n",
      "3 해당 정보를 안전하게 보관하고, 처리 목적을 변경한다.\n",
      "4 해당 정보를 즉시 파기하고, 3년 이상 보관한다.\n"
     ]
    },
    {
     "name": "stderr",
     "output_type": "stream",
     "text": [
      "Inference:  39%|███▊      | 199/515 [27:22<1:09:50, 13.26s/it]"
     ]
    },
    {
     "name": "stdout",
     "output_type": "stream",
     "text": [
      "#################### Answer ###########################\n",
      "2\n",
      "#################### Question ###########################\n",
      "ID/PW 기반 인증 환경에서 발생할 수 있는 대표적인 공격 유형을 2가지 이상 서술하고 대응 방안을 설명하세요.\n"
     ]
    },
    {
     "name": "stderr",
     "output_type": "stream",
     "text": [
      "Inference:  39%|███▉      | 200/515 [28:16<2:13:32, 25.44s/it]"
     ]
    },
    {
     "name": "stdout",
     "output_type": "stream",
     "text": [
      "#################### Answer ###########################\n",
      "ID/PW 기반 인증 환경에서 발생할 수 있는 대표적인 공격 유형으로는 크래킹과 피싱 공격이 있습니다.\n",
      "\n",
      "1. 크래킹(Cracking) 공격: 이 공격은 사용자의 비밀번호를 무작위로 추측하거나, 사용자의 행동 패턴을 분석하여 비밀번호를 추론하는 방식으로 이루어집니다. 대응 방안으로는 강력한 비밀번호 설정, 다중 인증 방법(MFA) 도입, 사용자 행동 모니터링 시스템 구축 등이 있습니다.\n",
      "\n",
      "2. 피싱(Phishing) 공격: 이 공격은 사용자를\n",
      "#################### Question ###########################\n",
      "인터넷 응용 보안에서 가장 중요한 보안 조치로 적절한 것은?\n",
      "1 사용자 경험 개선\n",
      "2 데이터 압축\n",
      "3 방화벽 설정\n",
      "4 그래픽 성능 향상\n"
     ]
    },
    {
     "name": "stderr",
     "output_type": "stream",
     "text": [
      "Inference:  39%|███▉      | 201/515 [28:18<1:36:52, 18.51s/it]"
     ]
    },
    {
     "name": "stdout",
     "output_type": "stream",
     "text": [
      "#################### Answer ###########################\n",
      "3\n",
      "#################### Question ###########################\n",
      "다음 중 IT 인프라 보안의 중요성에 대한 설명으로 가장 적절한 것은?\n",
      "1 IT 인프라 보안은 네트워크 트래픽을 차단하기 위한 것이다.\n",
      "2 IT 인프라 보안은 백업 데이터의 저장 용량을 늘리기 위한 것이다.\n",
      "3 IT 인프라 보안은 경제적 손실을 방지하기 위한 것이다.\n",
      "4 IT 인프라 보안은 전자금융 거래의 안전성을 높이기 위한 것이다.\n",
      "5 IT 인프라 보안은 악성코드를 탐지하기 위한 것이다.\n"
     ]
    },
    {
     "name": "stderr",
     "output_type": "stream",
     "text": [
      "Inference:  39%|███▉      | 202/515 [28:19<1:08:46, 13.18s/it]"
     ]
    },
    {
     "name": "stdout",
     "output_type": "stream",
     "text": [
      "#################### Answer ###########################\n",
      "3\n",
      "#################### Question ###########################\n",
      "개인정보보호법 제67조에 따르면, 보호위원회가 매년 개인정보 보호시책의 수립 및 시행에 관한 보고서를 제출해야 하는 시기는 언제인가?\n",
      "1 정기국회 개회 전까지\n",
      "2 매 분기별로 국회에 보고서를 제출해야 한다.\n",
      "3 매년 12월 31일까지\n",
      "4 매년 1월 31일까지\n",
      "5 정기국회 개회 후 1개월 이내\n"
     ]
    },
    {
     "name": "stderr",
     "output_type": "stream",
     "text": [
      "Inference:  39%|███▉      | 203/515 [28:28<1:01:54, 11.91s/it]"
     ]
    },
    {
     "name": "stdout",
     "output_type": "stream",
     "text": [
      "#################### Answer ###########################\n",
      "1\n",
      "#################### Question ###########################\n",
      "정보통신망법 제44조의5에 따라 게시판 이용자의 본인 확인을 위한 조치를 해야 하는 기관은?\n",
      "1 외국 정부 기관\n",
      "2 금융감독원 등록 민간 보안업체\n",
      "3 민간 기업\n",
      "4 국가기관\n",
      "5 개인 사업자\n"
     ]
    },
    {
     "name": "stderr",
     "output_type": "stream",
     "text": [
      "Inference:  40%|███▉      | 204/515 [28:29<45:42,  8.82s/it]  "
     ]
    },
    {
     "name": "stdout",
     "output_type": "stream",
     "text": [
      "#################### Answer ###########################\n",
      "4\n",
      "#################### Question ###########################\n",
      "개인정보보호법 제64조에 의거하여, 개인정보 보호위원회가 시정조치를 명할 수 없는 기관은?\n",
      "1 지방자치단체\n",
      "2 금융감독원\n",
      "3 헌법재판소\n",
      "4 중앙행정기관\n",
      "5 국회\n"
     ]
    },
    {
     "name": "stderr",
     "output_type": "stream",
     "text": [
      "Inference:  40%|███▉      | 205/515 [28:33<37:02,  7.17s/it]"
     ]
    },
    {
     "name": "stdout",
     "output_type": "stream",
     "text": [
      "#################### Answer ###########################\n",
      "5\n",
      "#################### Question ###########################\n",
      "전자자금이체의 지급 효력 발생 시점을 전자금융거래법 기준에 따라 설명하세요.\n"
     ]
    },
    {
     "name": "stderr",
     "output_type": "stream",
     "text": [
      "Inference:  40%|████      | 206/515 [28:54<58:25, 11.34s/it]"
     ]
    },
    {
     "name": "stdout",
     "output_type": "stream",
     "text": [
      "#################### Answer ###########################\n",
      "전자자금이체의 지급 효력 발생 시점은 수취인의 계좌에 입금이 완료된 시점입니다. 이는 전자금융거래법 제31조에 따라 정해져 있으며, 이를 통해 전자자금이체의 안전성과 신속성을 보장합니다.\n",
      "#################### Question ###########################\n",
      "시스템 보안 위협에 대한 예방과 대응 방법으로 가장 적절한 것은?\n",
      "1 방화벽 설정을 모두 해제하여 접근을 용이하게 한다\n",
      "2 운영체제의 패치 관리 무시\n",
      "3 네트워크 장비의 관리자 계정 비밀번호 공유\n",
      "4 불필요한 서비스 활성화\n",
      "5 시스템 로그 분석을 통한 침입 탐지\n"
     ]
    },
    {
     "name": "stderr",
     "output_type": "stream",
     "text": [
      "Inference:  40%|████      | 207/515 [28:55<41:49,  8.15s/it]"
     ]
    },
    {
     "name": "stdout",
     "output_type": "stream",
     "text": [
      "#################### Answer ###########################\n",
      "5\n",
      "#################### Question ###########################\n",
      "개인정보보호법 제74조의2에 따르면, 제70조부터 제73조까지의 죄를 지은 자가 해당 위반행위와 관련하여 취득한 금품이나 이익에 대해 취할 수 있는 조치는 무엇인가?\n",
      "1 사회봉사 명령\n",
      "2 몰수 또는 추징\n",
      "3 벌금 부과\n",
      "4 징역형 선고\n",
      "5 금융기관에 대한 영업정지 처분\n"
     ]
    },
    {
     "name": "stderr",
     "output_type": "stream",
     "text": [
      "Inference:  40%|████      | 208/515 [29:04<43:44,  8.55s/it]"
     ]
    },
    {
     "name": "stdout",
     "output_type": "stream",
     "text": [
      "#################### Answer ###########################\n",
      "2\n",
      "#################### Question ###########################\n",
      "다음 중 SBOM(Software Bill of Materials)의 주요 활용 방안으로 옳지 않은 것은?\n",
      "1 소프트웨어의 구성요소를 목록화하여 보안 취약점을 분석하는 데 사용된다.\n",
      "2 소프트웨어 개발 과정에서 오픈소스 취약점을 확인하는 데 사용된다.\n",
      "3 소프트웨어의 라이선스 준수 여부를 확인하는 데 사용된다.\n",
      "4 소프트웨어 도입 시 취약 요인을 상시 관리하는 데 사용된다.\n"
     ]
    },
    {
     "name": "stderr",
     "output_type": "stream",
     "text": [
      "Inference:  41%|████      | 209/515 [29:05<31:38,  6.21s/it]"
     ]
    },
    {
     "name": "stdout",
     "output_type": "stream",
     "text": [
      "#################### Answer ###########################\n",
      "4\n",
      "#################### Question ###########################\n",
      "신용정보법 제27조의2에 따르면, 다음 중 무허가 채권추심업자에 대한 업무위탁이 금지된 주체는?\n",
      "1 대통령령으로 정하는 여신금융기관\n",
      "2 채권추심회사\n",
      "3 개인 채무자\n",
      "4 일반 소비자\n"
     ]
    },
    {
     "name": "stderr",
     "output_type": "stream",
     "text": [
      "Inference:  41%|████      | 210/515 [29:05<22:59,  4.52s/it]"
     ]
    },
    {
     "name": "stdout",
     "output_type": "stream",
     "text": [
      "#################### Answer ###########################\n",
      "1\n",
      "#################### Question ###########################\n",
      "로그 분석을 통해 네트워크 보안 위협을 식별할 때 가장 중요한 요소는 무엇인가?\n",
      "1 로그 파일의 저장 위치\n",
      "2 로그 파일의 생성 주기\n",
      "3 로그 파일의 내용 분석\n",
      "4 로그 파일의 암호화 여부\n",
      "5 로그 파일의 크기\n"
     ]
    },
    {
     "name": "stderr",
     "output_type": "stream",
     "text": [
      "Inference:  41%|████      | 211/515 [29:06<17:04,  3.37s/it]"
     ]
    },
    {
     "name": "stdout",
     "output_type": "stream",
     "text": [
      "#################### Answer ###########################\n",
      "3\n",
      "#################### Question ###########################\n",
      "다음 중 대칭키 암호시스템의 특징으로 가장 적절한 것은?\n",
      "1 암호화 속도가 느리다.\n",
      "2 키 분배가 필요하지 않다.\n",
      "3 공개키를 사용하여 암호화한다.\n",
      "4 동일한 키로 암호화와 복호화를 수행한다.\n"
     ]
    },
    {
     "name": "stderr",
     "output_type": "stream",
     "text": [
      "Inference:  41%|████      | 212/515 [29:22<35:42,  7.07s/it]"
     ]
    },
    {
     "name": "stdout",
     "output_type": "stream",
     "text": [
      "#################### Answer ###########################\n",
      "4\n",
      "#################### Question ###########################\n",
      "다음 중 '정보통신망 침해행위 등의 금지'에 해당하지 않는 것은?\n",
      "1 정보통신망의 안정적 운영을 방해하지 않는 행위\n",
      "2 정당한 사유 없이 데이터 또는 프로그램을 변경하는 행위\n",
      "3 정보통신시스템을 훼손하는 프로그램을 유포하는 행위\n",
      "4 대량의 데이터를 보내 정보통신망에 장애를 발생시키는 행위\n"
     ]
    },
    {
     "name": "stderr",
     "output_type": "stream",
     "text": [
      "Inference:  41%|████▏     | 213/515 [29:30<36:53,  7.33s/it]"
     ]
    },
    {
     "name": "stdout",
     "output_type": "stream",
     "text": [
      "#################### Answer ###########################\n",
      "1\n",
      "#################### Question ###########################\n",
      "다음 중 메일 보안에서 SMTP 프로토콜의 역할로 가장 적절한 것은?\n",
      "1 메일 전송을 위한 프로토콜이다.\n",
      "2 메일의 암호화를 담당한다.\n",
      "3 메일의 기밀성을 보장한다.\n",
      "4 메일 수신을 위한 프로토콜이다.\n"
     ]
    },
    {
     "name": "stderr",
     "output_type": "stream",
     "text": [
      "Inference:  42%|████▏     | 214/515 [29:30<26:45,  5.33s/it]"
     ]
    },
    {
     "name": "stdout",
     "output_type": "stream",
     "text": [
      "#################### Answer ###########################\n",
      "1\n",
      "#################### Question ###########################\n",
      "보호대책 요구사항'에 따라 정보보호 최고책임자가 수행해야 할 업무로 옳지 않은 것은?\n",
      "1 정보보호 최고책임자의 임명은 외부 기관에 의해 결정된다.\n",
      "2 정보보호 계획의 수립·시행 및 개선\n",
      "3 정보보호 실태와 관행의 정기적인 감사 및 개선\n",
      "4 정보보호 위험의 식별 평가 및 정보보호 대책 마련\n",
      "5 정보보호 최고책임자는 정보보호 정책 위반 시 직접 징계 권한을 단독으로 행사한다.\n"
     ]
    },
    {
     "name": "stderr",
     "output_type": "stream",
     "text": [
      "Inference:  42%|████▏     | 215/515 [30:00<1:02:50, 12.57s/it]"
     ]
    },
    {
     "name": "stdout",
     "output_type": "stream",
     "text": [
      "#################### Answer ###########################\n",
      "1\n",
      "#################### Question ###########################\n",
      "전자금융거래에서 이용자 입력데이터 보호를 위한 보안기술로 적절한 것은?\n",
      "1 키로거 설치\n",
      "2 키보드 입력값 암호화\n",
      "3 입력 데이터 로그 기록 활성화\n",
      "4 네트워크 스니핑\n",
      "5 화면 캡처 허용\n"
     ]
    },
    {
     "name": "stderr",
     "output_type": "stream",
     "text": [
      "Inference:  42%|████▏     | 216/515 [30:03<48:45,  9.79s/it]  "
     ]
    },
    {
     "name": "stdout",
     "output_type": "stream",
     "text": [
      "#################### Answer ###########################\n",
      "2\n",
      "#################### Question ###########################\n",
      "가상랜(VLAN)의 주요 기능으로 옳은 것은?\n",
      "1 네트워크 패킷의 실시간 모니터링 자동화\n",
      "2 사용자 인증 강화\n",
      "3 브로드캐스트 트래픽 제한\n",
      "4 물리적 네트워크 분리\n",
      "5 데이터 암호화\n"
     ]
    },
    {
     "name": "stderr",
     "output_type": "stream",
     "text": [
      "Inference:  42%|████▏     | 217/515 [30:04<35:01,  7.05s/it]"
     ]
    },
    {
     "name": "stdout",
     "output_type": "stream",
     "text": [
      "#################### Answer ###########################\n",
      "4\n",
      "#################### Question ###########################\n",
      "신용정보법 감독규정 제11조의2에 따라 금융감독원장이 대주주 변경승인 심사와 관련하여 수행할 수 있는 업무로 옳은 것은?\n",
      "1 대주주 변경승인 신청인의 자격 심사\n",
      "2 대주주 변경승인 결과의 직접 승인\n",
      "3 이해관계인 등의 의견 수렴 및 공고\n",
      "4 대주주 변경승인 심사 결과에 대한 이의신청 접수 및 처리\n",
      "5 대주주 변경승인 신청서 작성\n"
     ]
    },
    {
     "name": "stderr",
     "output_type": "stream",
     "text": [
      "Inference:  42%|████▏     | 218/515 [30:04<25:29,  5.15s/it]"
     ]
    },
    {
     "name": "stdout",
     "output_type": "stream",
     "text": [
      "#################### Answer ###########################\n",
      "1\n",
      "#################### Question ###########################\n",
      "신용정보법 제35조의3에 따라 신용정보제공ㆍ이용자가 개인신용정보를 제공하기 전에 신용정보주체에게 통지해야 하는 사항으로 옳지 않은 것은?\n",
      "1 그 밖에 금융위원회가 정하여 고시하는 사항\n",
      "2 정보 등록 후 연체금을 상환하면 즉시 신용점수가 회복된다는 사실\n",
      "3 정보 등록 후 연체금을 상환하여도 신용점수가 일정기간 회복되지 않을 수 있다는 사실\n",
      "4 정보 등록 후 연체금을 상환하여도 일정기간 그 기록이 보관된다는 사실\n"
     ]
    },
    {
     "name": "stderr",
     "output_type": "stream",
     "text": [
      "Inference:  43%|████▎     | 219/515 [30:31<57:36, 11.68s/it]"
     ]
    },
    {
     "name": "stdout",
     "output_type": "stream",
     "text": [
      "#################### Answer ###########################\n",
      "2\n",
      "#################### Question ###########################\n",
      "다음 중 신용정보회사등이 신용정보법 제40조에 따라 금지되지 않은 행위는?\n",
      "1 정보원, 탐정 등의 명칭을 사용하는 행위\n",
      "2 영리 목적으로 가명정보를 처리하는 행위\n",
      "3 채권추심회사가 업무를 위해 특정인의 소재를 알아내는 행위\n",
      "4 특정인의 소재 및 연락처를 알아내는 행위\n"
     ]
    },
    {
     "name": "stderr",
     "output_type": "stream",
     "text": [
      "Inference:  43%|████▎     | 220/515 [30:32<41:12,  8.38s/it]"
     ]
    },
    {
     "name": "stdout",
     "output_type": "stream",
     "text": [
      "#################### Answer ###########################\n",
      "3\n",
      "#################### Question ###########################\n",
      "전자금융거래법 제33조에 따르면, 허가ㆍ등록 및 인가를 신청하고자 하는 자는 어디에 신청서를 제출해야 하는가?\n",
      "1 금융감독원\n",
      "2 국세청\n",
      "3 법무부\n",
      "4 금융위원회\n"
     ]
    },
    {
     "name": "stderr",
     "output_type": "stream",
     "text": [
      "Inference:  43%|████▎     | 221/515 [30:34<31:54,  6.51s/it]"
     ]
    },
    {
     "name": "stdout",
     "output_type": "stream",
     "text": [
      "#################### Answer ###########################\n",
      "1\n",
      "#################### Question ###########################\n",
      "다음 중 금융시장의 역할로 가장 적절한 것은?\n",
      "1 금융거래의 복잡성 증가\n",
      "2 금융회사의 수익성 증대\n",
      "3 금융상품의 가격 결정\n",
      "4 금융기관의 자산 보호\n"
     ]
    },
    {
     "name": "stderr",
     "output_type": "stream",
     "text": [
      "Inference:  43%|████▎     | 222/515 [30:35<23:09,  4.74s/it]"
     ]
    },
    {
     "name": "stdout",
     "output_type": "stream",
     "text": [
      "#################### Answer ###########################\n",
      "3\n",
      "#################### Question ###########################\n",
      "전자금융기반시설의 안정적 운영을 방해할 목적으로 일시에 대량의 신호, 고출력 전자기파 또는 데이터를 보내거나 부정한 명령을 처리하도록 하는 등의 방법으로 전자금융기반시설에 오류 또는 장애를 발생하게 하는 행위는 무엇에 해당하는가?\n",
      "1 정보보호 위반\n",
      "2 전자적 침해행위\n",
      "3 서비스 거부 공격\n",
      "4 데이터 유출\n",
      "5 금융사기\n"
     ]
    },
    {
     "name": "stderr",
     "output_type": "stream",
     "text": [
      "Inference:  43%|████▎     | 223/515 [30:35<17:08,  3.52s/it]"
     ]
    },
    {
     "name": "stdout",
     "output_type": "stream",
     "text": [
      "#################### Answer ###########################\n",
      "3\n",
      "#################### Question ###########################\n",
      "정보보호 관리등급 부여에 관한 설명으로 옳은 것은?\n",
      "1 정보보호 관리등급은 정보보호 관리체계 인증을 받은 자만 받을 수 있다.\n",
      "2 정보보호 관리등급은 2년마다 갱신해야 한다.\n",
      "3 정보보호 관리등급은 홍보에 활용할 수 없다.\n",
      "4 정보보호 관리등급은 과학기술정보통신부장관이 직접 부여한다.\n"
     ]
    },
    {
     "name": "stderr",
     "output_type": "stream",
     "text": [
      "Inference:  43%|████▎     | 224/515 [31:04<52:58, 10.92s/it]"
     ]
    },
    {
     "name": "stdout",
     "output_type": "stream",
     "text": [
      "#################### Answer ###########################\n",
      "1\n",
      "#################### Question ###########################\n",
      "다음 중 금융회사 또는 전자금융업자가 책임을 일부 또는 전부 이용자에게 부담시킬 수 있는 경우는?\n",
      "1 금융회사의 내부 규정 위반으로 인한 사고\n",
      "2 이용자의 중대한 과실로 인한 사고\n",
      "3 접근매체의 위조로 인한 사고\n",
      "4 전자금융거래와 무관한 사고\n",
      "5 전자금융거래 시스템의 일시적인 장애로 인한 사고\n"
     ]
    },
    {
     "name": "stderr",
     "output_type": "stream",
     "text": [
      "Inference:  44%|████▎     | 225/515 [31:04<37:58,  7.86s/it]"
     ]
    },
    {
     "name": "stdout",
     "output_type": "stream",
     "text": [
      "#################### Answer ###########################\n",
      "3\n",
      "#################### Question ###########################\n",
      "다음 중 DB 접근통제의 주요 기능에 해당하는 것은?\n",
      "1 데이터 암호화\n",
      "2 비인가 접속 차단\n",
      "3 네트워크 방화벽 설정\n",
      "4 데이터 백업\n"
     ]
    },
    {
     "name": "stderr",
     "output_type": "stream",
     "text": [
      "Inference:  44%|████▍     | 226/515 [31:07<30:07,  6.25s/it]"
     ]
    },
    {
     "name": "stdout",
     "output_type": "stream",
     "text": [
      "#################### Answer ###########################\n",
      "2\n",
      "#################### Question ###########################\n",
      "정보통신망법 제44조의7에 의거하여, 다음 중 정보통신망을 통해 유통이 금지된 정보에 해당하는 것은?\n",
      "1 국가기밀을 누설하는 정보\n",
      "2 암호화된 전자서명을 정상적으로 검증하는 정보\n",
      "3 청소년 보호법에 따른 청소년유해매체물을 법령에 따라 제공하는 정보\n",
      "4 합법적인 사행행위에 대한 정보\n",
      "5 개인정보를 법령에 따라 적법하게 거래하는 정보\n"
     ]
    },
    {
     "name": "stderr",
     "output_type": "stream",
     "text": [
      "Inference:  44%|████▍     | 227/515 [32:28<2:18:26, 28.84s/it]"
     ]
    },
    {
     "name": "stdout",
     "output_type": "stream",
     "text": [
      "#################### Answer ###########################\n",
      "44\n",
      "#################### Question ###########################\n",
      "금융권에서 인공지능(AI)을 활용한 보안관제 시스템의 주요 기능으로 가장 적절한 것은?\n",
      "1 고객 데이터 분석\n",
      "2 금융 상품 추천\n",
      "3 금융 사이버 위협 탐지 및 대응 자동화\n",
      "4 거래 내역 기록\n"
     ]
    },
    {
     "name": "stderr",
     "output_type": "stream",
     "text": [
      "Inference:  44%|████▍     | 228/515 [32:29<1:37:32, 20.39s/it]"
     ]
    },
    {
     "name": "stdout",
     "output_type": "stream",
     "text": [
      "#################### Answer ###########################\n",
      "3\n",
      "#################### Question ###########################\n",
      "신용정보제공ㆍ이용자가 다른 신용정보제공ㆍ이용자와 신용정보를 제공할 때 포함해야 하는 것은?\n",
      "1 신용정보의 무단 파괴\n",
      "2 신용정보의 무단 변경\n",
      "3 신용정보의 비인가 외부 전송\n",
      "4 신용정보의 무단 접근 허용\n",
      "5 신용정보 보안관리 대책\n"
     ]
    },
    {
     "name": "stderr",
     "output_type": "stream",
     "text": [
      "Inference:  44%|████▍     | 229/515 [32:31<1:10:29, 14.79s/it]"
     ]
    },
    {
     "name": "stdout",
     "output_type": "stream",
     "text": [
      "#################### Answer ###########################\n",
      "3\n",
      "#################### Question ###########################\n",
      "다음 중 신용정보의 정확성 및 최신성 유지와 관련하여 삭제해야 하는 신용정보의 종류가 아닌 것은?\n",
      "1 연체, 부도, 대위변제 및 대지급과 관련된 정보\n",
      "2 신용질서 문란행위와 관련된 정보\n",
      "3 법원의 파산선고ㆍ면책ㆍ복권 결정과 관련된 정보\n",
      "4 금융거래 종료 후 10년이 지난 정보\n",
      "5 신용정보 주체의 사망 사실과 관련된 정보\n"
     ]
    },
    {
     "name": "stderr",
     "output_type": "stream",
     "text": [
      "Inference:  45%|████▍     | 230/515 [32:32<50:12, 10.57s/it]  "
     ]
    },
    {
     "name": "stdout",
     "output_type": "stream",
     "text": [
      "#################### Answer ###########################\n",
      "4\n",
      "#################### Question ###########################\n",
      "다음 중 개인정보 보호 기본계획을 수립하는 주체는?\n",
      "1 보호위원회\n",
      "2 국회\n",
      "3 지방자치단체\n",
      "4 중앙선거관리위원회\n"
     ]
    },
    {
     "name": "stderr",
     "output_type": "stream",
     "text": [
      "Inference:  45%|████▍     | 231/515 [32:36<41:38,  8.80s/it]"
     ]
    },
    {
     "name": "stdout",
     "output_type": "stream",
     "text": [
      "#################### Answer ###########################\n",
      "1\n",
      "#################### Question ###########################\n",
      "다음 중 디지털 서명의 특징으로 올바르지 않은 것은?\n",
      "1 서명된 문서의 무결성을 보장한다.\n",
      "2 서명된 문서의 내용을 암호화한다.\n",
      "3 서명자의 신원을 확인할 수 있다.\n",
      "4 서명자의 부인을 방지할 수 있다.\n"
     ]
    },
    {
     "name": "stderr",
     "output_type": "stream",
     "text": [
      "Inference:  45%|████▌     | 232/515 [32:41<36:26,  7.73s/it]"
     ]
    },
    {
     "name": "stdout",
     "output_type": "stream",
     "text": [
      "#################### Answer ###########################\n",
      "2\n",
      "#################### Question ###########################\n",
      "한국인터넷진흥원이 전자서명인증 정책을 지원하기 위해 수행하는 업무로 옳지 않은 것은?\n",
      "1 전자서명인증 관련 제도 연구 및 국제협력 지원\n",
      "2 전자서명인증 관련 기술개발 및 보급\n",
      "3 전자서명인증서 발급 및 관리\n",
      "4 전자서명인증사업자에 대한 검사 지원\n"
     ]
    },
    {
     "name": "stderr",
     "output_type": "stream",
     "text": [
      "Inference:  45%|████▌     | 233/515 [32:42<26:23,  5.61s/it]"
     ]
    },
    {
     "name": "stdout",
     "output_type": "stream",
     "text": [
      "#################### Answer ###########################\n",
      "4\n",
      "#################### Question ###########################\n",
      "정보통신망법 제44조의8에 따르면, 정보통신서비스 제공자가 만 14세 미만의 아동에게 제공해야 하는 서비스의 특징은 무엇인가?\n",
      "1 아동에게 제공되는 정보는 반드시 부모의 승인을 받아야 한다.\n",
      "2 아동의 개인정보를 부모 동의 없이 자유롭게 수집·이용할 수 있다.\n",
      "3 아동에게 제공되는 정보는 광고가 포함되어야 한다.\n",
      "4 아동에게 모든 정보를 무제한으로 제공해야 한다.\n",
      "5 아동에게 부적절한 내용의 정보가 제공되지 않도록 노력해야 한다.\n"
     ]
    },
    {
     "name": "stderr",
     "output_type": "stream",
     "text": [
      "Inference:  45%|████▌     | 234/515 [33:09<56:11, 12.00s/it]"
     ]
    },
    {
     "name": "stdout",
     "output_type": "stream",
     "text": [
      "#################### Answer ###########################\n",
      "5\n",
      "#################### Question ###########################\n",
      "금융회사 및 전자금융업자가 외부주문등에 관한 계약을 체결하거나 변경할 때 준수해야 할 기준은 무엇인가?\n",
      "1 전자금융업자가 정하는 기준\n",
      "2 금융위원회가 정하는 기준\n",
      "3 금융감독원이 정하는 기준\n",
      "4 금융회사가 자체적으로 정하는 기준\n"
     ]
    },
    {
     "name": "stderr",
     "output_type": "stream",
     "text": [
      "Inference:  46%|████▌     | 235/515 [33:13<45:07,  9.67s/it]"
     ]
    },
    {
     "name": "stdout",
     "output_type": "stream",
     "text": [
      "#################### Answer ###########################\n",
      "2\n",
      "#################### Question ###########################\n",
      "본인확인기관이 본인확인업무를 폐지하고자 할 때, 방송통신위원회에 신고해야 하는 최소 기간은 며칠인가?\n",
      "1 45일\n",
      "2 90일\n",
      "3 30일\n",
      "4 60일\n",
      "5 15일\n"
     ]
    },
    {
     "name": "stderr",
     "output_type": "stream",
     "text": [
      "Inference:  46%|████▌     | 236/515 [33:16<34:40,  7.46s/it]"
     ]
    },
    {
     "name": "stdout",
     "output_type": "stream",
     "text": [
      "#################### Answer ###########################\n",
      "4\n",
      "#################### Question ###########################\n",
      "운영체제의 주요 기능으로 옳지 않은 것은?\n",
      "1 사용자 인터페이스 제공\n",
      "2 프로그램 실행 및 오류 발견\n",
      "3 하드웨어 자원의 효율적 관리\n",
      "4 금융거래 내역의 암호화 및 복호화 자동 수행\n",
      "5 데이터베이스 관리 시스템(DBMS) 기능 제공\n"
     ]
    },
    {
     "name": "stderr",
     "output_type": "stream",
     "text": [
      "Inference:  46%|████▌     | 237/515 [33:16<25:08,  5.43s/it]"
     ]
    },
    {
     "name": "stdout",
     "output_type": "stream",
     "text": [
      "#################### Answer ###########################\n",
      "4\n",
      "#################### Question ###########################\n",
      "중앙행정기관의 장이 정보의 공동 활용체제를 구축하기 위해 수립할 수 있는 계획에 포함되지 않는 것은 무엇인가?\n",
      "1 정보통신망 상호간 연계 시스템의 구축 및 운영\n",
      "2 정보통신망의 연계에 따른 각 기관 간 비용부담의 조정\n",
      "3 보유ㆍ관리하는 정보 중 공동 활용 대상 정보의 선정\n",
      "4 정보공유를 위한 데이터 암호화 표준의 도입 및 적용\n",
      "5 정보통신망의 이용촉진을 위한 법ㆍ제도 개선\n"
     ]
    },
    {
     "name": "stderr",
     "output_type": "stream",
     "text": [
      "Inference:  46%|████▌     | 238/515 [33:24<28:23,  6.15s/it]"
     ]
    },
    {
     "name": "stdout",
     "output_type": "stream",
     "text": [
      "#################### Answer ###########################\n",
      "4\n",
      "#################### Question ###########################\n",
      "전자서명법 제16조에 따르면, 과학기술정보통신부장관이 전자서명인증사업자에게 검사를 실시하기 위해 필요한 절차로 옳은 것은?\n",
      "1 검사 5일 전까지 검사계획을 통보해야 한다.\n",
      "2 검사 10일 전까지 검사계획을 통보해야 한다.\n",
      "3 검사 7일 전까지 검사계획을 통보해야 한다.\n",
      "4 검사 3일 전까지 검사계획을 통보해야 한다.\n"
     ]
    },
    {
     "name": "stderr",
     "output_type": "stream",
     "text": [
      "Inference:  46%|████▋     | 239/515 [33:25<20:46,  4.52s/it]"
     ]
    },
    {
     "name": "stdout",
     "output_type": "stream",
     "text": [
      "#################### Answer ###########################\n",
      "3\n",
      "#################### Question ###########################\n",
      "주요정보통신기반시설의 취약점 분석·평가의 주된 목적은 무엇인가?\n",
      "1 금융상품의 경쟁력 강화\n",
      "2 금융기관의 자산 증대\n",
      "3 고객 서비스의 질 향상\n",
      "4 사이버 위협에 대한 예방 및 대응\n",
      "5 정보통신기반시설의 운영비 절감을 위한 비용 분석\n"
     ]
    },
    {
     "name": "stderr",
     "output_type": "stream",
     "text": [
      "Inference:  47%|████▋     | 240/515 [33:25<15:25,  3.37s/it]"
     ]
    },
    {
     "name": "stdout",
     "output_type": "stream",
     "text": [
      "#################### Answer ###########################\n",
      "4\n",
      "#################### Question ###########################\n",
      "금융위원회가 전자금융거래 약관의 변경을 권고할 수 있는 경우로 옳은 것은?\n",
      "1 이용자의 권익을 확대하기 위한 경우\n",
      "2 약관의 변경이 불필요한 경우\n",
      "3 전자금융거래질서의 유지를 위해 필요한 경우\n",
      "4 금융회사의 요청이 있는 경우\n"
     ]
    },
    {
     "name": "stderr",
     "output_type": "stream",
     "text": [
      "Inference:  47%|████▋     | 241/515 [33:26<11:41,  2.56s/it]"
     ]
    },
    {
     "name": "stdout",
     "output_type": "stream",
     "text": [
      "#################### Answer ###########################\n",
      "3\n",
      "#################### Question ###########################\n",
      "관리체계 점검 및 개선'의 주요 활동으로 가장 적절한 것은?\n",
      "1 운영현황 관리\n",
      "2 보호대책 구현\n",
      "3 정보자산 식별\n",
      "4 법적 요구사항 준수 검토\n",
      "5 위험 평가 결과 분석\n"
     ]
    },
    {
     "name": "stderr",
     "output_type": "stream",
     "text": [
      "Inference:  47%|████▋     | 242/515 [33:29<12:21,  2.72s/it]"
     ]
    },
    {
     "name": "stdout",
     "output_type": "stream",
     "text": [
      "#################### Answer ###########################\n",
      "3\n",
      "#################### Question ###########################\n",
      "개인정보보호법 제57조에 따르면, 단체소송의 절차에 관하여 필요한 사항은 무엇에 의해 정해지는가?\n",
      "1 행정규칙\n",
      "2 대법원규칙\n",
      "3 대통령령\n",
      "4 국회의 법률\n"
     ]
    },
    {
     "name": "stderr",
     "output_type": "stream",
     "text": [
      "Inference:  47%|████▋     | 243/515 [33:35<16:51,  3.72s/it]"
     ]
    },
    {
     "name": "stdout",
     "output_type": "stream",
     "text": [
      "#################### Answer ###########################\n",
      "2\n",
      "#################### Question ###########################\n",
      "세션 하이재킹(Session Hijacking) 공격의 주요 목표는 무엇인가?\n",
      "1 네트워크 트래픽을 차단하여 서비스 거부를 유발한다.\n",
      "2 사용자의 세션을 가로채어 권한을 탈취한다.\n",
      "3 네트워크 트래픽을 암호화하여 보호한다.\n",
      "4 사용자의 인증 정보를 무작위로 생성하여 시스템에 접근한다.\n",
      "5 네트워크 트래픽을 변조하여 데이터 무결성을 손상시킨다.\n"
     ]
    },
    {
     "name": "stderr",
     "output_type": "stream",
     "text": [
      "Inference:  47%|████▋     | 244/515 [33:43<21:58,  4.87s/it]"
     ]
    },
    {
     "name": "stdout",
     "output_type": "stream",
     "text": [
      "#################### Answer ###########################\n",
      "2\n",
      "#################### Question ###########################\n",
      "다음 중 APT 공격의 특징으로 가장 적절한 것은?\n",
      "1 공격자가 다수의 무작위 대상을 대상으로 대규모 스팸 메일을 발송한다.\n",
      "2 단기간에 집중적으로 공격을 수행한다.\n",
      "3 네트워크 트래픽을 감시하여 비인가 접근을 탐지한다.\n",
      "4 알려진 취약점을 이용하여 자동화된 공격을 수행한다.\n",
      "5 장기간에 걸쳐 지속적이고 은밀하게 공격을 수행한다.\n"
     ]
    },
    {
     "name": "stderr",
     "output_type": "stream",
     "text": [
      "Inference:  48%|████▊     | 245/515 [33:51<26:43,  5.94s/it]"
     ]
    },
    {
     "name": "stdout",
     "output_type": "stream",
     "text": [
      "#################### Answer ###########################\n",
      "4\n",
      "#################### Question ###########################\n",
      "DNSSEC의 주요 기능과 이를 통해 해결할 수 있는 보안 위협을 설명하세요.\n"
     ]
    },
    {
     "name": "stderr",
     "output_type": "stream",
     "text": [
      "Inference:  48%|████▊     | 246/515 [34:31<1:11:27, 15.94s/it]"
     ]
    },
    {
     "name": "stdout",
     "output_type": "stream",
     "text": [
      "#################### Answer ###########################\n",
      "DNSSEC는 도메인 네임 시스템(DNS)의 보안을 강화하는 기술입니다. 이는 인터넷 사용자가 웹사이트에 접속할 때 도메인 이름을 IP 주소로 변환하는 과정에서 데이터의 무결성과 기원 인증을 제공함으로써 다양한 보안 위협을 해결합니다. 예를 들어, DNS 캐싱 공격(DNS spoofing)과 같은 공격으로부터 사용자를 보호할 수 있습니다.\n",
      "#################### Question ###########################\n",
      "정보보호 위험관리에서 위험평가 방법론의 주요 목적은 무엇인가?\n",
      "1 위험의 완전 제거\n",
      "2 위험의 식별 및 평가\n",
      "3 위험의 전가\n",
      "4 위험의 무시\n"
     ]
    },
    {
     "name": "stderr",
     "output_type": "stream",
     "text": [
      "Inference:  48%|████▊     | 247/515 [34:31<50:38, 11.34s/it]  "
     ]
    },
    {
     "name": "stdout",
     "output_type": "stream",
     "text": [
      "#################### Answer ###########################\n",
      "2\n",
      "#################### Question ###########################\n",
      "ISMS-P 인증제도의 주요 특징으로 옳은 것은?\n",
      "1 정보보호 및 개인정보 보호 인증을 자율적으로 선택하여 받을 수 있다\n",
      "2 정보보호와 개인정보 보호를 통합하여 인증\n",
      "3 개인정보 보호만을 인증\n",
      "4 정보보호만을 인증\n",
      "5 정보보호와 개인정보 보호를 별도로 인증\n"
     ]
    },
    {
     "name": "stderr",
     "output_type": "stream",
     "text": [
      "Inference:  48%|████▊     | 248/515 [34:47<56:02, 12.60s/it]"
     ]
    },
    {
     "name": "stdout",
     "output_type": "stream",
     "text": [
      "#################### Answer ###########################\n",
      "2\n",
      "#################### Question ###########################\n",
      "OSI 7 계층 모델에서 데이터 링크 계층의 주요 기능으로 옳은 것은?\n",
      "1 데이터의 암호화\n",
      "2 데이터의 경로 설정\n",
      "3 데이터의 흐름 제어 및 오류 검출\n",
      "4 데이터 패킷의 암호화 키 관리\n",
      "5 데이터의 물리적 전송\n"
     ]
    },
    {
     "name": "stderr",
     "output_type": "stream",
     "text": [
      "Inference:  48%|████▊     | 249/515 [34:47<39:59,  9.02s/it]"
     ]
    },
    {
     "name": "stdout",
     "output_type": "stream",
     "text": [
      "#################### Answer ###########################\n",
      "5\n",
      "#################### Question ###########################\n",
      "딥페이크 기술의 금융사기 예방을 위해 금융권이 검토해야 할 보안 기준은 무엇인가?\n",
      "1 금융기관의 음성 복제 허용\n",
      "2 딥페이크 탐지를 위한 인증 절차 생략\n",
      "3 딥보이스 탐지 기술 무시\n",
      "4 딥페이크 영상 제작 허용\n",
      "5 콘텐츠 제작·활용 시 보안 기준 마련\n"
     ]
    },
    {
     "name": "stderr",
     "output_type": "stream",
     "text": [
      "Inference:  49%|████▊     | 250/515 [34:54<37:11,  8.42s/it]"
     ]
    },
    {
     "name": "stdout",
     "output_type": "stream",
     "text": [
      "#################### Answer ###########################\n",
      "5\n",
      "#################### Question ###########################\n",
      "본인확인기관이 본인확인업무를 휴지하고자 할 때, 이용자에게 통보해야 하는 최소 기간은 며칠인가?\n",
      "1 60일\n",
      "2 15일\n",
      "3 90일\n",
      "4 45일\n",
      "5 30일\n"
     ]
    },
    {
     "name": "stderr",
     "output_type": "stream",
     "text": [
      "Inference:  49%|████▊     | 251/515 [34:57<28:57,  6.58s/it]"
     ]
    },
    {
     "name": "stdout",
     "output_type": "stream",
     "text": [
      "#################### Answer ###########################\n",
      "5\n",
      "#################### Question ###########################\n",
      "금융위원회가 전자금융업자의 허가 또는 등록을 취소할 수 있는 사유로 옳지 않은 것은?\n",
      "1 허위 방법으로 허가를 받은 경우\n",
      "2 1년 이상 영업을 하지 않은 경우\n",
      "3 전자금융거래의 지급 및 결제를 위한 업무를 계속한 경우\n",
      "4 업무 정지명령을 위반한 경우\n"
     ]
    },
    {
     "name": "stderr",
     "output_type": "stream",
     "text": [
      "Inference:  49%|████▉     | 252/515 [34:57<21:06,  4.81s/it]"
     ]
    },
    {
     "name": "stdout",
     "output_type": "stream",
     "text": [
      "#################### Answer ###########################\n",
      "3\n",
      "#################### Question ###########################\n",
      "전자금융업무의 폐지를 위해 필요한 조건으로 옳지 않은 것은?\n",
      "1 관계 법령에 따른 절차이행에 하자가 있을 것\n",
      "2 해당 금융회사의 경영 및 재무상태 등에 비추어 부득이한 사정이 있을 것\n",
      "3 전자화폐 이용자 및 가맹점 보호와 신용질서유지에 지장을 주지 않을 것\n",
      "4 금융위원회의 인가를 받을 것\n"
     ]
    },
    {
     "name": "stderr",
     "output_type": "stream",
     "text": [
      "Inference:  49%|████▉     | 253/515 [34:58<15:40,  3.59s/it]"
     ]
    },
    {
     "name": "stdout",
     "output_type": "stream",
     "text": [
      "#################### Answer ###########################\n",
      "4\n",
      "#################### Question ###########################\n",
      "전자상거래 보안 프로토콜 중에서 데이터의 기밀성을 보장하기 위해 사용되는 프로토콜은 무엇인가?\n",
      "1 FTP\n",
      "2 SSL/TLS\n",
      "3 HTTP\n",
      "4 SMTP\n"
     ]
    },
    {
     "name": "stderr",
     "output_type": "stream",
     "text": [
      "Inference:  49%|████▉     | 254/515 [34:59<12:26,  2.86s/it]"
     ]
    },
    {
     "name": "stdout",
     "output_type": "stream",
     "text": [
      "#################### Answer ###########################\n",
      "2\n",
      "#################### Question ###########################\n",
      "다음 중 불법행위를 위한 광고성 정보 전송을 금지하는 법률 조항에 해당하는 것은?\n",
      "1 정보통신망법 제50조의6\n",
      "2 정보통신망법 제50조의5\n",
      "3 정보통신망법 제50조의8\n",
      "4 정보통신망법 제50조의4\n"
     ]
    },
    {
     "name": "stderr",
     "output_type": "stream",
     "text": [
      "Inference:  50%|████▉     | 255/515 [35:03<14:09,  3.27s/it]"
     ]
    },
    {
     "name": "stdout",
     "output_type": "stream",
     "text": [
      "#################### Answer ###########################\n",
      "4\n",
      "#################### Question ###########################\n",
      "통신과금서비스제공자가 통신과금서비스이용자에게 고지해야 할 사항으로 옳지 않은 것은?\n",
      "1 통신과금서비스의 이용 한도액\n",
      "2 이의신청 방법 및 연락처\n",
      "3 통신과금서비스 이용일시\n",
      "4 거래 상대방의 상호와 연락처\n"
     ]
    },
    {
     "name": "stderr",
     "output_type": "stream",
     "text": [
      "Inference:  50%|████▉     | 256/515 [35:04<10:44,  2.49s/it]"
     ]
    },
    {
     "name": "stdout",
     "output_type": "stream",
     "text": [
      "#################### Answer ###########################\n",
      "4\n",
      "#################### Question ###########################\n",
      "개인신용평가체계 검증위원회의 주요 업무에 해당하지 않는 것은 무엇인가?\n",
      "1 개인신용평가회사의 평가에 사용되는 기초정보에 관한 심의\n",
      "2 개인신용평가회사의 평가모형의 예측력에 관한 심의\n",
      "3 대통령령으로 정하는 유사한 사항에 관한 심의\n",
      "4 개인신용평가회사의 경영상 비밀 공개\n"
     ]
    },
    {
     "name": "stderr",
     "output_type": "stream",
     "text": [
      "Inference:  50%|████▉     | 257/515 [35:12<18:02,  4.19s/it]"
     ]
    },
    {
     "name": "stdout",
     "output_type": "stream",
     "text": [
      "#################### Answer ###########################\n",
      "3\n",
      "#################### Question ###########################\n",
      "개인신용평가회사 및 그 임직원이 개인신용평가 업무를 수행할 때 고려해야 할 사항으로 옳지 않은 것은?\n",
      "1 개인신용평가 과정의 투명성\n",
      "2 개인신용평가 결과의 신속성\n",
      "3 개인신용평가 결과의 정확성과 평가체계의 공정성\n",
      "4 개인신용평가 결과의 영구적 보관\n",
      "5 개인신용평가 과정의 공개성\n"
     ]
    },
    {
     "name": "stderr",
     "output_type": "stream",
     "text": [
      "Inference:  50%|█████     | 258/515 [35:18<19:16,  4.50s/it]"
     ]
    },
    {
     "name": "stdout",
     "output_type": "stream",
     "text": [
      "#################### Answer ###########################\n",
      "4\n",
      "#################### Question ###########################\n",
      "다음 중 네트워크 장비에 해당하지 않는 것은?\n",
      "1 방화벽\n",
      "2 스위치\n",
      "3 로드 밸런서\n",
      "4 데이터베이스 서버\n",
      "5 라우터\n"
     ]
    },
    {
     "name": "stderr",
     "output_type": "stream",
     "text": [
      "Inference:  50%|█████     | 259/515 [35:21<18:03,  4.23s/it]"
     ]
    },
    {
     "name": "stdout",
     "output_type": "stream",
     "text": [
      "#################### Answer ###########################\n",
      "3\n",
      "#################### Question ###########################\n",
      "금융보안 자원할당 및 성과 관리에서 정보보호 예산의 최소 기준으로 규정된 비율은 무엇인가?\n",
      "1 정보기술예산의 7%\n",
      "2 정보기술예산의 5%\n",
      "3 정보기술예산의 3%\n",
      "4 정보기술예산의 10%\n"
     ]
    },
    {
     "name": "stderr",
     "output_type": "stream",
     "text": [
      "Inference:  50%|█████     | 260/515 [35:25<16:52,  3.97s/it]"
     ]
    },
    {
     "name": "stdout",
     "output_type": "stream",
     "text": [
      "#################### Answer ###########################\n",
      "3\n",
      "#################### Question ###########################\n",
      "정보통신망법에 의거 \"정보통신망 이용촉진 및 정보보호등에 관한 시책의 마련\"에 포함되지 않는 사항은?\n",
      "1 정보통신망의 안전성 및 신뢰성 제고\n",
      "2 정보통신망에서의 청소년 보호\n",
      "3 정보통신망의 사용 제한\n",
      "4 정보통신망 상의 개인정보 암호화 의무 강화\n",
      "5 정보통신망을 통한 정보의 공동활용 촉진\n"
     ]
    },
    {
     "name": "stderr",
     "output_type": "stream",
     "text": [
      "Inference:  51%|█████     | 261/515 [36:44<1:52:08, 26.49s/it]"
     ]
    },
    {
     "name": "stdout",
     "output_type": "stream",
     "text": [
      "#################### Answer ###########################\n",
      "0\n",
      "#################### Question ###########################\n",
      "다음 중 DB 보안에서 데이터베이스 암호화의 중요성에 대한 설명으로 가장 적절한 것은?\n",
      "1 데이터베이스 암호화는 내부자에 의한 정보 유출을 방지할 수 있다.\n",
      "2 데이터베이스 암호화는 모든 보안 문제를 해결할 수 있다.\n",
      "3 데이터베이스 암호화는 데이터베이스 성능을 항상 향상시킨다.\n",
      "4 데이터베이스 암호화는 외부 해커의 공격만을 방어한다.\n"
     ]
    },
    {
     "name": "stderr",
     "output_type": "stream",
     "text": [
      "Inference:  51%|█████     | 262/515 [36:44<1:19:07, 18.76s/it]"
     ]
    },
    {
     "name": "stdout",
     "output_type": "stream",
     "text": [
      "#################### Answer ###########################\n",
      "1\n",
      "#################### Question ###########################\n",
      "인정기관이 전자서명인증사업자에게 발급해야 하는 증명서에 포함되어야 할 내용은 무엇인가?\n",
      "1 인증사업자의 고객 수\n",
      "2 평가 결과와 운영기준 준수 여부\n",
      "3 인정내용 및 유효기간\n",
      "4 인증사업자의 재무 상태\n",
      "5 인증사업자의 정보보호 정책 전문\n"
     ]
    },
    {
     "name": "stderr",
     "output_type": "stream",
     "text": [
      "Inference:  51%|█████     | 263/515 [37:12<1:29:30, 21.31s/it]"
     ]
    },
    {
     "name": "stdout",
     "output_type": "stream",
     "text": [
      "#################### Answer ###########################\n",
      "1\n",
      "#################### Question ###########################\n",
      "다음 중 '보호대책 요구사항'에 포함되지 않는 항목은 무엇인가?\n",
      "1 사용자 계정 관리\n",
      "2 재해 복구 시험 및 개선\n",
      "3 암호키 관리\n",
      "4 정보시스템 보호\n"
     ]
    },
    {
     "name": "stderr",
     "output_type": "stream",
     "text": [
      "Inference:  51%|█████▏    | 264/515 [37:20<1:12:59, 17.45s/it]"
     ]
    },
    {
     "name": "stdout",
     "output_type": "stream",
     "text": [
      "#################### Answer ###########################\n",
      "5\n",
      "#################### Question ###########################\n",
      "다음 중 저축은행의 건전한 발전을 도모하기 위해 설립된 기관은 무엇인가?\n",
      "1 저축은행중앙회\n",
      "2 한국자산관리공사\n",
      "3 금융보안원\n",
      "4 한국투자공사\n",
      "5 서민금융진흥원\n"
     ]
    },
    {
     "name": "stderr",
     "output_type": "stream",
     "text": [
      "Inference:  51%|█████▏    | 265/515 [37:21<51:39, 12.40s/it]  "
     ]
    },
    {
     "name": "stdout",
     "output_type": "stream",
     "text": [
      "#################### Answer ###########################\n",
      "3\n",
      "#################### Question ###########################\n",
      "전자서명인증사업자가 인증업무준칙을 변경한 경우, 다음 중 올바른 조치는?\n",
      "1 변경 사항을 내부적으로만 공유한다.\n",
      "2 변경된 인증업무준칙을 게시하지 않는다.\n",
      "3 변경된 인증업무준칙을 관련 기관에만 비공개로 제출한다.\n",
      "4 변경된 인증업무준칙을 인터넷 홈페이지에 게시한다.\n",
      "5 변경된 인증업무준칙을 고객에게 개별 통지한다.\n"
     ]
    },
    {
     "name": "stderr",
     "output_type": "stream",
     "text": [
      "Inference:  52%|█████▏    | 266/515 [37:21<36:56,  8.90s/it]"
     ]
    },
    {
     "name": "stdout",
     "output_type": "stream",
     "text": [
      "#################### Answer ###########################\n",
      "4\n",
      "#################### Question ###########################\n",
      "전자자금이체의 이용한도는 얼마의 범위에서 정하여 고시되는가?\n",
      "1 50만원\n",
      "2 100억원\n",
      "3 1억원\n",
      "4 1천만원\n"
     ]
    },
    {
     "name": "stderr",
     "output_type": "stream",
     "text": [
      "Inference:  52%|█████▏    | 267/515 [37:24<28:48,  6.97s/it]"
     ]
    },
    {
     "name": "stdout",
     "output_type": "stream",
     "text": [
      "#################### Answer ###########################\n",
      "4\n",
      "#################### Question ###########################\n",
      "응용 보안에서 소프트웨어 개발 생명주기(SDLC) 단계별로 요구되는 보안활동을 수행하는 이유로 가장 적절한 것은?\n",
      "1 소프트웨어 개발 비용을 절감하기 위해\n",
      "2 소프트웨어의 기능을 확장하기 위해\n",
      "3 소프트웨어의 접근성을 높이기 위해\n",
      "4 소프트웨어의 사용자 인터페이스를 개선하기 위해\n",
      "5 소프트웨어의 보안 취약점을 최소화하기 위해\n"
     ]
    },
    {
     "name": "stderr",
     "output_type": "stream",
     "text": [
      "Inference:  52%|█████▏    | 268/515 [37:25<20:59,  5.10s/it]"
     ]
    },
    {
     "name": "stdout",
     "output_type": "stream",
     "text": [
      "#################### Answer ###########################\n",
      "5\n",
      "#################### Question ###########################\n",
      "금융권에서 클라우드 컴퓨팅 서비스를 활용하는 주요 이유로 가장 적절한 것은?\n",
      "1 비용 절감 및 인프라 운영 효율성\n",
      "2 금융 규제 준수\n",
      "3 고객 서비스의 개인화\n",
      "4 데이터 보안 강화\n"
     ]
    },
    {
     "name": "stderr",
     "output_type": "stream",
     "text": [
      "Inference:  52%|█████▏    | 269/515 [37:30<21:29,  5.24s/it]"
     ]
    },
    {
     "name": "stdout",
     "output_type": "stream",
     "text": [
      "#################### Answer ###########################\n",
      "1\n",
      "#################### Question ###########################\n",
      "다음 중 전자금융거래 보안에서 거래 보안기술에 해당하지 않는 것은?\n",
      "1 데이터 압축 기술\n",
      "2 이용자 입력데이터 보호\n",
      "3 단말기 영역 보호\n",
      "4 이용자 인증보안\n",
      "5 트랜잭션 데이터 백업\n"
     ]
    },
    {
     "name": "stderr",
     "output_type": "stream",
     "text": [
      "Inference:  52%|█████▏    | 270/515 [37:31<15:46,  3.86s/it]"
     ]
    },
    {
     "name": "stdout",
     "output_type": "stream",
     "text": [
      "#################### Answer ###########################\n",
      "1\n",
      "#################### Question ###########################\n",
      "전자금융의 발전 과정에서 나타난 변화로 옳지 않은 것은?\n",
      "1 국제 웹 표준이 적용되었다.\n",
      "2 금융소비자의 직접 대면 거래가 증가하였다.\n",
      "3 공인인증서 의무사용이 폐지되었다.\n",
      "4 금융업종간 장벽이 허물어졌다.\n"
     ]
    },
    {
     "name": "stderr",
     "output_type": "stream",
     "text": [
      "Inference:  53%|█████▎    | 271/515 [37:31<11:49,  2.91s/it]"
     ]
    },
    {
     "name": "stdout",
     "output_type": "stream",
     "text": [
      "#################### Answer ###########################\n",
      "2\n",
      "#################### Question ###########################\n",
      "다음 중 전자금융거래 보안관리 통제에 포함되지 않는 것은?\n",
      "1 의심되는 전자금융거래 모니터링\n",
      "2 전자금융거래의 모든 데이터를 외부에 공개\n",
      "3 전자금융시스템의 보안취약점 평가\n",
      "4 전자금융서비스 개발 시 보안위협 사전 평가\n"
     ]
    },
    {
     "name": "stderr",
     "output_type": "stream",
     "text": [
      "Inference:  53%|█████▎    | 272/515 [37:32<09:04,  2.24s/it]"
     ]
    },
    {
     "name": "stdout",
     "output_type": "stream",
     "text": [
      "#################### Answer ###########################\n",
      "2\n",
      "#################### Question ###########################\n",
      "신용평가시스템에서 개인의 신용평점을 산출하기 위해 사용되는 평가기준이 아닌 것은?\n",
      "1 상환이력정보\n",
      "2 신용거래기간\n",
      "3 현재 부채수준\n",
      "4 사업장 업력 및 업종\n"
     ]
    },
    {
     "name": "stderr",
     "output_type": "stream",
     "text": [
      "Inference:  53%|█████▎    | 273/515 [37:36<10:57,  2.72s/it]"
     ]
    },
    {
     "name": "stdout",
     "output_type": "stream",
     "text": [
      "#################### Answer ###########################\n",
      "4\n",
      "#################### Question ###########################\n",
      "전자서명의 효력에 대한 설명으로 가장 적절한 것은?\n",
      "1 전자서명은 서명자의 신원을 보장하지 않는다.\n",
      "2 전자서명은 공인인증기관에서만 발급 가능하다.\n",
      "3 전자서명은 오프라인 서명과 달리 법적 분쟁 시 증거로 활용될 수 없다.\n",
      "4 전자서명은 서명자의 실지명의를 확인할 수 있어야 한다.\n",
      "5 전자서명은 모든 전자문서에 동일한 법적 효력을 가진다.\n"
     ]
    },
    {
     "name": "stderr",
     "output_type": "stream",
     "text": [
      "Inference:  53%|█████▎    | 274/515 [37:45<18:04,  4.50s/it]"
     ]
    },
    {
     "name": "stdout",
     "output_type": "stream",
     "text": [
      "#################### Answer ###########################\n",
      "4\n",
      "#################### Question ###########################\n",
      "웹 애플리케이션 보안에서 OWASP Top 10에 포함되지 않는 항목은 무엇인가?\n",
      "1 데이터베이스 암호화\n",
      "2 SQL 인젝션\n",
      "3 보안 서버 설정 오류\n",
      "4 크로스 사이트 스크립팅\n"
     ]
    },
    {
     "name": "stderr",
     "output_type": "stream",
     "text": [
      "Inference:  53%|█████▎    | 275/515 [37:45<13:19,  3.33s/it]"
     ]
    },
    {
     "name": "stdout",
     "output_type": "stream",
     "text": [
      "#################### Answer ###########################\n",
      "4\n",
      "#################### Question ###########################\n",
      "금융보안 거버넌스의 개념에 대한 설명으로 가장 적절한 것은?\n",
      "1 금융회사의 모든 IT 시스템을 외부에 위탁하는 것을 의미한다.\n",
      "2 금융회사의 보안 업무를 IT 부서에 전담시키는 것을 의미한다.\n",
      "3 금융회사의 모든 보안 규제를 폐지하는 것을 의미한다.\n",
      "4 금융회사의 정보보호 위험관리 거버넌스를 의미한다.\n"
     ]
    },
    {
     "name": "stderr",
     "output_type": "stream",
     "text": [
      "Inference:  54%|█████▎    | 276/515 [37:46<10:09,  2.55s/it]"
     ]
    },
    {
     "name": "stdout",
     "output_type": "stream",
     "text": [
      "#################### Answer ###########################\n",
      "4\n",
      "#################### Question ###########################\n",
      "책임감 있는 AI 구현을 위해 금융권에서 활용할 수 있는 기술로 적절한 것은?\n",
      "1 AI 기반 데이터 분석 도구\n",
      "2 AI 기반 자동화 시스템\n",
      "3 AI 기반 고객 서비스 챗봇\n",
      "4 XAI(설명가능한 인공지능)\n"
     ]
    },
    {
     "name": "stderr",
     "output_type": "stream",
     "text": [
      "Inference:  54%|█████▍    | 277/515 [37:47<07:48,  1.97s/it]"
     ]
    },
    {
     "name": "stdout",
     "output_type": "stream",
     "text": [
      "#################### Answer ###########################\n",
      "4\n",
      "#################### Question ###########################\n",
      "암호화 적용'에 대한 설명으로 올바르지 않은 것은?\n",
      "1 암호정책 적용은 암호화 적용의 일부이다.\n",
      "2 암호화 적용은 정보시스템의 보안성을 높인다.\n",
      "3 암호화 적용은 물리적 보안에 해당한다.\n",
      "4 암호키 관리는 암호화 적용에 포함된다.\n"
     ]
    },
    {
     "name": "stderr",
     "output_type": "stream",
     "text": [
      "Inference:  54%|█████▍    | 278/515 [37:47<06:15,  1.58s/it]"
     ]
    },
    {
     "name": "stdout",
     "output_type": "stream",
     "text": [
      "#################### Answer ###########################\n",
      "3\n",
      "#################### Question ###########################\n",
      "공개 키 기반 분배 방식의 원리에 대한 설명으로 가장 적절한 것은?\n",
      "1 대칭 키와 비대칭 키를 혼합하여 사용한다.\n",
      "2 비공개 키를 사용하여 데이터를 암호화하고 공개 키로 복호화한다.\n",
      "3 대칭 키를 사용하여 데이터를 암호화한다.\n",
      "4 공개 키를 사용하여 데이터를 암호화하고 비공개 키로 복호화한다.\n"
     ]
    },
    {
     "name": "stderr",
     "output_type": "stream",
     "text": [
      "Inference:  54%|█████▍    | 279/515 [38:16<37:52,  9.63s/it]"
     ]
    },
    {
     "name": "stdout",
     "output_type": "stream",
     "text": [
      "#################### Answer ###########################\n",
      "4\n",
      "#################### Question ###########################\n",
      "SBOM(Software Bill of Materials)에 대한 설명으로 가장 적절한 것은?\n",
      "1 SBOM은 소프트웨어의 사용 설명서를 제공하는 문서이다.\n",
      "2 SBOM은 소프트웨어의 구성요소 및 패키지 정보를 목록화한 명세서이다.\n",
      "3 SBOM은 소프트웨어의 소스 코드를 공개하는 문서이다.\n",
      "4 SBOM은 소프트웨어의 라이선스 정보를 제공하는 문서이다.\n"
     ]
    },
    {
     "name": "stderr",
     "output_type": "stream",
     "text": [
      "Inference:  54%|█████▍    | 280/515 [38:16<27:13,  6.95s/it]"
     ]
    },
    {
     "name": "stdout",
     "output_type": "stream",
     "text": [
      "#################### Answer ###########################\n",
      "2\n",
      "#################### Question ###########################\n",
      "하이브리드 위협의 특징으로 가장 적절한 것은?\n",
      "1 사이버 공간에서만 발생한다.\n",
      "2 복잡한 인증 절차를 우회하지 않고 정해진 프로토콜만을 이용한다.\n",
      "3 단일 채널을 통해 피해를 초래한다.\n",
      "4 물리적 영역만을 대상으로 한다.\n",
      "5 온·오프라인 연계를 통해 공격주체의 노출을 최소화한다.\n"
     ]
    },
    {
     "name": "stderr",
     "output_type": "stream",
     "text": [
      "Inference:  55%|█████▍    | 281/515 [38:25<28:44,  7.37s/it]"
     ]
    },
    {
     "name": "stdout",
     "output_type": "stream",
     "text": [
      "#################### Answer ###########################\n",
      "5\n",
      "#################### Question ###########################\n",
      "다음 중 단말 운영체제에 해당하지 않는 것은 무엇인가?\n",
      "1 Linux\n",
      "2 SQL Server\n",
      "3 Windows\n",
      "4 Oracle Database\n",
      "5 Android\n"
     ]
    },
    {
     "name": "stderr",
     "output_type": "stream",
     "text": [
      "Inference:  55%|█████▍    | 282/515 [38:25<20:42,  5.33s/it]"
     ]
    },
    {
     "name": "stdout",
     "output_type": "stream",
     "text": [
      "#################### Answer ###########################\n",
      "4\n",
      "#################### Question ###########################\n",
      "개인정보 영향평가(PIA)의 주요 목적은 무엇인가?\n",
      "1 개인정보 침해 사고의 사전 예방\n",
      "2 개인정보 처리 시스템의 자동화\n",
      "3 개인정보 처리 업무의 외주화 촉진\n",
      "4 개인정보 처리 비용 절감\n",
      "5 개인정보 처리 시스템의 효율성 증대\n"
     ]
    },
    {
     "name": "stderr",
     "output_type": "stream",
     "text": [
      "Inference:  55%|█████▍    | 283/515 [38:39<30:16,  7.83s/it]"
     ]
    },
    {
     "name": "stdout",
     "output_type": "stream",
     "text": [
      "#################### Answer ###########################\n",
      "1\n",
      "#################### Question ###########################\n",
      "다음 중 금융보안 법규 동향에 대한 설명으로 옳은 것은?\n",
      "1 금융보안 법규는 금융회사의 자율보안체계 확립에 도움을 준다.\n",
      "2 금융보안 법규는 물리적 보안만을 대상으로 하며 정보보호와는 관련이 없다.\n",
      "3 개인정보 보호법은 금융보안 법규에 포함되지 않는다.\n",
      "4 신용정보법은 금융보안 법규와 관련이 없다.\n",
      "5 전자금융거래법은 금융보안과 무관하다.\n"
     ]
    },
    {
     "name": "stderr",
     "output_type": "stream",
     "text": [
      "Inference:  55%|█████▌    | 284/515 [38:40<21:57,  5.70s/it]"
     ]
    },
    {
     "name": "stdout",
     "output_type": "stream",
     "text": [
      "#################### Answer ###########################\n",
      "1\n",
      "#################### Question ###########################\n",
      "다음 중 정보통신망의 표준화 및 인증에 관한 규정으로 옳지 않은 것은?\n",
      "1 인증을 받은 자는 제품이 표준에 적합한 것임을 나타내는 표시를 할 수 있다.\n",
      "2 과학기술정보통신부장관은 표준화의 대상, 방법, 절차를 대통령령으로 정한다.\n",
      "3 표준에 부적합한 제품도 임시적으로 인증 표시를 부착할 수 있다.\n",
      "4 인증을 받지 않은 자는 표준에 적합한 것임을 나타내는 표시를 할 수 없다.\n",
      "5 인증을 받은 경우, 제품을 판매할 목적으로 진열할 수 있다.\n"
     ]
    },
    {
     "name": "stderr",
     "output_type": "stream",
     "text": [
      "Inference:  55%|█████▌    | 285/515 [38:41<16:25,  4.29s/it]"
     ]
    },
    {
     "name": "stdout",
     "output_type": "stream",
     "text": [
      "#################### Answer ###########################\n",
      "3\n",
      "#################### Question ###########################\n",
      "정보통신망법 제23조의5에 따르면, 본인확인기관이 연계정보를 생성 또는 처리할 수 있는 경우로 적절한 것은?\n",
      "1 연계정보를 암호화하지 않고 처리할 때\n",
      "2 연계정보를 마케팅 목적으로 내부 분석에 활용할 때\n",
      "3 연계정보를 외부 기관에 무단으로 제공할 때\n",
      "4 연계정보를 주민등록번호와 함께 보관할 때\n",
      "5 이용자가 입력한 정보를 이용하여 안전하게 식별ㆍ인증하기 위한 서비스 제공 시\n"
     ]
    },
    {
     "name": "stderr",
     "output_type": "stream",
     "text": [
      "Inference:  56%|█████▌    | 286/515 [38:59<32:11,  8.43s/it]"
     ]
    },
    {
     "name": "stdout",
     "output_type": "stream",
     "text": [
      "#################### Answer ###########################\n",
      "4\n",
      "#################### Question ###########################\n",
      "네트워크 접근통제(NAC)에 대한 설명으로 옳지 않은 것은?\n",
      "1 NAC는 사용자 인증을 통해 네트워크 접근을 제어한다.\n",
      "2 NAC는 네트워크에 연결된 장치의 보안 상태를 점검한다.\n",
      "3 NAC는 네트워크에 대한 불법 접근을 방지한다.\n",
      "4 NAC는 네트워크 내 모든 데이터의 무결성을 자동으로 보장한다.\n",
      "5 NAC는 네트워크 트래픽을 암호화하여 보호한다.\n"
     ]
    },
    {
     "name": "stderr",
     "output_type": "stream",
     "text": [
      "Inference:  56%|█████▌    | 287/515 [38:59<23:16,  6.12s/it]"
     ]
    },
    {
     "name": "stdout",
     "output_type": "stream",
     "text": [
      "#################### Answer ###########################\n",
      "4\n",
      "#################### Question ###########################\n",
      "전자금융거래법 제36조에 따라 유사명칭의 사용이 금지된 경우는?\n",
      "1 전자화폐의 명칭을 사용하는 경우\n",
      "2 금융기관의 명칭을 사용하는 경우\n",
      "3 전자금융업자의 명칭을 사용하는 경우\n",
      "4 전자지급결제대행업자의 명칭을 사용하는 경우\n"
     ]
    },
    {
     "name": "stderr",
     "output_type": "stream",
     "text": [
      "Inference:  56%|█████▌    | 288/515 [39:00<16:59,  4.49s/it]"
     ]
    },
    {
     "name": "stdout",
     "output_type": "stream",
     "text": [
      "#################### Answer ###########################\n",
      "3\n",
      "#################### Question ###########################\n",
      "클라우드 마이그레이션 시 금융권에서 주의해야 할 보안 위협은 무엇인가?\n",
      "1 초기 비용 증가\n",
      "2 하드웨어 의존성 감소\n",
      "3 하이퍼바이저 취약점\n",
      "4 데이터 전송 속도 저하\n",
      "5 클라우드 서비스 자동화로 인한 사용자 인증 절차 단순화\n"
     ]
    },
    {
     "name": "stderr",
     "output_type": "stream",
     "text": [
      "Inference:  56%|█████▌    | 289/515 [39:03<15:23,  4.09s/it]"
     ]
    },
    {
     "name": "stdout",
     "output_type": "stream",
     "text": [
      "#################### Answer ###########################\n",
      "3\n",
      "#################### Question ###########################\n",
      "악성 메일 및 웜 대책에서 가장 중요한 보안 조치로 적절한 것은?\n",
      "1 최신 보안 경향에 관심을 두지 않는다.\n",
      "2 메일 클라이언트의 스크립팅 기능을 활성화한다.\n",
      "3 메일 클라이언트의 스크립팅 기능을 비활성화한다.\n",
      "4 메일 서버의 모든 트래픽을 허용한다.\n"
     ]
    },
    {
     "name": "stderr",
     "output_type": "stream",
     "text": [
      "Inference:  56%|█████▋    | 290/515 [39:04<11:30,  3.07s/it]"
     ]
    },
    {
     "name": "stdout",
     "output_type": "stream",
     "text": [
      "#################### Answer ###########################\n",
      "3\n",
      "#################### Question ###########################\n",
      "개인정보처리자가 정보주체의 개인정보 정정 또는 삭제 요구를 받은 경우, 처리 결과를 통지해야 하는 기간은?\n",
      "1 20일 이내\n",
      "2 10일 이내\n",
      "3 15일 이내\n",
      "4 5일 이내\n",
      "5 30일 이내\n"
     ]
    },
    {
     "name": "stderr",
     "output_type": "stream",
     "text": [
      "Inference:  57%|█████▋    | 291/515 [39:09<13:35,  3.64s/it]"
     ]
    },
    {
     "name": "stdout",
     "output_type": "stream",
     "text": [
      "#################### Answer ###########################\n",
      "4\n",
      "#################### Question ###########################\n",
      "금융 사물인터넷(FoT)의 활용 사례로 적절하지 않은 것은?\n",
      "1 클라우드 기반의 대용량 데이터 분석\n",
      "2 스마트 ATM을 통한 개인 맞춤형 금융 서비스 제공\n",
      "3 스마트워치를 통한 간편결제 서비스\n",
      "4 운전습관 추적장치를 통한 보험료 할인\n"
     ]
    },
    {
     "name": "stderr",
     "output_type": "stream",
     "text": [
      "Inference:  57%|█████▋    | 292/515 [39:10<10:14,  2.76s/it]"
     ]
    },
    {
     "name": "stdout",
     "output_type": "stream",
     "text": [
      "#################### Answer ###########################\n",
      "4\n",
      "#################### Question ###########################\n",
      "다음 중 전자금융사고 유형별 대응방안에 대한 설명으로 옳은 것은?\n",
      "1 전자금융사고는 금융보안원이 단독으로 처리한다.\n",
      "2 전자금융사고는 유형에 따라 맞춤형 대응이 필요하다.\n",
      "3 모든 전자금융사고는 동일한 대응 절차를 따른다.\n",
      "4 전자금융사고는 발생 후 대응이 불가능하다.\n"
     ]
    },
    {
     "name": "stderr",
     "output_type": "stream",
     "text": [
      "Inference:  57%|█████▋    | 293/515 [39:10<07:56,  2.14s/it]"
     ]
    },
    {
     "name": "stdout",
     "output_type": "stream",
     "text": [
      "#################### Answer ###########################\n",
      "2\n",
      "#################### Question ###########################\n",
      "정보통신망법 제44조의7에 따르면, 정보통신망을 통해 유통이 금지된 정보에 해당하지 않는 것은?\n",
      "1 악성코드 유포를 목적으로 제작된 파일을 전송하는 정보\n",
      "2 정당한 사유 없이 정보통신시스템을 변경하는 정보\n",
      "3 공공의 이익을 위한 정보 공개\n",
      "4 타인의 명예를 훼손하는 사실이나 거짓의 사실을 드러내는 정보\n",
      "5 음란한 부호, 문언, 음향, 화상 또는 영상을 배포하는 정보\n"
     ]
    },
    {
     "name": "stderr",
     "output_type": "stream",
     "text": [
      "Inference:  57%|█████▋    | 294/515 [39:11<06:21,  1.72s/it]"
     ]
    },
    {
     "name": "stdout",
     "output_type": "stream",
     "text": [
      "#################### Answer ###########################\n",
      "4\n",
      "#################### Question ###########################\n",
      "금융회사 등이 전자적 장치의 작동오류로 인해 이용자의 접근매체를 획득한 경우, 반환 시 필요한 조치는 무엇인가?\n",
      "1 접근매체의 대여\n",
      "2 본인임을 확인할 수 있는 신분증 제시 요청\n",
      "3 접근매체의 임시 보관\n",
      "4 접근매체의 비밀번호를 변경한 후 반환\n",
      "5 접근매체의 즉시 폐기\n"
     ]
    },
    {
     "name": "stderr",
     "output_type": "stream",
     "text": [
      "Inference:  57%|█████▋    | 295/515 [39:12<05:10,  1.41s/it]"
     ]
    },
    {
     "name": "stdout",
     "output_type": "stream",
     "text": [
      "#################### Answer ###########################\n",
      "4\n",
      "#################### Question ###########################\n",
      "영리목적의 광고성 정보 전송을 타인에게 위탁한 자가 해야 할 관리·감독의 내용으로 옳은 것은?\n",
      "1 위탁받은 자의 광고성 정보 전송을 제한 없이 허용한다.\n",
      "2 위탁받은 자의 광고성 정보 전송을 무조건 승인한다.\n",
      "3 위탁받은 자가 제50조를 위반하지 않도록 관리·감독한다.\n",
      "4 위탁받은 자의 모든 광고성 정보 전송을 직접 수행한다.\n"
     ]
    },
    {
     "name": "stderr",
     "output_type": "stream",
     "text": [
      "Inference:  57%|█████▋    | 296/515 [39:35<29:21,  8.04s/it]"
     ]
    },
    {
     "name": "stdout",
     "output_type": "stream",
     "text": [
      "#################### Answer ###########################\n",
      "3\n",
      "#################### Question ###########################\n",
      "다음 중 한국자산관리공사의 주요 업무가 아닌 것은?\n",
      "1 기업구조조정업무\n",
      "2 외환보유액 및 공공기금의 효율적 운용\n",
      "3 금융회사 부실채권 인수 및 정리\n",
      "4 국유재산관리 및 체납조세정리\n"
     ]
    },
    {
     "name": "stderr",
     "output_type": "stream",
     "text": [
      "Inference:  58%|█████▊    | 297/515 [39:36<21:10,  5.83s/it]"
     ]
    },
    {
     "name": "stdout",
     "output_type": "stream",
     "text": [
      "#################### Answer ###########################\n",
      "4\n",
      "#################### Question ###########################\n",
      "신용정보 보호를 위한 기술적 보안대책으로 가장 적절한 것은?\n",
      "1 개인정보의 출력·복사 기록 관리\n",
      "2 접근통제\n",
      "3 정기적인 신용정보 처리 직원 보안 교육 실시\n",
      "4 신용정보의 용도별 출력 항목 최소화\n",
      "5 신용정보관리·보호인 지정\n"
     ]
    },
    {
     "name": "stderr",
     "output_type": "stream",
     "text": [
      "Inference:  58%|█████▊    | 298/515 [39:38<16:36,  4.59s/it]"
     ]
    },
    {
     "name": "stdout",
     "output_type": "stream",
     "text": [
      "#################### Answer ###########################\n",
      "4\n",
      "#################### Question ###########################\n",
      "디지털지갑의 주요 기능으로 옳지 않은 것은?\n",
      "1 결제\n",
      "2 주식 거래\n",
      "3 암호화폐 채굴\n",
      "4 전자문서 중계\n",
      "5 본인확인\n"
     ]
    },
    {
     "name": "stderr",
     "output_type": "stream",
     "text": [
      "Inference:  58%|█████▊    | 299/515 [39:39<13:27,  3.74s/it]"
     ]
    },
    {
     "name": "stdout",
     "output_type": "stream",
     "text": [
      "#################### Answer ###########################\n",
      "2\n",
      "#################### Question ###########################\n",
      "전자서명법 제9조에 따라 인정기관으로 지정될 수 있는 기관은 무엇인가?\n",
      "1 금융결제원\n",
      "2 과학기술정보통신부\n",
      "3 한국은행\n",
      "4 한국인터넷진흥원\n",
      "5 금융감독원\n"
     ]
    },
    {
     "name": "stderr",
     "output_type": "stream",
     "text": [
      "Inference:  58%|█████▊    | 300/515 [39:42<11:41,  3.26s/it]"
     ]
    },
    {
     "name": "stdout",
     "output_type": "stream",
     "text": [
      "#################### Answer ###########################\n",
      "5\n",
      "#################### Question ###########################\n",
      "금융보안 위험관리가 효과적으로 운영되기 위해 필요한 요소로 가장 적절한 것은?\n",
      "1 금융보안원의 독립적인 운영\n",
      "2 금융감독원의 단독 관리\n",
      "3 금융회사의 최고경영자의 책임감과 참여\n",
      "4 금융회사의 모든 부서의 독립적 운영\n"
     ]
    },
    {
     "name": "stderr",
     "output_type": "stream",
     "text": [
      "Inference:  58%|█████▊    | 301/515 [39:42<08:52,  2.49s/it]"
     ]
    },
    {
     "name": "stdout",
     "output_type": "stream",
     "text": [
      "#################### Answer ###########################\n",
      "3\n",
      "#################### Question ###########################\n",
      "전자서명인증사업자가 국제통용평가를 받은 경우, 평가기관의 평가를 받은 것으로 보는 이유는 무엇인가?\n",
      "1 국제통용평가가 전자서명인증서비스의 신뢰성을 보장하기 때문에\n",
      "2 국제통용평가가 정보보호관리체계(ISMS) 인증과 동일하게 간주되기 때문에\n",
      "3 국제통용평가가 평가기관의 평가를 대체할 수 있기 때문에\n",
      "4 국제통용평가가 국내 평가보다 엄격하기 때문에\n",
      "5 국제통용평가가 전자서명인증서비스의 안전성을 보장하기 때문에\n"
     ]
    },
    {
     "name": "stderr",
     "output_type": "stream",
     "text": [
      "Inference:  59%|█████▊    | 302/515 [39:52<16:18,  4.60s/it]"
     ]
    },
    {
     "name": "stdout",
     "output_type": "stream",
     "text": [
      "#################### Answer ###########################\n",
      "1\n",
      "#################### Question ###########################\n",
      "전자금융거래법 제21조에 따라 금융회사 및 전자금융업자가 전자금융기반시설의 취약점 분석ㆍ평가 결과를 보고해야 하는 기관은 어디인가?\n",
      "1 금융위원회\n",
      "2 대통령령\n",
      "3 금융감독원\n",
      "4 정보보호위원회\n",
      "5 한국인터넷진흥원\n"
     ]
    },
    {
     "name": "stderr",
     "output_type": "stream",
     "text": [
      "Inference:  59%|█████▉    | 303/515 [39:54<13:57,  3.95s/it]"
     ]
    },
    {
     "name": "stdout",
     "output_type": "stream",
     "text": [
      "#################### Answer ###########################\n",
      "3\n",
      "#################### Question ###########################\n",
      "TCP와 UDP의 차이점으로 옳지 않은 것은?\n",
      "1 TCP와 UDP 모두 데이터 무결성을 보장하는 암호화 기능을 기본적으로 제공한다.\n",
      "2 UDP는 비연결형 프로토콜이다.\n",
      "3 TCP는 연결 지향형 프로토콜이다.\n",
      "4 UDP는 데이터 전송의 순서를 보장한다.\n",
      "5 TCP는 데이터 전송의 신뢰성을 보장한다.\n"
     ]
    },
    {
     "name": "stderr",
     "output_type": "stream",
     "text": [
      "Inference:  59%|█████▉    | 304/515 [39:55<10:27,  2.97s/it]"
     ]
    },
    {
     "name": "stdout",
     "output_type": "stream",
     "text": [
      "#################### Answer ###########################\n",
      "4\n",
      "#################### Question ###########################\n",
      "명예훼손 분쟁조정부의 위원 위촉에 대한 설명으로 옳은 것은?\n",
      "1 심의위원회의 위원장이 심의위원회의 동의를 받아 위촉한다.\n",
      "2 심의위원회의 위원장이 단독으로 위촉한다.\n",
      "3 심의위원회의 동의 없이 위촉할 수 있다.\n",
      "4 대통령이 직접 위촉한다.\n"
     ]
    },
    {
     "name": "stderr",
     "output_type": "stream",
     "text": [
      "Inference:  59%|█████▉    | 305/515 [40:04<16:29,  4.71s/it]"
     ]
    },
    {
     "name": "stdout",
     "output_type": "stream",
     "text": [
      "#################### Answer ###########################\n",
      "1\n",
      "#################### Question ###########################\n",
      "다음 중 금융업무의 이해에 대한 설명으로 가장 적절한 것은?\n",
      "1 금융회사는 단일 상품만을 제공한다.\n",
      "2 금융회사는 모든 금융거래에서 고객 인증 절차를 생략할 수 있다.\n",
      "3 금융회사는 투자 상품만을 취급한다.\n",
      "4 금융회사는 국내 금융 감독기관의 감독을 받지 않는다.\n",
      "5 금융회사는 다양한 상품을 결합하여 제공할 수 있다.\n"
     ]
    },
    {
     "name": "stderr",
     "output_type": "stream",
     "text": [
      "Inference:  59%|█████▉    | 306/515 [40:12<20:07,  5.78s/it]"
     ]
    },
    {
     "name": "stdout",
     "output_type": "stream",
     "text": [
      "#################### Answer ###########################\n",
      "5\n",
      "#################### Question ###########################\n",
      "정보보호 관리등급의 취소 사유로 옳지 않은 것은?\n",
      "1 등급 부여 후 홍보에 활용하지 않은 경우\n",
      "2 정보보호 관리체계 인증을 받지 않은 경우\n",
      "3 거짓이나 부정한 방법으로 등급을 받은 경우\n",
      "4 등급기준에 미달하게 된 경우\n"
     ]
    },
    {
     "name": "stderr",
     "output_type": "stream",
     "text": [
      "Inference:  60%|█████▉    | 307/515 [40:17<18:51,  5.44s/it]"
     ]
    },
    {
     "name": "stdout",
     "output_type": "stream",
     "text": [
      "#################### Answer ###########################\n",
      "4\n",
      "#################### Question ###########################\n",
      "전자금융거래법 제24조에 의하면, 이용자가 약관 변경에 대해 이의를 제기하지 않을 경우, 이는 무엇을 의미하는가?\n",
      "1 약관 변경을 승인한 것으로 본다.\n",
      "2 약관 변경에 대해 재협상해야 한다.\n",
      "3 약관 변경을 거부한 것으로 본다.\n",
      "4 약관 변경에 대해 법적 조치를 취해야 한다.\n"
     ]
    },
    {
     "name": "stderr",
     "output_type": "stream",
     "text": [
      "Inference:  60%|█████▉    | 308/515 [40:17<13:51,  4.02s/it]"
     ]
    },
    {
     "name": "stdout",
     "output_type": "stream",
     "text": [
      "#################### Answer ###########################\n",
      "1\n",
      "#################### Question ###########################\n",
      "전자금융데이터 보안에서 암호화 방식의 선택 시 고려해야 할 사항으로 가장 적절한 것은?\n",
      "1 데이터의 정형 여부\n",
      "2 데이터의 전송 속도\n",
      "3 데이터의 저장 위치\n",
      "4 암호화 키의 길이와 무관하게 동일한 방식 적용\n",
      "5 데이터의 사용자 수\n"
     ]
    },
    {
     "name": "stderr",
     "output_type": "stream",
     "text": [
      "Inference:  60%|██████    | 309/515 [40:18<10:21,  3.02s/it]"
     ]
    },
    {
     "name": "stdout",
     "output_type": "stream",
     "text": [
      "#################### Answer ###########################\n",
      "4\n",
      "#################### Question ###########################\n",
      "원격접속 공격의 동작원리 중 트로이 목마(Trojan)의 특징으로 가장 적절한 것은?\n",
      "1 시스템의 보안 로그를 자동으로 무력화하여 모든 침입 기록을 삭제한다.\n",
      "2 사용자에게 경고 메시지를 지속적으로 표시한다.\n",
      "3 사용자 몰래 시스템에 설치되어 백도어를 생성한다.\n",
      "4 네트워크 트래픽을 암호화하여 전송한다.\n",
      "5 시스템의 모든 파일을 자동으로 삭제한다.\n"
     ]
    },
    {
     "name": "stderr",
     "output_type": "stream",
     "text": [
      "Inference:  60%|██████    | 310/515 [40:19<07:58,  2.33s/it]"
     ]
    },
    {
     "name": "stdout",
     "output_type": "stream",
     "text": [
      "#################### Answer ###########################\n",
      "3\n",
      "#################### Question ###########################\n",
      "개인신용정보의 제공ㆍ활용에 대한 동의 절차에서 신용정보제공ㆍ이용자가 고려해야 할 사항으로 옳지 않은 것은?\n",
      "1 신용정보주체가 동의하지 않을 경우, 모든 고지사항을 생략할 수 있다.\n",
      "2 정보활용 동의 사항과 금융거래 관계의 설정 및 유지 사항을 명확히 구분해야 한다.\n",
      "3 정보활용의 목적별로 동의 사항을 구분하여 개별 동의를 받을 수 있어야 한다.\n",
      "4 신용정보주체가 동의사항을 이해할 수 있도록 쉬운 용어를 사용해야 한다.\n"
     ]
    },
    {
     "name": "stderr",
     "output_type": "stream",
     "text": [
      "Inference:  60%|██████    | 311/515 [40:48<35:17, 10.38s/it]"
     ]
    },
    {
     "name": "stdout",
     "output_type": "stream",
     "text": [
      "#################### Answer ###########################\n",
      "1\n",
      "#################### Question ###########################\n",
      "전자금융업자가 회계처리를 구분해야 하는 이유로 가장 적절한 것은?\n",
      "1 경영의 투명성을 확보하기 위해\n",
      "2 시장 점유율을 확대하기 위해\n",
      "3 고객의 신뢰를 얻기 위해\n",
      "4 직원의 만족도를 높이기 위해\n"
     ]
    },
    {
     "name": "stderr",
     "output_type": "stream",
     "text": [
      "Inference:  61%|██████    | 312/515 [40:53<29:20,  8.67s/it]"
     ]
    },
    {
     "name": "stdout",
     "output_type": "stream",
     "text": [
      "#################### Answer ###########################\n",
      "3\n",
      "#################### Question ###########################\n",
      "개인정보보호법 제47조에 따르면, 분쟁조정위원회가 조정안을 제시한 후 당사자가 수락 여부를 알리지 않으면 어떻게 되는가?\n",
      "1 조정이 자동으로 중지된다.\n",
      "2 조정이 자동으로 연기된다.\n",
      "3 조정이 자동으로 거부된다.\n",
      "4 조정이 자동으로 수락된다.\n"
     ]
    },
    {
     "name": "stderr",
     "output_type": "stream",
     "text": [
      "Inference:  61%|██████    | 313/515 [41:04<31:49,  9.45s/it]"
     ]
    },
    {
     "name": "stdout",
     "output_type": "stream",
     "text": [
      "#################### Answer ###########################\n",
      "4\n",
      "#################### Question ###########################\n",
      "하이브리드 위협의 대응 전략으로 가장 적절한 것은?\n",
      "1 보안 사고 발생 시 사후 대응만 집중\n",
      "2 단일 기관의 독립적인 대응\n",
      "3 물리적 보안 강화만으로 충분\n",
      "4 국가 간 및 민·관 협력의 중요성 강조\n",
      "5 전통적인 보안 기법만 사용\n"
     ]
    },
    {
     "name": "stderr",
     "output_type": "stream",
     "text": [
      "Inference:  61%|██████    | 314/515 [41:05<22:51,  6.82s/it]"
     ]
    },
    {
     "name": "stdout",
     "output_type": "stream",
     "text": [
      "#################### Answer ###########################\n",
      "4\n",
      "#################### Question ###########################\n",
      "전자금융업자가 허가를 받기 위해 갖추어야 할 요건으로 옳지 않은 것은?\n",
      "1 자본금 또는 기본재산 보유\n",
      "2 대통령령이 정하는 재무건전성 기준 충족\n",
      "3 사업계획의 타당성 및 건전성 불필요\n",
      "4 충분한 전문인력과 전산설비 보유\n"
     ]
    },
    {
     "name": "stderr",
     "output_type": "stream",
     "text": [
      "Inference:  61%|██████    | 315/515 [41:05<16:36,  4.98s/it]"
     ]
    },
    {
     "name": "stdout",
     "output_type": "stream",
     "text": [
      "#################### Answer ###########################\n",
      "3\n",
      "#################### Question ###########################\n",
      "다음 중 여신전문금융회사에 대한 설명으로 가장 적절한 것은?\n",
      "1 수신기능과 여신기능을 모두 수행하는 금융기관이다.\n",
      "2 주로 채권발행과 금융기관 차입금으로 자금을 조달한다.\n",
      "3 금융상품의 매매 및 중개업무를 주로 수행한다.\n",
      "4 주로 보험상품 인수와 보험료 수입을 통해 자금을 운용하는 금융기관이다.\n",
      "5 주로 예금과 대출업무를 수행하는 금융기관이다.\n"
     ]
    },
    {
     "name": "stderr",
     "output_type": "stream",
     "text": [
      "Inference:  61%|██████▏   | 316/515 [41:06<12:18,  3.71s/it]"
     ]
    },
    {
     "name": "stdout",
     "output_type": "stream",
     "text": [
      "#################### Answer ###########################\n",
      "1\n",
      "#################### Question ###########################\n",
      "시스템 및 서비스 보안관리에서 '정보전송 보안'의 주요 목적은 무엇인가?\n",
      "1 로그 및 접속기록 관리\n",
      "2 사용자 인증 강화\n",
      "3 데이터 무결성 보장\n",
      "4 네트워크 접근 통제\n"
     ]
    },
    {
     "name": "stderr",
     "output_type": "stream",
     "text": [
      "Inference:  62%|██████▏   | 317/515 [41:14<16:14,  4.92s/it]"
     ]
    },
    {
     "name": "stdout",
     "output_type": "stream",
     "text": [
      "#################### Answer ###########################\n",
      "4\n",
      "#################### Question ###########################\n",
      "개인정보보호법 제74조에 의하면, 법인의 대표자가 위반행위를 방지하기 위해 상당한 주의와 감독을 게을리하지 않은 경우, 법인에게 부과되는 벌금은 어떻게 되는가?\n",
      "1 벌금이 그대로 부과된다.\n",
      "2 벌금이 면제된다.\n",
      "3 벌금이 두 배로 증가한다.\n",
      "4 벌금이 절반으로 줄어든다.\n",
      "5 과태료로 대체되어 부과된다.\n"
     ]
    },
    {
     "name": "stderr",
     "output_type": "stream",
     "text": [
      "Inference:  62%|██████▏   | 318/515 [41:23<20:09,  6.14s/it]"
     ]
    },
    {
     "name": "stdout",
     "output_type": "stream",
     "text": [
      "#################### Answer ###########################\n",
      "2\n",
      "#################### Question ###########################\n",
      "금융 디지털 포렌식 기술의 주요 목적은 무엇인가?\n",
      "1 금융 범죄의 증거 수집\n",
      "2 전자금융데이터의 암호화\n",
      "3 금융 시스템의 접근 제어 정책 수립\n",
      "4 금융 거래의 신뢰성 확보\n",
      "5 금융 데이터의 유출 방지\n"
     ]
    },
    {
     "name": "stderr",
     "output_type": "stream",
     "text": [
      "Inference:  62%|██████▏   | 319/515 [41:27<18:40,  5.71s/it]"
     ]
    },
    {
     "name": "stdout",
     "output_type": "stream",
     "text": [
      "#################### Answer ###########################\n",
      "4\n",
      "#################### Question ###########################\n",
      "전자자금이체업무를 행하고자 금융위원회에 등록하기 위해 필요한 최소 자본금은 얼마인가?\n",
      "1 10억원\n",
      "2 20억원\n",
      "3 50억원\n",
      "4 30억원\n"
     ]
    },
    {
     "name": "stderr",
     "output_type": "stream",
     "text": [
      "Inference:  62%|██████▏   | 320/515 [41:28<13:34,  4.18s/it]"
     ]
    },
    {
     "name": "stdout",
     "output_type": "stream",
     "text": [
      "#################### Answer ###########################\n",
      "3\n",
      "#################### Question ###########################\n",
      "무허가 채권추심업자에 대한 업무위탁 금지 규정은 어떤 법률에 의해 신설되었는가?\n",
      "1 신용정보의 이용 및 보호에 관한 법률\n",
      "2 전자금융거래법\n",
      "3 개인정보 보호법\n",
      "4 금융실명거래 및 비밀보장에 관한 법률\n"
     ]
    },
    {
     "name": "stderr",
     "output_type": "stream",
     "text": [
      "Inference:  62%|██████▏   | 321/515 [41:29<10:06,  3.13s/it]"
     ]
    },
    {
     "name": "stdout",
     "output_type": "stream",
     "text": [
      "#################### Answer ###########################\n",
      "1\n",
      "#################### Question ###########################\n",
      "다음 설명에 해당하는 메일 서버 공격 유형은 무엇인가?\n",
      "1 서비스거부 공격\n",
      "2 버퍼 오버플로우 공격\n",
      "3 Active Contents 공격\n",
      "4 트로이 목마 공격\n"
     ]
    },
    {
     "name": "stderr",
     "output_type": "stream",
     "text": [
      "Inference:  63%|██████▎   | 322/515 [41:44<22:05,  6.87s/it]"
     ]
    },
    {
     "name": "stdout",
     "output_type": "stream",
     "text": [
      "#################### Answer ###########################\n",
      "0\n",
      "#################### Question ###########################\n",
      "다음 중 금융감독원의 역할로 옳지 않은 것은?\n",
      "1 금융기관에 대한 검사·감독 업무 수행\n",
      "2 금융관련 주요 사항 심의 및 의결\n",
      "3 국제협력 및 교류\n",
      "4 금융소비자의 권익 보호\n"
     ]
    },
    {
     "name": "stderr",
     "output_type": "stream",
     "text": [
      "Inference:  63%|██████▎   | 323/515 [41:45<16:01,  5.01s/it]"
     ]
    },
    {
     "name": "stdout",
     "output_type": "stream",
     "text": [
      "#################### Answer ###########################\n",
      "4\n",
      "#################### Question ###########################\n",
      "신용정보집중관리위원회의 구성에 대한 설명으로 옳은 것은?\n",
      "1 위원회는 위원장 1명을 포함한 15명 이내의 위원으로 구성된다.\n",
      "2 위원회는 금융위원회 산하에 설치된다.\n",
      "3 위원회는 10명 이내의 위원으로 구성된다.\n",
      "4 위원장은 금융위원회에서 임명한다.\n"
     ]
    },
    {
     "name": "stderr",
     "output_type": "stream",
     "text": [
      "Inference:  63%|██████▎   | 324/515 [42:00<25:58,  8.16s/it]"
     ]
    },
    {
     "name": "stdout",
     "output_type": "stream",
     "text": [
      "#################### Answer ###########################\n",
      "2\n",
      "#################### Question ###########################\n",
      "보호위원회가 관계 기관에 개선을 권고할 수 있는 경우는?\n",
      "1 개인정보 보호 교육 시\n",
      "2 개인정보 유출 사고 대응 매뉴얼 작성 시\n",
      "3 개인정보 보호 기술 개발 시\n",
      "4 개인정보 침해요인 평가 결과에 따라\n",
      "5 기본계획 및 시행계획 수립 시\n"
     ]
    },
    {
     "name": "stderr",
     "output_type": "stream",
     "text": [
      "Inference:  63%|██████▎   | 325/515 [42:15<31:57, 10.09s/it]"
     ]
    },
    {
     "name": "stdout",
     "output_type": "stream",
     "text": [
      "#################### Answer ###########################\n",
      "4\n",
      "#################### Question ###########################\n",
      "전자금융거래법 제6조의2에 따르면, 불법 광고에 이용된 전화번호에 대해 전기통신역무 제공의 중지를 요청할 수 있는 기관은?\n",
      "1 방송통신위원회\n",
      "2 금융회사\n",
      "3 과학기술정보통신부장관\n",
      "4 금융정보분석원장\n",
      "5 검찰총장\n"
     ]
    },
    {
     "name": "stderr",
     "output_type": "stream",
     "text": [
      "Inference:  63%|██████▎   | 326/515 [42:19<25:47,  8.19s/it]"
     ]
    },
    {
     "name": "stdout",
     "output_type": "stream",
     "text": [
      "#################### Answer ###########################\n",
      "3\n",
      "#################### Question ###########################\n",
      "운영체제의 보안 강화를 위해 가장 적절한 방법은 무엇인가?\n",
      "1 관리자 계정의 비밀번호를 주기적으로 변경\n",
      "2 불필요한 서비스 활성화\n",
      "3 운영체제의 버전 정보를 외부에 공개\n",
      "4 운영체제의 기본 방화벽 설정을 모두 해제\n",
      "5 모든 사용자에게 관리자 권한 부여\n"
     ]
    },
    {
     "name": "stderr",
     "output_type": "stream",
     "text": [
      "Inference:  63%|██████▎   | 327/515 [42:19<18:36,  5.94s/it]"
     ]
    },
    {
     "name": "stdout",
     "output_type": "stream",
     "text": [
      "#################### Answer ###########################\n",
      "1\n",
      "#################### Question ###########################\n",
      "신용정보집중기관으로 허가를 받기 위해 갖추어야 할 요건으로 옳지 않은 것은?\n",
      "1 「민법」 제32조에 따라 설립된 비영리법인일 것\n",
      "2 신용정보를 집중관리ㆍ활용하는 데 있어서 공공성과 중립성을 갖출 것\n",
      "3 금융위원회로부터 사전 승인을 받을 것\n",
      "4 대통령령으로 정하는 시설ㆍ설비 및 인력을 갖출 것\n"
     ]
    },
    {
     "name": "stderr",
     "output_type": "stream",
     "text": [
      "Inference:  64%|██████▎   | 328/515 [42:28<20:44,  6.66s/it]"
     ]
    },
    {
     "name": "stdout",
     "output_type": "stream",
     "text": [
      "#################### Answer ###########################\n",
      "4\n",
      "#################### Question ###########################\n",
      "다음 중 개인정보보호법 '제48조 조정의 거부 및 중지'에 대한 설명으로 옳은 것은?\n",
      "1 분쟁조정위원회는 소송이 제기된 경우에도 조정을 계속해야 한다.\n",
      "2 분쟁조정위원회는 조정 거부 사유를 당사자에게 알릴 필요가 없다.\n",
      "3 분쟁조정위원회는 모든 조정 신청을 반드시 수락해야 한다.\n",
      "4 분쟁조정위원회는 부정한 목적으로 신청된 조정을 거부할 수 있다.\n"
     ]
    },
    {
     "name": "stderr",
     "output_type": "stream",
     "text": [
      "Inference:  64%|██████▍   | 329/515 [42:55<39:19, 12.68s/it]"
     ]
    },
    {
     "name": "stdout",
     "output_type": "stream",
     "text": [
      "#################### Answer ###########################\n",
      "4\n",
      "#################### Question ###########################\n",
      "정부가 정보통신망을 통해 유통되는 정보내용물의 개발을 지원하는 이유로 가장 적절한 것은?\n",
      "1 정보통신망의 보안 강화\n",
      "2 국가경쟁력 확보 및 공익 증진\n",
      "3 정보통신망 상의 개인정보 침해 사고 감소\n",
      "4 정보통신망의 응용서비스 개발 촉진\n",
      "5 정보통신망의 표준화\n"
     ]
    },
    {
     "name": "stderr",
     "output_type": "stream",
     "text": [
      "Inference:  64%|██████▍   | 330/515 [43:00<32:25, 10.52s/it]"
     ]
    },
    {
     "name": "stdout",
     "output_type": "stream",
     "text": [
      "#################### Answer ###########################\n",
      "2\n",
      "#################### Question ###########################\n",
      "방송통신위원회가 영리목적의 광고성 정보 전송차단 소프트웨어를 보급할 수 있는 이유로 가장 적절한 것은?\n",
      "1 수신자가 광고성 정보를 편리하게 차단하거나 신고할 수 있도록 하기 위해\n",
      "2 정보통신서비스 제공자의 수익을 증대시키기 위해\n",
      "3 광고성 정보의 전송을 촉진하기 위해\n",
      "4 수신자의 개인정보를 수집하기 위해\n"
     ]
    },
    {
     "name": "stderr",
     "output_type": "stream",
     "text": [
      "Inference:  64%|██████▍   | 331/515 [43:01<23:13,  7.57s/it]"
     ]
    },
    {
     "name": "stdout",
     "output_type": "stream",
     "text": [
      "#################### Answer ###########################\n",
      "1\n",
      "#################### Question ###########################\n",
      "거래 보안기술 중 이용자 입력데이터 보호를 위한 방법으로 가장 적절한 것은?\n",
      "1 전자금융기반시설 취약점 분석\n",
      "2 OSS 취약점 관리\n",
      "3 외주 보안관리\n",
      "4 캡처 방지 프로그램 사용\n"
     ]
    },
    {
     "name": "stderr",
     "output_type": "stream",
     "text": [
      "Inference:  64%|██████▍   | 332/515 [43:01<16:43,  5.48s/it]"
     ]
    },
    {
     "name": "stdout",
     "output_type": "stream",
     "text": [
      "#################### Answer ###########################\n",
      "4\n",
      "#################### Question ###########################\n",
      "개인정보보호법 제74조에 따르면, 법인의 대표자나 법인 또는 개인의 대리인, 사용인, 그 밖의 종업원이 법인 또는 개인의 업무에 관하여 제70조에 해당하는 위반행위를 한 경우, 법인 또는 개인에게 부과되는 벌금의 최대 금액은 얼마인가?\n",
      "1 1억원\n",
      "2 7천만원\n",
      "3 5천만원 이하의 과태료\n",
      "4 2억원\n",
      "5 5천만원\n"
     ]
    },
    {
     "name": "stderr",
     "output_type": "stream",
     "text": [
      "Inference:  65%|██████▍   | 333/515 [43:03<13:12,  4.35s/it]"
     ]
    },
    {
     "name": "stdout",
     "output_type": "stream",
     "text": [
      "#################### Answer ###########################\n",
      "2\n",
      "#################### Question ###########################\n",
      "서버 보안에서 SSL 인증서를 사용하는 주된 목적은 무엇인가?\n",
      "1 데이터의 기밀성과 무결성 보장\n",
      "2 데이터 전송 속도 향상\n",
      "3 서버의 하드웨어 성능 개선\n",
      "4 서버의 운영체제 취약점 자동 패치\n",
      "5 서버의 물리적 보안 강화\n"
     ]
    },
    {
     "name": "stderr",
     "output_type": "stream",
     "text": [
      "Inference:  65%|██████▍   | 334/515 [43:04<09:48,  3.25s/it]"
     ]
    },
    {
     "name": "stdout",
     "output_type": "stream",
     "text": [
      "#################### Answer ###########################\n",
      "1\n",
      "#################### Question ###########################\n",
      "개인인 신용정보주체가 자동화평가 결과에 대해 이의제기를 할 수 있는 경우로 옳은 것은?\n",
      "1 자동화평가의 결과가 다른 사람과 동일할 때\n",
      "2 자동화평가 결과가 마음에 들지 않을 때\n",
      "3 자동화평가의 결과가 공개되지 않았을 때\n",
      "4 자동화평가에 이용된 기초정보가 정확하지 않다고 판단될 때\n"
     ]
    },
    {
     "name": "stderr",
     "output_type": "stream",
     "text": [
      "Inference:  65%|██████▌   | 335/515 [43:04<07:27,  2.48s/it]"
     ]
    },
    {
     "name": "stdout",
     "output_type": "stream",
     "text": [
      "#################### Answer ###########################\n",
      "4\n",
      "#################### Question ###########################\n",
      "고유식별정보의 안전성 확보 조치에 대한 설명으로 옳은 것은?\n",
      "1 고유식별정보의 안전성 확보 조치는 법적 의무가 아니다.\n",
      "2 고유식별정보는 암호화 없이 저장할 수 있다.\n",
      "3 고유식별정보는 정보주체의 요청 시에만 보호 조치를 한다.\n",
      "4 고유식별정보의 분실, 도난, 유출 방지를 위한 조치를 해야 한다.\n",
      "5 고유식별정보는 내부 직원에 한해서 접근제한 조치 없이 열람할 수 있다.\n"
     ]
    },
    {
     "name": "stderr",
     "output_type": "stream",
     "text": [
      "Inference:  65%|██████▌   | 336/515 [43:31<28:38,  9.60s/it]"
     ]
    },
    {
     "name": "stdout",
     "output_type": "stream",
     "text": [
      "#################### Answer ###########################\n",
      "4\n",
      "#################### Question ###########################\n",
      "다음 중 개인정보보호법 제70조에 따라 10년 이하의 징역 또는 1억원 이하의 벌금에 처해질 수 있는 행위는 무엇인가?\n",
      "1 개인정보를 삭제하지 않고 보관한 자\n",
      "2 개인정보를 적법하게 수집하여 제3자에게 제공한 자\n",
      "3 개인정보를 보호하기 위해 암호화한 자\n",
      "4 공공기관의 개인정보 처리업무를 방해할 목적으로 개인정보를 변경하거나 말소하여 업무 수행에 심각한 지장을 초래한 자\n",
      "5 개인정보의 안전성 확보 조치를 위반하여 기술적‧관리적 보호조치를 소홀히 한 자\n"
     ]
    },
    {
     "name": "stderr",
     "output_type": "stream",
     "text": [
      "Inference:  65%|██████▌   | 337/515 [44:17<1:01:08, 20.61s/it]"
     ]
    },
    {
     "name": "stdout",
     "output_type": "stream",
     "text": [
      "#################### Answer ###########################\n",
      "4\n",
      "#################### Question ###########################\n",
      "다크웹과 표적형 공격에 대한 설명으로 옳지 않은 것은?\n",
      "1 표적형 공격은 무작위로 불특정 다수를 대상으로 시행된다.\n",
      "2 표적형 공격은 특정 개인이나 조직을 목표로 한다.\n",
      "3 표적형 공격은 주로 사회공학 기법을 활용한다.\n",
      "4 다크웹은 익명성을 보장하는 네트워크를 사용한다.\n",
      "5 다크웹은 일반적인 검색 엔진으로 접근이 가능하다.\n"
     ]
    },
    {
     "name": "stderr",
     "output_type": "stream",
     "text": [
      "Inference:  66%|██████▌   | 338/515 [44:25<50:01, 16.96s/it]  "
     ]
    },
    {
     "name": "stdout",
     "output_type": "stream",
     "text": [
      "#################### Answer ###########################\n",
      "5\n",
      "#################### Question ###########################\n",
      "접근권한 검토'에 대한 설명으로 옳은 것은?\n",
      "1 접근권한 검토는 필요할 때마다 수행하면 된다.\n",
      "2 접근권한 검토 결과는 기록으로 남길 필요가 없다.\n",
      "3 접근권한 검토는 사용자 본인이 직접 수행해야 한다.\n",
      "4 접근권한 검토는 주기적으로 수행하여 적정성을 점검해야 한다.\n",
      "5 접근권한 검토는 신규 시스템 도입 시에만 실시하면 충분하다.\n"
     ]
    },
    {
     "name": "stderr",
     "output_type": "stream",
     "text": [
      "Inference:  66%|██████▌   | 339/515 [44:35<43:01, 14.67s/it]"
     ]
    },
    {
     "name": "stdout",
     "output_type": "stream",
     "text": [
      "#################### Answer ###########################\n",
      "4\n",
      "#################### Question ###########################\n",
      "정보보호 사전점검의 방법으로 올바른 것은?\n",
      "1 서면점검, 온라인점검, 전화점검\n",
      "2 서면점검, 현장점검, 원격점검\n",
      "3 서면점검, 전화점검, 원격점검\n",
      "4 현장점검, 전화점검, 온라인점검\n"
     ]
    },
    {
     "name": "stderr",
     "output_type": "stream",
     "text": [
      "Inference:  66%|██████▌   | 340/515 [45:01<52:51, 18.12s/it]"
     ]
    },
    {
     "name": "stdout",
     "output_type": "stream",
     "text": [
      "#################### Answer ###########################\n",
      "2\n",
      "#################### Question ###########################\n",
      "금융 사물인터넷(FoT)의 확산에 따라 예상되는 보안 위협으로 가장 적절한 것은?\n",
      "1 클라우드 서비스의 데이터 저장 공간 부족\n",
      "2 스마트폰의 보안 패치 미흡으로 인한 데이터 유출\n",
      "3 전통적인 금융 시스템의 네트워크 속도 저하\n",
      "4 사물인터넷 기기의 컴퓨팅 자원 한계로 인한 암호화 취약성\n"
     ]
    },
    {
     "name": "stderr",
     "output_type": "stream",
     "text": [
      "Inference:  66%|██████▌   | 341/515 [45:02<37:23, 12.89s/it]"
     ]
    },
    {
     "name": "stdout",
     "output_type": "stream",
     "text": [
      "#################### Answer ###########################\n",
      "4\n",
      "#################### Question ###########################\n",
      "망분리/망연계 시스템에서 물리적 망분리의 특징으로 옳지 않은 것은?\n",
      "1 동일한 컴퓨터에서 업무망과 인터넷망을 동시에 접속할 수 있다.\n",
      "2 물리적 망분리는 추가 PC와 별도 망 구축이 필요하다.\n",
      "3 물리적 망분리는 네트워크 분리를 소프트웨어 방식으로 구현한다.\n",
      "4 업무망과 인터넷망을 물리적으로 분리한다.\n",
      "5 인터넷으로부터의 악성코드 감염을 차단한다.\n"
     ]
    },
    {
     "name": "stderr",
     "output_type": "stream",
     "text": [
      "Inference:  66%|██████▋   | 342/515 [45:05<28:44,  9.97s/it]"
     ]
    },
    {
     "name": "stdout",
     "output_type": "stream",
     "text": [
      "#################### Answer ###########################\n",
      "1\n",
      "#################### Question ###########################\n",
      "개인정보보호법 제61조에 따르면, 보호위원회가 개인정보 보호를 위해 필요하다고 인정할 경우 개인정보처리자에게 할 수 있는 조치는 무엇인가?\n",
      "1 개인정보의 공개 명령\n",
      "2 개인정보 유출에 대한 과태료 부과\n",
      "3 개인정보 처리의 중단 명령\n",
      "4 개인정보 처리 실태의 개선 권고\n",
      "5 개인정보의 삭제 요구\n"
     ]
    },
    {
     "name": "stderr",
     "output_type": "stream",
     "text": [
      "Inference:  67%|██████▋   | 343/515 [45:17<30:45, 10.73s/it]"
     ]
    },
    {
     "name": "stdout",
     "output_type": "stream",
     "text": [
      "#################### Answer ###########################\n",
      "4\n",
      "#################### Question ###########################\n",
      "평가기관의 선정 기준에 해당하지 않는 것은?\n",
      "1 평가 업무의 독립성, 객관성, 공정성을 확보할 수 있을 것\n",
      "2 정보보호관리체계(ISMS) 인증을 반드시 보유하고 있을 것\n",
      "3 법인일 것\n",
      "4 전문인력을 3명 이상 상시 고용하고 있을 것\n",
      "5 최근 2년 이내에 평가기관 선정이 취소된 사실이 없을 것\n"
     ]
    },
    {
     "name": "stderr",
     "output_type": "stream",
     "text": [
      "Inference:  67%|██████▋   | 344/515 [45:26<28:33, 10.02s/it]"
     ]
    },
    {
     "name": "stdout",
     "output_type": "stream",
     "text": [
      "#################### Answer ###########################\n",
      "2\n",
      "#################### Question ###########################\n",
      "비밀유지명령의 취소 신청에 대한 설명으로 옳지 않은 것은?\n",
      "1 비밀유지명령의 취소 신청에 대한 재판은 즉시항고가 가능하다.\n",
      "2 비밀유지명령의 취소 신청은 반드시 비밀유지명령이 내려진 즉시 이루어져야 한다.\n",
      "3 비밀유지명령을 신청한 자만 취소를 신청할 수 있다.\n",
      "4 비밀유지명령의 취소 신청은 소송기록을 보관하고 있는 법원에 해야 한다.\n",
      "5 비밀유지명령의 취소 신청은 비밀유지명령을 받은 자도 할 수 있다.\n"
     ]
    },
    {
     "name": "stderr",
     "output_type": "stream",
     "text": [
      "Inference:  67%|██████▋   | 345/515 [45:38<30:11, 10.66s/it]"
     ]
    },
    {
     "name": "stdout",
     "output_type": "stream",
     "text": [
      "#################### Answer ###########################\n",
      "2\n",
      "#################### Question ###########################\n",
      "신용정보회사 등이 사업을 양도하거나 합병한 경우, 양수인 또는 합병 후 존속하는 법인이 승계하는 것은?\n",
      "1 양도인의 모든 채무\n",
      "2 양도인의 신용정보주체에 대한 동의 효력\n",
      "3 양도인의 신용정보회사로서의 지위\n",
      "4 양도인의 모든 자산\n",
      "5 양도인의 모든 계약\n"
     ]
    },
    {
     "name": "stderr",
     "output_type": "stream",
     "text": [
      "Inference:  67%|██████▋   | 346/515 [46:05<44:17, 15.73s/it]"
     ]
    },
    {
     "name": "stdout",
     "output_type": "stream",
     "text": [
      "#################### Answer ###########################\n",
      "1\n",
      "#################### Question ###########################\n",
      "전자금융기반시설의 취약점 분석ㆍ평가에 관한 절차와 방법에 대한 설명으로 옳지 않은 것은?\n",
      "1 취약점 분석ㆍ평가는 매 사업연도마다 1회 이상 실시해야 한다.\n",
      "2 자체전담반을 구성하여 실시할 수 있다.\n",
      "3 외부 기관에 의뢰하여 실시할 수 있다.\n",
      "4 취약점 분석ㆍ평가는 전자금융기반시설 신규 구축 시에는 실시하지 않아도 된다.\n",
      "5 취약점 분석ㆍ평가 결과는 최고경영자에게 보고할 필요가 없다.\n"
     ]
    },
    {
     "name": "stderr",
     "output_type": "stream",
     "text": [
      "Inference:  67%|██████▋   | 347/515 [46:06<31:27, 11.24s/it]"
     ]
    },
    {
     "name": "stdout",
     "output_type": "stream",
     "text": [
      "#################### Answer ###########################\n",
      "4\n",
      "#################### Question ###########################\n",
      "금융위원회의 승인을 받지 않고 신용정보회사의 주식을 취득한 경우, 해당 주식에 대해 취할 수 있는 조치는?\n",
      "1 금융위원회에 소명을 제출하면 주식 취득이 자동으로 승인된다.\n",
      "2 주식의 소유를 신고하면 된다.\n",
      "3 주식을 계속 보유할 수 있다.\n",
      "4 주식을 6개월 이내에 처분해야 한다.\n",
      "5 주식의 의결권을 행사할 수 있다.\n"
     ]
    },
    {
     "name": "stderr",
     "output_type": "stream",
     "text": [
      "Inference:  68%|██████▊   | 348/515 [46:07<22:28,  8.07s/it]"
     ]
    },
    {
     "name": "stdout",
     "output_type": "stream",
     "text": [
      "#################### Answer ###########################\n",
      "4\n",
      "#################### Question ###########################\n",
      "전자서명의 이용 촉진을 위해 과학기술정보통신부장관이 제공할 수 있는 지원에 해당하지 않는 것은?\n",
      "1 정보보호 인증 지원\n",
      "2 행정적 지원\n",
      "3 재정적 지원\n",
      "4 법적 지원\n",
      "5 기술적 지원\n"
     ]
    },
    {
     "name": "stderr",
     "output_type": "stream",
     "text": [
      "Inference:  68%|██████▊   | 349/515 [46:09<17:36,  6.37s/it]"
     ]
    },
    {
     "name": "stdout",
     "output_type": "stream",
     "text": [
      "#################### Answer ###########################\n",
      "5\n",
      "#################### Question ###########################\n",
      "물리 보안에서 보호구역 지정의 주요 목적은 무엇인가?\n",
      "1 데이터 암호화\n",
      "2 정보시스템의 물리적 보호\n",
      "3 비인가 장비의 네트워크 자동 등록\n",
      "4 네트워크 접근 제어\n",
      "5 사용자 인증 강화\n"
     ]
    },
    {
     "name": "stderr",
     "output_type": "stream",
     "text": [
      "Inference:  68%|██████▊   | 350/515 [46:10<12:45,  4.64s/it]"
     ]
    },
    {
     "name": "stdout",
     "output_type": "stream",
     "text": [
      "#################### Answer ###########################\n",
      "2\n",
      "#################### Question ###########################\n",
      "개인정보보호법 제68조에 따라 보호위원회가 권한을 위임하거나 위탁할 때, 위탁받는 기관과 위탁업무의 내용을 어디에 공고해야 하는가?\n",
      "1 관보나 보호위원회의 인터넷 홈페이지\n",
      "2 중앙 방송\n",
      "3 공공 도서관\n",
      "4 지역 신문\n",
      "5 금융감독원의 공식 보안 공지 게시판\n"
     ]
    },
    {
     "name": "stderr",
     "output_type": "stream",
     "text": [
      "Inference:  68%|██████▊   | 351/515 [46:26<21:56,  8.03s/it]"
     ]
    },
    {
     "name": "stdout",
     "output_type": "stream",
     "text": [
      "#################### Answer ###########################\n",
      "1\n",
      "#################### Question ###########################\n",
      "다음 중 메일 서버 관리자의 SPAM 차단 대책으로 적절한 것은?\n",
      "1 메일 클라이언트 프로그램을 이용한 메일 필터링 적용\n",
      "2 sendmail에서의 anti-spam 기능과 Access DB를 이용한 스팸 릴레이 차단\n",
      "3 특정인 대상으로 발송하는 스피어피싱 메일 발송\n",
      "4 메일 서버에서의 스팸 릴레이 허용 설정\n"
     ]
    },
    {
     "name": "stderr",
     "output_type": "stream",
     "text": [
      "Inference:  68%|██████▊   | 352/515 [46:43<29:23, 10.82s/it]"
     ]
    },
    {
     "name": "stdout",
     "output_type": "stream",
     "text": [
      "#################### Answer ###########################\n",
      "2\n",
      "#################### Question ###########################\n",
      "정보통신망법 제44조의3에 따라 정보통신서비스 제공자가 임의로 임시조치를 할 수 있는 경우는?\n",
      "1 정보가 상업적 광고로 판단될 때\n",
      "2 정보가 시스템 장애나 서비스 지연을 유발할 가능성이 있을 때\n",
      "3 정보가 청소년유해정보로 판단될 때\n",
      "4 정보가 사생활 침해 또는 명예훼손 등 타인의 권리를 침해한다고 인정될 때\n",
      "5 정보가 불법정보로 판단될 때\n"
     ]
    },
    {
     "name": "stderr",
     "output_type": "stream",
     "text": [
      "Inference:  69%|██████▊   | 353/515 [47:16<47:12, 17.48s/it]"
     ]
    },
    {
     "name": "stdout",
     "output_type": "stream",
     "text": [
      "#################### Answer ###########################\n",
      "4\n",
      "#################### Question ###########################\n",
      "무선 네트워크 접근 통제에 대한 설명으로 가장 적절한 것은?\n",
      "1 무선 네트워크 접근은 인증 절차를 통해 통제되어야 한다.\n",
      "2 무선 네트워크는 암호화가 필요하지 않다.\n",
      "3 무선 네트워크는 물리적 보안만으로 충분하다.\n",
      "4 무선 네트워크 접근은 모든 사용자에게 개방되어야 한다.\n"
     ]
    },
    {
     "name": "stderr",
     "output_type": "stream",
     "text": [
      "Inference:  69%|██████▊   | 354/515 [47:17<33:23, 12.45s/it]"
     ]
    },
    {
     "name": "stdout",
     "output_type": "stream",
     "text": [
      "#################### Answer ###########################\n",
      "1\n",
      "#################### Question ###########################\n",
      "신용정보회사 임원의 자격요건에 관한 설명으로 옳지 않은 것은?\n",
      "1 파산선고를 받고 복권되지 않은 사람은 임직원으로 채용될 수 없다.\n",
      "2 금융위원회가 정하여 고시하는 업무에 미성년자를 채용할 수 있다.\n",
      "3 금고 이상의 실형을 선고받고 집행이 끝난 날부터 5년이 지나지 않은 사람은 임직원으로 채용될 수 없다.\n",
      "4 자본시장법 위반으로 과태료 처분을 받은 경우에도 신용정보회사 임원으로 제한 없이 선임될 수 있다.\n",
      "5 미성년자는 임직원으로 채용될 수 없다.\n"
     ]
    },
    {
     "name": "stderr",
     "output_type": "stream",
     "text": [
      "Inference:  69%|██████▉   | 355/515 [47:18<24:00,  9.01s/it]"
     ]
    },
    {
     "name": "stdout",
     "output_type": "stream",
     "text": [
      "#################### Answer ###########################\n",
      "4\n",
      "#################### Question ###########################\n",
      "주민등록전산정보자료 요청 시 필요한 절차로 옳은 것은?\n",
      "1 금융감독원의 승인을 받아야 한다.\n",
      "2 국회의 심사\n",
      "3 대통령령에 따른 심사\n",
      "4 금융위원회위원장의 심사\n",
      "5 행정안전부장관의 심사\n"
     ]
    },
    {
     "name": "stderr",
     "output_type": "stream",
     "text": [
      "Inference:  69%|██████▉   | 356/515 [47:18<17:14,  6.51s/it]"
     ]
    },
    {
     "name": "stdout",
     "output_type": "stream",
     "text": [
      "#################### Answer ###########################\n",
      "1\n",
      "#################### Question ###########################\n",
      "청소년 보호를 위한 시책으로 적절한 것은?\n",
      "1 청소년 보호를 위한 기술의 개발 및 보급\n",
      "2 청소년의 개인정보를 무제한으로 수집 및 저장\n",
      "3 청소년 유해정보의 무조건적 차단\n",
      "4 청소년 보호와 무관한 정보의 삭제\n",
      "5 청소년 유해정보의 자유로운 유통\n"
     ]
    },
    {
     "name": "stderr",
     "output_type": "stream",
     "text": [
      "Inference:  69%|██████▉   | 357/515 [47:19<12:32,  4.76s/it]"
     ]
    },
    {
     "name": "stdout",
     "output_type": "stream",
     "text": [
      "#################### Answer ###########################\n",
      "1\n",
      "#################### Question ###########################\n",
      "DB 보안에서 중요한 정보가 암호화되어 저장되지 않았을 때 발생할 수 있는 문제는?\n",
      "1 데이터 압축\n",
      "2 데이터 중복\n",
      "3 데이터 유출\n",
      "4 데이터 무결성 손상\n"
     ]
    },
    {
     "name": "stderr",
     "output_type": "stream",
     "text": [
      "Inference:  70%|██████▉   | 358/515 [47:21<10:15,  3.92s/it]"
     ]
    },
    {
     "name": "stdout",
     "output_type": "stream",
     "text": [
      "#################### Answer ###########################\n",
      "3\n",
      "#################### Question ###########################\n",
      "정보통신망법 제58조의2에 따르면, 통신과금서비스이용자가 구매자정보 제공을 요청할 수 있는 경우는?\n",
      "1 통신과금서비스가 본인의 의사에 따라 제공되었는지 확인이 필요한 경우\n",
      "2 거래 상대방이 재화 또는 용역을 제공하지 않은 경우\n",
      "3 거래 상대방이 구매자정보를 이미 제공한 경우\n",
      "4 통신과금서비스이용자가 거래 상대방과 분쟁 중인 경우\n"
     ]
    },
    {
     "name": "stderr",
     "output_type": "stream",
     "text": [
      "Inference:  70%|██████▉   | 359/515 [47:22<07:42,  2.96s/it]"
     ]
    },
    {
     "name": "stdout",
     "output_type": "stream",
     "text": [
      "#################### Answer ###########################\n",
      "1\n",
      "#################### Question ###########################\n",
      "네트워크 장비 중에서 데이터 링크 계층에서 작동하며, 네트워크 세그먼트를 연결하고 데이터 프레임을 전달하는 장비는 무엇인가?\n",
      "1 스위치\n",
      "2 허브\n",
      "3 게이트웨이\n",
      "4 라우터\n",
      "5 브리지\n"
     ]
    },
    {
     "name": "stderr",
     "output_type": "stream",
     "text": [
      "Inference:  70%|██████▉   | 360/515 [47:43<22:04,  8.54s/it]"
     ]
    },
    {
     "name": "stdout",
     "output_type": "stream",
     "text": [
      "#################### Answer ###########################\n",
      "5\n",
      "#################### Question ###########################\n",
      "정보통신망의 안정성 및 정보의 신뢰성을 확보하기 위한 보호조치를 해야 하는 자로 올바른 것은?\n",
      "1 정보통신서비스 제공자\n",
      "2 정보통신망 이용자\n",
      "3 정보통신망 사용자\n",
      "4 정보통신망 관리인\n"
     ]
    },
    {
     "name": "stderr",
     "output_type": "stream",
     "text": [
      "Inference:  70%|███████   | 361/515 [48:57<1:12:08, 28.11s/it]"
     ]
    },
    {
     "name": "stdout",
     "output_type": "stream",
     "text": [
      "#################### Answer ###########################\n",
      "0\n",
      "#################### Question ###########################\n",
      "자체 보안성심의의 주체별 역할 중에서 사업추진부서의 역할로 옳은 것은?\n",
      "1 보안대책의 적정성 점검\n",
      "2 심의대상사업에 대한 사업계획 및 보안대책 수립\n",
      "3 보안리스크 평가 및 대응방안 제공\n",
      "4 보안성심의 결과보고서 작성\n"
     ]
    },
    {
     "name": "stderr",
     "output_type": "stream",
     "text": [
      "Inference:  70%|███████   | 362/515 [48:58<50:41, 19.88s/it]  "
     ]
    },
    {
     "name": "stdout",
     "output_type": "stream",
     "text": [
      "#################### Answer ###########################\n",
      "2\n",
      "#################### Question ###########################\n",
      "개인정보보호법 시행령 제60조에 따르면, 개인정보 유출 등 정보주체의 개인정보에 관한 권리 또는 이익을 침해하는 사건이 발생할 가능성이 상당히 있는 경우, 보호위원회는 어떤 기관에 기술적인 사항을 자문할 수 있는가?\n",
      "1 한국정보보호진흥원\n",
      "2 국가정보원\n",
      "3 금융감독원\n",
      "4 개인정보보호위원회\n",
      "5 한국인터넷진흥원\n"
     ]
    },
    {
     "name": "stderr",
     "output_type": "stream",
     "text": [
      "Inference:  70%|███████   | 363/515 [49:06<41:07, 16.24s/it]"
     ]
    },
    {
     "name": "stdout",
     "output_type": "stream",
     "text": [
      "#################### Answer ###########################\n",
      "4\n",
      "#################### Question ###########################\n",
      "네트워크 주소의 종류 중 공인주소에 대한 설명으로 가장 적절한 것은?\n",
      "1 인터넷에서 사용되지 않으며, 내부 네트워크에서만 사용된다.\n",
      "2 공인주소는 내부망의 보안을 강화하기 위해 주기적으로 변경된다.\n",
      "3 인터넷에서 고유하게 사용되며, 전 세계적으로 유일하다.\n",
      "4 네트워크 주소 변환(NAT)을 통해 외부에 노출되지 않는다.\n",
      "5 네트워크 장비 간의 통신을 위해 임시로 할당된다.\n"
     ]
    },
    {
     "name": "stderr",
     "output_type": "stream",
     "text": [
      "Inference:  71%|███████   | 364/515 [49:06<29:09, 11.59s/it]"
     ]
    },
    {
     "name": "stdout",
     "output_type": "stream",
     "text": [
      "#################### Answer ###########################\n",
      "3\n",
      "#################### Question ###########################\n",
      "국제통용평가의 선정기준에 포함되지 않는 것은 무엇인가?\n",
      "1 전자서명인증서비스의 경제적 효율성에 관한 평가\n",
      "2 평가기준이 운영기준에 부합할 것\n",
      "3 전자서명인증서비스 이용자의 개인정보 보호 수준에 관한 평가\n",
      "4 전자서명인증서비스의 안전성과 신뢰성에 관한 평가\n",
      "5 전자서명인증서비스 관련 국제기구에서 인정되는 평가\n"
     ]
    },
    {
     "name": "stderr",
     "output_type": "stream",
     "text": [
      "Inference:  71%|███████   | 365/515 [49:07<20:49,  8.33s/it]"
     ]
    },
    {
     "name": "stdout",
     "output_type": "stream",
     "text": [
      "#################### Answer ###########################\n",
      "5\n",
      "#################### Question ###########################\n",
      "다음 중 웹 애플리케이션 보안에서 SQL 인젝션 공격을 방어하기 위한 가장 적절한 방법은?\n",
      "1 웹 서버의 로그를 주기적으로 삭제한다.\n",
      "2 사용자 입력을 검증하고 필터링한다.\n",
      "3 데이터베이스의 백업 주기를 늘린다.\n",
      "4 네트워크 트래픽을 암호화한다.\n"
     ]
    },
    {
     "name": "stderr",
     "output_type": "stream",
     "text": [
      "Inference:  71%|███████   | 366/515 [49:12<18:21,  7.39s/it]"
     ]
    },
    {
     "name": "stdout",
     "output_type": "stream",
     "text": [
      "#################### Answer ###########################\n",
      "2\n",
      "#################### Question ###########################\n",
      "다음 중 서비스 거부(DoS) 공격의 특징으로 가장 적절한 것은?\n",
      "1 특정 시스템의 자원을 소진시켜 정상적인 서비스를 방해한다.\n",
      "2 네트워크 패킷을 변조하여 정보를 탈취한다.\n",
      "3 방화벽 설정을 우회하여 내부 데이터베이스에 직접 접근한다.\n",
      "4 다수의 컴퓨터를 이용하여 공격을 수행한다.\n",
      "5 네트워크 트래픽을 암호화하여 보안을 강화한다.\n"
     ]
    },
    {
     "name": "stderr",
     "output_type": "stream",
     "text": [
      "Inference:  71%|███████▏  | 367/515 [49:14<13:50,  5.61s/it]"
     ]
    },
    {
     "name": "stdout",
     "output_type": "stream",
     "text": [
      "#################### Answer ###########################\n",
      "1\n",
      "#################### Question ###########################\n",
      "분쟁조정위원회가 분쟁조정 신청을 받았을 때, 상대방에게 알려야 하는 내용은 무엇인가?\n",
      "1 분쟁조정위원회의 구성\n",
      "2 분쟁조정 결과\n",
      "3 분쟁조정 신청 내용\n",
      "4 분쟁조정 절차의 예상 소요 기간\n",
      "5 분쟁조정 신청자의 신원\n"
     ]
    },
    {
     "name": "stderr",
     "output_type": "stream",
     "text": [
      "Inference:  71%|███████▏  | 368/515 [49:19<13:47,  5.63s/it]"
     ]
    },
    {
     "name": "stdout",
     "output_type": "stream",
     "text": [
      "#################### Answer ###########################\n",
      "4\n",
      "#################### Question ###########################\n",
      "침해사고 대응을 위한 금융위원회의 업무에 해당하지 않는 것은 무엇인가?\n",
      "1 침해사고 대책본부 운영\n",
      "2 전자금융거래 기록 보존\n",
      "3 침해사고 조사 및 정보제공 요청\n",
      "4 보안취약점 통보\n"
     ]
    },
    {
     "name": "stderr",
     "output_type": "stream",
     "text": [
      "Inference:  72%|███████▏  | 369/515 [49:20<10:03,  4.13s/it]"
     ]
    },
    {
     "name": "stdout",
     "output_type": "stream",
     "text": [
      "#################### Answer ###########################\n",
      "4\n",
      "#################### Question ###########################\n",
      "전자금융거래의 보안 취약점 점검 및 관리에 대한 설명으로 옳은 것은?\n",
      "1 전자금융거래의 보안 취약점은 매년 한 번만 점검하면 된다.\n",
      "2 전자금융거래의 보안 취약점 점검은 외부 기관에 의해만 수행된다.\n",
      "3 전자금융거래의 보안 취약점 점검은 법적으로 의무화되어 있다.\n",
      "4 전자금융거래의 보안 취약점 점검은 금융회사의 자율에 맡긴다.\n"
     ]
    },
    {
     "name": "stderr",
     "output_type": "stream",
     "text": [
      "Inference:  72%|███████▏  | 370/515 [49:21<07:31,  3.11s/it]"
     ]
    },
    {
     "name": "stdout",
     "output_type": "stream",
     "text": [
      "#################### Answer ###########################\n",
      "3\n",
      "#################### Question ###########################\n",
      "전자금융거래법 제15조에 따라 추심이체의 출금 동의를 받는 방법으로 적절한 것은?\n",
      "1 수취인이 지급인으로부터 서면으로 동의를 받아 금융회사에 전달하는 방법\n",
      "2 금융회사가 지급인으로부터 구두로 동의를 받는 방법\n",
      "3 수취인이 지급인으로부터 구두로 동의를 받아 전자금융업자에게 전달하는 방법\n",
      "4 전자금융업자가 지급인에게 이메일로 동의를 요청하는 방법\n",
      "5 전자금융업자가 지급인으로부터 문자메시지(SMS)로 동의를 받아 수취인에게 전달하는 방법\n"
     ]
    },
    {
     "name": "stderr",
     "output_type": "stream",
     "text": [
      "Inference:  72%|███████▏  | 371/515 [49:22<05:55,  2.47s/it]"
     ]
    },
    {
     "name": "stdout",
     "output_type": "stream",
     "text": [
      "#################### Answer ###########################\n",
      "3\n",
      "#################### Question ###########################\n",
      "시스템 및 서비스 운영관리에서 '변경관리'의 주요 목적은 무엇인가?\n",
      "1 시스템 변경 시 안정성 확보\n",
      "2 시스템 성능 향상\n",
      "3 보안 사고 예방\n",
      "4 사용자 편의성 증대\n"
     ]
    },
    {
     "name": "stderr",
     "output_type": "stream",
     "text": [
      "Inference:  72%|███████▏  | 372/515 [49:24<05:48,  2.43s/it]"
     ]
    },
    {
     "name": "stdout",
     "output_type": "stream",
     "text": [
      "#################### Answer ###########################\n",
      "3\n",
      "#################### Question ###########################\n",
      "개인신용정보의 삭제 요구에 대한 설명으로 옳은 것은?\n",
      "1 신용정보제공자는 삭제 요구를 받은 후 해당 정보를 보관해야 한다.\n",
      "2 신용정보주체는 상거래관계 종료 후 대통령령으로 정하는 기간이 경과한 경우 삭제를 요구할 수 있다.\n",
      "3 신용정보제공자는 삭제 요구를 받은 후 1년 이내에 정보를 삭제해야 한다.\n",
      "4 신용정보주체는 상거래관계가 종료되기 전에도 삭제를 요구할 수 있다.\n"
     ]
    },
    {
     "name": "stderr",
     "output_type": "stream",
     "text": [
      "Inference:  72%|███████▏  | 373/515 [50:02<31:05, 13.13s/it]"
     ]
    },
    {
     "name": "stdout",
     "output_type": "stream",
     "text": [
      "#################### Answer ###########################\n",
      "2\n",
      "#################### Question ###########################\n",
      "DNS 보안 취약점 중 \"파밍(pharming)\" 공격에 대한 설명으로 옳은 것은?\n",
      "1 DNS 서버를 직접 해킹하여 데이터를 삭제하는 공격\n",
      "2 DNS 서버의 IP 주소를 변경하여 사용자를 가짜 사이트로 유도하는 공격\n",
      "3 DNS 캐시 데이터를 위조하여 사용자를 가짜 사이트로 유도하는 공격\n",
      "4 DNS 서버의 트래픽을 차단하여 서비스 거부를 유발하는 공격\n"
     ]
    },
    {
     "name": "stderr",
     "output_type": "stream",
     "text": [
      "Inference:  73%|███████▎  | 374/515 [50:12<28:23, 12.08s/it]"
     ]
    },
    {
     "name": "stdout",
     "output_type": "stream",
     "text": [
      "#################### Answer ###########################\n",
      "2\n",
      "#################### Question ###########################\n",
      "사설가상망(VPN)의 주요 기능으로 가장 적절한 것은?\n",
      "1 데이터 압축\n",
      "2 데이터 삭제\n",
      "3 사용자 인증 우회\n",
      "4 데이터 암호화\n",
      "5 데이터 복제\n"
     ]
    },
    {
     "name": "stderr",
     "output_type": "stream",
     "text": [
      "Inference:  73%|███████▎  | 375/515 [50:12<20:09,  8.64s/it]"
     ]
    },
    {
     "name": "stdout",
     "output_type": "stream",
     "text": [
      "#################### Answer ###########################\n",
      "4\n",
      "#################### Question ###########################\n",
      "과학기술정보통신부장관이 전자서명 관련 업무를 위탁할 수 있는 기관은?\n",
      "1 한국인터넷진흥원\n",
      "2 한국데이터진흥원\n",
      "3 한국정보보호진흥원\n",
      "4 한국전자통신연구원\n"
     ]
    },
    {
     "name": "stderr",
     "output_type": "stream",
     "text": [
      "Inference:  73%|███████▎  | 376/515 [50:16<16:24,  7.08s/it]"
     ]
    },
    {
     "name": "stdout",
     "output_type": "stream",
     "text": [
      "#################### Answer ###########################\n",
      "4\n",
      "#################### Question ###########################\n",
      "정보보호 위험관리에서 '위험의 개념'에 대한 설명으로 가장 적절한 것은?\n",
      "1 위험은 특정 부서에서만 관리하면 된다.\n",
      "2 위험은 전사적 리스크로 확대될 수 있다.\n",
      "3 위험은 항상 피할 수 있는 요소이다.\n",
      "4 위험은 발생하지 않을 때만 관리가 필요하다.\n"
     ]
    },
    {
     "name": "stderr",
     "output_type": "stream",
     "text": [
      "Inference:  73%|███████▎  | 377/515 [50:22<15:58,  6.95s/it]"
     ]
    },
    {
     "name": "stdout",
     "output_type": "stream",
     "text": [
      "#################### Answer ###########################\n",
      "2\n",
      "#################### Question ###########################\n",
      "한국인터넷진흥원이 정보통신망법 제52조 제3항 제10호 및 제22호의 광고성 정보 전송에 관한 사업을 추진하기 위해 수행하는 업무가 아닌 것은?\n",
      "1 광고성 정보의 불법적 전송 방지 관련 대책 연구\n",
      "2 광고성 정보의 합법적 전송을 위한 교육 및 홍보\n",
      "3 광고성 정보 전송 관련 고충처리 및 상담\n",
      "4 광고성 정보 전송과 관련된 기술적 자문 및 지원\n"
     ]
    },
    {
     "name": "stderr",
     "output_type": "stream",
     "text": [
      "Inference:  73%|███████▎  | 378/515 [50:31<16:44,  7.33s/it]"
     ]
    },
    {
     "name": "stdout",
     "output_type": "stream",
     "text": [
      "#################### Answer ###########################\n",
      "4\n",
      "#################### Question ###########################\n",
      "개인정보보호법 제32조의2에 따른 개인정보 보호 인증심사는 어떤 방법으로 실시되는가?\n",
      "1 서면심사 또는 현장심사\n",
      "2 온라인 심사\n",
      "3 전화 심사\n",
      "4 전자문서 심사\n"
     ]
    },
    {
     "name": "stderr",
     "output_type": "stream",
     "text": [
      "Inference:  74%|███████▎  | 379/515 [50:37<15:46,  6.96s/it]"
     ]
    },
    {
     "name": "stdout",
     "output_type": "stream",
     "text": [
      "#################### Answer ###########################\n",
      "4\n",
      "#################### Question ###########################\n",
      "신용정보법 제35조에 의거하여 신용정보주체가 자신의 신용정보 조회를 요청할 경우, 신용정보회사가 부담할 수 있는 비용은 무엇인가?\n",
      "1 조회 비용 전액\n",
      "2 조회 비용의 절반\n",
      "3 조회 비용을 신용정보주체에게 전가할 수 있다\n",
      "4 조회 비용을 정부가 부담한다\n"
     ]
    },
    {
     "name": "stderr",
     "output_type": "stream",
     "text": [
      "Inference:  74%|███████▍  | 380/515 [50:53<21:44,  9.66s/it]"
     ]
    },
    {
     "name": "stdout",
     "output_type": "stream",
     "text": [
      "#################### Answer ###########################\n",
      "3\n",
      "#################### Question ###########################\n",
      "신용정보업 등의 허가를 받을 수 있는 자에 대한 설명으로 옳은 것은?\n",
      "1 신용보증기금은 신용정보업 허가를 받을 수 있다.\n",
      "2 채권추심업은 개인사업자만 허가를 받을 수 있다.\n",
      "3 한국무역보험공사는 신용정보업 허가를 받을 수 없다.\n",
      "4 개인신용평가업은 모든 법인이 허가를 받을 수 있다.\n",
      "5 기술보증기금은 신용정보업 허가를 받을 수 없는 기관이다.\n"
     ]
    },
    {
     "name": "stderr",
     "output_type": "stream",
     "text": [
      "Inference:  74%|███████▍  | 381/515 [51:22<34:39, 15.52s/it]"
     ]
    },
    {
     "name": "stdout",
     "output_type": "stream",
     "text": [
      "#################### Answer ###########################\n",
      "1\n",
      "#################### Question ###########################\n",
      "전자금융거래법 제21조의5에 따르면, 침해사고가 발생했을 때 금융회사 및 전자금융업자가 취해야 할 조치로 올바른 것은 무엇인가?\n",
      "1 침해사고 발생 사실을 30일 이내에 금융위원회에 통지한다.\n",
      "2 침해사고 발생 사실을 금융감독원에 즉시 통지한다.\n",
      "3 침해사고 발생 사실을 한국인터넷진흥원에 즉시 통지한다.\n",
      "4 침해사고 발생 사실을 30일 이내에 금융감독원에 통지한다.\n",
      "5 침해사고 발생 사실을 금융위원회에 즉시 통지한다.\n"
     ]
    },
    {
     "name": "stderr",
     "output_type": "stream",
     "text": [
      "Inference:  74%|███████▍  | 382/515 [51:23<24:43, 11.16s/it]"
     ]
    },
    {
     "name": "stdout",
     "output_type": "stream",
     "text": [
      "#################### Answer ###########################\n",
      "4\n",
      "#################### Question ###########################\n",
      "시스템 보호용 보안 솔루션의 기능으로 적절하지 않은 것은?\n",
      "1 네트워크 트래픽 증가\n",
      "2 사용자 인증\n",
      "3 서비스 품질 저하 유도\n",
      "4 접근 통제\n",
      "5 데이터 암호화\n"
     ]
    },
    {
     "name": "stderr",
     "output_type": "stream",
     "text": [
      "Inference:  74%|███████▍  | 383/515 [51:23<17:34,  7.99s/it]"
     ]
    },
    {
     "name": "stdout",
     "output_type": "stream",
     "text": [
      "#################### Answer ###########################\n",
      "3\n",
      "#################### Question ###########################\n",
      "DNS 보안에서 DNSSEC의 주요 기능은 무엇인가?\n",
      "1 데이터 압축\n",
      "2 데이터 무결성 검증\n",
      "3 데이터 복구\n",
      "4 데이터 암호화\n"
     ]
    },
    {
     "name": "stderr",
     "output_type": "stream",
     "text": [
      "Inference:  75%|███████▍  | 384/515 [51:26<13:59,  6.41s/it]"
     ]
    },
    {
     "name": "stdout",
     "output_type": "stream",
     "text": [
      "#################### Answer ###########################\n",
      "2\n",
      "#################### Question ###########################\n",
      "다음 중 데이터베이스 보안에서 접근 관리의 주요 취약점으로 올바른 것은?\n",
      "1 데이터베이스의 암호화 알고리즘을 강화하지 않음\n",
      "2 데이터베이스의 백업을 주기적으로 수행하지 않음\n",
      "3 데이터베이스의 기본 계정 패스워드를 변경하지 않음\n",
      "4 원격에서 데이터베이스 서버로의 접속을 제한하지 않음\n"
     ]
    },
    {
     "name": "stderr",
     "output_type": "stream",
     "text": [
      "Inference:  75%|███████▍  | 385/515 [51:27<10:10,  4.69s/it]"
     ]
    },
    {
     "name": "stdout",
     "output_type": "stream",
     "text": [
      "#################### Answer ###########################\n",
      "4\n",
      "#################### Question ###########################\n",
      "DNS 보안의 중요성을 설명하는 이유로 가장 적절한 것은?\n",
      "1 DNS는 인터넷의 모든 트래픽을 모니터링하여 보안을 강화한다.\n",
      "2 DNS는 IP주소를 도메인 이름으로 변환하여 사용자가 쉽게 기억할 수 있게 한다.\n",
      "3 DNS는 인터넷의 모든 데이터를 암호화하여 안전하게 전송한다.\n",
      "4 DNS는 인터넷의 전화번호부 역할을 하며, 정보 위변조 시 피해가 크기 때문이다.\n"
     ]
    },
    {
     "name": "stderr",
     "output_type": "stream",
     "text": [
      "Inference:  75%|███████▍  | 386/515 [51:28<07:32,  3.51s/it]"
     ]
    },
    {
     "name": "stdout",
     "output_type": "stream",
     "text": [
      "#################### Answer ###########################\n",
      "4\n",
      "#################### Question ###########################\n",
      "자율규제의 목적 중 하나로 올바른 것은?\n",
      "1 정보통신망의 자유로운 접근 제한\n",
      "2 개인정보의 무제한 수집\n",
      "3 개인정보 유출 시 법적 책임 면제\n",
      "4 정보통신망의 상업적 이용 촉진\n",
      "5 정보통신망의 안전성과 신뢰성 확보\n"
     ]
    },
    {
     "name": "stderr",
     "output_type": "stream",
     "text": [
      "Inference:  75%|███████▌  | 387/515 [51:43<15:07,  7.09s/it]"
     ]
    },
    {
     "name": "stdout",
     "output_type": "stream",
     "text": [
      "#################### Answer ###########################\n",
      "5\n",
      "#################### Question ###########################\n",
      "FTP 보안에서 사용되는 기술로 적절하지 않은 것은?\n",
      "1 SSL/TLS\n",
      "2 HTTP\n",
      "3 FTPS\n",
      "4 SFTP\n"
     ]
    },
    {
     "name": "stderr",
     "output_type": "stream",
     "text": [
      "Inference:  75%|███████▌  | 388/515 [51:44<10:59,  5.20s/it]"
     ]
    },
    {
     "name": "stdout",
     "output_type": "stream",
     "text": [
      "#################### Answer ###########################\n",
      "2\n",
      "#################### Question ###########################\n",
      "정보통신서비스 제공자가 정보 전송 역무 제공을 거부할 수 있는 경우로 적절한 것은?\n",
      "1 이용자가 광고성 정보의 수신을 원하지 않는 경우\n",
      "2 광고성 정보의 전송으로 인해 수익이 증가하는 경우\n",
      "3 광고성 정보의 전송이 법적으로 허용된 경우\n",
      "4 이용자가 광고성 정보를 수신하기로 동의한 경우\n"
     ]
    },
    {
     "name": "stderr",
     "output_type": "stream",
     "text": [
      "Inference:  76%|███████▌  | 389/515 [52:03<19:48,  9.43s/it]"
     ]
    },
    {
     "name": "stdout",
     "output_type": "stream",
     "text": [
      "#################### Answer ###########################\n",
      "1\n",
      "#################### Question ###########################\n",
      "신용정보의 처리 위탁 시, 위탁자가 수탁자와 연대하여 책임을 지는 경우는?\n",
      "1 수탁자가 신용정보주체의 동의를 받지 않은 경우\n",
      "2 수탁자가 신용정보를 해외로 이전한 경우\n",
      "3 수탁자가 위탁계약을 이행하지 않은 경우\n",
      "4 수탁자가 법을 위반하여 신용정보주체에게 손해를 가한 경우\n",
      "5 수탁자가 신용정보를 잘못된 목적으로 사용한 경우\n"
     ]
    },
    {
     "name": "stderr",
     "output_type": "stream",
     "text": [
      "Inference:  76%|███████▌  | 390/515 [52:32<31:53, 15.31s/it]"
     ]
    },
    {
     "name": "stdout",
     "output_type": "stream",
     "text": [
      "#################### Answer ###########################\n",
      "0\n",
      "#################### Question ###########################\n",
      "전자상거래 보안 기술 중 전자지불 수단별 보안요소에 해당하지 않는 것은?\n",
      "1 무결성\n",
      "2 인증\n",
      "3 암호화\n",
      "4 데이터 압축\n"
     ]
    },
    {
     "name": "stderr",
     "output_type": "stream",
     "text": [
      "Inference:  76%|███████▌  | 391/515 [52:33<22:31, 10.90s/it]"
     ]
    },
    {
     "name": "stdout",
     "output_type": "stream",
     "text": [
      "#################### Answer ###########################\n",
      "4\n",
      "#################### Question ###########################\n",
      "다음 중 물리적 보호구역 지정 기준에 해당하지 않는 것은?\n",
      "1 제한구역\n",
      "2 일반구역\n",
      "3 접견구역\n",
      "4 통제구역\n",
      "5 격리구역\n"
     ]
    },
    {
     "name": "stderr",
     "output_type": "stream",
     "text": [
      "Inference:  76%|███████▌  | 392/515 [52:33<15:59,  7.80s/it]"
     ]
    },
    {
     "name": "stdout",
     "output_type": "stream",
     "text": [
      "#################### Answer ###########################\n",
      "5\n",
      "#################### Question ###########################\n",
      "정보집합물의 결합 시, 결합의뢰기관이 데이터전문기관에 제공하는 정보집합물에 대해 취해야 할 조치로 옳은 것은?\n",
      "1 결합키를 생성하지 않고 제공한다.\n",
      "2 정보집합물의 내용을 암호화하지 않고 전달한다.\n",
      "3 결합된 정보집합물은 결합키를 포함하여 전달한다.\n",
      "4 개인신용정보가 포함된 정보집합물은 가명처리한다.\n",
      "5 정보집합물에 포함된 민감정보는 마스킹 없이 원본 그대로 제공한다.\n"
     ]
    },
    {
     "name": "stderr",
     "output_type": "stream",
     "text": [
      "Inference:  76%|███████▋  | 393/515 [52:52<22:22, 11.01s/it]"
     ]
    },
    {
     "name": "stdout",
     "output_type": "stream",
     "text": [
      "#################### Answer ###########################\n",
      "4\n",
      "#################### Question ###########################\n",
      "다음 중 전자서명법 제19조 \"전자서명생성정보의 보호 등\"에 관한 설명으로 옳은 것은?\n",
      "1 타인의 전자서명생성정보를 누설해서는 안 된다.\n",
      "2 운영기준 준수사실의 인정을 받은 전자서명인증사업자가 발급하는 인증서와 관련하여 거짓으로 발급받을 수 있다.\n",
      "3 전자서명인증사업자가 발급하는 인증서는 누구나 발급받을 수 있다.\n",
      "4 타인의 전자서명생성정보를 도용할 수 있다.\n"
     ]
    },
    {
     "name": "stderr",
     "output_type": "stream",
     "text": [
      "Inference:  77%|███████▋  | 394/515 [52:53<15:59,  7.93s/it]"
     ]
    },
    {
     "name": "stdout",
     "output_type": "stream",
     "text": [
      "#################### Answer ###########################\n",
      "1\n",
      "#################### Question ###########################\n",
      "패킷의 헤더 정보를 통해 알 수 없는 것은?\n",
      "1 프로토콜 종류\n",
      "2 수신자 IP 주소\n",
      "3 데이터의 내용\n",
      "4 암호화된 세션 키\n",
      "5 송신자 IP 주소\n"
     ]
    },
    {
     "name": "stderr",
     "output_type": "stream",
     "text": [
      "Inference:  77%|███████▋  | 395/515 [52:56<12:55,  6.47s/it]"
     ]
    },
    {
     "name": "stdout",
     "output_type": "stream",
     "text": [
      "#################### Answer ###########################\n",
      "3\n",
      "#################### Question ###########################\n",
      "시스템 파일의 위·변조 방지 기술로 적절한 것은?\n",
      "1 백업 자동화\n",
      "2 가상화\n",
      "3 암호화\n",
      "4 데이터 마이닝\n",
      "5 데이터 압축\n"
     ]
    },
    {
     "name": "stderr",
     "output_type": "stream",
     "text": [
      "Inference:  77%|███████▋  | 396/515 [52:58<10:20,  5.21s/it]"
     ]
    },
    {
     "name": "stdout",
     "output_type": "stream",
     "text": [
      "#################### Answer ###########################\n",
      "3\n",
      "#################### Question ###########################\n",
      "보호위원회의 회의 소집 요건으로 옳은 것은?\n",
      "1 위원장이 필요하다고 인정하거나 재적위원 3분의 1 이상의 요구가 있는 경우\n",
      "2 위원장이 필요하다고 인정하거나 재적위원 4분의 1 이상의 요구가 있는 경우\n",
      "3 위원장이 필요하다고 인정하거나 재적위원 2분의 1 이상의 요구가 있는 경우\n",
      "4 위원장이 필요하다고 인정하거나 재적위원 5분의 1 이상의 요구가 있는 경우\n"
     ]
    },
    {
     "name": "stderr",
     "output_type": "stream",
     "text": [
      "Inference:  77%|███████▋  | 397/515 [53:09<13:53,  7.06s/it]"
     ]
    },
    {
     "name": "stdout",
     "output_type": "stream",
     "text": [
      "#################### Answer ###########################\n",
      "4\n",
      "#################### Question ###########################\n",
      "다음 중 접근통제 정책의 종류에 해당하지 않는 것은?\n",
      "1 강제적 접근통제(MAC)\n",
      "2 역할 기반 접근통제(RBAC)\n",
      "3 네트워크 기반 접근통제(NAC)\n",
      "4 임의적 접근통제(DAC)\n"
     ]
    },
    {
     "name": "stderr",
     "output_type": "stream",
     "text": [
      "Inference:  77%|███████▋  | 398/515 [53:10<09:59,  5.13s/it]"
     ]
    },
    {
     "name": "stdout",
     "output_type": "stream",
     "text": [
      "#################### Answer ###########################\n",
      "4\n",
      "#################### Question ###########################\n",
      "디지털지갑의 보안 위협으로 가장 우려되는 사항은?\n",
      "1 광고 노출 증가\n",
      "2 결제 오류\n",
      "3 인증서 탈취\n",
      "4 데이터 백업 실패\n",
      "5 암호화 알고리즘의 업데이트 지연\n"
     ]
    },
    {
     "name": "stderr",
     "output_type": "stream",
     "text": [
      "Inference:  77%|███████▋  | 399/515 [53:11<07:17,  3.77s/it]"
     ]
    },
    {
     "name": "stdout",
     "output_type": "stream",
     "text": [
      "#################### Answer ###########################\n",
      "3\n",
      "#################### Question ###########################\n",
      "다음 중 사용자 인증 방식에 대한 설명으로 가장 적절한 것은?\n",
      "1 사용자 ID와 비밀번호를 이용한 인증은 가장 안전한 방식이다.\n",
      "2 인증 토큰은 사용자의 위치 정보를 기반으로 인증을 수행한다.\n",
      "3 생체 인식 기술은 사용자의 고유한 생리적 특징을 이용하여 인증한다.\n",
      "4 스마트 카드 인증은 네트워크 트래픽을 암호화하여 보안을 강화한다.\n"
     ]
    },
    {
     "name": "stderr",
     "output_type": "stream",
     "text": [
      "Inference:  78%|███████▊  | 400/515 [53:11<05:29,  2.86s/it]"
     ]
    },
    {
     "name": "stdout",
     "output_type": "stream",
     "text": [
      "#################### Answer ###########################\n",
      "3\n",
      "#################### Question ###########################\n",
      "청소년 보호 책임자의 지정에 관한 설명으로 옳은 것은?\n",
      "1 청소년 보호 책임자는 정보통신망의 청소년유해정보를 차단하고 관리해야 한다.\n",
      "2 청소년 보호 책임자는 금융회사의 정보보호최고책임자(CISO)와 동일한 역할을 수행한다.\n",
      "3 청소년 보호 책임자는 매년 12월 말까지 지정해야 한다.\n",
      "4 청소년 보호 책임자는 반드시 외부 전문가로 지정해야 한다.\n",
      "5 청소년 보호 책임자는 청소년 보호와 관련 없는 부서의 장이어야 한다.\n"
     ]
    },
    {
     "name": "stderr",
     "output_type": "stream",
     "text": [
      "Inference:  78%|███████▊  | 401/515 [53:12<04:21,  2.30s/it]"
     ]
    },
    {
     "name": "stdout",
     "output_type": "stream",
     "text": [
      "#################### Answer ###########################\n",
      "1\n",
      "#################### Question ###########################\n",
      "금융감독원장이 외부주문등과 관련하여 금융회사 또는 전자금융업자에 대한 검사를 할 때, 전자금융보조업자에게 요구할 수 있는 것은 무엇인가?\n",
      "1 자료 제출\n",
      "2 서비스 중단\n",
      "3 경영 개선\n",
      "4 계약 해지\n"
     ]
    },
    {
     "name": "stderr",
     "output_type": "stream",
     "text": [
      "Inference:  78%|███████▊  | 402/515 [53:14<04:01,  2.14s/it]"
     ]
    },
    {
     "name": "stdout",
     "output_type": "stream",
     "text": [
      "#################### Answer ###########################\n",
      "1\n",
      "#################### Question ###########################\n",
      "채권추심업에 종사하는 임직원이나 위임직채권추심인이 채권추심업무를 하려는 경우, 반드시 지녀야 하는 것은 무엇인가?\n",
      "1 채권추심업무에 대한 계약서\n",
      "2 채권추심업무에 대한 교육 수료증\n",
      "3 채권추심업무에 대한 허가증\n",
      "4 채권추심업에 종사함을 나타내는 증표\n"
     ]
    },
    {
     "name": "stderr",
     "output_type": "stream",
     "text": [
      "Inference:  78%|███████▊  | 403/515 [53:38<16:07,  8.64s/it]"
     ]
    },
    {
     "name": "stdout",
     "output_type": "stream",
     "text": [
      "#################### Answer ###########################\n",
      "3\n",
      "#################### Question ###########################\n",
      "전자금융거래법 제14조에 따르면, 이용자가 거래지시를 철회할 수 있는 시점은 언제인가?\n",
      "1 지급의 효력이 발생하기 전\n",
      "2 지급의 효력이 발생한 후\n",
      "3 거래지시의 인증 절차가 모두 완료된 후\n",
      "4 거래가 시작된 후\n",
      "5 거래가 완료된 후\n"
     ]
    },
    {
     "name": "stderr",
     "output_type": "stream",
     "text": [
      "Inference:  78%|███████▊  | 404/515 [53:39<11:34,  6.25s/it]"
     ]
    },
    {
     "name": "stdout",
     "output_type": "stream",
     "text": [
      "#################### Answer ###########################\n",
      "3\n",
      "#################### Question ###########################\n",
      "인증서 구조의 주요 특징으로 옳지 않은 것은?\n",
      "1 인증서는 공개 키를 포함한다.\n",
      "2 인증서는 서명자의 신원을 보장한다.\n",
      "3 인증서는 유효 기간을 포함한다.\n",
      "4 인증서는 비밀 키를 포함한다.\n"
     ]
    },
    {
     "name": "stderr",
     "output_type": "stream",
     "text": [
      "Inference:  79%|███████▊  | 405/515 [54:01<20:21, 11.10s/it]"
     ]
    },
    {
     "name": "stdout",
     "output_type": "stream",
     "text": [
      "#################### Answer ###########################\n",
      "0\n",
      "#################### Question ###########################\n",
      "신용정보업 허가와 관련하여 금융위원회가 할 수 있는 조치로 옳지 않은 것은?\n",
      "1 허가를 받은 후에도 조건을 변경할 수 없다.\n",
      "2 허가 신청서를 보완 요구할 수 있다.\n",
      "3 허가 여부를 신청인에게 문서로 통지한다.\n",
      "4 허가 심사 과정에서 금융위원회는 신용정보업자의 영업범위를 임의로 제한할 수 없다.\n",
      "5 허가에 조건을 붙일 수 있다.\n"
     ]
    },
    {
     "name": "stderr",
     "output_type": "stream",
     "text": [
      "Inference:  79%|███████▉  | 406/515 [54:02<14:31,  7.99s/it]"
     ]
    },
    {
     "name": "stdout",
     "output_type": "stream",
     "text": [
      "#################### Answer ###########################\n",
      "4\n",
      "#################### Question ###########################\n",
      "데이터전문기관의 업무에 해당하지 않는 것은 무엇인가?\n",
      "1 신용정보회사등의 익명처리에 대한 적정성 평가\n",
      "2 신용정보회사등이 보유하는 정보집합물과 제3자가 보유하는 정보집합물 간의 결합 및 전달\n",
      "3 신용정보의 정확성 및 최신성의 유지\n",
      "4 금융위원회가 정하여 고시하는 업무\n"
     ]
    },
    {
     "name": "stderr",
     "output_type": "stream",
     "text": [
      "Inference:  79%|███████▉  | 407/515 [54:04<11:21,  6.31s/it]"
     ]
    },
    {
     "name": "stdout",
     "output_type": "stream",
     "text": [
      "#################### Answer ###########################\n",
      "4\n",
      "#################### Question ###########################\n",
      "전자금융거래법 제7조에 따라 금융회사 또는 전자금융업자가 거래내용을 확인할 수 있도록 해야 하는 경우, 전자적 장치의 운영장애로 인해 거래내용을 확인할 수 없는 때에는 어떻게 해야 하는가?\n",
      "1 즉시 인터넷 등을 이용하여 그 사유를 알린다.\n",
      "2 이용자에게 모바일 애플리케이션 알림(Push Notification)으로 사유를 알린다.\n",
      "3 즉시 이용자에게 서면으로 알린다.\n",
      "4 즉시 전화로 이용자에게 알린다.\n",
      "5 즉시 전자우편으로 이용자에게 알린다.\n"
     ]
    },
    {
     "name": "stderr",
     "output_type": "stream",
     "text": [
      "Inference:  79%|███████▉  | 408/515 [54:05<08:17,  4.65s/it]"
     ]
    },
    {
     "name": "stdout",
     "output_type": "stream",
     "text": [
      "#################### Answer ###########################\n",
      "5\n",
      "#################### Question ###########################\n",
      "전자서명법 제22조에 따른 분쟁 조정의 주체로 올바른 것은?\n",
      "1 한국인터넷진흥원\n",
      "2 과학기술정보통신부\n",
      "3 금융감독원\n",
      "4 개인정보보호위원회\n"
     ]
    },
    {
     "name": "stderr",
     "output_type": "stream",
     "text": [
      "Inference:  79%|███████▉  | 409/515 [54:12<09:32,  5.41s/it]"
     ]
    },
    {
     "name": "stdout",
     "output_type": "stream",
     "text": [
      "#################### Answer ###########################\n",
      "4\n",
      "#################### Question ###########################\n",
      "전자서명인증 정책의 지원을 위해 한국인터넷진흥원이 수행하는 업무에 해당하는 것은?\n",
      "1 전자서명인증서의 폐기\n",
      "2 전자서명인증서의 재발급\n",
      "3 전자서명인증서의 유효성 검증\n",
      "4 전자서명인증 관련 표준화 연구\n"
     ]
    },
    {
     "name": "stderr",
     "output_type": "stream",
     "text": [
      "Inference:  80%|███████▉  | 410/515 [54:17<09:03,  5.18s/it]"
     ]
    },
    {
     "name": "stdout",
     "output_type": "stream",
     "text": [
      "#################### Answer ###########################\n",
      "3\n",
      "#################### Question ###########################\n",
      "명예훼손 분쟁조정부의 구성에 대한 설명으로 옳은 것은?\n",
      "1 5명 이하의 위원으로 구성되며, 그중 1명 이상은 변호사 자격이 있는 사람이어야 한다.\n",
      "2 7명 이하의 위원으로 구성되며, 모든 위원이 변호사 자격이 있어야 한다.\n",
      "3 3명 이하의 위원으로 구성되며, 변호사 자격이 있는 사람은 포함되지 않는다.\n",
      "4 10명 이하의 위원으로 구성되며, 변호사 자격은 필요하지 않다.\n"
     ]
    },
    {
     "name": "stderr",
     "output_type": "stream",
     "text": [
      "Inference:  80%|███████▉  | 411/515 [54:38<17:16,  9.97s/it]"
     ]
    },
    {
     "name": "stdout",
     "output_type": "stream",
     "text": [
      "#################### Answer ###########################\n",
      "1\n",
      "#################### Question ###########################\n",
      "다음 중 '인증 및 권한관리'에 대한 설명으로 가장 적절한 것은?\n",
      "1 모든 인증 정보는 별도의 검증 절차 없이 자동으로 승인된다.\n",
      "2 비밀번호는 6개월마다 변경할 필요가 없다.\n",
      "3 사용자 계정은 모든 직원에게 동일한 권한을 부여한다.\n",
      "4 특수 계정은 최소한의 인원에게만 부여하고 통제해야 한다.\n",
      "5 외부자에게는 항상 관리자 권한을 부여한다.\n"
     ]
    },
    {
     "name": "stderr",
     "output_type": "stream",
     "text": [
      "Inference:  80%|████████  | 412/515 [54:39<12:21,  7.20s/it]"
     ]
    },
    {
     "name": "stdout",
     "output_type": "stream",
     "text": [
      "#################### Answer ###########################\n",
      "4\n",
      "#################### Question ###########################\n",
      "이상금융거래 방지대책으로 가장 적절한 것은?\n",
      "1 모든 거래를 자동 승인\n",
      "2 거래 내역을 전혀 기록하지 않음\n",
      "3 의심되는 전자금융거래 모니터링 및 차단\n",
      "4 모든 거래를 동일한 보안 수준으로 처리\n"
     ]
    },
    {
     "name": "stderr",
     "output_type": "stream",
     "text": [
      "Inference:  80%|████████  | 413/515 [54:39<08:55,  5.25s/it]"
     ]
    },
    {
     "name": "stdout",
     "output_type": "stream",
     "text": [
      "#################### Answer ###########################\n",
      "3\n",
      "#################### Question ###########################\n",
      "전자서명인증사업자가 손해배상책임을 이행하기 위해 가입해야 하는 보험의 요건으로 옳은 것은?\n",
      "1 연간 총 보상액의 한도가 5억 원 이상일 것\n",
      "2 사고 발생 시 즉시 보상할 것\n",
      "3 보험 가입 기간이 1년 이상일 것\n",
      "4 연간 총 보상액의 한도가 10억 원 이상일 것\n"
     ]
    },
    {
     "name": "stderr",
     "output_type": "stream",
     "text": [
      "Inference:  80%|████████  | 414/515 [54:47<09:57,  5.92s/it]"
     ]
    },
    {
     "name": "stdout",
     "output_type": "stream",
     "text": [
      "#################### Answer ###########################\n",
      "4\n",
      "#################### Question ###########################\n",
      "전자금융거래법 제15조에 명시된 출금 동의 방법 중 금융위원회가 정하는 방법에 해당하지 않는 것은?\n",
      "1 이메일 동의\n",
      "2 전자문서 동의\n",
      "3 모바일 앱 푸시 알림 동의\n",
      "4 서면 동의\n",
      "5 녹취 동의\n"
     ]
    },
    {
     "name": "stderr",
     "output_type": "stream",
     "text": [
      "Inference:  81%|████████  | 415/515 [54:49<07:48,  4.69s/it]"
     ]
    },
    {
     "name": "stdout",
     "output_type": "stream",
     "text": [
      "#################### Answer ###########################\n",
      "4\n",
      "#################### Question ###########################\n",
      "금융시장의 기능 중 하나로, 자금의 효율적 배분을 통해 경제성장을 촉진하는 역할을 하는 것은 무엇인가?\n",
      "1 리스크 관리\n",
      "2 자금 중개\n",
      "3 시장 투명성 제고\n",
      "4 금융 규제\n",
      "5 자본 축적\n"
     ]
    },
    {
     "name": "stderr",
     "output_type": "stream",
     "text": [
      "Inference:  81%|████████  | 416/515 [54:49<05:43,  3.47s/it]"
     ]
    },
    {
     "name": "stdout",
     "output_type": "stream",
     "text": [
      "#################### Answer ###########################\n",
      "2\n",
      "#################### Question ###########################\n",
      "VLAN(Virtual LAN)의 주요 기능을 설명하세요.\n"
     ]
    },
    {
     "name": "stderr",
     "output_type": "stream",
     "text": [
      "Inference:  81%|████████  | 417/515 [55:41<29:11, 17.87s/it]"
     ]
    },
    {
     "name": "stdout",
     "output_type": "stream",
     "text": [
      "#################### Answer ###########################\n",
      "VLAN(Virtual Local Area Network)은 물리적으로 다른 위치에 있는 네트워크 장비들을 논리적으로 하나의 네트워크로 구성하여 관리할 수 있게 해주는 기술입니다. VLAN의 주요 기능은 다음과 같습니다:\n",
      "\n",
      "1. **네트워크 효율성 향상**: VLAN을 사용하면 네트워크 트래픽을 효율적으로 분배할 수 있습니다. 예를 들어, 특정 서버나 데이터베이스 서버에 대한 트래픽이 많은 경우, 이를 별도의 VLAN으로 분리하여 네트워크 대역폭을 더 효율적으로 사용할 수 있습니다\n",
      "#################### Question ###########################\n",
      "다음 중 보안요소 기술에 대한 설명으로 가장 적절한 것은?\n",
      "1 로그 분석은 데이터의 가용성을 보장하는 기술이다.\n",
      "2 암호화는 데이터의 무결성을 보장하는 기술이다.\n",
      "3 접근통제는 데이터의 기밀성을 보장하는 기술이다.\n",
      "4 인증은 사용자의 신원을 확인하는 과정이다.\n"
     ]
    },
    {
     "name": "stderr",
     "output_type": "stream",
     "text": [
      "Inference:  81%|████████  | 418/515 [55:41<20:33, 12.72s/it]"
     ]
    },
    {
     "name": "stdout",
     "output_type": "stream",
     "text": [
      "#################### Answer ###########################\n",
      "3\n",
      "#################### Question ###########################\n",
      "신용정보법 제39조의2에 따르면, 채권자변동정보의 열람에 관한 설명으로 옳은 것은?\n",
      "1 채권자변동정보는 대통령령으로 정하는 금융거래에 한해 열람할 수 있다.\n",
      "2 채권자변동정보는 금융위원회가 정한 정보에 한해 열람할 수 있다.\n",
      "3 채권자변동정보는 모든 금융거래에 대해 열람할 수 있다.\n",
      "4 채권자변동정보는 신용정보주체의 동의 없이 열람할 수 있다.\n"
     ]
    },
    {
     "name": "stderr",
     "output_type": "stream",
     "text": [
      "Inference:  81%|████████▏ | 419/515 [56:04<25:16, 15.79s/it]"
     ]
    },
    {
     "name": "stdout",
     "output_type": "stream",
     "text": [
      "#################### Answer ###########################\n",
      "3\n",
      "#################### Question ###########################\n",
      "다음 중 금융위원회가 신용정보회사의 허가 또는 인가를 취소할 수 있는 경우에 해당하지 않는 것은?\n",
      "1 신용정보를 처리하는 전산시스템의 정기 점검을 실시하지 않은 경우\n",
      "2 거짓이나 부정한 방법으로 허가를 받은 경우\n",
      "3 금융기관 등의 출자요건을 위반한 경우\n",
      "4 신용정보를 분실하거나 유출한 경우\n",
      "5 허가받은 영업을 1년 이상 하지 않은 경우\n"
     ]
    },
    {
     "name": "stderr",
     "output_type": "stream",
     "text": [
      "Inference:  82%|████████▏ | 420/515 [56:05<17:51, 11.28s/it]"
     ]
    },
    {
     "name": "stdout",
     "output_type": "stream",
     "text": [
      "#################### Answer ###########################\n",
      "5\n",
      "#################### Question ###########################\n",
      "정보통신망의 표준화 및 인증에 관한 설명으로 옳은 것은?\n",
      "1 정보통신망 표준에 따라 인증을 받은 경우에도 주기적인 보안성 평가를 면제받을 수 있다.\n",
      "2 인증을 받은 자는 제품이 표준에 적합한 것임을 나타내는 표시를 할 수 없다.\n",
      "3 정보통신망의 표준은 과학기술정보통신부장관이 정하여 고시하며, 사용을 강제할 수 있다.\n",
      "4 정보통신망과 관련된 제품은 인증 없이도 표준에 적합한 것임을 표시할 수 있다.\n",
      "5 「산업표준화법」 제12조에 따른 한국산업표준이 제정된 사항은 그 표준에 따른다.\n"
     ]
    },
    {
     "name": "stderr",
     "output_type": "stream",
     "text": [
      "Inference:  82%|████████▏ | 421/515 [56:06<12:49,  8.18s/it]"
     ]
    },
    {
     "name": "stdout",
     "output_type": "stream",
     "text": [
      "#################### Answer ###########################\n",
      "3\n",
      "#################### Question ###########################\n",
      "다음 중 해외 주요 법규에 해당하지 않는 것은?\n",
      "1 영국의 개인정보보호법(GDPR UK)\n",
      "2 일본의 개인정보보호법\n",
      "3 중국의 사이버보안법\n",
      "4 미국의 GDPR\n",
      "5 EU의 GDPR\n"
     ]
    },
    {
     "name": "stderr",
     "output_type": "stream",
     "text": [
      "Inference:  82%|████████▏ | 422/515 [56:07<09:09,  5.91s/it]"
     ]
    },
    {
     "name": "stdout",
     "output_type": "stream",
     "text": [
      "#################### Answer ###########################\n",
      "4\n",
      "#################### Question ###########################\n",
      "다음 중 은행업권에서 유가증권 투자에 대한 설명으로 가장 적절한 것은?\n",
      "1 유가증권 투자는 은행의 부수업무로 제한된다.\n",
      "2 유가증권 투자는 은행의 고유업무로 분류된다.\n",
      "3 은행은 유가증권 투자를 통해 주로 단기 수익을 추구한다.\n",
      "4 유가증권 투자는 은행의 신용위험을 완전히 제거할 수 있는 방법이다.\n",
      "5 은행은 유가증권 투자를 통해 자산의 다양화와 수익성 제고를 도모한다.\n"
     ]
    },
    {
     "name": "stderr",
     "output_type": "stream",
     "text": [
      "Inference:  82%|████████▏ | 423/515 [56:07<06:41,  4.36s/it]"
     ]
    },
    {
     "name": "stdout",
     "output_type": "stream",
     "text": [
      "#################### Answer ###########################\n",
      "5\n",
      "#################### Question ###########################\n",
      "신용정보회사 등이 정정청구를 받은 후, 정당한 사유가 있다고 인정할 경우 취해야 할 조치는?\n",
      "1 신용정보를 즉시 삭제\n",
      "2 금융위원회에 보고\n",
      "3 신용정보의 제공 및 이용을 중단하고 조사\n",
      "4 신용정보주체에게 통지\n"
     ]
    },
    {
     "name": "stderr",
     "output_type": "stream",
     "text": [
      "Inference:  82%|████████▏ | 424/515 [56:09<05:24,  3.56s/it]"
     ]
    },
    {
     "name": "stdout",
     "output_type": "stream",
     "text": [
      "#################### Answer ###########################\n",
      "4\n",
      "#################### Question ###########################\n",
      "금융전산망의 이해와 관련하여 금융공동망의 주요 기능으로 옳은 것은?\n",
      "1 금융정보의 비공유\n",
      "2 금융기관 간의 정보 교환 및 처리\n",
      "3 금융기관 간의 독립적 운영\n",
      "4 금융기관의 전산망 분리\n"
     ]
    },
    {
     "name": "stderr",
     "output_type": "stream",
     "text": [
      "Inference:  83%|████████▎ | 425/515 [56:10<04:02,  2.70s/it]"
     ]
    },
    {
     "name": "stdout",
     "output_type": "stream",
     "text": [
      "#################### Answer ###########################\n",
      "2\n",
      "#################### Question ###########################\n",
      "다음 중 개인정보보호법 '제46조 조정 전 합의 권고'에 대한 설명으로 가장 적절한 것은?\n",
      "1 분쟁조정위원회는 조정 전 합의를 무시할 수 있다.\n",
      "2 분쟁조정위원회는 조정 전 합의를 강제할 수 있다.\n",
      "3 분쟁조정위원회는 조정 전 합의를 권고할 수 없다.\n",
      "4 분쟁조정위원회는 조정 전 합의를 권고할 수 있다.\n"
     ]
    },
    {
     "name": "stderr",
     "output_type": "stream",
     "text": [
      "Inference:  83%|████████▎ | 426/515 [56:30<11:41,  7.88s/it]"
     ]
    },
    {
     "name": "stdout",
     "output_type": "stream",
     "text": [
      "#################### Answer ###########################\n",
      "4\n",
      "#################### Question ###########################\n",
      "신용정보법 제36조에 따르면, 신용정보주체가 상거래 거절의 근거가 된 신용정보에 대해 이의를 제기할 수 있는 기간은?\n",
      "1 60일 이내\n",
      "2 90일 이내\n",
      "3 30일 이내\n",
      "4 45일 이내\n"
     ]
    },
    {
     "name": "stderr",
     "output_type": "stream",
     "text": [
      "Inference:  83%|████████▎ | 427/515 [56:32<08:57,  6.10s/it]"
     ]
    },
    {
     "name": "stdout",
     "output_type": "stream",
     "text": [
      "#################### Answer ###########################\n",
      "3\n",
      "#################### Question ###########################\n",
      "소프트웨어 개발 보안에서 보안 요구사항을 정의할 때 가장 먼저 고려해야 할 요소는 무엇인가?\n",
      "1 코드 재사용성\n",
      "2 위협 모델링\n",
      "3 사용자 편의성\n",
      "4 성능 최적화\n"
     ]
    },
    {
     "name": "stderr",
     "output_type": "stream",
     "text": [
      "Inference:  83%|████████▎ | 428/515 [56:34<07:23,  5.09s/it]"
     ]
    },
    {
     "name": "stdout",
     "output_type": "stream",
     "text": [
      "#################### Answer ###########################\n",
      "2\n",
      "#################### Question ###########################\n",
      "개인정보보호법 제12조에 따르면, 개인정보 보호위원회가 개인정보처리자에게 권장할 수 있는 것은 무엇인가?\n",
      "1 개인정보 보호지침의 준수\n",
      "2 개인정보의 수집 및 이용 목적\n",
      "3 개인정보의 파기 방법\n",
      "4 개인정보의 제3자 제공 절차\n",
      "5 개인정보 유출 시 손해배상 청구 절차\n"
     ]
    },
    {
     "name": "stderr",
     "output_type": "stream",
     "text": [
      "Inference:  83%|████████▎ | 429/515 [56:46<09:58,  6.96s/it]"
     ]
    },
    {
     "name": "stdout",
     "output_type": "stream",
     "text": [
      "#################### Answer ###########################\n",
      "1\n",
      "#################### Question ###########################\n",
      "클라우드컴퓨팅서비스 보안인증(CSAP)의 등급제에서 '하' 등급의 주요 특징은 무엇인가?\n",
      "1 외부 보안 감사를 연 2회 이상 의무적으로 실시\n",
      "2 클라우드 서비스 제공자 자율 보안\n",
      "3 모든 정보에 대해 상등급 보안 적용\n",
      "4 물리적 망분리만 허용\n",
      "5 논리적 망분리 허용\n"
     ]
    },
    {
     "name": "stderr",
     "output_type": "stream",
     "text": [
      "Inference:  83%|████████▎ | 430/515 [56:46<07:12,  5.08s/it]"
     ]
    },
    {
     "name": "stdout",
     "output_type": "stream",
     "text": [
      "#################### Answer ###########################\n",
      "4\n",
      "#################### Question ###########################\n",
      "가맹점이 전자화폐 등을 이용한 거래에서 준수해야 할 사항으로 옳지 않은 것은?\n",
      "1 가맹점은 실제 매출금액을 초과하여 전자화폐 등으로 거래할 수 없다.\n",
      "2 가맹점은 전자화폐 등을 이유로 재화 또는 용역 제공을 거절할 수 없다.\n",
      "3 가맹점은 이용자로 하여금 가맹점수수료를 부담하게 할 수 있다.\n",
      "4 가맹점은 다른 가맹점 이름으로 전자화폐 등으로 거래할 수 없다.\n"
     ]
    },
    {
     "name": "stderr",
     "output_type": "stream",
     "text": [
      "Inference:  84%|████████▎ | 431/515 [56:47<05:17,  3.78s/it]"
     ]
    },
    {
     "name": "stdout",
     "output_type": "stream",
     "text": [
      "#################### Answer ###########################\n",
      "3\n",
      "#################### Question ###########################\n",
      "보안 프로토콜 중 SSL/TLS의 주요 특징으로 가장 적절한 것은?\n",
      "1 데이터 압축 기능 제공\n",
      "2 전자서명 기능을 기본적으로 제공\n",
      "3 네트워크 트래픽 모니터링\n",
      "4 데이터 무결성 및 기밀성 보장\n",
      "5 사용자 접근 제어 강화\n"
     ]
    },
    {
     "name": "stderr",
     "output_type": "stream",
     "text": [
      "Inference:  84%|████████▍ | 432/515 [56:48<03:56,  2.85s/it]"
     ]
    },
    {
     "name": "stdout",
     "output_type": "stream",
     "text": [
      "#################### Answer ###########################\n",
      "4\n",
      "#################### Question ###########################\n",
      "\"관리체계 수립 및 운영\"의 영역에서 \"관리체계 기반 마련\"에 포함되지 않는 항목은 무엇인가?\n",
      "1 내부통제 절차 수립\n",
      "2 위험 평가\n",
      "3 범위 설정\n",
      "4 경영진의 참여\n",
      "5 최고책임자의 지정\n"
     ]
    },
    {
     "name": "stderr",
     "output_type": "stream",
     "text": [
      "Inference:  84%|████████▍ | 433/515 [56:48<02:58,  2.18s/it]"
     ]
    },
    {
     "name": "stdout",
     "output_type": "stream",
     "text": [
      "#################### Answer ###########################\n",
      "5\n",
      "#################### Question ###########################\n",
      "다음 중 자율보안체계의 주요 추진 과제로 옳지 않은 것은?\n",
      "1 이사회 및 CEO의 금융보안 책임성 강조\n",
      "2 전사적 위험관리 체계 도입\n",
      "3 보안 규제 준수에만 집중\n",
      "4 사이버복원력 확보\n"
     ]
    },
    {
     "name": "stderr",
     "output_type": "stream",
     "text": [
      "Inference:  84%|████████▍ | 434/515 [56:49<02:18,  1.71s/it]"
     ]
    },
    {
     "name": "stdout",
     "output_type": "stream",
     "text": [
      "#################### Answer ###########################\n",
      "3\n",
      "#################### Question ###########################\n",
      "금융회사가 정보보호 예산을 관리할 때, 「전자금융감독규정」에 따라 정보기술부문 인력 중 정보보호 인력의 비율은 최소 몇 퍼센트 이상이어야 하는가?\n",
      "1 10%\n",
      "2 5%\n",
      "3 7%\n",
      "4 3%\n"
     ]
    },
    {
     "name": "stderr",
     "output_type": "stream",
     "text": [
      "Inference:  84%|████████▍ | 435/515 [56:50<01:50,  1.38s/it]"
     ]
    },
    {
     "name": "stdout",
     "output_type": "stream",
     "text": [
      "#################### Answer ###########################\n",
      "3\n",
      "#################### Question ###########################\n",
      "금융회사 또는 전자금융업자가 이용자에게 손해를 배상할 책임이 있는 경우로 옳은 것은?\n",
      "1 접근매체의 위조나 변조로 발생한 사고\n",
      "2 전자금융거래와 무관한 사고\n",
      "3 이용자의 부주의로 접근매체를 타인에게 대여한 경우\n",
      "4 금융회사의 내부 규정 위반으로 인한 사고\n",
      "5 이용자의 고의로 인한 사고\n"
     ]
    },
    {
     "name": "stderr",
     "output_type": "stream",
     "text": [
      "Inference:  85%|████████▍ | 436/515 [56:50<01:32,  1.17s/it]"
     ]
    },
    {
     "name": "stdout",
     "output_type": "stream",
     "text": [
      "#################### Answer ###########################\n",
      "1\n",
      "#################### Question ###########################\n",
      "사이버복원력을 구축하기 위해 금융회사가 고려해야 할 사항으로 적절하지 않은 것은?\n",
      "1 보안위협을 완벽히 차단할 수 있는 기술력 확보\n",
      "2 위험의 식별·평가·관리·개선 체계 구축\n",
      "3 이사회 및 C-level에게 금융보안 역할·권한 부여\n",
      "4 외부 감사 없이 내부 인력만으로 사이버 위협 대응 체계를 점검\n",
      "5 가상 사이버공격을 통한 위협 기반 침투테스트 실시\n"
     ]
    },
    {
     "name": "stderr",
     "output_type": "stream",
     "text": [
      "Inference:  85%|████████▍ | 437/515 [56:51<01:21,  1.04s/it]"
     ]
    },
    {
     "name": "stdout",
     "output_type": "stream",
     "text": [
      "#################### Answer ###########################\n",
      "4\n",
      "#################### Question ###########################\n",
      "다음 중 여신전문금융업의 건전한 발전을 도모하기 위해 설립된 기관은 무엇인가?\n",
      "1 서민금융진흥원\n",
      "2 한국투자공사\n",
      "3 여신금융협회\n",
      "4 한국자산관리공사\n",
      "5 금융정보분석원\n"
     ]
    },
    {
     "name": "stderr",
     "output_type": "stream",
     "text": [
      "Inference:  85%|████████▌ | 438/515 [56:52<01:10,  1.09it/s]"
     ]
    },
    {
     "name": "stdout",
     "output_type": "stream",
     "text": [
      "#################### Answer ###########################\n",
      "3\n",
      "#################### Question ###########################\n",
      "다음 중 금융시장의 주요 기능에 해당하지 않는 것은?\n",
      "1 자원의 효율적 배분\n",
      "2 유동성 제공\n",
      "3 소비자 효용 증진\n",
      "4 금융회사의 위험관리 지원\n"
     ]
    },
    {
     "name": "stderr",
     "output_type": "stream",
     "text": [
      "Inference:  85%|████████▌ | 439/515 [56:52<01:02,  1.22it/s]"
     ]
    },
    {
     "name": "stdout",
     "output_type": "stream",
     "text": [
      "#################### Answer ###########################\n",
      "3\n",
      "#################### Question ###########################\n",
      "보호대책 요구사항에 따라 정보시스템 도입 시 보안 요구사항을 정의하는 단계에서 가장 중요한 고려사항은 무엇인가?\n",
      "1 시스템의 성능 최적화\n",
      "2 사용자 편의성\n",
      "3 식별된 위험에 대한 적절한 보호대책 선정\n",
      "4 비용 절감\n"
     ]
    },
    {
     "name": "stderr",
     "output_type": "stream",
     "text": [
      "Inference:  85%|████████▌ | 440/515 [56:53<00:58,  1.29it/s]"
     ]
    },
    {
     "name": "stdout",
     "output_type": "stream",
     "text": [
      "#################### Answer ###########################\n",
      "3\n",
      "#################### Question ###########################\n",
      "운영체제 보안설정에서 리눅스 서버의 보안 강화를 위한 방법으로 적절하지 않은 것은?\n",
      "1 소프트웨어를 항상 최신 상태로 유지한다.\n",
      "2 방화벽을 완전히 비활성화하여 네트워크 속도를 높인다.\n",
      "3 불필요한 서비스는 구동하지 않도록 설정한다.\n",
      "4 'root' 계정의 비밀번호를 복잡하게 설정한다.\n",
      "5 모든 시스템 로그를 삭제하여 보안을 강화한다.\n"
     ]
    },
    {
     "name": "stderr",
     "output_type": "stream",
     "text": [
      "Inference:  86%|████████▌ | 441/515 [57:02<03:58,  3.23s/it]"
     ]
    },
    {
     "name": "stdout",
     "output_type": "stream",
     "text": [
      "#################### Answer ###########################\n",
      "2\n",
      "#################### Question ###########################\n",
      "개인정보보호법 제35조의4에 따르면, 개인정보 전송 요구를 받은 개인정보처리자가 전송을 거절할 수 있는 경우는 무엇인가?\n",
      "1 정보주체가 전송 요구를 철회한 경우\n",
      "2 정보주체의 본인 여부가 확인되지 않는 경우\n",
      "3 개인정보가 암호화되어 저장된 경우\n",
      "4 개인정보가 공공기관에 의해 수집된 경우\n",
      "5 개인정보가 이미 다른 기관에 전송된 경우\n"
     ]
    },
    {
     "name": "stderr",
     "output_type": "stream",
     "text": [
      "Inference:  86%|████████▌ | 442/515 [57:18<08:39,  7.11s/it]"
     ]
    },
    {
     "name": "stdout",
     "output_type": "stream",
     "text": [
      "#################### Answer ###########################\n",
      "2\n",
      "#################### Question ###########################\n",
      "전자화폐로 대금을 지급할 때, 지급의 효력이 발생하기 위한 조건은 무엇인가?\n",
      "1 전자화폐 거래 내역이 블록체인에 기록되어야 한다.\n",
      "2 전자화폐보유자가 동의해야 한다.\n",
      "3 전자화폐의 발행자가 보증해야 한다.\n",
      "4 금융회사의 승인이 필요하다.\n",
      "5 수취인과의 합의가 있어야 한다.\n"
     ]
    },
    {
     "name": "stderr",
     "output_type": "stream",
     "text": [
      "Inference:  86%|████████▌ | 443/515 [57:19<06:28,  5.39s/it]"
     ]
    },
    {
     "name": "stdout",
     "output_type": "stream",
     "text": [
      "#################### Answer ###########################\n",
      "1\n",
      "#################### Question ###########################\n",
      "개인신용정보의 전송요구에 관한 신용정보법 제33조의2에 따르면, 신용정보제공ㆍ이용자가 전송요구를 받은 경우, 전송해야 하는 정보의 조건이 아닌 것은?\n",
      "1 신용정보주체가 제공한 정보\n",
      "2 신용정보주체와의 권리ㆍ의무 관계에서 생성된 정보\n",
      "3 신용정보제공ㆍ이용자가 별도로 생성한 정보\n",
      "4 신용정보주체로부터 수집한 정보\n"
     ]
    },
    {
     "name": "stderr",
     "output_type": "stream",
     "text": [
      "Inference:  86%|████████▌ | 444/515 [57:36<10:21,  8.76s/it]"
     ]
    },
    {
     "name": "stdout",
     "output_type": "stream",
     "text": [
      "#################### Answer ###########################\n",
      "3\n",
      "#################### Question ###########################\n",
      "전자금융업의 등록을 위해 필요한 인력 요건으로 옳은 것은?\n",
      "1 전산업무 종사 경력 3년 이상인 임직원 4명 이상\n",
      "2 전산업무 종사 경력 2년 이상인 임직원 5명 이상\n",
      "3 전산업무 종사 경력 5년 이상인 임직원 2명 이상\n",
      "4 전산업무 종사 경력 1년 이상인 임직원 3명 이상\n"
     ]
    },
    {
     "name": "stderr",
     "output_type": "stream",
     "text": [
      "Inference:  86%|████████▋ | 445/515 [57:37<07:23,  6.34s/it]"
     ]
    },
    {
     "name": "stdout",
     "output_type": "stream",
     "text": [
      "#################### Answer ###########################\n",
      "3\n",
      "#################### Question ###########################\n",
      "부수업무로 금융위원회가 정하여 고시하는 업무에 해당하지 않는 것은?\n",
      "1 업무용 부동산의 임대차\n",
      "2 기업 및 법인 또는 그 상품의 홍보ㆍ광고\n",
      "3 정보시스템 운영에 관한 기술 지원\n",
      "4 대출 심사 및 승인\n",
      "5 신용회복지원 협약에 따른 채권 서류의 집중 및 보관\n"
     ]
    },
    {
     "name": "stderr",
     "output_type": "stream",
     "text": [
      "Inference:  87%|████████▋ | 446/515 [57:38<05:20,  4.65s/it]"
     ]
    },
    {
     "name": "stdout",
     "output_type": "stream",
     "text": [
      "#################### Answer ###########################\n",
      "2\n",
      "#################### Question ###########################\n",
      "개인정보보호법 제7조의4에 따르면, 위원의 임기는 몇 년이며, 몇 차례 연임할 수 있는가?\n",
      "1 5년, 두 차례 연임 가능\n",
      "2 3년, 한 차례 연임 가능\n",
      "3 2년, 한 차례 연임 가능\n",
      "4 3년, 연임 제한 없음\n",
      "5 4년, 두 차례 연임 가능\n"
     ]
    },
    {
     "name": "stderr",
     "output_type": "stream",
     "text": [
      "Inference:  87%|████████▋ | 447/515 [57:49<07:43,  6.81s/it]"
     ]
    },
    {
     "name": "stdout",
     "output_type": "stream",
     "text": [
      "#################### Answer ###########################\n",
      "2\n",
      "#################### Question ###########################\n",
      "ISO/IEC 27014에서 정보보호 거버넌스의 핵심 활동으로 정의되지 않은 것은?\n",
      "1 평가(Evaluate)\n",
      "2 관찰(Monitor)\n",
      "3 지시(Direct)\n",
      "4 실행(Execute)\n"
     ]
    },
    {
     "name": "stderr",
     "output_type": "stream",
     "text": [
      "Inference:  87%|████████▋ | 448/515 [57:52<06:13,  5.57s/it]"
     ]
    },
    {
     "name": "stdout",
     "output_type": "stream",
     "text": [
      "#################### Answer ###########################\n",
      "3\n",
      "#################### Question ###########################\n",
      "PKI의 구성 방식 중 계층구조에 대한 설명으로 옳은 것은?\n",
      "1 계층구조는 CRL을 사용하지 않는다.\n",
      "2 계층구조는 인증서의 발급과 검증이 중앙 집중적으로 이루어진다.\n",
      "3 계층구조는 인증서의 검증이 불가능하다.\n",
      "4 계층구조는 인증서의 발급이 분산되어 이루어진다.\n"
     ]
    },
    {
     "name": "stderr",
     "output_type": "stream",
     "text": [
      "Inference:  87%|████████▋ | 449/515 [58:02<07:31,  6.83s/it]"
     ]
    },
    {
     "name": "stdout",
     "output_type": "stream",
     "text": [
      "#################### Answer ###########################\n",
      "2\n",
      "#################### Question ###########################\n",
      "신용정보주체가 자신의 권리 행사를 대리인에게 하게 하기 위해 사용할 수 있는 방법으로 적절한 것은?\n",
      "1 서면, 전자문서, 인터넷 홈페이지, 어플리케이션 또는 메신저\n",
      "2 대면 상담, 우편, 이메일\n",
      "3 전화, 팩스, 우편\n",
      "4 팩스, 대면 상담, 인터넷 홈페이지\n"
     ]
    },
    {
     "name": "stderr",
     "output_type": "stream",
     "text": [
      "Inference:  87%|████████▋ | 450/515 [58:09<07:27,  6.88s/it]"
     ]
    },
    {
     "name": "stdout",
     "output_type": "stream",
     "text": [
      "#################### Answer ###########################\n",
      "4\n",
      "#################### Question ###########################\n",
      "공급망 공격(Supply Chain Attack)에 대한 설명으로 가장 적절한 것은?\n",
      "1 사용자 인증을 강화하여 불법 접근을 방지하는 기법\n",
      "2 외부 공격자가 방화벽을 우회하여 직접 내부 시스템에 접근하는 침입 방식\n",
      "3 데이터 백업을 통해 정보 손실을 예방하는 기법\n",
      "4 소프트웨어 개발 과정에서 취약한 업데이트 서버를 통해 악성코드를 유포하는 해킹 기법\n",
      "5 네트워크 트래픽을 암호화하여 안전한 통신을 보장하는 기법\n"
     ]
    },
    {
     "name": "stderr",
     "output_type": "stream",
     "text": [
      "Inference:  88%|████████▊ | 451/515 [58:23<09:32,  8.94s/it]"
     ]
    },
    {
     "name": "stdout",
     "output_type": "stream",
     "text": [
      "#################### Answer ###########################\n",
      "4\n",
      "#################### Question ###########################\n",
      "서버 보안에서 SSL(Secure Sockets Layer) 인증서를 적용한 웹서버의 역할로 적절한 것은?\n",
      "1 웹서버의 모든 트래픽을 차단한다.\n",
      "2 SSL 인증서를 적용하면 웹서버의 접근 로그가 자동으로 모두 삭제된다.\n",
      "3 웹서버의 디렉터리 리스트를 항상 노출시킨다.\n",
      "4 웹서버와 클라이언트 간의 통신을 암호화하여 보안을 강화한다.\n",
      "5 웹서버의 모든 파일을 외부에 공개한다.\n"
     ]
    },
    {
     "name": "stderr",
     "output_type": "stream",
     "text": [
      "Inference:  88%|████████▊ | 452/515 [58:23<06:48,  6.48s/it]"
     ]
    },
    {
     "name": "stdout",
     "output_type": "stream",
     "text": [
      "#################### Answer ###########################\n",
      "4\n",
      "#################### Question ###########################\n",
      "다음 중 네트워크 보안 기술의 응용에 대한 설명으로 가장 적절한 것은?\n",
      "1 IDS는 네트워크 트래픽을 실시간으로 분석하여 공격을 차단한다.\n",
      "2 방화벽은 네트워크 내부의 모든 트래픽을 암호화한다.\n",
      "3 VPN은 원격 사용자가 안전하게 네트워크에 접속할 수 있도록 한다.\n",
      "4 IPS는 네트워크 트래픽을 모니터링하고 공격을 탐지하여 경고를 제공한다.\n",
      "5 DLP는 네트워크 내 모든 데이터를 자동으로 백업하여 데이터 유출을 방지한다.\n"
     ]
    },
    {
     "name": "stderr",
     "output_type": "stream",
     "text": [
      "Inference:  88%|████████▊ | 453/515 [58:27<05:52,  5.69s/it]"
     ]
    },
    {
     "name": "stdout",
     "output_type": "stream",
     "text": [
      "#################### Answer ###########################\n",
      "1\n",
      "#################### Question ###########################\n",
      "신용정보의 수집 및 처리 원칙에 따라 신용정보회사 등이 신용정보를 수집할 때 명확히 해야 하는 것은 무엇인가?\n",
      "1 수집 및 처리의 암호화 방식\n",
      "2 수집 및 처리의 목적\n",
      "3 수집 및 처리의 장소\n",
      "4 수집 및 처리의 시간\n",
      "5 수집 및 처리의 비용\n"
     ]
    },
    {
     "name": "stderr",
     "output_type": "stream",
     "text": [
      "Inference:  88%|████████▊ | 454/515 [58:31<05:14,  5.15s/it]"
     ]
    },
    {
     "name": "stdout",
     "output_type": "stream",
     "text": [
      "#################### Answer ###########################\n",
      "2\n",
      "#################### Question ###########################\n",
      "정보통신망법 제22조의2에 따라 이동통신단말장치의 운영체제를 제작하여 공급하는 자가 해야 할 조치로 옳은 것은?\n",
      "1 이용자의 동의 없이 접근권한 설정\n",
      "2 접근권한 철회 기능 구현\n",
      "3 접근권한 설정에 대한 이용자 통보 생략\n",
      "4 모든 접근권한에 대한 동의 철회 불가\n",
      "5 운영체제 내 접근권한 요청 기록을 영구적으로 저장하지 않아야 한다.\n"
     ]
    },
    {
     "name": "stderr",
     "output_type": "stream",
     "text": [
      "Inference:  88%|████████▊ | 455/515 [59:53<28:13, 28.23s/it]"
     ]
    },
    {
     "name": "stdout",
     "output_type": "stream",
     "text": [
      "#################### Answer ###########################\n",
      "22\n",
      "#################### Question ###########################\n",
      "웹 애플리케이션 개발 보안에서 중요한 보안 약점으로 옳지 않은 것은?\n",
      "1 취약한 암호화 알고리즘 사용\n",
      "2 적절한 인증 없는 중요기능 허용\n",
      "3 충분하지 않은 키 길이 사용\n",
      "4 적절한 난수 값 사용\n"
     ]
    },
    {
     "name": "stderr",
     "output_type": "stream",
     "text": [
      "Inference:  89%|████████▊ | 456/515 [59:54<19:37, 19.96s/it]"
     ]
    },
    {
     "name": "stdout",
     "output_type": "stream",
     "text": [
      "#################### Answer ###########################\n",
      "4\n",
      "#################### Question ###########################\n",
      "DNSSEC이 방어할 수 있는 공격 유형은 무엇인가?\n",
      "1 DDoS 공격\n",
      "2 피싱\n",
      "3 파밍\n",
      "4 웜바이러스에 의한 호스트 정보 변조\n"
     ]
    },
    {
     "name": "stderr",
     "output_type": "stream",
     "text": [
      "Inference:  89%|████████▊ | 457/515 [1:00:19<20:50, 21.56s/it]"
     ]
    },
    {
     "name": "stdout",
     "output_type": "stream",
     "text": [
      "#################### Answer ###########################\n",
      "0\n",
      "#################### Question ###########################\n",
      "과학기술정보통신부장관이 침해사고 발생 시 정보통신서비스 제공자에게 명령할 수 있는 조치는?\n",
      "1 침해사고 발생 시 외부 전문가에게 모든 책임 전가\n",
      "2 침해사고 발생 시 모든 서비스를 중단\n",
      "3 침해사고 발생 사실을 언론에 공개\n",
      "4 침해사고의 원인 분석 및 대책 마련\n"
     ]
    },
    {
     "name": "stderr",
     "output_type": "stream",
     "text": [
      "Inference:  89%|████████▉ | 458/515 [1:00:20<14:32, 15.30s/it]"
     ]
    },
    {
     "name": "stdout",
     "output_type": "stream",
     "text": [
      "#################### Answer ###########################\n",
      "4\n",
      "#################### Question ###########################\n",
      "개인신용평점 하락 가능성과 관련해 설명의무가 발생하는 경우, 금융기관이 설명해야 할 주요 내용은 무엇인가요?\n"
     ]
    },
    {
     "name": "stderr",
     "output_type": "stream",
     "text": [
      "Inference:  89%|████████▉ | 459/515 [1:00:57<20:33, 22.02s/it]"
     ]
    },
    {
     "name": "stdout",
     "output_type": "stream",
     "text": [
      "#################### Answer ###########################\n",
      "개인신용평점 하락 가능성과 관련해 설명의무가 발생하는 경우, 금융기관은 평점 하락의 원인, 평점 하락으로 인한 영향(예를 들어, 대출 거부, 대출 조건 악화 등), 그리고 평점 하락을 방지하거나 극복하기 위한 방안(예를 들어, 대출 상품 변경, 대출 상품 추가 제공 등) 등을 설명해야 합니다.\n",
      "#################### Question ###########################\n",
      "시스템 및 서비스 보안관리에서 '악성코드 통제'의 주요 목적은 무엇인가?\n",
      "1 시스템 성능 최적화\n",
      "2 사용자 편의성 증대\n",
      "3 정보 유출 방지\n",
      "4 데이터베이스 관리\n"
     ]
    },
    {
     "name": "stderr",
     "output_type": "stream",
     "text": [
      "Inference:  89%|████████▉ | 460/515 [1:00:58<14:17, 15.59s/it]"
     ]
    },
    {
     "name": "stdout",
     "output_type": "stream",
     "text": [
      "#################### Answer ###########################\n",
      "3\n",
      "#################### Question ###########################\n",
      "개인정보보호법 제47조에 의거하여, 조정안을 제시받은 당사자가 제시받은 날부터 며칠 이내에 수락 여부를 알리지 않으면 조정을 수락한 것으로 보는가?\n",
      "1 20일\n",
      "2 15일\n",
      "3 10일\n",
      "4 7일\n"
     ]
    },
    {
     "name": "stderr",
     "output_type": "stream",
     "text": [
      "Inference:  90%|████████▉ | 461/515 [1:01:02<10:52, 12.08s/it]"
     ]
    },
    {
     "name": "stdout",
     "output_type": "stream",
     "text": [
      "#################### Answer ###########################\n",
      "2\n",
      "#################### Question ###########################\n",
      "다음 중 키 분배 프로토콜의 기능으로 올바르지 않은 것은?\n",
      "1 키의 안전한 전송\n",
      "2 키의 무결성 보장\n",
      "3 키의 비밀성 유지\n",
      "4 키의 자동 생성\n"
     ]
    },
    {
     "name": "stderr",
     "output_type": "stream",
     "text": [
      "Inference:  90%|████████▉ | 462/515 [1:01:05<08:19,  9.42s/it]"
     ]
    },
    {
     "name": "stdout",
     "output_type": "stream",
     "text": [
      "#################### Answer ###########################\n",
      "4\n",
      "#################### Question ###########################\n",
      "출입통제 절차에 포함되지 않는 것은?\n",
      "1 출입권한 부여 및 회수\n",
      "2 출입구 영상감시 해제\n",
      "3 출입신청\n",
      "4 책임자 승인\n",
      "5 출입기록 삭제\n"
     ]
    },
    {
     "name": "stderr",
     "output_type": "stream",
     "text": [
      "Inference:  90%|████████▉ | 463/515 [1:01:08<06:28,  7.48s/it]"
     ]
    },
    {
     "name": "stdout",
     "output_type": "stream",
     "text": [
      "#################### Answer ###########################\n",
      "2\n",
      "#################### Question ###########################\n",
      "신용정보의 정확성과 최신성을 유지하기 위해 신용정보회사 등이 따라야 할 기준과 절차를 정하는 기관은 무엇인가?\n",
      "1 금융감독원\n",
      "2 신용정보원\n",
      "3 한국은행\n",
      "4 금융위원회\n",
      "5 한국인터넷진흥원\n"
     ]
    },
    {
     "name": "stderr",
     "output_type": "stream",
     "text": [
      "Inference:  90%|█████████ | 464/515 [1:01:10<04:54,  5.78s/it]"
     ]
    },
    {
     "name": "stdout",
     "output_type": "stream",
     "text": [
      "#################### Answer ###########################\n",
      "2\n",
      "#################### Question ###########################\n",
      "다음 중 Web/App 공격 유형에 해당하지 않는 것은 무엇인가?\n",
      "1 데이터 백업\n",
      "2 Buffer Overflow\n",
      "3 SQL Injection\n",
      "4 Cross-Site Scripting (XSS)\n"
     ]
    },
    {
     "name": "stderr",
     "output_type": "stream",
     "text": [
      "Inference:  90%|█████████ | 465/515 [1:01:13<04:04,  4.90s/it]"
     ]
    },
    {
     "name": "stdout",
     "output_type": "stream",
     "text": [
      "#################### Answer ###########################\n",
      "1\n",
      "#################### Question ###########################\n",
      "정보통신망법 제44조의2에 따르면, 정보통신망을 통해 공개된 정보로 인해 사생활 침해나 명예훼손이 발생한 경우, 침해를 받은 자가 정보통신서비스 제공자에게 요청할 수 있는 조치는 무엇인가?\n",
      "1 정보의 공개 및 공유\n",
      "2 정보의 수정 및 재배포\n",
      "3 정보의 접근권 제한 및 열람 기록 보관\n",
      "4 정보의 삭제 또는 반박내용의 게재\n",
      "5 정보의 암호화 및 보호\n"
     ]
    },
    {
     "name": "stderr",
     "output_type": "stream",
     "text": [
      "Inference:  90%|█████████ | 466/515 [1:02:33<22:29, 27.55s/it]"
     ]
    },
    {
     "name": "stdout",
     "output_type": "stream",
     "text": [
      "#################### Answer ###########################\n",
      "44\n",
      "#################### Question ###########################\n",
      "다음 중 데이터베이스 보안에서 계정 관리의 주요 취약점으로 올바른 것은?\n",
      "1 데이터베이스의 암호화 알고리즘을 강화하지 않음\n",
      "2 데이터베이스의 접근 로그를 기록하지 않음\n",
      "3 데이터베이스의 백업을 주기적으로 수행하지 않음\n",
      "4 데이터베이스의 기본 계정 패스워드를 변경하지 않음\n"
     ]
    },
    {
     "name": "stderr",
     "output_type": "stream",
     "text": [
      "Inference:  91%|█████████ | 467/515 [1:02:34<15:35, 19.49s/it]"
     ]
    },
    {
     "name": "stdout",
     "output_type": "stream",
     "text": [
      "#################### Answer ###########################\n",
      "4\n",
      "#################### Question ###########################\n",
      "대통령령으로 정하는 규모 이상의 개인신용정보가 누설된 경우, 신용정보회사가 해야 할 조치로 옳은 것은?\n",
      "1 피해자에게 보상금을 지급한다.\n",
      "2 신용정보주체에게 사전 동의를 받는다.\n",
      "3 피해 복구를 위한 기술 지원을 요청한다.\n",
      "4 금융위원회에 통지 및 조치결과를 신고한다.\n"
     ]
    },
    {
     "name": "stderr",
     "output_type": "stream",
     "text": [
      "Inference:  91%|█████████ | 468/515 [1:02:51<14:44, 18.83s/it]"
     ]
    },
    {
     "name": "stdout",
     "output_type": "stream",
     "text": [
      "#################### Answer ###########################\n",
      "4\n",
      "#################### Question ###########################\n",
      "통신과금서비스의 안전성을 확보하기 위한 기술적 조치로 적절한 것은?\n",
      "1 통신과금서비스 이용자의 비밀번호를 공개한다.\n",
      "2 통신과금서비스 이용자의 거래 내역을 외부에 유출한다.\n",
      "3 해킹방지시스템 등을 구축·운영한다.\n",
      "4 통신과금서비스 이용자의 동의 없이 개인정보를 수집한다.\n"
     ]
    },
    {
     "name": "stderr",
     "output_type": "stream",
     "text": [
      "Inference:  91%|█████████ | 469/515 [1:02:52<10:15, 13.39s/it]"
     ]
    },
    {
     "name": "stdout",
     "output_type": "stream",
     "text": [
      "#################### Answer ###########################\n",
      "3\n",
      "#################### Question ###########################\n",
      "웹서버 보안에서 Apache 웹 서버의 디렉터리 리스팅을 방지하기 위한 설정으로 적절한 것은?\n",
      "1 FollowSymLinks 옵션 추가\n",
      "2 SSL 인증서 적용\n",
      "3 exec cmd 사용 허용\n",
      "4 Indexes 옵션 제거\n"
     ]
    },
    {
     "name": "stderr",
     "output_type": "stream",
     "text": [
      "Inference:  91%|█████████▏| 470/515 [1:02:52<07:09,  9.55s/it]"
     ]
    },
    {
     "name": "stdout",
     "output_type": "stream",
     "text": [
      "#################### Answer ###########################\n",
      "4\n",
      "#################### Question ###########################\n",
      "정보통신망 이용촉진 및 정보보호 등에 관한 법률(정보통신망법)의 목적에 해당하는 것은?\n",
      "1 정보통신서비스 이용자의 권리 제한\n",
      "2 개인정보 보호법의 적용 면제\n",
      "3 금융기관의 정보보호 의무를 전적으로 면제\n",
      "4 정보통신망의 불법 사용 촉진\n",
      "5 정보통신망의 안전한 이용 환경 조성\n"
     ]
    },
    {
     "name": "stderr",
     "output_type": "stream",
     "text": [
      "Inference:  91%|█████████▏| 471/515 [1:03:04<07:24, 10.11s/it]"
     ]
    },
    {
     "name": "stdout",
     "output_type": "stream",
     "text": [
      "#################### Answer ###########################\n",
      "2\n",
      "#################### Question ###########################\n",
      "인증 및 권한관리 측면에서 특수 계정에 대한 보안조치 방안은 무엇인가요?\n"
     ]
    },
    {
     "name": "stderr",
     "output_type": "stream",
     "text": [
      "Inference:  92%|█████████▏| 472/515 [1:03:49<14:48, 20.66s/it]"
     ]
    },
    {
     "name": "stdout",
     "output_type": "stream",
     "text": [
      "#################### Answer ###########################\n",
      "특수 계정(예: 관리자, 시스템 계정 등)에 대한 보안 조치는 다음과 같습니다. 첫째, 다중 인증(MFA)을 적용하여 계정 접근을 강화합니다. 둘째, 특수 계정의 암호는 정기적으로 변경되어야 하며, 최소 복잡성 규정을 충족해야 합니다. 셋째, 특수 계정의 활동은 모니터링 및 감사 대상이며, 비정상적인 접근이나 활동은 즉각적인 대응 계획을 수립해야 합니다.\n",
      "#################### Question ###########################\n",
      "공개서버 보안에 대한 설명으로 옳은 것은?\n",
      "1 공개서버는 주기적으로 보안 패치를 적용해야 한다.\n",
      "2 공개서버는 암호화가 필요하지 않다.\n",
      "3 공개서버는 모든 사용자에게 관리자 권한을 부여해야 한다.\n",
      "4 공개서버는 외부 접근이 불가능하도록 설정해야 한다.\n"
     ]
    },
    {
     "name": "stderr",
     "output_type": "stream",
     "text": [
      "Inference:  92%|█████████▏| 473/515 [1:03:50<10:16, 14.67s/it]"
     ]
    },
    {
     "name": "stdout",
     "output_type": "stream",
     "text": [
      "#################### Answer ###########################\n",
      "1\n",
      "#################### Question ###########################\n",
      "다음 중 메일 서비스 공격 유형에 해당하는 것은 무엇인가?\n",
      "1 버퍼 오버플로우 공격\n",
      "2 트로이 목마 공격\n",
      "3 Active Contents 공격\n",
      "4 서비스거부 공격\n"
     ]
    },
    {
     "name": "stderr",
     "output_type": "stream",
     "text": [
      "Inference:  92%|█████████▏| 474/515 [1:04:12<11:39, 17.05s/it]"
     ]
    },
    {
     "name": "stdout",
     "output_type": "stream",
     "text": [
      "#################### Answer ###########################\n",
      "1\n",
      "#################### Question ###########################\n",
      "전자금융거래에서 이용자 인증보안의 주요 목적은 무엇인가?\n",
      "1 정당한 이용자 확인\n",
      "2 시스템의 성능 향상\n",
      "3 데이터 저장 용량 증가\n",
      "4 금융거래 내역의 자동 복구\n",
      "5 네트워크 속도 개선\n"
     ]
    },
    {
     "name": "stderr",
     "output_type": "stream",
     "text": [
      "Inference:  92%|█████████▏| 475/515 [1:04:15<08:33, 12.83s/it]"
     ]
    },
    {
     "name": "stdout",
     "output_type": "stream",
     "text": [
      "#################### Answer ###########################\n",
      "1\n",
      "#################### Question ###########################\n",
      "불법촬영물등 유통방지 책임자를 지정하지 않은 경우에 해당하는 벌칙은 무엇인가?\n",
      "1 2,000만원 이하의 벌금\n",
      "2 600만원 이하의 벌금\n",
      "3 3년 이하의 징역\n",
      "4 1,200만원 이하의 벌금\n",
      "5 300만원 이하의 벌금\n"
     ]
    },
    {
     "name": "stderr",
     "output_type": "stream",
     "text": [
      "Inference:  92%|█████████▏| 476/515 [1:04:20<06:42, 10.33s/it]"
     ]
    },
    {
     "name": "stdout",
     "output_type": "stream",
     "text": [
      "#################### Answer ###########################\n",
      "2\n",
      "#################### Question ###########################\n",
      "금융위원회의 정책 방향 중 금융보안 규제 선진화 방안에 대한 설명으로 옳은 것은?\n",
      "1 금융보안 규제는 정보보호 최고책임자(CISO) 지정과 무관하다.\n",
      "2 금융보안 규제는 모든 금융기관에 동일한 기술적 보안 통제를 일괄적으로 적용한다.\n",
      "3 금융보안 규제는 핀테크 기업의 성장을 저해한다.\n",
      "4 금융보안 규제는 자율과 책임 기반의 사후적·원칙중심 규제로 전환된다.\n",
      "5 금융보안 규제는 사전적·경직적 규제로 유지된다.\n"
     ]
    },
    {
     "name": "stderr",
     "output_type": "stream",
     "text": [
      "Inference:  93%|█████████▎| 477/515 [1:04:21<04:45,  7.52s/it]"
     ]
    },
    {
     "name": "stdout",
     "output_type": "stream",
     "text": [
      "#################### Answer ###########################\n",
      "4\n",
      "#################### Question ###########################\n",
      "전자서명법 제24조에 따르면, 타인의 전자서명생성정보를 도용하거나 누설한 자에 대한 처벌로 옳은 것은?\n",
      "1 2년 이하의 징역 또는 2천만원 이하의 벌금\n",
      "2 5년 이하의 징역 또는 5천만원 이하의 벌금\n",
      "3 1년 이하의 징역 또는 1천만원 이하의 벌금\n",
      "4 3년 이하의 징역 또는 3천만원 이하의 벌금\n"
     ]
    },
    {
     "name": "stderr",
     "output_type": "stream",
     "text": [
      "Inference:  93%|█████████▎| 478/515 [1:04:22<03:22,  5.48s/it]"
     ]
    },
    {
     "name": "stdout",
     "output_type": "stream",
     "text": [
      "#################### Answer ###########################\n",
      "4\n",
      "#################### Question ###########################\n",
      "분쟁조정위원회가 처리기간을 연장할 수 있는 경우는 무엇인가?\n",
      "1 법원의 명령이 있을 때\n",
      "2 신청인의 요청이 있을 때\n",
      "3 개인정보처리자의 요청이 있을 때\n",
      "4 분쟁조정위원회의 의결로\n"
     ]
    },
    {
     "name": "stderr",
     "output_type": "stream",
     "text": [
      "Inference:  93%|█████████▎| 479/515 [1:04:32<04:06,  6.85s/it]"
     ]
    },
    {
     "name": "stdout",
     "output_type": "stream",
     "text": [
      "#################### Answer ###########################\n",
      "4\n",
      "#################### Question ###########################\n",
      "금융보안 교육의 중요성에 대한 설명으로 옳은 것은?\n",
      "1 기술적 결함만이 정보보호 사고의 주요 원인이다.\n",
      "2 정보보호 교육은 최고경영층에게만 필요하다.\n",
      "3 금융보안 교육은 기술적 측면에만 집중해야 한다.\n",
      "4 정보보호 수준 향상을 위한 최우선 요소는 보안교육 및 인식제고이다.\n"
     ]
    },
    {
     "name": "stderr",
     "output_type": "stream",
     "text": [
      "Inference:  93%|█████████▎| 480/515 [1:04:32<02:55,  5.01s/it]"
     ]
    },
    {
     "name": "stdout",
     "output_type": "stream",
     "text": [
      "#################### Answer ###########################\n",
      "4\n",
      "#################### Question ###########################\n",
      "한국은행이 금융감독원에 검사를 요구할 수 있는 경우는?\n",
      "1 금융회사의 경영 실적 분석을 위해\n",
      "2 전자금융거래의 통계조사를 위해\n",
      "3 전자금융거래의 보안 강화를 위해\n",
      "4 통화신용정책의 수행을 위해\n"
     ]
    },
    {
     "name": "stderr",
     "output_type": "stream",
     "text": [
      "Inference:  93%|█████████▎| 481/515 [1:04:37<02:44,  4.84s/it]"
     ]
    },
    {
     "name": "stdout",
     "output_type": "stream",
     "text": [
      "#################### Answer ###########################\n",
      "4\n",
      "#################### Question ###########################\n",
      "다음 중 전자서명법 \"제6조 다양한 전자서명수단의 이용 활성화\"에 대한 설명으로 옳은 것은?\n",
      "1 국가는 전자서명수단의 이용을 제한하는 규칙을 제정해야 한다.\n",
      "2 국가는 특정 전자서명수단만을 이용하도록 제한할 수 있다.\n",
      "3 국가는 전자서명수단의 안전성이 검증된 경우에만 새로운 전자서명방식을 도입할 수 있도록 규정하고 있다.\n",
      "4 국가는 전자서명수단을 특정한 경우에만 다양한 전자서명수단을 허용한다.\n",
      "5 국가는 생체인증, 블록체인 등 다양한 전자서명수단의 이용 활성화를 위해 노력해야 한다.\n"
     ]
    },
    {
     "name": "stderr",
     "output_type": "stream",
     "text": [
      "Inference:  94%|█████████▎| 482/515 [1:04:38<02:01,  3.69s/it]"
     ]
    },
    {
     "name": "stdout",
     "output_type": "stream",
     "text": [
      "#################### Answer ###########################\n",
      "5\n",
      "#################### Question ###########################\n",
      "금융보안 거버넌스의 변화가 요구되는 이유로 가장 적절한 것은?\n",
      "1 금융보안 거버넌스가 법규 준수 활동에 머물러 있기 때문에\n",
      "2 금융회사의 보안 수준이 이미 충분히 높기 때문에\n",
      "3 전자금융 서비스의 채널이 다양해지고 있기 때문에\n",
      "4 금융회사의 최고경영층이 보안에 무관심하기 때문에\n"
     ]
    },
    {
     "name": "stderr",
     "output_type": "stream",
     "text": [
      "Inference:  94%|█████████▍| 483/515 [1:04:39<01:29,  2.80s/it]"
     ]
    },
    {
     "name": "stdout",
     "output_type": "stream",
     "text": [
      "#################### Answer ###########################\n",
      "3\n",
      "#################### Question ###########################\n",
      "신용정보 보호를 위한 관리적 보안대책에 해당하지 않는 것은?\n",
      "1 보안 정책 수립\n",
      "2 접근 권한 관리\n",
      "3 데이터 암호화\n",
      "4 네트워크 침입 탐지 시스템 구축\n",
      "5 개인정보 보호 교육 실시\n"
     ]
    },
    {
     "name": "stderr",
     "output_type": "stream",
     "text": [
      "Inference:  94%|█████████▍| 484/515 [1:04:39<01:07,  2.16s/it]"
     ]
    },
    {
     "name": "stdout",
     "output_type": "stream",
     "text": [
      "#################### Answer ###########################\n",
      "4\n",
      "#################### Question ###########################\n",
      "디지털 서명의 보안 요구 조건으로 가장 적절한 것은?\n",
      "1 익명성\n",
      "2 무결성\n",
      "3 가용성\n",
      "4 비밀성\n"
     ]
    },
    {
     "name": "stderr",
     "output_type": "stream",
     "text": [
      "Inference:  94%|█████████▍| 485/515 [1:04:41<00:57,  1.92s/it]"
     ]
    },
    {
     "name": "stdout",
     "output_type": "stream",
     "text": [
      "#################### Answer ###########################\n",
      "4\n",
      "#################### Question ###########################\n",
      "개인정보보호법 제76조에 따르면, 제64조의2에 따라 과징금을 부과한 행위에 대해 과태료를 부과할 수 없는 이유는 무엇인가?\n",
      "1 동일한 위반 행위에 대해 형사처벌이 이미 이루어졌기 때문에\n",
      "2 과태료 부과가 법적으로 금지되어 있기 때문에\n",
      "3 과징금이 이미 부과되었기 때문에\n",
      "4 과태료가 과징금보다 낮기 때문에\n",
      "5 과태료 부과가 불필요하기 때문에\n"
     ]
    },
    {
     "name": "stderr",
     "output_type": "stream",
     "text": [
      "Inference:  94%|█████████▍| 486/515 [1:04:58<03:08,  6.48s/it]"
     ]
    },
    {
     "name": "stdout",
     "output_type": "stream",
     "text": [
      "#################### Answer ###########################\n",
      "2\n",
      "#################### Question ###########################\n",
      "자율보안체계의 성공적 정착을 위해 금융권이 가장 중점적으로 강화해야 할 것은?\n",
      "1 자체 보안역량\n",
      "2 보안사고 발생 시 책임 회피\n",
      "3 외부 보안 컨설팅 의존도\n",
      "4 최신 보안 솔루션 도입만으로 보안 수준 향상\n",
      "5 보안 규제 준수\n"
     ]
    },
    {
     "name": "stderr",
     "output_type": "stream",
     "text": [
      "Inference:  95%|█████████▍| 487/515 [1:04:58<02:12,  4.74s/it]"
     ]
    },
    {
     "name": "stdout",
     "output_type": "stream",
     "text": [
      "#################### Answer ###########################\n",
      "1\n",
      "#################### Question ###########################\n",
      "분쟁조정위원회가 분쟁조정 신청을 받은 날로부터 조정안을 작성해야 하는 기간은 며칠인가?\n",
      "1 30일\n",
      "2 45일\n",
      "3 60일\n",
      "4 90일\n"
     ]
    },
    {
     "name": "stderr",
     "output_type": "stream",
     "text": [
      "Inference:  95%|█████████▍| 488/515 [1:05:01<01:48,  4.01s/it]"
     ]
    },
    {
     "name": "stdout",
     "output_type": "stream",
     "text": [
      "#################### Answer ###########################\n",
      "4\n",
      "#################### Question ###########################\n",
      "신용정보집중기관이 공공기관으로부터 제공받은 신용정보를 제공할 수 있는 대상은?\n",
      "1 금융위원회\n",
      "2 외국 정부 기관\n",
      "3 모든 개인 및 법인\n",
      "4 신용정보관리·평가업자\n",
      "5 대통령령으로 정하는 신용정보의 이용자\n"
     ]
    },
    {
     "name": "stderr",
     "output_type": "stream",
     "text": [
      "Inference:  95%|█████████▍| 489/515 [1:05:09<02:18,  5.32s/it]"
     ]
    },
    {
     "name": "stdout",
     "output_type": "stream",
     "text": [
      "#################### Answer ###########################\n",
      "4\n",
      "#################### Question ###########################\n",
      "자율보안체계로의 전환을 추진하는 이유로 가장 적절한 것은?\n",
      "1 보안 위협 탐지를 전적으로 외부 기관에 위임하기 위해\n",
      "2 보안 규제를 세세한 열거식 규정으로 유지하기 위해\n",
      "3 금융회사의 보안 거버넌스를 강화하기 위해\n",
      "4 보안사고를 100% 예방하기 위해\n",
      "5 금융보안 책임성을 이사회에만 부여하기 위해\n"
     ]
    },
    {
     "name": "stderr",
     "output_type": "stream",
     "text": [
      "Inference:  95%|█████████▌| 490/515 [1:05:10<01:38,  3.95s/it]"
     ]
    },
    {
     "name": "stdout",
     "output_type": "stream",
     "text": [
      "#################### Answer ###########################\n",
      "3\n",
      "#################### Question ###########################\n",
      "금융보안 컴플라이언스의 중요성에 대한 설명으로 가장 적절한 것은?\n",
      "1 금융보안 컴플라이언스는 금융회사의 내부통제와 관련이 없다.\n",
      "2 금융보안 컴플라이언스는 정보보호 관련 법률 위반 시 발생하는 위험을 줄인다.\n",
      "3 금융보안 컴플라이언스는 금융회사의 비즈니스 기회를 제한한다.\n",
      "4 금융보안 컴플라이언스는 금융회사의 생존과 무관하다.\n",
      "5 금융보안 컴플라이언스는 외부 감사와는 무관하게 금융회사의 자율적 선택에 해당한다.\n"
     ]
    },
    {
     "name": "stderr",
     "output_type": "stream",
     "text": [
      "Inference:  95%|█████████▌| 491/515 [1:05:11<01:13,  3.06s/it]"
     ]
    },
    {
     "name": "stdout",
     "output_type": "stream",
     "text": [
      "#################### Answer ###########################\n",
      "2\n",
      "#################### Question ###########################\n",
      "전자화폐발행자가 전자화폐 보유자의 교환 요청에 따라 해야 할 조치로 옳은 것은?\n",
      "1 전자화폐의 교환 요구 시 15일 이내에 처리해야 한다.\n",
      "2 전자화폐의 교환은 보유자의 신원확인 절차 없이 즉시 처리해야 한다.\n",
      "3 전자화폐를 발행한 모든 장소에서 교환에 응해야 한다.\n",
      "4 전자화폐를 현금 또는 예금으로 교환할 의무가 없다.\n",
      "5 전자화폐의 교환은 발행자의 중앙전산시스템을 경유하지 않아도 된다.\n"
     ]
    },
    {
     "name": "stderr",
     "output_type": "stream",
     "text": [
      "Inference:  96%|█████████▌| 492/515 [1:05:20<01:51,  4.84s/it]"
     ]
    },
    {
     "name": "stdout",
     "output_type": "stream",
     "text": [
      "#################### Answer ###########################\n",
      "4\n",
      "#################### Question ###########################\n",
      "금융투자업의 종류로 올바르게 나열된 것은?\n",
      "1 투자매매업, 보험업, 대출업, 자산관리업, 투자일임업, 투자자문업\n",
      "2 투자중개업, 집합투자업, 신탁업, 대출업, 보험업, 자산관리업\n",
      "3 투자매매업, 투자중개업, 신탁업, 보험업, 대출업, 자산관리업\n",
      "4 투자매매업, 투자중개업, 집합투자업, 신탁업, 자산운용업, 금융자문업\n",
      "5 투자매매업, 투자중개업, 집합투자업, 신탁업, 투자일임업, 투자자문업\n"
     ]
    },
    {
     "name": "stderr",
     "output_type": "stream",
     "text": [
      "Inference:  96%|█████████▌| 493/515 [1:05:21<01:21,  3.68s/it]"
     ]
    },
    {
     "name": "stdout",
     "output_type": "stream",
     "text": [
      "#################### Answer ###########################\n",
      "4\n",
      "#################### Question ###########################\n",
      "다음 중 \"국가 등의 책무\"에 관한 설명으로 가장 적절한 것은?\n",
      "1 국가와 지방자치단체는 개인정보 보호를 위한 법적 책임이 없다.\n",
      "2 국가와 지방자치단체는 개인정보 보호와 관련된 국제 협력을 금지한다.\n",
      "3 국가와 지방자치단체는 개인정보 보호를 위한 기술 개발을 지원하지 않는다.\n",
      "4 국가와 지방자치단체는 개인정보 보호를 위한 정책을 수립하고 시행해야 한다.\n"
     ]
    },
    {
     "name": "stderr",
     "output_type": "stream",
     "text": [
      "Inference:  96%|█████████▌| 494/515 [1:05:22<00:58,  2.80s/it]"
     ]
    },
    {
     "name": "stdout",
     "output_type": "stream",
     "text": [
      "#################### Answer ###########################\n",
      "4\n",
      "#################### Question ###########################\n",
      "전자금융거래에서 단말기 영역 보호를 위한 보안기술로 적절한 것은?\n",
      "1 이상금융거래 모니터링\n",
      "2 방화벽 설정\n",
      "3 네트워크 구간 데이터 무결성 검증\n",
      "4 입력 값 암호화\n",
      "5 루팅 및 탈옥 검사\n"
     ]
    },
    {
     "name": "stderr",
     "output_type": "stream",
     "text": [
      "Inference:  96%|█████████▌| 495/515 [1:05:22<00:43,  2.17s/it]"
     ]
    },
    {
     "name": "stdout",
     "output_type": "stream",
     "text": [
      "#################### Answer ###########################\n",
      "3\n",
      "#################### Question ###########################\n",
      "개인정보보호법 제7조의3에 따르면, 위원장이 부득이한 사유로 직무를 수행할 수 없을 때 그 직무를 대행하는 사람은 누구인가?\n",
      "1 국회의장\n",
      "2 국무총리\n",
      "3 감사위원\n",
      "4 사무처의 장\n",
      "5 부위원장\n"
     ]
    },
    {
     "name": "stderr",
     "output_type": "stream",
     "text": [
      "Inference:  96%|█████████▋| 496/515 [1:05:27<00:54,  2.85s/it]"
     ]
    },
    {
     "name": "stdout",
     "output_type": "stream",
     "text": [
      "#################### Answer ###########################\n",
      "5\n",
      "#################### Question ###########################\n",
      "책임감 있는 AI(Responsible AI)의 구현을 위해 금융권에서 고려해야 할 요소로 가장 적절한 것은?\n",
      "1 AI의 비용 절감\n",
      "2 AI의 신뢰성 및 투명성 확보\n",
      "3 AI의 빠른 개발 속도\n",
      "4 AI의 사용자 편의성 향상\n"
     ]
    },
    {
     "name": "stderr",
     "output_type": "stream",
     "text": [
      "Inference:  97%|█████████▋| 497/515 [1:05:31<01:01,  3.42s/it]"
     ]
    },
    {
     "name": "stdout",
     "output_type": "stream",
     "text": [
      "#################### Answer ###########################\n",
      "2\n",
      "#################### Question ###########################\n",
      "개인정보보호법 제70조에 따르면, 공공기관의 개인정보 처리업무를 방해할 목적으로 개인정보를 변경하거나 말소하여 심각한 지장을 초래한 자에게 부과되는 벌칙은 무엇인가?\n",
      "1 1년 이하의 징역 또는 1천만원 이하의 벌금\n",
      "2 10년 이하의 징역 또는 1억원 이하의 벌금\n",
      "3 3년 이하의 징역 또는 3천만원 이하의 벌금\n",
      "4 7년 이하의 징역 또는 7천만원 이하의 벌금\n",
      "5 5년 이하의 징역 또는 5천만원 이하의 벌금\n"
     ]
    },
    {
     "name": "stderr",
     "output_type": "stream",
     "text": [
      "Inference:  97%|█████████▋| 498/515 [1:05:54<02:34,  9.12s/it]"
     ]
    },
    {
     "name": "stdout",
     "output_type": "stream",
     "text": [
      "#################### Answer ###########################\n",
      "2\n",
      "#################### Question ###########################\n",
      "다음 중 네트워크의 종류별 동작 원리 및 특징에 대한 설명으로 옳은 것은?\n",
      "1 WAN은 일반적으로 한 사무실 내에서만 네트워크를 구성할 때 사용된다.\n",
      "2 SDN은 하드웨어 기반의 네트워크 관리 방식을 사용한다.\n",
      "3 Ethernet은 주로 무선 네트워크에서 사용된다.\n",
      "4 LAN은 지역 내의 컴퓨터들을 연결하여 자원을 공유한다.\n",
      "5 Intranet은 외부 사용자에게 개방된 네트워크이다.\n"
     ]
    },
    {
     "name": "stderr",
     "output_type": "stream",
     "text": [
      "Inference:  97%|█████████▋| 499/515 [1:06:23<04:01, 15.12s/it]"
     ]
    },
    {
     "name": "stdout",
     "output_type": "stream",
     "text": [
      "#################### Answer ###########################\n",
      "1\n",
      "#################### Question ###########################\n",
      "임시조치의 기간은 최대 며칠 이내로 설정할 수 있는가?\n",
      "1 60일\n",
      "2 10일\n",
      "3 30일\n",
      "4 20일\n",
      "5 40일\n"
     ]
    },
    {
     "name": "stderr",
     "output_type": "stream",
     "text": [
      "Inference:  97%|█████████▋| 500/515 [1:06:25<02:49, 11.27s/it]"
     ]
    },
    {
     "name": "stdout",
     "output_type": "stream",
     "text": [
      "#################### Answer ###########################\n",
      "3\n",
      "#################### Question ###########################\n",
      "통신과금서비스이용자의 이익을 현저하게 저해하는 자에 대해 과학기술정보통신부장관이 취할 수 있는 조치는?\n",
      "1 서비스 요금 인상\n",
      "2 서비스 제공 거부\n",
      "3 서비스 홍보 강화\n",
      "4 서비스 품질 개선\n"
     ]
    },
    {
     "name": "stderr",
     "output_type": "stream",
     "text": [
      "Inference:  97%|█████████▋| 501/515 [1:06:28<02:01,  8.67s/it]"
     ]
    },
    {
     "name": "stdout",
     "output_type": "stream",
     "text": [
      "#################### Answer ###########################\n",
      "2\n",
      "#################### Question ###########################\n",
      "정보통신망법 제64조에 따라 제출되거나 수집된 자료를 폐기해야 하는 경우로 옳은 것은?\n",
      "1 자료 제출 요구가 철회된 경우\n",
      "2 자료 제출 요구가 거부된 경우\n",
      "3 자료 제출 요구가 연기된 경우\n",
      "4 자료 제출 요구의 목적이 달성된 경우\n"
     ]
    },
    {
     "name": "stderr",
     "output_type": "stream",
     "text": [
      "Inference:  97%|█████████▋| 502/515 [1:06:28<01:21,  6.27s/it]"
     ]
    },
    {
     "name": "stdout",
     "output_type": "stream",
     "text": [
      "#################### Answer ###########################\n",
      "4\n",
      "#################### Question ###########################\n",
      "DNS 공격 유형 중 하나로, 공격자가 DNS 서버의 캐시를 조작하여 잘못된 정보를 제공하게 하는 공격은 무엇인가?\n",
      "1 DNS 리플렉션\n",
      "2 DNS 스푸핑\n",
      "3 DNS 증폭 공격\n",
      "4 DNS 캐시 포이즈닝\n"
     ]
    },
    {
     "name": "stderr",
     "output_type": "stream",
     "text": [
      "Inference:  98%|█████████▊| 503/515 [1:06:32<01:06,  5.55s/it]"
     ]
    },
    {
     "name": "stdout",
     "output_type": "stream",
     "text": [
      "#################### Answer ###########################\n",
      "4\n",
      "#################### Question ###########################\n",
      "전자서명법 제22조에 따른 분쟁 조정 절차에 대한 설명으로 올바른 것은?\n",
      "1 분쟁 조정은 한국인터넷진흥원의 조정위원회를 통해 이루어진다.\n",
      "2 분쟁 조정은 과학기술정보통신부의 명령에 의해 이루어진다.\n",
      "3 분쟁 조정은 법원의 판결을 통해 이루어진다.\n",
      "4 분쟁 조정은 당사자 간의 합의로만 이루어진다.\n"
     ]
    },
    {
     "name": "stderr",
     "output_type": "stream",
     "text": [
      "Inference:  98%|█████████▊| 504/515 [1:06:51<01:44,  9.52s/it]"
     ]
    },
    {
     "name": "stdout",
     "output_type": "stream",
     "text": [
      "#################### Answer ###########################\n",
      "4\n",
      "#################### Question ###########################\n",
      "개인정보보호법 제12조에 따르면, 보호위원회가 개인정보처리자에게 권장할 수 있는 표준 개인정보 보호지침의 내용으로 적절한 것은?\n",
      "1 개인정보 유출 사고 발생 시 손해배상 청구 절차\n",
      "2 개인정보의 수집 및 이용 목적\n",
      "3 개인정보의 보유 및 이용 기간\n",
      "4 개인정보의 제공받는 자의 정보 이용 목적\n",
      "5 개인정보의 처리 기준 및 침해 예방조치\n"
     ]
    },
    {
     "name": "stderr",
     "output_type": "stream",
     "text": [
      "Inference:  98%|█████████▊| 505/515 [1:07:03<01:42, 10.26s/it]"
     ]
    },
    {
     "name": "stdout",
     "output_type": "stream",
     "text": [
      "#################### Answer ###########################\n",
      "3\n",
      "#################### Question ###########################\n",
      "OSS(오픈소스 소프트웨어)의 보안 취약점 중 기업에서 사용하는 소프트웨어가 동일한 취약점을 가지게 되는 문제를 무엇이라 하는가?\n",
      "1 취약점 복제\n",
      "2 취약점 누적\n",
      "3 취약점 상속\n",
      "4 취약점 전파\n"
     ]
    },
    {
     "name": "stderr",
     "output_type": "stream",
     "text": [
      "Inference:  98%|█████████▊| 506/515 [1:07:05<01:09,  7.77s/it]"
     ]
    },
    {
     "name": "stdout",
     "output_type": "stream",
     "text": [
      "#################### Answer ###########################\n",
      "3\n",
      "#################### Question ###########################\n",
      "개인정보보호법 제3조에 의하면, 개인정보처리자가 개인정보를 처리할 때 준수해야 할 사항으로 적절하지 않은 것은?\n",
      "1 개인정보 처리방침을 공개하여야 한다.\n",
      "2 개인정보를 가명으로 처리할 수 있는 경우에도 익명 처리\n",
      "3 개인정보의 처리 목적을 명확하게 해야 한다.\n",
      "4 개인정보를 처리할 때 정보주체의 동의 없이 제3자에게 제공할 수 있다.\n",
      "5 개인정보의 안전한 관리를 위해 위험 정도를 고려해야 한다.\n"
     ]
    },
    {
     "name": "stderr",
     "output_type": "stream",
     "text": [
      "Inference:  98%|█████████▊| 507/515 [1:07:33<01:51, 13.91s/it]"
     ]
    },
    {
     "name": "stdout",
     "output_type": "stream",
     "text": [
      "#################### Answer ###########################\n",
      "4\n",
      "#################### Question ###########################\n",
      "전자금융데이터 보안에서 암호화 방식을 선택할 때 고려해야 할 주요 기준은 무엇인가요?\n"
     ]
    },
    {
     "name": "stderr",
     "output_type": "stream",
     "text": [
      "Inference:  99%|█████████▊| 508/515 [1:08:04<02:12, 19.00s/it]"
     ]
    },
    {
     "name": "stdout",
     "output_type": "stream",
     "text": [
      "#################### Answer ###########################\n",
      "전자금융데이터 보안에서 암호화 방식을 선택할 때는 데이터의 민감도, 보안 요구 사항, 성능 요구 사항, 규정 준수 요구 사항 등을 고려해야 합니다. 이를 통해 데이터의 보안성을 높이고, 데이터 유출을 방지하며, 금융 거래의 신뢰성을 유지할 수 있습니다.\n",
      "#################### Question ###########################\n",
      "개인신용정보의 전송요구에 관한 신용정보법 제33조의2에 따르면, 개인인 신용정보주체가 자신의 개인신용정보를 전송 요구할 수 있는 대상이 아닌 것은?\n",
      "1 본인신용정보관리회사\n",
      "2 대통령령으로 정하는 신용정보제공ㆍ이용자\n",
      "3 금융위원회\n",
      "4 개인신용평가회사\n"
     ]
    },
    {
     "name": "stderr",
     "output_type": "stream",
     "text": [
      "Inference:  99%|█████████▉| 509/515 [1:08:10<01:30, 15.14s/it]"
     ]
    },
    {
     "name": "stdout",
     "output_type": "stream",
     "text": [
      "#################### Answer ###########################\n",
      "3\n",
      "#################### Question ###########################\n",
      "다음 중 전자금융업자가 허가 또는 등록을 받을 수 없는 결격사유에 해당하지 않는 것은?\n",
      "1 회생절차 중에 있는 회사의 대주주\n",
      "2 채무를 변제하지 않은 자로서 금융위원회가 정하는 자\n",
      "3 등록이 말소된 날부터 1년이 지난 법인\n",
      "4 허가 취소가 있은 날부터 3년이 지나지 않은 법인\n"
     ]
    },
    {
     "name": "stderr",
     "output_type": "stream",
     "text": [
      "Inference:  99%|█████████▉| 510/515 [1:08:11<00:54, 10.80s/it]"
     ]
    },
    {
     "name": "stdout",
     "output_type": "stream",
     "text": [
      "#################### Answer ###########################\n",
      "4\n",
      "#################### Question ###########################\n",
      "\"정보보호최고책임자\"의 임명에 관한 설명으로 옳지 않은 것은?\n",
      "1 정보보호최고책임자는 정보보호위원회의 장이 될 수 없다.\n",
      "2 정보보호최고책임자는 임원으로 지정되어야 한다.\n",
      "3 정보보호최고책임자는 전자금융거래의 사고 예방 및 조치를 수행한다.\n",
      "4 정보보호최고책임자는 일부 업무 외의 다른 정보기술부문 업무를 겸직할 수 없다.\n",
      "5 정보보호최고책임자는 임명 시 금융위원회의 사전 승인을 반드시 받아야 한다.\n"
     ]
    },
    {
     "name": "stderr",
     "output_type": "stream",
     "text": [
      "Inference:  99%|█████████▉| 511/515 [1:08:12<00:31,  7.85s/it]"
     ]
    },
    {
     "name": "stdout",
     "output_type": "stream",
     "text": [
      "#################### Answer ###########################\n",
      "3\n",
      "#################### Question ###########################\n",
      "IPv6 주소 체계의 주요 특징으로 옳지 않은 것은?\n",
      "1 NAT 필요성 감소\n",
      "2 브로드캐스트 지원\n",
      "3 128비트 주소 길이\n",
      "4 데이터 암호화를 기본적으로 모든 통신에 필수 적용한다.\n",
      "5 자동 구성 기능\n"
     ]
    },
    {
     "name": "stderr",
     "output_type": "stream",
     "text": [
      "Inference:  99%|█████████▉| 512/515 [1:08:20<00:23,  7.76s/it]"
     ]
    },
    {
     "name": "stdout",
     "output_type": "stream",
     "text": [
      "#################### Answer ###########################\n",
      "4\n",
      "#################### Question ###########################\n",
      "하이브리드 위협에 대한 설명으로 가장 적절한 것은?\n",
      "1 사이버 공간에서만 발생하는 위협\n",
      "2 단일 채널을 통해 발생하는 위협\n",
      "3 온·오프라인 연계를 통해 다양한 채널을 이용하는 위협\n",
      "4 물리적 영역에서만 발생하는 위협\n"
     ]
    },
    {
     "name": "stderr",
     "output_type": "stream",
     "text": [
      "Inference: 100%|█████████▉| 513/515 [1:08:28<00:15,  7.91s/it]"
     ]
    },
    {
     "name": "stdout",
     "output_type": "stream",
     "text": [
      "#################### Answer ###########################\n",
      "3\n",
      "#################### Question ###########################\n",
      "전자금융거래법의 주요 목적 중 하나는 무엇인가?\n",
      "1 전자금융거래의 비대면성 강화\n",
      "2 전자금융거래의 개인정보 수집 범위 확대\n",
      "3 전자금융거래의 복잡성 증가\n",
      "4 전자금융거래의 안전성과 신뢰성 확보\n",
      "5 전자금융업자의 수익성 증대\n"
     ]
    },
    {
     "name": "stderr",
     "output_type": "stream",
     "text": [
      "Inference: 100%|█████████▉| 514/515 [1:08:28<00:05,  5.75s/it]"
     ]
    },
    {
     "name": "stdout",
     "output_type": "stream",
     "text": [
      "#################### Answer ###########################\n",
      "4\n",
      "#################### Question ###########################\n",
      "전자서명인증업무 운영기준에 포함되지 않는 항목은 무엇인가?\n",
      "1 전자서명인증서의 유효기간 연장 절차\n",
      "2 전자서명 및 전자문서의 위조ㆍ변조 방지대책\n",
      "3 전자서명인증업무의 휴지ㆍ폐지 절차\n",
      "4 전자서명인증서비스의 요금 및 이용조건\n",
      "5 전자서명인증서비스의 가입ㆍ이용 절차 및 가입자 확인방법\n"
     ]
    },
    {
     "name": "stderr",
     "output_type": "stream",
     "text": [
      "Inference: 100%|██████████| 515/515 [1:08:57<00:00,  8.03s/it]"
     ]
    },
    {
     "name": "stdout",
     "output_type": "stream",
     "text": [
      "#################### Answer ###########################\n",
      "0\n"
     ]
    },
    {
     "name": "stderr",
     "output_type": "stream",
     "text": [
      "\n"
     ]
    }
   ],
   "source": [
    "preds = []\n",
    "\n",
    "for q in tqdm(test['Question'], desc=\"Inference\"):\n",
    "    print(\"#################### Question ###########################\")\n",
    "    print(q)\n",
    "    ans = generate_answer(q)\n",
    "    pred_answer = extract_answer_only(ans, original_question=q)\n",
    "    print(\"#################### Answer ###########################\")\n",
    "    print(pred_answer)\n",
    "    preds.append(pred_answer)"
   ]
  },
  {
   "cell_type": "code",
   "execution_count": 14,
   "id": "c634101eaf0d5960",
   "metadata": {},
   "outputs": [],
   "source": [
    "sample_submission = pd.read_csv('../submission/sample_submission.csv')\n",
    "sample_submission['Answer'] = preds\n",
    "sample_submission.to_csv('../submission/gen_v2_submission.csv', index=False, encoding='utf-8-sig')"
   ]
  }
 ],
 "metadata": {
  "kernelspec": {
   "display_name": "Python 3 (ipykernel)",
   "language": "python",
   "name": "python3"
  },
  "language_info": {
   "codemirror_mode": {
    "name": "ipython",
    "version": 3
   },
   "file_extension": ".py",
   "mimetype": "text/x-python",
   "name": "python",
   "nbconvert_exporter": "python",
   "pygments_lexer": "ipython3",
   "version": "3.10.12"
  }
 },
 "nbformat": 4,
 "nbformat_minor": 5
}
