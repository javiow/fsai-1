{
 "cells": [
  {
   "cell_type": "code",
   "execution_count": 1,
   "id": "2787c6027a9610f7",
   "metadata": {},
   "outputs": [],
   "source": [
    "# !pip install pandas tqdm transformers accelerate bitsandbytes"
   ]
  },
  {
   "cell_type": "code",
   "execution_count": 2,
   "id": "initial_id",
   "metadata": {
    "ExecuteTime": {
     "end_time": "2025-08-04T09:40:16.029284Z",
     "start_time": "2025-08-04T09:40:16.025099Z"
    }
   },
   "outputs": [],
   "source": [
    "import re\n",
    "import os\n",
    "import pandas as pd\n",
    "from tqdm import tqdm\n",
    "\n",
    "import torch\n",
    "\n",
    "from transformers import AutoTokenizer, AutoModelForCausalLM, pipeline"
   ]
  },
  {
   "cell_type": "code",
   "execution_count": 3,
   "id": "3f9fbe2f1b329d63",
   "metadata": {
    "ExecuteTime": {
     "end_time": "2025-08-04T09:40:18.581689Z",
     "start_time": "2025-08-04T09:40:18.542863Z"
    }
   },
   "outputs": [
    {
     "data": {
      "text/html": [
       "<div>\n",
       "<style scoped>\n",
       "    .dataframe tbody tr th:only-of-type {\n",
       "        vertical-align: middle;\n",
       "    }\n",
       "\n",
       "    .dataframe tbody tr th {\n",
       "        vertical-align: top;\n",
       "    }\n",
       "\n",
       "    .dataframe thead th {\n",
       "        text-align: right;\n",
       "    }\n",
       "</style>\n",
       "<table border=\"1\" class=\"dataframe\">\n",
       "  <thead>\n",
       "    <tr style=\"text-align: right;\">\n",
       "      <th></th>\n",
       "      <th>ID</th>\n",
       "      <th>Question</th>\n",
       "    </tr>\n",
       "  </thead>\n",
       "  <tbody>\n",
       "    <tr>\n",
       "      <th>0</th>\n",
       "      <td>TEST_000</td>\n",
       "      <td>금융산업의 이해와 관련하여 금융투자업의 구분에 해당하지 않는 것은?\\n1 소비자금융...</td>\n",
       "    </tr>\n",
       "    <tr>\n",
       "      <th>1</th>\n",
       "      <td>TEST_001</td>\n",
       "      <td>위험 관리 계획 수립 시 고려해야 할 요소로 적절하지 않은 것은?\\n1 수행인력\\n...</td>\n",
       "    </tr>\n",
       "    <tr>\n",
       "      <th>2</th>\n",
       "      <td>TEST_002</td>\n",
       "      <td>관리체계 수립 및 운영'의 '정책 수립' 단계에서 가장 중요한 요소는 무엇인가?\\n...</td>\n",
       "    </tr>\n",
       "    <tr>\n",
       "      <th>3</th>\n",
       "      <td>TEST_003</td>\n",
       "      <td>재해 복구 계획 수립 시 고려해야 할 요소로 옳지 않은 것은?\\n1 복구 절차 수립...</td>\n",
       "    </tr>\n",
       "    <tr>\n",
       "      <th>4</th>\n",
       "      <td>TEST_004</td>\n",
       "      <td>트로이 목마(Trojan) 기반 원격제어 악성코드(RAT)의 특징과 주요 탐지 지표...</td>\n",
       "    </tr>\n",
       "    <tr>\n",
       "      <th>...</th>\n",
       "      <td>...</td>\n",
       "      <td>...</td>\n",
       "    </tr>\n",
       "    <tr>\n",
       "      <th>510</th>\n",
       "      <td>TEST_510</td>\n",
       "      <td>\"정보보호최고책임자\"의 임명에 관한 설명으로 옳지 않은 것은?\\n1 정보보호최고책임...</td>\n",
       "    </tr>\n",
       "    <tr>\n",
       "      <th>511</th>\n",
       "      <td>TEST_511</td>\n",
       "      <td>IPv6 주소 체계의 주요 특징으로 옳지 않은 것은?\\n1 NAT 필요성 감소\\n2...</td>\n",
       "    </tr>\n",
       "    <tr>\n",
       "      <th>512</th>\n",
       "      <td>TEST_512</td>\n",
       "      <td>하이브리드 위협에 대한 설명으로 가장 적절한 것은?\\n1 사이버 공간에서만 발생하는...</td>\n",
       "    </tr>\n",
       "    <tr>\n",
       "      <th>513</th>\n",
       "      <td>TEST_513</td>\n",
       "      <td>전자금융거래법의 주요 목적 중 하나는 무엇인가?\\n1 전자금융거래의 비대면성 강화\\...</td>\n",
       "    </tr>\n",
       "    <tr>\n",
       "      <th>514</th>\n",
       "      <td>TEST_514</td>\n",
       "      <td>전자서명인증업무 운영기준에 포함되지 않는 항목은 무엇인가?\\n1 전자서명인증서의 유...</td>\n",
       "    </tr>\n",
       "  </tbody>\n",
       "</table>\n",
       "<p>515 rows × 2 columns</p>\n",
       "</div>"
      ],
      "text/plain": [
       "           ID                                           Question\n",
       "0    TEST_000  금융산업의 이해와 관련하여 금융투자업의 구분에 해당하지 않는 것은?\\n1 소비자금융...\n",
       "1    TEST_001  위험 관리 계획 수립 시 고려해야 할 요소로 적절하지 않은 것은?\\n1 수행인력\\n...\n",
       "2    TEST_002  관리체계 수립 및 운영'의 '정책 수립' 단계에서 가장 중요한 요소는 무엇인가?\\n...\n",
       "3    TEST_003  재해 복구 계획 수립 시 고려해야 할 요소로 옳지 않은 것은?\\n1 복구 절차 수립...\n",
       "4    TEST_004  트로이 목마(Trojan) 기반 원격제어 악성코드(RAT)의 특징과 주요 탐지 지표...\n",
       "..        ...                                                ...\n",
       "510  TEST_510  \"정보보호최고책임자\"의 임명에 관한 설명으로 옳지 않은 것은?\\n1 정보보호최고책임...\n",
       "511  TEST_511  IPv6 주소 체계의 주요 특징으로 옳지 않은 것은?\\n1 NAT 필요성 감소\\n2...\n",
       "512  TEST_512  하이브리드 위협에 대한 설명으로 가장 적절한 것은?\\n1 사이버 공간에서만 발생하는...\n",
       "513  TEST_513  전자금융거래법의 주요 목적 중 하나는 무엇인가?\\n1 전자금융거래의 비대면성 강화\\...\n",
       "514  TEST_514  전자서명인증업무 운영기준에 포함되지 않는 항목은 무엇인가?\\n1 전자서명인증서의 유...\n",
       "\n",
       "[515 rows x 2 columns]"
      ]
     },
     "execution_count": 3,
     "metadata": {},
     "output_type": "execute_result"
    }
   ],
   "source": [
    "test = pd.read_csv('../data/test.csv')\n",
    "test"
   ]
  },
  {
   "cell_type": "code",
   "execution_count": 4,
   "id": "4220b8fb-00e2-48f6-a4b4-65555046c58a",
   "metadata": {},
   "outputs": [],
   "source": [
    "test = test.iloc[[492, 446, 362, 111, 121, 162, 434, 4, 7, 82, 101, 102, 126, 131, 182, 458], :]"
   ]
  },
  {
   "cell_type": "code",
   "execution_count": 5,
   "id": "511d0f6574e94d3d",
   "metadata": {
    "ExecuteTime": {
     "end_time": "2025-08-04T09:40:31.325190Z",
     "start_time": "2025-08-04T09:40:31.318730Z"
    }
   },
   "outputs": [],
   "source": [
    "# 객관식 여부 판단 함수\n",
    "def is_multiple_choice(question_text):\n",
    "    \"\"\"\n",
    "    객관식 여부를 판단: 2개 이상의 숫자 선택지가 줄 단위로 존재할 경우 객관식으로 간주\n",
    "    \"\"\"\n",
    "    lines = question_text.strip().split(\"\\n\")\n",
    "    option_count = sum(bool(re.match(r\"^\\s*[1-9][0-9]?\\s\", line)) for line in lines)\n",
    "    return option_count >= 2\n",
    "\n",
    "\n",
    "# 질문과 선택지 분리 함수\n",
    "def extract_question_and_choices(full_text):\n",
    "    \"\"\"\n",
    "    전체 질문 문자열에서 질문 본문과 선택지 리스트를 분리\n",
    "    \"\"\"\n",
    "    lines = full_text.strip().split(\"\\n\")\n",
    "    q_lines = []\n",
    "    options = []\n",
    "\n",
    "    for line in lines:\n",
    "        if re.match(r\"^\\s*[1-9][0-9]?\\s\", line):\n",
    "            options.append(line.strip())\n",
    "        else:\n",
    "            q_lines.append(line.strip())\n",
    "\n",
    "    question = \" \".join(q_lines)\n",
    "    return question, options"
   ]
  },
  {
   "cell_type": "code",
   "execution_count": 6,
   "id": "d8936cae9e5905b8",
   "metadata": {
    "ExecuteTime": {
     "end_time": "2025-08-04T09:40:33.019426Z",
     "start_time": "2025-08-04T09:40:33.014808Z"
    }
   },
   "outputs": [],
   "source": [
    "# 프롬프트 생성기\n",
    "def make_prompt_auto(text):\n",
    "    if is_multiple_choice(text):\n",
    "        question, options = extract_question_and_choices(text)\n",
    "        prompt = (\n",
    "                \"당신은 금융보안 전문가입니다.\\n\"\n",
    "                \"아래 질문에 대해 적절한 **정답 선택지 번호만 출력**하세요.\\n\\n\"\n",
    "                f\"질문: {question}\\n\"\n",
    "                \"선택지:\\n\"\n",
    "                f\"{chr(10).join(options)}\\n\\n\"\n",
    "                \"답변:\"\n",
    "                )\n",
    "    else:\n",
    "        prompt = (\n",
    "                \"당신은 금융보안 전문가입니다.\\n\"\n",
    "                # \"아래 주관식 질문에 대해 정확하고 간략한 설명을 작성하세요.\\n\\n\"\n",
    "                \"아래 질문에 대해 정답의 핵심 키워드와 의미를 모두 포함하여 3문장 이내로 간결하게 답변하세요. 군더더기 없이 요점만 명확하게 작성하세요.\\n\\n\"\n",
    "                f\"질문: {text}\\n\\n\"\n",
    "                \"답변:\"\n",
    "                )\n",
    "    return prompt"
   ]
  },
  {
   "cell_type": "code",
   "execution_count": 7,
   "id": "f7c50b9e93981919",
   "metadata": {
    "ExecuteTime": {
     "end_time": "2025-08-04T09:50:33.144854Z",
     "start_time": "2025-08-04T09:40:35.988653Z"
    }
   },
   "outputs": [],
   "source": [
    "# -*- coding: utf-8 -*-\n",
    "# 멀티법령 RAG 전처리/인덱싱 (PIPA, 신용정보법, 전자서명법, 정보통신망법)\n",
    "\n",
    "import os, re, json, math\n",
    "from dataclasses import dataclass, asdict\n",
    "from typing import List, Dict, Tuple, Optional\n",
    "\n",
    "import numpy as np\n",
    "import torch\n",
    "from transformers import AutoTokenizer, AutoModelForCausalLM\n",
    "\n",
    "from PyPDF2 import PdfReader\n",
    "from langchain_community.embeddings import HuggingFaceEmbeddings\n",
    "import faiss\n",
    "\n",
    "# ===== 사용자 환경 상수 =====\n",
    "# LLM_ID = \"nlpai-lab/KULLM3\"\n",
    "LLM_ID = \"MLP-KTLim/llama-3-Korean-Bllossom-8B\"\n",
    "EMB_MODEL = \"jhgan/ko-sroberta-multitask\"   # 경량/호환성 위주\n",
    "# EMB_MODEL = \"intfloat/multilingual-e5-base\"\n",
    "CHUNK_TOKENS = 600\n",
    "CHUNK_OVERLAP = 32\n",
    "CTX_TOKEN_BUDGET = 1200\n",
    "TOP_K = 3\n",
    "SEED = 42\n",
    "torch.manual_seed(SEED)\n",
    "\n",
    "# ===== 법령 설정: 파일 경로 + 제거/정규식 패턴 =====\n",
    "LAW_CONFIG = {\n",
    "    # 개인정보 보호법\n",
    "    \"pipa\": {\n",
    "        \"law_name\": \"개인정보 보호법\",\n",
    "        \"pdf_path\": \"../data/개인정보 보호법(법률)(제19234호)(20250313).pdf\",\n",
    "        \"drop_patterns\": [\n",
    "            r'법제처\\s+\\d+\\s+국가법령정보센터\\s*개인정보\\s*보호법',\n",
    "            r'법제처\\s+\\d+\\s+국가법령정보센터',\n",
    "            r'국가법령정보센터\\s*개인정보\\s*보호법',\n",
    "            r'법제처|국가법령정보센터',\n",
    "            r'<[^>]+>',         # <개정 …>, <신설 …>\n",
    "            r'\\[[^\\]]+\\]',      # [본조신설 …]\n",
    "        ],\n",
    "    },\n",
    "    # 신용정보의 이용 및 보호에 관한 법률\n",
    "    \"ciupa\": {\n",
    "        \"law_name\": \"신용정보법\",\n",
    "        \"pdf_path\": \"../data/신용정보의 이용 및 보호에 관한 법률(법률)(제20304호)(20240814).pdf\",\n",
    "        \"drop_patterns\": [\n",
    "            r'법제처\\s+\\d+\\s+국가법령정보센터\\s*신용정보.*법',\n",
    "            r'법제처|국가법령정보센터',\n",
    "            r'<[^>]+>', r'\\[[^\\]]+\\]',\n",
    "        ],\n",
    "    },\n",
    "    # 전자서명법\n",
    "    \"es_act\": {\n",
    "        \"law_name\": \"전자서명법\",\n",
    "        \"pdf_path\": \"../data/전자서명법(법률)(제18479호)(20221020).pdf\",\n",
    "        \"drop_patterns\": [\n",
    "            r'법제처\\s+\\d+\\s+국가법령정보센터\\s*전자서명법',\n",
    "            r'법제처|국가법령정보센터',\n",
    "            r'<[^>]+>', r'\\[[^\\]]+\\]',\n",
    "        ],\n",
    "    },\n",
    "    # 정보통신망 이용촉진 및 정보보호 등에 관한 법률\n",
    "    \"icn_act\": {\n",
    "        \"law_name\": \"정보통신망법\",\n",
    "        \"pdf_path\": \"../data/정보통신망 이용촉진 및 정보보호 등에 관한 법률(법률)(제20678호)(20250722).pdf\",\n",
    "        \"drop_patterns\": [\n",
    "            r'법제처\\s+\\d+\\s+국가법령정보센터\\s*정보통신망.*법',\n",
    "            r'법제처|국가법령정보센터',\n",
    "            r'<[^>]+>', r'\\[[^\\]]+\\]',\n",
    "        ],\n",
    "    },\n",
    "    # 전자금융거래법\n",
    "    \"eft_act\": {\n",
    "        \"law_name\": \"전자금융거래법\",\n",
    "        \"pdf_path\": \"../data/전자금융거래법(법률)(제19734호)(20240915).pdf\",\n",
    "        \"drop_patterns\": [\n",
    "            r'법제처\\s+\\d+\\s+국가법령정보센터\\s*전자금융거래.*법',\n",
    "            r'법제처|국가법령정보센터',\n",
    "            r'<[^>]+>', r'\\[[^\\]]+\\]',\n",
    "        ],\n",
    "    },\n",
    "    # 전자금융감독규정\n",
    "    \"rs_act\": {\n",
    "        \"law_name\": \"전자금융감독규정\",\n",
    "        \"pdf_path\": \"../data/전자금융감독규정(금융위원회고시)(제2025-4호)(20250205).pdf\",\n",
    "        \"drop_patterns\": [\n",
    "            r'법제처\\s+\\d+\\s+국가법령정보센터\\s*전자금융거래.*법',\n",
    "            r'법제처|국가법령정보센터',\n",
    "            r'<[^>]+>', r'\\[[^\\]]+\\]',\n",
    "        ],\n",
    "    },\n",
    "    # 자본시장법\n",
    "    \"fis_act\": {\n",
    "        \"law_name\": \"자본시장법\",\n",
    "        \"pdf_path\": \"../data/자본시장과 금융투자업에 관한 법률(법률)(제20718호)(20250722).pdf\",\n",
    "        \"drop_patterns\": [\n",
    "            r'법제처\\s+\\d+\\s+국가법령정보센터\\s*자본시장.*법',\n",
    "            r'법제처|국가법령정보센터',\n",
    "            r'<[^>]+>', r'\\[[^\\]]+\\]',\n",
    "        ],\n",
    "    },\n",
    "}"
   ]
  },
  {
   "cell_type": "code",
   "execution_count": 8,
   "id": "897a3e9b-e2c7-49b4-92b8-adad6e0a19e5",
   "metadata": {},
   "outputs": [
    {
     "name": "stderr",
     "output_type": "stream",
     "text": [
      "/usr/local/lib/python3.10/dist-packages/huggingface_hub/file_download.py:1150: FutureWarning: `resume_download` is deprecated and will be removed in version 1.0.0. Downloads always resume when possible. If you want to force a new download, use `force_download=True`.\n",
      "  warnings.warn(\n"
     ]
    },
    {
     "data": {
      "application/vnd.jupyter.widget-view+json": {
       "model_id": "8be61f3109794e3ba581583f88708bf9",
       "version_major": 2,
       "version_minor": 0
      },
      "text/plain": [
       "tokenizer_config.json: 0.00B [00:00, ?B/s]"
      ]
     },
     "metadata": {},
     "output_type": "display_data"
    },
    {
     "data": {
      "application/vnd.jupyter.widget-view+json": {
       "model_id": "86d89eead24b49288fb3511cc33bebbd",
       "version_major": 2,
       "version_minor": 0
      },
      "text/plain": [
       "tokenizer.json: 0.00B [00:00, ?B/s]"
      ]
     },
     "metadata": {},
     "output_type": "display_data"
    },
    {
     "data": {
      "application/vnd.jupyter.widget-view+json": {
       "model_id": "9bc80f86231f4d8f867ccd4dec9c256d",
       "version_major": 2,
       "version_minor": 0
      },
      "text/plain": [
       "special_tokens_map.json:   0%|          | 0.00/444 [00:00<?, ?B/s]"
      ]
     },
     "metadata": {},
     "output_type": "display_data"
    },
    {
     "name": "stderr",
     "output_type": "stream",
     "text": [
      "Special tokens have been added in the vocabulary, make sure the associated word embeddings are fine-tuned or trained.\n"
     ]
    }
   ],
   "source": [
    "# ===== 토크나이저: 토큰 길이 계산/청킹 =====\n",
    "llm_tokenizer = AutoTokenizer.from_pretrained(LLM_ID)\n",
    "if llm_tokenizer.pad_token is None:\n",
    "    llm_tokenizer.pad_token = llm_tokenizer.eos_token\n",
    "llm_tokenizer.padding_side = \"right\"\n",
    "\n",
    "def token_len(s: str) -> int:\n",
    "    return len(llm_tokenizer(s, add_special_tokens=False)[\"input_ids\"])\n",
    "\n",
    "def split_sentences_ko(text: str) -> List[str]:\n",
    "    # 고정폭 lookbehind: '다.' 또는 일반 종결부호\n",
    "    text = re.sub(r'\\s+', ' ', text).strip()\n",
    "    if not text:\n",
    "        return []\n",
    "    return re.split(r'(?<=다\\.)\\s+|(?<=[.?!。！？])\\s+', text)\n"
   ]
  },
  {
   "cell_type": "code",
   "execution_count": 9,
   "id": "4bdeaf3b-c1a8-4e38-86d6-38975e2ad53f",
   "metadata": {},
   "outputs": [],
   "source": [
    "# ===== 공통 정제 =====\n",
    "def normalize_common(text: str) -> str:\n",
    "    # 한자 제거\n",
    "    text = re.sub(r'[\\u4e00-\\u9fff]', '', text)\n",
    "    # circled numbers → (n)\n",
    "    circled = '①②③④⑤⑥⑦⑧⑨⑩⑪⑫⑬⑭⑮⑯⑰⑱⑲⑳'\n",
    "    for idx, c in enumerate(circled, 1):\n",
    "        text = text.replace(c, f'({idx})')\n",
    "    # 공백/빈 괄호 정리\n",
    "    text = re.sub(r'\\s+', ' ', text).strip()\n",
    "    text = re.sub(r'\\(\\s*\\)', '', text)\n",
    "    return text\n",
    "\n",
    "def clean_text_by_config(text: str, drop_patterns: List[str]) -> str:\n",
    "    for pat in drop_patterns:\n",
    "        text = re.sub(pat, '', text)\n",
    "    return normalize_common(text)\n",
    "\n",
    "# ===== 조문 단위 분리 =====\n",
    "ARTICLE_HEADER_PATTERN = r'(제\\d+조(?:의\\d+)?\\([^)]+\\))'  # 제X조(제목) / 제X조의Y(제목)\n",
    "\n",
    "def split_articles(raw_text: str) -> List[Tuple[str, str, str]]:\n",
    "    parts = re.split(ARTICLE_HEADER_PATTERN, raw_text)\n",
    "    out = []\n",
    "    for i in range(1, len(parts), 2):\n",
    "        header = parts[i]\n",
    "        body = (parts[i+1] if i+1 < len(parts) else \"\").strip().replace(\"\\n\", \" \")\n",
    "        m = re.match(r'(제\\d+조(?:의\\d+)?)[(]([^)]+)[)]', header)\n",
    "        if not m:\n",
    "            continue\n",
    "        article_id = m.group(1)          # 제xx조 / 제xx조의y\n",
    "        article_title = m.group(2)       # (제목)\n",
    "        out.append((article_id, article_title, body))\n",
    "    return out\n",
    "\n",
    "def chunk_article(article_body: str, header: str) -> List[str]:\n",
    "    prefix = header.strip() + \"\\n\"\n",
    "    sents = split_sentences_ko(article_body) or [article_body]\n",
    "    chunks, cur, cur_toks = [], [], token_len(prefix)\n",
    "    for s in sents:\n",
    "        tl = token_len(s)\n",
    "        if cur_toks + tl > CHUNK_TOKENS and cur:\n",
    "            chunks.append(prefix + \" \".join(cur))\n",
    "            # overlap: 마지막 문장 유지\n",
    "            keep = cur[-1] if CHUNK_OVERLAP > 0 and cur else \"\"\n",
    "            cur = [keep] if keep else []\n",
    "            cur_toks = token_len(prefix) + (token_len(keep) if keep else 0)\n",
    "        cur.append(s); cur_toks += tl\n",
    "    if cur:\n",
    "        chunks.append(prefix + \" \".join(cur))\n",
    "    return chunks\n"
   ]
  },
  {
   "cell_type": "code",
   "execution_count": 10,
   "id": "96c4719f-2c89-41e5-9df2-d3d19e18316c",
   "metadata": {},
   "outputs": [
    {
     "name": "stderr",
     "output_type": "stream",
     "text": [
      "/tmp/ipykernel_1029/3198458753.py:8: LangChainDeprecationWarning: The class `HuggingFaceEmbeddings` was deprecated in LangChain 0.2.2 and will be removed in 1.0. An updated version of the class exists in the :class:`~langchain-huggingface package and should be used instead. To use it run `pip install -U :class:`~langchain-huggingface` and import as `from :class:`~langchain_huggingface import HuggingFaceEmbeddings``.\n",
      "  embeddings = HuggingFaceEmbeddings(\n"
     ]
    },
    {
     "data": {
      "application/vnd.jupyter.widget-view+json": {
       "model_id": "467a74f20a47467e900e538137ebe362",
       "version_major": 2,
       "version_minor": 0
      },
      "text/plain": [
       "modules.json:   0%|          | 0.00/229 [00:00<?, ?B/s]"
      ]
     },
     "metadata": {},
     "output_type": "display_data"
    },
    {
     "data": {
      "application/vnd.jupyter.widget-view+json": {
       "model_id": "752883b4853d477394da26116ccada11",
       "version_major": 2,
       "version_minor": 0
      },
      "text/plain": [
       "config_sentence_transformers.json:   0%|          | 0.00/123 [00:00<?, ?B/s]"
      ]
     },
     "metadata": {},
     "output_type": "display_data"
    },
    {
     "data": {
      "application/vnd.jupyter.widget-view+json": {
       "model_id": "65f8e7d7560c41f49256ca1ccf82abcf",
       "version_major": 2,
       "version_minor": 0
      },
      "text/plain": [
       "README.md: 0.00B [00:00, ?B/s]"
      ]
     },
     "metadata": {},
     "output_type": "display_data"
    },
    {
     "data": {
      "application/vnd.jupyter.widget-view+json": {
       "model_id": "06156dc7babe43d183b3c5489aeb934c",
       "version_major": 2,
       "version_minor": 0
      },
      "text/plain": [
       "sentence_bert_config.json:   0%|          | 0.00/53.0 [00:00<?, ?B/s]"
      ]
     },
     "metadata": {},
     "output_type": "display_data"
    },
    {
     "data": {
      "application/vnd.jupyter.widget-view+json": {
       "model_id": "a3dbedc05c20421b960f87dfceece37a",
       "version_major": 2,
       "version_minor": 0
      },
      "text/plain": [
       "config.json:   0%|          | 0.00/744 [00:00<?, ?B/s]"
      ]
     },
     "metadata": {},
     "output_type": "display_data"
    },
    {
     "data": {
      "application/vnd.jupyter.widget-view+json": {
       "model_id": "cd08030c6dd143568416eacf1a7b2f89",
       "version_major": 2,
       "version_minor": 0
      },
      "text/plain": [
       "pytorch_model.bin:   0%|          | 0.00/443M [00:00<?, ?B/s]"
      ]
     },
     "metadata": {},
     "output_type": "display_data"
    },
    {
     "name": "stderr",
     "output_type": "stream",
     "text": [
      "/usr/local/lib/python3.10/dist-packages/torch/_utils.py:831: UserWarning: TypedStorage is deprecated. It will be removed in the future and UntypedStorage will be the only storage class. This should only matter to you if you are using storages directly.  To access UntypedStorage directly, use tensor.untyped_storage() instead of tensor.storage()\n",
      "  return self.fget.__get__(instance, owner)()\n"
     ]
    },
    {
     "data": {
      "application/vnd.jupyter.widget-view+json": {
       "model_id": "3d6723dabcea4d4097ae0553e18287b3",
       "version_major": 2,
       "version_minor": 0
      },
      "text/plain": [
       "tokenizer_config.json:   0%|          | 0.00/585 [00:00<?, ?B/s]"
      ]
     },
     "metadata": {},
     "output_type": "display_data"
    },
    {
     "data": {
      "application/vnd.jupyter.widget-view+json": {
       "model_id": "550fe19eb6de469da586da355becc3ec",
       "version_major": 2,
       "version_minor": 0
      },
      "text/plain": [
       "vocab.txt: 0.00B [00:00, ?B/s]"
      ]
     },
     "metadata": {},
     "output_type": "display_data"
    },
    {
     "data": {
      "application/vnd.jupyter.widget-view+json": {
       "model_id": "f132647b0ffe4b06941b574eaec0e7e0",
       "version_major": 2,
       "version_minor": 0
      },
      "text/plain": [
       "tokenizer.json: 0.00B [00:00, ?B/s]"
      ]
     },
     "metadata": {},
     "output_type": "display_data"
    },
    {
     "data": {
      "application/vnd.jupyter.widget-view+json": {
       "model_id": "0bdae1ba19f6400e8cc87605732d3269",
       "version_major": 2,
       "version_minor": 0
      },
      "text/plain": [
       "special_tokens_map.json:   0%|          | 0.00/156 [00:00<?, ?B/s]"
      ]
     },
     "metadata": {},
     "output_type": "display_data"
    },
    {
     "data": {
      "application/vnd.jupyter.widget-view+json": {
       "model_id": "6d92f3b4eab8442fafb7bef59fc2caa9",
       "version_major": 2,
       "version_minor": 0
      },
      "text/plain": [
       "config.json:   0%|          | 0.00/190 [00:00<?, ?B/s]"
      ]
     },
     "metadata": {},
     "output_type": "display_data"
    }
   ],
   "source": [
    "# ===== 데이터 클래스 =====\n",
    "@dataclass\n",
    "class LawDoc:\n",
    "    text: str\n",
    "    meta: Dict\n",
    "\n",
    "# ===== 임베딩 =====\n",
    "embeddings = HuggingFaceEmbeddings(\n",
    "    model_name=EMB_MODEL,\n",
    "    model_kwargs={\"device\": \"cuda\" if torch.cuda.is_available() else \"cpu\"},\n",
    "    encode_kwargs={\n",
    "        \"normalize_embeddings\": True,\n",
    "        \"batch_size\": 128,\n",
    "        \"convert_to_numpy\": True,\n",
    "        \"convert_to_tensor\": False\n",
    "    }\n",
    ")\n",
    "\n",
    "# ===== 인덱스 (FAISS HNSW) =====\n",
    "def build_faiss_hnsw(vectors: np.ndarray, m: int = 32, ef_search: int = 32) -> faiss.IndexHNSWFlat:\n",
    "    dim = vectors.shape[1]\n",
    "    idx = faiss.IndexHNSWFlat(dim, m)\n",
    "    idx.hnsw.efSearch = ef_search\n",
    "    idx.add(vectors.astype(np.float32))\n",
    "    return idx\n",
    "\n",
    "# ===== 파이프라인: 1) 로드 → 2) 정제 → 3) 조문분리 → 4) 청킹 → 5) 임베딩/인덱스\n",
    "def load_pdf_text(pdf_path: str) -> str:\n",
    "    reader = PdfReader(pdf_path)\n",
    "    text = \"\"\n",
    "    for p in reader.pages:\n",
    "        t = p.extract_text() or \"\"\n",
    "        text += t + \"\\n\"\n",
    "    return text\n",
    "\n",
    "def preprocess_law(law_id: str, cfg: Dict) -> List[LawDoc]:\n",
    "    raw = load_pdf_text(cfg[\"pdf_path\"])\n",
    "    cleaned = clean_text_by_config(raw, cfg[\"drop_patterns\"])\n",
    "    articles = split_articles(cleaned)\n",
    "\n",
    "    docs: List[LawDoc] = []\n",
    "    # 시행일 파싱(있으면): [시행 YYYY. M. D.]가 머리말에 있는 경우가 많으나 PDF마다 다름 → 필요 시 별도 파서\n",
    "    effective_date = None  # 필요 시 추출 로직 추가\n",
    "\n",
    "    for article_id, title, body in articles:\n",
    "        header = f'{cfg[\"law_name\"]} {article_id}({title})'\n",
    "        chunks = chunk_article(body, header)\n",
    "        for ch in chunks:\n",
    "            meta = {\n",
    "                \"law_id\": law_id,\n",
    "                \"law_name\": cfg[\"law_name\"],\n",
    "                \"article_id\": article_id,\n",
    "                \"article_title\": title,\n",
    "                \"effective_date\": effective_date,   # None 가능\n",
    "                \"tok_len\": token_len(ch),\n",
    "                \"source_uri\": cfg.get(\"pdf_path\"),\n",
    "                \"version\": None\n",
    "            }\n",
    "            docs.append(LawDoc(text=ch, meta=meta))\n",
    "    return docs\n",
    "\n",
    "def build_indices(all_docs: List[LawDoc]):\n",
    "    # (a) 법령별 인덱스\n",
    "    per_law_docs: Dict[str, List[LawDoc]] = {}\n",
    "    for d in all_docs:\n",
    "        per_law_docs.setdefault(d.meta[\"law_id\"], []).append(d)\n",
    "\n",
    "    indices = {}\n",
    "    for law_id, docs in per_law_docs.items():\n",
    "        mat = np.array(embeddings.embed_documents([d.text for d in docs]), dtype=np.float32)\n",
    "        indices[f\"faiss_hnsw_{law_id}\"] = {\n",
    "            \"index\": build_faiss_hnsw(mat, m=32, ef_search=32),\n",
    "            \"docs\": docs\n",
    "        }\n",
    "\n",
    "    # (b) 글로벌 인덱스\n",
    "    mat_all = np.array(embeddings.embed_documents([d.text for d in all_docs]), dtype=np.float32)\n",
    "    indices[\"faiss_hnsw_all\"] = {\n",
    "        \"index\": build_faiss_hnsw(mat_all, m=32, ef_search=32),\n",
    "        \"docs\": all_docs\n",
    "    }\n",
    "    return indices"
   ]
  },
  {
   "cell_type": "code",
   "execution_count": 11,
   "id": "24da7e19-e130-4040-aef4-795957cd3ca4",
   "metadata": {},
   "outputs": [
    {
     "name": "stdout",
     "output_type": "stream",
     "text": [
      "[OK] 개인정보 보호법 → chunks: 160\n",
      "[OK] 신용정보법 → chunks: 125\n",
      "[OK] 전자서명법 → chunks: 26\n",
      "[OK] 정보통신망법 → chunks: 113\n",
      "[OK] 전자금융거래법 → chunks: 78\n",
      "[OK] 전자금융감독규정 → chunks: 113\n",
      "[OK] 자본시장법 → chunks: 782\n",
      "[OK] built indices: ['faiss_hnsw_pipa', 'faiss_hnsw_ciupa', 'faiss_hnsw_es_act', 'faiss_hnsw_icn_act', 'faiss_hnsw_eft_act', 'faiss_hnsw_rs_act', 'faiss_hnsw_fis_act', 'faiss_hnsw_all']\n"
     ]
    }
   ],
   "source": [
    "all_docs: List[LawDoc] = []\n",
    "for law_id, cfg in LAW_CONFIG.items():\n",
    "    if not os.path.exists(cfg[\"pdf_path\"]):\n",
    "        print(f\"[WARN] PDF not found: {cfg['pdf_path']}\")\n",
    "        continue\n",
    "    docs = preprocess_law(law_id, cfg)\n",
    "    all_docs.extend(docs)\n",
    "    print(f\"[OK] {cfg['law_name']} → chunks: {len(docs)}\")\n",
    "\n",
    "indices = build_indices(all_docs)\n",
    "print(\"[OK] built indices:\", list(indices.keys()))"
   ]
  },
  {
   "cell_type": "code",
   "execution_count": 12,
   "id": "0c173872-00c8-4149-8327-1836b6a312b1",
   "metadata": {},
   "outputs": [],
   "source": [
    "# ===== 라우팅 규칙 =====\n",
    "ARTICLE_PTRN = re.compile(r\"제\\d+조(?:의\\d+)?\")  # 조문 표기\n",
    "LAW_HINTS = {\n",
    "    \"pipa\": (\"개인정보\", \"개인 정보\", \"개인정보보호법\"),\n",
    "    \"ciupa\": (\"신용정보\",  \"신용정보법\"),\n",
    "    \"es_act\": (\"전자서명\", \"전자서명법\"),\n",
    "    \"icn_act\": (\"정보통신망\", \"통신망\", \"정보통신망법\"),\n",
    "    \"eft_act\": (\"전자금융\", \"금융거래\", \"전자금융거래법\"),\n",
    "    \"rs_act\": (\"전자금융감독\", \"금융감독\", \"전자금융감독규정\"),\n",
    "    \"fis_act\": (\"자본\", \"자본시장\", \"금융투자\", \"채권\", \"자본시장법\", \"금융투자업\", \"투자\"),\n",
    "}\n",
    "\n",
    "def detect_law_id(query: str) -> Optional[str]:\n",
    "    q = query.lower()\n",
    "    for law_id, kws in LAW_HINTS.items():\n",
    "        if any(kw.lower() in q for kw in kws):\n",
    "            return law_id\n",
    "    return None\n",
    "\n",
    "def route_is_domain(query: str) -> bool:\n",
    "    # 법/금융/보안 도메인 간단 라우터 (검색 여부 판단용)\n",
    "    domain_kws = (\"법\", \"조(\", \"과징금\", \"처벌\", \"보안\", \"침해\", \"금융\", \"개인정보\", \"신용정보\", \"전자서명\", \"정보통신\", \"전자금융\", \"금융감독\", \"자본\", \"자본시장\", \"금융투자\", \"채권\", \"투자\")\n",
    "    q = query.lower()\n",
    "    return any(kw in q for kw in domain_kws) or bool(ARTICLE_PTRN.search(query))\n",
    "\n",
    "def choose_index(indices: dict, query: str):\n",
    "    \"\"\"\n",
    "    1) 질의에서 법령 단서 -> 해당 법 인덱스 우선\n",
    "    2) 조문 패턴만 있거나 단서가 불분명 -> 글로벌 인덱스\n",
    "    3) 아무 단서도 없으면 None (베이스모델 경로)\n",
    "    \"\"\"\n",
    "    law_id = detect_law_id(query)\n",
    "    if law_id:\n",
    "        key = f\"faiss_hnsw_{law_id}\"\n",
    "        if key in indices:\n",
    "            return indices[key]  # {\"index\": ..., \"docs\": ...}\n",
    "    # 법령 단서 없지만 도메인성/조문 표기는 있는 경우 글로벌\n",
    "    if route_is_domain(query) and \"faiss_hnsw_all\" in indices:\n",
    "        return indices[\"faiss_hnsw_all\"]\n",
    "    return None  # 베이스모델 직행\n"
   ]
  },
  {
   "cell_type": "code",
   "execution_count": 13,
   "id": "849912de-b930-4c92-9909-2e759fbf42e9",
   "metadata": {},
   "outputs": [],
   "source": [
    "# ===== 검색 with 점수 (해당 인덱스에서) =====\n",
    "def faiss_search_with_scores_from_index(index_entry: dict, query: str, top_k: int = TOP_K):\n",
    "    # embeddings는 상위 스코프에서 로드되었다고 가정\n",
    "    qv = np.array(embeddings.embed_query(query), dtype=np.float32).reshape(1, -1)\n",
    "    D, I = index_entry[\"index\"].search(qv, top_k)     # L2 거리 (정규화 벡터 가정)\n",
    "    cos = 1.0 - (D[0] / 2.0)                          # L2 -> cosine\n",
    "    out = []\n",
    "    docs = index_entry[\"docs\"]\n",
    "    for idx, i in enumerate(I[0]):\n",
    "        ii = int(i)\n",
    "        if ii >= 0:\n",
    "            out.append((docs[ii], float(cos[idx])))\n",
    "    return out  # [(LawDoc, cosine), ...]\n",
    "\n",
    "# ===== 컨텍스트 패킹 (질문 주신 코드 재사용 + tok_len 캐시) =====\n",
    "def pack_context(docs_in, token_budget=CTX_TOKEN_BUDGET):\n",
    "    acc, used = [], 0\n",
    "    for d in docs_in:\n",
    "        tl = d.meta.get(\"tok_len\", None)\n",
    "        if tl is None:\n",
    "            tl = token_len(d.text); d.meta[\"tok_len\"] = tl\n",
    "        if used + tl <= token_budget:\n",
    "            acc.append(d.text); used += tl\n",
    "        else:\n",
    "            remain = token_budget - used\n",
    "            if remain > 50:\n",
    "                ids = llm_tokenizer(d.text, add_special_tokens=False)[\"input_ids\"][:remain]\n",
    "                acc.append(llm_tokenizer.decode(ids))\n",
    "            break\n",
    "    return \"\\n\\n\".join(acc)\n"
   ]
  },
  {
   "cell_type": "code",
   "execution_count": 20,
   "id": "114f810e-a409-42fb-879c-739125042131",
   "metadata": {},
   "outputs": [],
   "source": [
    "# ===== 프롬프트 =====\n",
    "def chat_prompt(system, user):\n",
    "    messages = [\n",
    "        {\"role\": \"system\", \"content\": system},\n",
    "        {\"role\": \"user\", \"content\": user},\n",
    "    ]\n",
    "    return llm_tokenizer.apply_chat_template(\n",
    "        messages, tokenize=False, add_generation_prompt=True\n",
    "    )\n",
    "\n",
    "def build_prompt(query: str, use_context: bool, context) -> Tuple[str, int]:\n",
    "    \"\"\"컨텍스트 유무에 따라 간단 프롬프트와 max_len을 반환\"\"\"\n",
    "    # 객관식 질문\n",
    "    if is_multiple_choice(query):\n",
    "        question, options = extract_question_and_choices(query)\n",
    "        if use_context:\n",
    "            prompt = (\n",
    "                \"아래 컨텍스트를 우선 사용해 정확히 답하세요. 불충분하면 아는 범위에서만 간결히 답하세요.\\n\\n\"\n",
    "                \"아래 질문에 대해 적절한 **정답 선택지 번호만 출력**하세요.\\n\\n\"\n",
    "                f\"=== 컨텍스트 ===\\n{context}\\n=== 끝 ===\\n\"\n",
    "                f\"질문: {question}\\n\"\n",
    "                \"선택지:\\n\"\n",
    "                f\"{chr(10).join(options)}\\n\\n\"\n",
    "                \"답변:\"\n",
    "            )\n",
    "\n",
    "            system = \"당신은 금융/보안 QA 도우미입니다. 포맷을 엄격히 지키세요.\"\n",
    "            prompt = chat_prompt(system, prompt)\n",
    "\n",
    "            max_new = dynamic_max_new_tokens(query)\n",
    "            max_len = 3072  # 입력 길이 상한도 줄여 토크나이즈 시간 단축\n",
    "            return prompt, max_len\n",
    "        else:\n",
    "            prompt = (\n",
    "                \"아래 질문에 대해 적절한 **정답 선택지 번호만 출력**하세요.\\n\\n\"\n",
    "                f\"질문: {question}\\n\"\n",
    "                \"선택지:\\n\"\n",
    "                f\"{chr(10).join(options)}\\n\\n\"\n",
    "                \"답변:\"\n",
    "            )\n",
    "\n",
    "            system = \"당신은 금융/보안 QA 도우미입니다. 포맷을 엄격히 지키세요.\"\n",
    "            prompt = chat_prompt(system, prompt)\n",
    "\n",
    "            max_new = dynamic_max_new_tokens(query)\n",
    "            max_len = 2048\n",
    "            return prompt, max_len\n",
    "    # 주관식 질문\n",
    "    else:\n",
    "        if use_context:\n",
    "            prompt = (\n",
    "                \"아래 컨텍스트를 우선 사용해 정확히 답하세요. 불충분하면 아는 범위에서만 간결히 답하세요.\\n\\n\"\n",
    "                f\"=== 컨텍스트 ===\\n{context}\\n=== 끝 ===\\n\"\n",
    "                \"\"\"아래 질문에 대해 **사실에 근거한 간결한 답변**을 작성하세요. \n",
    "\n",
    "규칙:\n",
    "1. 답변은 2~3문장 이내로 작성합니다. 장황한 서론, 결론 문구는 쓰지 않습니다.\n",
    "2. 불확실할 경우 '알 수 없습니다'라고 답하고 생성을 종료합니다.\n",
    "3. 특수문자 없이 오로지 한글과 숫자로만 대답합니다.\\n\n",
    "\"\"\"\n",
    "                f\"질문: {query}\\n\\n\"\n",
    "                \"답변:\"\n",
    "            )\n",
    "\n",
    "            system = \"당신은 금융/보안 QA 도우미입니다. 포맷을 엄격히 지키세요.\"\n",
    "            prompt = chat_prompt(system, prompt)\n",
    "\n",
    "            max_new = dynamic_max_new_tokens(query)\n",
    "            max_len = 3072  # 입력 길이 상한도 줄여 토크나이즈 시간 단축\n",
    "            return prompt, max_len\n",
    "        else:\n",
    "            prompt = (\n",
    "                \"\"\"아래 질문에 대해 **사실에 근거한 간결한 답변**을 작성하세요. \n",
    "\n",
    "규칙:\n",
    "1. 답변은 2~3문장 이내로 작성합니다. 장황한 서론, 결론 문구는 쓰지 않습니다.\n",
    "2. 불확실할 경우 '알 수 없습니다'라고 답하고 생성을 종료합니다.\n",
    "3. 특수문자 없이 오로지 한글과 숫자로만 대답합니다.\\n\n",
    "\"\"\"\n",
    "                f\"질문: {query}\\n\\n\"\n",
    "                \"답변:\"\n",
    "            )\n",
    "\n",
    "            system = \"당신은 금융/보안 QA 도우미입니다. 포맷을 엄격히 지키세요.\"\n",
    "            prompt = chat_prompt(system, prompt)\n",
    "\n",
    "            max_new = dynamic_max_new_tokens(query)\n",
    "            max_len = 2048\n",
    "            return prompt, max_len\n",
    "\n",
    "\n",
    "# ===== 생성 토큰 상한 =====\n",
    "def dynamic_max_new_tokens(question: str) -> int:\n",
    "    lines = [ln.strip() for ln in question.split(\"\\n\") if ln.strip()]\n",
    "    opt_cnt = sum(bool(re.match(r\"^\\d+(\\s|[.)])\", ln)) for ln in lines)\n",
    "    return 96 if opt_cnt >= 2 else 192\n",
    "\n",
    "# ===== 메인: 다중 인덱스 기반 텍스트 생성 =====\n",
    "def generate_answer_with_indices(query: str, indices: dict) -> str:\n",
    "    \"\"\"\n",
    "    indices: build_indices() 반환 구조\n",
    "    - 라우팅 → 해당 인덱스에서 top-k 검색(점수 포함)\n",
    "    - 최고 유사도 임계치 미만이면 컨텍스트 없이 베이스모델 생성(Adaptive RAG)\n",
    "    \"\"\"\n",
    "    # 0) 우선, 일반상식/비도메인은 곧장 베이스모델\n",
    "    if not route_is_domain(query):\n",
    "        prompt, max_len = build_prompt(query, use_context=False, context=None)\n",
    "        inputs = llm_tokenizer(prompt, return_tensors=\"pt\", truncation=True, max_length=max_len, padding=False)\n",
    "        inputs = {k: v.to(llm_model.device) for k, v in inputs.items()}\n",
    "        with torch.inference_mode():\n",
    "            out = llm_model.generate(**inputs,\n",
    "                                     max_new_tokens=dynamic_max_new_tokens(query),\n",
    "                                     do_sample=False,\n",
    "                                     temperature=0.0,\n",
    "                                     top_p=0.1,\n",
    "                                     repetition_penalty=1.1,\n",
    "                                     eos_token_id=llm_tokenizer.eos_token_id,\n",
    "                                     pad_token_id=llm_tokenizer.pad_token_id,\n",
    "                                     )\n",
    "        gen = out[0][inputs[\"input_ids\"].shape[1]:]\n",
    "        return llm_tokenizer.decode(gen, skip_special_tokens=True).strip()\n",
    "\n",
    "    # 1) 인덱스 선택\n",
    "    idx_entry = choose_index(indices, query)\n",
    "\n",
    "    # 2) 인덱스가 없으면 베이스모델\n",
    "    if idx_entry is None:\n",
    "        prompt, max_len = build_prompt(query, use_context=False, context=None)\n",
    "        inputs = llm_tokenizer(prompt, return_tensors=\"pt\", truncation=True, max_length=max_len, padding=False)\n",
    "        inputs = {k: v.to(llm_model.device) for k, v in inputs.items()}\n",
    "        with torch.inference_mode():\n",
    "            out = llm_model.generate(**inputs,\n",
    "                                     max_new_tokens=dynamic_max_new_tokens(query),\n",
    "                                     do_sample=False,\n",
    "                                     temperature=0.0,\n",
    "                                     top_p=0.1,\n",
    "                                     repetition_penalty=1.1,\n",
    "                                     eos_token_id=llm_tokenizer.eos_token_id,\n",
    "                                     pad_token_id=llm_tokenizer.pad_token_id,\n",
    "                                     )\n",
    "        gen = out[0][inputs[\"input_ids\"].shape[1]:]\n",
    "        return llm_tokenizer.decode(gen, skip_special_tokens=True).strip()\n",
    "\n",
    "    # 3) 선택 인덱스에서 검색 + 점수\n",
    "    scored = faiss_search_with_scores_from_index(idx_entry, query, top_k=TOP_K)\n",
    "    best_cos = max((s for _, s in scored), default=0.0)\n",
    "\n",
    "    # 4) 임계치: 충분히 유사할 때만 컨텍스트 사용 (속도 최적화)\n",
    "    THRESH = 0.70\n",
    "    use_context = best_cos >= THRESH and len(scored) > 0\n",
    "\n",
    "    context = pack_context([d for d, s in scored if s >= THRESH], token_budget=CTX_TOKEN_BUDGET) if use_context else None\n",
    "    prompt, max_len = build_prompt(query, use_context, context)\n",
    "    print(prompt)\n",
    "\n",
    "    # 5) LLM 생성\n",
    "    inputs = llm_tokenizer(prompt, return_tensors=\"pt\", truncation=True, max_length=max_len, padding=False)\n",
    "    inputs = {k: v.to(llm_model.device) for k, v in inputs.items()}\n",
    "    with torch.inference_mode():\n",
    "        out = llm_model.generate(\n",
    "            **inputs,\n",
    "            max_new_tokens=dynamic_max_new_tokens(query),\n",
    "            do_sample=False,\n",
    "            temperature=0.0,\n",
    "            top_p=0.1,\n",
    "            repetition_penalty=1.1,\n",
    "            eos_token_id=llm_tokenizer.eos_token_id,\n",
    "            pad_token_id=llm_tokenizer.pad_token_id,\n",
    "            )\n",
    "    gen = out[0][inputs[\"input_ids\"].shape[1]:]\n",
    "    return llm_tokenizer.decode(gen, skip_special_tokens=True).strip()"
   ]
  },
  {
   "cell_type": "code",
   "execution_count": 15,
   "id": "70d9f6a5-b6eb-4187-9b78-ed6d262a9584",
   "metadata": {},
   "outputs": [
    {
     "data": {
      "application/vnd.jupyter.widget-view+json": {
       "model_id": "3fed755764114a8facf5439a55534940",
       "version_major": 2,
       "version_minor": 0
      },
      "text/plain": [
       "config.json:   0%|          | 0.00/710 [00:00<?, ?B/s]"
      ]
     },
     "metadata": {},
     "output_type": "display_data"
    },
    {
     "name": "stderr",
     "output_type": "stream",
     "text": [
      "The `load_in_4bit` and `load_in_8bit` arguments are deprecated and will be removed in the future versions. Please, pass a `BitsAndBytesConfig` object in `quantization_config` argument instead.\n"
     ]
    },
    {
     "data": {
      "application/vnd.jupyter.widget-view+json": {
       "model_id": "eba1f649169841d888061692e087eeb3",
       "version_major": 2,
       "version_minor": 0
      },
      "text/plain": [
       "model.safetensors.index.json: 0.00B [00:00, ?B/s]"
      ]
     },
     "metadata": {},
     "output_type": "display_data"
    },
    {
     "data": {
      "application/vnd.jupyter.widget-view+json": {
       "model_id": "c431384d4b5e46db91a9f747fc9c1f60",
       "version_major": 2,
       "version_minor": 0
      },
      "text/plain": [
       "Downloading shards:   0%|          | 0/4 [00:00<?, ?it/s]"
      ]
     },
     "metadata": {},
     "output_type": "display_data"
    },
    {
     "data": {
      "application/vnd.jupyter.widget-view+json": {
       "model_id": "39ee9c21d81945bf96a736a1350611c6",
       "version_major": 2,
       "version_minor": 0
      },
      "text/plain": [
       "model-00001-of-00004.safetensors:   0%|          | 0.00/4.98G [00:00<?, ?B/s]"
      ]
     },
     "metadata": {},
     "output_type": "display_data"
    },
    {
     "data": {
      "application/vnd.jupyter.widget-view+json": {
       "model_id": "137de707270e4472b0ce6c3384d19050",
       "version_major": 2,
       "version_minor": 0
      },
      "text/plain": [
       "model-00002-of-00004.safetensors:   0%|          | 0.00/5.00G [00:00<?, ?B/s]"
      ]
     },
     "metadata": {},
     "output_type": "display_data"
    },
    {
     "data": {
      "application/vnd.jupyter.widget-view+json": {
       "model_id": "3c80712c62754465a5a76e27837e970b",
       "version_major": 2,
       "version_minor": 0
      },
      "text/plain": [
       "model-00003-of-00004.safetensors:   0%|          | 0.00/4.92G [00:00<?, ?B/s]"
      ]
     },
     "metadata": {},
     "output_type": "display_data"
    },
    {
     "data": {
      "application/vnd.jupyter.widget-view+json": {
       "model_id": "19338896fa50496d812ed782fb231750",
       "version_major": 2,
       "version_minor": 0
      },
      "text/plain": [
       "model-00004-of-00004.safetensors:   0%|          | 0.00/1.17G [00:00<?, ?B/s]"
      ]
     },
     "metadata": {},
     "output_type": "display_data"
    },
    {
     "data": {
      "application/vnd.jupyter.widget-view+json": {
       "model_id": "1aa6894764b745ef90b4e184af1d1fdc",
       "version_major": 2,
       "version_minor": 0
      },
      "text/plain": [
       "Loading checkpoint shards:   0%|          | 0/4 [00:00<?, ?it/s]"
      ]
     },
     "metadata": {},
     "output_type": "display_data"
    },
    {
     "data": {
      "application/vnd.jupyter.widget-view+json": {
       "model_id": "6658c1c47aae4bff821790d87462b373",
       "version_major": 2,
       "version_minor": 0
      },
      "text/plain": [
       "generation_config.json:   0%|          | 0.00/172 [00:00<?, ?B/s]"
      ]
     },
     "metadata": {},
     "output_type": "display_data"
    },
    {
     "data": {
      "text/plain": [
       "<torch.autograd.grad_mode.set_grad_enabled at 0x795e4611bf70>"
      ]
     },
     "execution_count": 15,
     "metadata": {},
     "output_type": "execute_result"
    }
   ],
   "source": [
    "# ---------------- LLM 로드 & 생성 ----------------\n",
    "llm_model = AutoModelForCausalLM.from_pretrained(\n",
    "    LLM_ID,\n",
    "    device_map=\"auto\",\n",
    "    load_in_4bit=True,\n",
    "    torch_dtype=torch.float16\n",
    ")\n",
    "if torch.cuda.is_available():\n",
    "    torch.backends.cuda.matmul.allow_tf32 = True\n",
    "    try:\n",
    "        # llm_model.config.attn_implementation = \"sdpa\"\n",
    "        llm_model.config.attn_implementation = \"flash_attention_2\"\n",
    "        # llm_model.config.attn_implementation = \"eager\"\n",
    "    except Exception:\n",
    "        pass\n",
    "llm_model.eval()\n",
    "torch.set_grad_enabled(False)"
   ]
  },
  {
   "cell_type": "code",
   "execution_count": 16,
   "id": "ac0ba17ed873ebe6",
   "metadata": {},
   "outputs": [],
   "source": [
    "# 후처리 함수\n",
    "def extract_answer_only(generated_text: str, original_question: str) -> str:\n",
    "    \"\"\"\n",
    "    - \"답변:\" 이후 텍스트만 추출\n",
    "    - 객관식 문제면: 정답 숫자만 추출 (실패 시 전체 텍스트 또는 기본값 반환)\n",
    "    - 주관식 문제면: 전체 텍스트 그대로 반환\n",
    "    - 공백 또는 빈 응답 방지: 최소 \"미응답\" 반환\n",
    "    \"\"\"\n",
    "    # \"답변:\" 기준으로 텍스트 분리\n",
    "    if \"답변:\" in generated_text:\n",
    "        text = generated_text.split(\"답변:\")[-1].strip()\n",
    "    else:\n",
    "        text = generated_text.strip()\n",
    "\n",
    "    # 공백 또는 빈 문자열일 경우 기본값 지정\n",
    "    if not text:\n",
    "        return \"미응답\"\n",
    "\n",
    "    # 객관식 여부 판단\n",
    "    is_mc = is_multiple_choice(original_question)\n",
    "\n",
    "    if is_mc:\n",
    "        # 숫자만 추출\n",
    "        match = re.match(r\"\\D*([1-9][0-9]?)\", text)\n",
    "        if match:\n",
    "            return match.group(1)\n",
    "        else:\n",
    "            # 숫자 추출 실패 시 \"0\" 반환\n",
    "            return \"0\"\n",
    "    else:\n",
    "        return text\n"
   ]
  },
  {
   "cell_type": "code",
   "execution_count": 17,
   "id": "81099eeb-cdca-4a30-9c47-c27adf337c0c",
   "metadata": {},
   "outputs": [],
   "source": [
    "def strip_explanations(answer: str) -> str:\n",
    "    \"\"\"\n",
    "    키워드 뒤 설명을 제거하고 키워드만 남김\n",
    "    - '키워드: 설명' → '키워드'\n",
    "    - '키워드 ... 설명문' → '키워드'\n",
    "    \"\"\"\n",
    "    lines = answer.split(\"\\n\")\n",
    "    cleaned = []\n",
    "    for line in lines:\n",
    "        # \"키워드: 설명\" → \"키워드\"\n",
    "        m = re.match(r\"^\\s*[-0-9.]*\\s*([^\\:]+)\", line)\n",
    "        if m:\n",
    "            keyword = m.group(1).strip()\n",
    "            cleaned.append(keyword)\n",
    "    return \"\\n\".join(cleaned)"
   ]
  },
  {
   "cell_type": "code",
   "execution_count": 21,
   "id": "23e8bd6175f1111c",
   "metadata": {
    "scrolled": true
   },
   "outputs": [
    {
     "name": "stderr",
     "output_type": "stream",
     "text": [
      "Inference:   0%|          | 0/16 [00:00<?, ?it/s]/usr/local/lib/python3.10/dist-packages/transformers/generation/configuration_utils.py:492: UserWarning: `do_sample` is set to `False`. However, `temperature` is set to `0.0` -- this flag is only used in sample-based generation modes. You should set `do_sample=True` or unset `temperature`.\n",
      "  warnings.warn(\n",
      "/usr/local/lib/python3.10/dist-packages/transformers/generation/configuration_utils.py:497: UserWarning: `do_sample` is set to `False`. However, `top_p` is set to `0.1` -- this flag is only used in sample-based generation modes. You should set `do_sample=True` or unset `top_p`.\n",
      "  warnings.warn(\n"
     ]
    },
    {
     "name": "stdout",
     "output_type": "stream",
     "text": [
      "#################### Question ###########################\n",
      "금융투자업의 종류로 올바르게 나열된 것은?\n",
      "1 투자매매업, 보험업, 대출업, 자산관리업, 투자일임업, 투자자문업\n",
      "2 투자중개업, 집합투자업, 신탁업, 대출업, 보험업, 자산관리업\n",
      "3 투자매매업, 투자중개업, 신탁업, 보험업, 대출업, 자산관리업\n",
      "4 투자매매업, 투자중개업, 집합투자업, 신탁업, 자산운용업, 금융자문업\n",
      "5 투자매매업, 투자중개업, 집합투자업, 신탁업, 투자일임업, 투자자문업\n",
      "<|begin_of_text|><|start_header_id|>system<|end_header_id|>\n",
      "\n",
      "당신은 금융/보안 QA 도우미입니다. 포맷을 엄격히 지키세요.<|eot_id|><|start_header_id|>user<|end_header_id|>\n",
      "\n",
      "아래 컨텍스트를 우선 사용해 정확히 답하세요. 불충분하면 아는 범위에서만 간결히 답하세요.\n",
      "\n",
      "아래 질문에 대해 적절한 **정답 선택지 번호만 출력**하세요.\n",
      "\n",
      "=== 컨텍스트 ===\n",
      "자본시장법 제6조(금융투자업)\n",
      "(1) 이 법에서 “금융투자업”이란 이익을 얻을 목적으로 계속적이거나 반복적인 방법으로 행하는 행 위로서 다음 각 호의 어느 하나에 해당하는 업을 말한다. 1. 투자매매업 2. 투자중개업 3. 집합투자업 4. 투자자문업 5. 투자일임업 6. 신탁업 (2) 이 법에서 “투자매매업”이란 누구의 명의로 하든지 자기의 계산으로 금융투자상품의 매도ㆍ매수, 증권의 발행ㆍ 인수 또는 그 청약의 권유, 청약, 청약의 승낙을 영업으로 하는 것을 말한다. (3) 이 법에서 “투자중개업”이란 누구의 명의로 하든지 타인의 계산으로 금융투자상품의 매도ㆍ매수, 그 중개나 청 약의 권유, 청약, 청약의 승낙 또는 증권의 발행ㆍ인수에 대한 청약의 권유, 청약, 청약의 승낙을 영업으로 하는 것을 말한다. (4) 이 법에서 “집합투자업”이란 집합투자를 영업으로 하는 것을 말한다. (5) 제4항에서 “집합투자”란 2인 이상의 투자자로부터 모은 금전등을 투자자로부터 일상적인 운용지시를 받지 아니 하면서 재산적 가치가 있는 투자대상자산을 취득ㆍ처분, 그 밖의 방법으로 운용하고 그 결과를 투자자에게 배분하 여 귀속시키는 것을 말한다. 다만, 다음 각 호의 어느 하나에 해당하는 경우를 제외한다. 1. 대통령령으로 정하는 법률에 따라 사모의 방법으로 금전등을 모아 운용ㆍ배분하는 것으로서 대통령령으로 정하는 투자자의 총수가 대통령령으로 정하는 수 이하인 경우 2. 「자산유동화에 관한 법률」 제3조의 자산유동화계획에 따라 금전등을 모아 운용ㆍ배분하는 경우 3.\n",
      "\n",
      "자본시장법 제12조(금융투자업의 인가)\n",
      "(1) 금융투자업을 영위하려는 자는 다음 각 호의 사항을 구성요소로 하여 대통령령으로 정 하는 업무 단위(이하 “인가업무 단위”라 한다)의 전부나 일부를 선택하여 금융위원회로부터 하나의 금융투자업인가 를 받아야 한다. 1. 금융투자업의 종류(투자매매업, 투자중개업, 집합투자업 및 신탁업을 말하되, 투자매매업 중 인수업을 포함한다) 2. 금융투자상품(집합투자업의 경우에는 제229조에 따른 집합투자기구의 종류를 말하며, 신탁업의 경우에는 제 103조제1항 각 호의 신탁재산을 말한다)의 범위(증권, 장내파생상품 및 장외파생상품을 말하되, 증권 중 국채증권 , 사채권, 그 밖에 대통령령으로 정하는 것을 포함하고 파생상품 중 주권을 기초자산으로 하는 파생상품ㆍ그 밖에 대통령령으로 정하는 것을 포함한다) 3. 투자자의 유형(전문투자자 및 일반투자자를 말한다. 이하 같다) (2) 제1항에 따라 금융투자업인가를 받으려는 자는 다음 각 호의 요건을 모두 갖추어야 한다. 1. 다음 각 목의 어느 하나에 해당하는 자일 것 가. 「상법」에 따른 주식회사이거나 대통령령으로 정하는 금융기관 나. 외국 금융투자업자(외국 법령에 따라 외국에서 금융투자업에 상당하는 영업을 영위하는 자를 말한다. 이하 같 다)로서 외국에서 영위하고 있는 영업에 상당하는 금융투자업 수행에 필요한 지점, 그 밖의 영업소를 설치한 자 2. 인가업무 단위별로 5억원 이상으로서 대통령령으로 정하는 금액 이상의 자기자본을 갖출 것 3. 사업계획이 타당하고 건전할 것 4. 투자자의 보호가 가능하고 그 영위하고자 하는 금융투자업을 수행하기에 충분한 인력과 전산설비, 그 밖의 물적 설비를 갖출 것 5. 임원이 「금융회사의 지배구조에 관한 법률」 제5조에 적합할 것 6. 대주주나 외국 금융투자업자가 다음 각 목의 구분에 따른 요건을 갖출 것 가.\n",
      "\n",
      "자본시장법 제8조(금융투자업자)\n",
      "(1) 이 법에서 “금융투자업자”란 제6조제1항 각 호의 금융투자업에 대하여 금융위원회의 인가를 받거나 금융위원회에 등록하여 이를 영위하는 자를 말한다. (2) 이 법에서 “투자매매업자”란 금\n",
      "=== 끝 ===\n",
      "질문: 금융투자업의 종류로 올바르게 나열된 것은?\n",
      "선택지:\n",
      "1 투자매매업, 보험업, 대출업, 자산관리업, 투자일임업, 투자자문업\n",
      "2 투자중개업, 집합투자업, 신탁업, 대출업, 보험업, 자산관리업\n",
      "3 투자매매업, 투자중개업, 신탁업, 보험업, 대출업, 자산관리업\n",
      "4 투자매매업, 투자중개업, 집합투자업, 신탁업, 자산운용업, 금융자문업\n",
      "5 투자매매업, 투자중개업, 집합투자업, 신탁업, 투자일임업, 투자자문업\n",
      "\n",
      "답변:<|eot_id|><|start_header_id|>assistant<|end_header_id|>\n",
      "\n",
      "\n"
     ]
    },
    {
     "name": "stderr",
     "output_type": "stream",
     "text": [
      "Inference:  12%|█▎        | 2/16 [00:00<00:04,  3.18it/s]"
     ]
    },
    {
     "name": "stdout",
     "output_type": "stream",
     "text": [
      "#################### Answer ###########################\n",
      "3\n",
      "#################### Question ###########################\n",
      "개인정보보호법 제7조의4에 따르면, 위원의 임기는 몇 년이며, 몇 차례 연임할 수 있는가?\n",
      "1 5년, 두 차례 연임 가능\n",
      "2 3년, 한 차례 연임 가능\n",
      "3 2년, 한 차례 연임 가능\n",
      "4 3년, 연임 제한 없음\n",
      "5 4년, 두 차례 연임 가능\n",
      "<|begin_of_text|><|start_header_id|>system<|end_header_id|>\n",
      "\n",
      "당신은 금융/보안 QA 도우미입니다. 포맷을 엄격히 지키세요.<|eot_id|><|start_header_id|>user<|end_header_id|>\n",
      "\n",
      "아래 컨텍스트를 우선 사용해 정확히 답하세요. 불충분하면 아는 범위에서만 간결히 답하세요.\n",
      "\n",
      "아래 질문에 대해 적절한 **정답 선택지 번호만 출력**하세요.\n",
      "\n",
      "=== 컨텍스트 ===\n",
      "개인정보 보호법 제7조의4(위원의 임기)\n",
      "(1) 위원의 임기는 3년으로 하되, 한 차례만 연임할 수 있다. (2) 위원이 궐위된 때에는 지체 없이 새로운 위원을 임명 또는 위촉하여야 한다. 이 경우 후임으로 임명 또는 위촉된 위원의 임기는 새로이 개시된다.\n",
      "=== 끝 ===\n",
      "질문: 개인정보보호법 제7조의4에 따르면, 위원의 임기는 몇 년이며, 몇 차례 연임할 수 있는가?\n",
      "선택지:\n",
      "1 5년, 두 차례 연임 가능\n",
      "2 3년, 한 차례 연임 가능\n",
      "3 2년, 한 차례 연임 가능\n",
      "4 3년, 연임 제한 없음\n",
      "5 4년, 두 차례 연임 가능\n",
      "\n",
      "답변:<|eot_id|><|start_header_id|>assistant<|end_header_id|>\n",
      "\n",
      "\n",
      "#################### Answer ###########################\n",
      "2\n",
      "#################### Question ###########################\n",
      "개인정보보호법 시행령 제60조에 따르면, 개인정보 유출 등 정보주체의 개인정보에 관한 권리 또는 이익을 침해하는 사건이 발생할 가능성이 상당히 있는 경우, 보호위원회는 어떤 기관에 기술적인 사항을 자문할 수 있는가?\n",
      "1 한국정보보호진흥원\n",
      "2 국가정보원\n",
      "3 금융감독원\n",
      "4 개인정보보호위원회\n",
      "5 한국인터넷진흥원\n",
      "<|begin_of_text|><|start_header_id|>system<|end_header_id|>\n",
      "\n",
      "당신은 금융/보안 QA 도우미입니다. 포맷을 엄격히 지키세요.<|eot_id|><|start_header_id|>user<|end_header_id|>\n",
      "\n",
      "아래 컨텍스트를 우선 사용해 정확히 답하세요. 불충분하면 아는 범위에서만 간결히 답하세요.\n",
      "\n",
      "아래 질문에 대해 적절한 **정답 선택지 번호만 출력**하세요.\n",
      "\n",
      "=== 컨텍스트 ===\n",
      "개인정보 보호법 제63조(자료제출 요구 및 검사)\n",
      "(1) 보호위원회는 다음 각 호의 어느 하나에 해당하는 경우에는 개인정보처리자에게 관 계 물품ㆍ서류 등 자료를 제출하게 할 수 있다. 1. 이 법을 위반하는 사항을 발견하거나 혐의가 있음을 알게 된 경우 2. 이 법 위반에 대한 신고를 받거나 민원이 접수된 경우 3. 그 밖에 정보주체의 개인정보 보호를 위하여 필요한 경우로서 대통령령으로 정하는 경우 (2) 보호위원회는 개인정보처리자가 제1항에 따른 자료를 제출하지 아니하거나 이 법을 위반한 사실이 있다고 인정 되면 소속 공무원으로 하여금 개인정보처리자 및 해당 법 위반사실과 관련한 관계인의 사무소나 사업장에 출입하 여 업무 상황, 장부 또는 서류 등을 검사하게 할 수 있다. 이 경우 검사를 하는 공무원은 그 권한을 나타내는 증표를 지니고 이를 관계인에게 내보여야 한다. (3) 보호위원회는 이 법 등 개인정보 보호와 관련된 법규의 위반행위로 인하여 중대한 개인정보 침해사고가 발생한 경우 신속하고 효과적인 대응을 위하여 다음 각 호의 어느 하나에 해당하는 관계 기관의 장에게 협조를 요청할 수 있다. 1. 중앙행정기관 2. 지방자치단체 3. 그 밖에 법령 또는 자치법규에 따라 행정권한을 가지고 있거나 위임 또는 위탁받은 공공기관 (4) 제3항에 따라 협조를 요청받은 관계 기관의 장은 특별한 사정이 없으면 이에 따라야 한다. (5) 제1항 및 제2항에 따른 자료제출 요구, 검사 절차 및 방법 등에 관하여 필요한 사항은 보호위원회가 정하여 고시 할 수 있다. (6) 보호위원회는 제1항 및 제2항에 따라 제출받거나 수집한 서류ㆍ자료 등을 이 법에 따른 경우를 제외하고는 제 3자에게 제공하거나 일반에 공개해서는 아니 된다. (7) 보호위원회는 정보통신망을 통하여 자료의 제출 등을 받은 경우나 수집한 자료 등을 전자화한 경우에는 개인정 보ㆍ영업비밀 등이 유출되지 아니하도록 제도적ㆍ기술적 보완조치를 하여야 한다.\n",
      "\n",
      "개인정보 보호법 제62조(침해 사실의 신고 등)\n",
      "(1) 개인정보처리자가 개인정보를 처리할 때 개인정보에 관한 권리 또는 이익을 침해받은 사람은 보호위원회에 그 침해 사실을 신고할 수 있다. (2) 보호위원회는 제1항에 따른 신고의 접수ㆍ처리 등에 관한 업무를 효율적으로 수행하기 위하여 대통령령으로 정 하는 바에 따라 전문기관을 지정할 수 있다. 이 경우 전문기관은 개인정보침해 신고센터(이하 “신고센터”라 한다)를 설치ㆍ운영하여야 한다. (3) 신고센터는 다음 각 호의 업무를 수행한다. 1. 개인정보 처리와 관련한 신고의 접수ㆍ상담 2. 사실의 조사ㆍ확인 및 관계자의 의견 청취 3. 제1호 및 제2호에 따른 업무에 딸린 업무 (4) 보호위원회는 제3항제2호의 사실 조사ㆍ확인 등의 업무를 효율적으로 하기 위하여 필요하면 「국가공무원법」 제 32조의4에 따라 소속 공무원을 제2항에 따른 전문기관에 파견할 수 있다.\n",
      "\n",
      "개인정보 보호법 제35조의3(개인정보관리 전문기관)\n",
      "(1) 다음 각 호의 업무를 수행하려는 자는 보호위원회 또는 관계 중앙행정기관의 장 으로부터 개인정보관리 전문기관의 지정을 받아야 한다. 1. 제35조의2에 따른 개인정보의 전송 요구권 행사 지원 2. 정보주체의 권리행사를 지원하기 위한 개인정보 전송시스템의 구축 및 표준화 3. 정보주체의 권리행사를 지원하기 위한 개인정보의 관리ㆍ분석 4. 그 밖에 정보주체의 권리행사를 효과적으로 지원하기 위하여 대통령령으로 정하는 업무 (2) 제1항에 따른 개인정보관리 전문기관의 지정요건은 다음 각 호와 같다. 1. 개인정보를 전송ㆍ관리ㆍ분석할 수 있는 기술수준 및 전문성을 갖추었을 것 2. 개인정보를 안전하게 관리할 수 있는 안전성 확보조치 수준을 갖추었을 것 3. 개인정보관리 전문기관의 안정적인 운영에 필요한 재정능력을 갖추었을 것 (3) 개인정보관리 전문기관은 다음 각 호의 어느 하나에 해당하는 행위를 하여서는 아니 된다. 1. 정보주체에게 개인정보의 전송 요구를 강요하거나 부당하게 유도하는 행위 2. 그 밖에 개인정보를 침해하거나 정보주체의 권리를 제한할 우려가 있는 행위로서 대통령령으로 정하는 행위 (4) 보호위원회 및 관계 중앙행정기관의 장은 개인정보관리 전문기관이 다음 각 호의 어느 하나에 해당하는 경우에 는 개인정보관리 전문기관의 지\n",
      "=== 끝 ===\n",
      "질문: 개인정보보호법 시행령 제60조에 따르면, 개인정보 유출 등 정보주체의 개인정보에 관한 권리 또는 이익을 침해하는 사건이 발생할 가능성이 상당히 있는 경우, 보호위원회는 어떤 기관에 기술적인 사항을 자문할 수 있는가?\n",
      "선택지:\n",
      "1 한국정보보호진흥원\n",
      "2 국가정보원\n",
      "3 금융감독원\n",
      "4 개인정보보호위원회\n",
      "5 한국인터넷진흥원\n",
      "\n",
      "답변:<|eot_id|><|start_header_id|>assistant<|end_header_id|>\n",
      "\n",
      "\n"
     ]
    },
    {
     "name": "stderr",
     "output_type": "stream",
     "text": [
      "Inference:  19%|█▉        | 3/16 [00:01<00:05,  2.31it/s]"
     ]
    },
    {
     "name": "stdout",
     "output_type": "stream",
     "text": [
      "#################### Answer ###########################\n",
      "2\n",
      "#################### Question ###########################\n",
      "신용정보법 제12조에 의하면, 신용정보회사와 유사한 업무를 수행할 수 있도록 다른 법령에서 허용한 경우, 사용할 수 있는 명칭은 무엇인가?\n",
      "1 마이데이터\n",
      "2 신용관리\n",
      "3 신용정보중개\n",
      "4 신용평가\n",
      "5 신용조사\n",
      "<|begin_of_text|><|start_header_id|>system<|end_header_id|>\n",
      "\n",
      "당신은 금융/보안 QA 도우미입니다. 포맷을 엄격히 지키세요.<|eot_id|><|start_header_id|>user<|end_header_id|>\n",
      "\n",
      "아래 컨텍스트를 우선 사용해 정확히 답하세요. 불충분하면 아는 범위에서만 간결히 답하세요.\n",
      "\n",
      "아래 질문에 대해 적절한 **정답 선택지 번호만 출력**하세요.\n",
      "\n",
      "=== 컨텍스트 ===\n",
      "신용정보법 제12조(유사명칭의 사용 금지)\n",
      "이 법에 따라 허가받은 신용정보회사, 본인신용정보관리회사, 채권추심회사 또는 신용정 보집중기관이 아닌 자는 상호 또는 명칭 중에 신용정보ㆍ신용조사ㆍ개인신용평가ㆍ신용관리ㆍ마이데이터 (MyData)ㆍ채권추심 또는 이와 비슷한 문자를 사용하지 못한다. 다만, 신용정보회사, 본인신용정보관리회사, 채권추 심회사 또는 신용정보집중기관과 유사한 업무를 수행할 수 있도록 다른 법령에서 허용한 경우 등 대통령령으로 정 하는 경우는 제외한다.\n",
      "\n",
      "신용정보법 제2조(정의)\n",
      "4. “신용정보업”이란 다음 각 목의 어느 하나에 해당하는 업을 말한다. 가. 개인신용평가업 나. 개인사업자신용평가업 다. 기업신용조회업 라. 신용조사업 5. “신용정보회사”란 제4호 각 목의 신용정보업에 대하여 금융위원회의 허가를 받은 자로서 다음 각 목의 어느 하나 에 해당하는 자를 말한다. 가. 개인신용평가회사: 개인신용평가업 허가를 받은 자 나. 개인사업자신용평가회사: 개인사업자신용평가업 허가를 받은 자 다. 기업신용조회회사: 기업신용조회업 허가를 받은 자 라. 신용조사회사: 신용조사업 허가를 받은 자 6. “신용정보집중기관”이란 신용정보를 집중하여 관리ㆍ활용하는 자로서 제25조제1항에 따라 금융위원회로부터 허 가받은 자를 말한다. 7. “신용정보제공ㆍ이용자”란 고객과의 금융거래 등 상거래를 위하여 본인의 영업과 관련하여 얻거나 만들어 낸 신 용정보를 타인에게 제공하거나 타인으로부터 신용정보를 제공받아 본인의 영업에 이용하는 자와 그 밖에 이에 준하는 자로서 대통령령으로 정하는 자를 말한다. 8. “개인신용평가업”이란 개인의 신용을 판단하는 데 필요한 정보를 수집하고 개인의 신용상태를 평가(이하 “개인신 용평가”라 한다)하여 그 결과(개인신용평점을 포함한다)를 제3자에게 제공하는 행위를 영업으로 하는 것을 말한 다. 8의2. “개인사업자신용평가업”이란 개인사업자의 신용을 판단하는 데 필요한 정보를 수집하고 개인사업자의 신용 상태를 평가하여 그 결과를 제3자에게 제공하는 행위를 영업으로 하는 것을 말한다. 다만, 「자본시장과 금융투자 업에 관한 법률」 제9조제26항에 따른 신용평가업은 제외한다. 8의3. “기업신용조회업”이란 다음 각 목에 따른 업무를 영업으로 하는 것을 말한다. 다만, 「자본시장과 금융투자업 에 관한 법률」 제9조제26항에 따른 신용평가업은 제외한다. 가.\n",
      "\n",
      "신용정보법 제11조(겸영업무)\n",
      "(1)신용정보회사, 본인신용정보관리회사 및 채권추심회사는 총리령으로 정하는 바에 따라 금융위원회 에 미리 신고하고 신용정보주체 보호 및 건전한 신용질서를 저해할 우려가 없는 업무(이하 “겸영업무”라 한다)를 겸 영할 수 있다. 이 경우 이 법 및 다른 법률에 따라 행정관청의 인가ㆍ허가ㆍ등록 및 승인 등의 조치가 필요한 겸영업 무는 해당 개별 법률에 따라 인가ㆍ허가ㆍ등록 및 승인 등을 미리 받아야 할 수 있다. 1. 삭제 률 2. 삭제 3. 삭제 4. 삭제 (2) 개인신용평가회사의 겸영업무는 다음 각 호와 같다. 1. 개인신용평가업 외의 신용정보업 2. 채권추심업 3. 「정보통신망 이용촉진 및 정보보호 등에 관한 법률」 제23조의3에 따른 본인확인기관의 업무 4. 그 밖에 신용정보주체 보호 및 건전한 신용질서를 저해할 우려가 없는 업무로서 대통령령으로 정하는 업무 (3) 개인사업자신용평가회사의 겸영업무는 다음 각 호와 같다. 1. 개인사업자신용평가업 외의 신용정보업 2. 채권추심업 3. 「정보통신망 이용촉진 및 정보보호 등에 관한 법률」 제23조의3에 따른 본인확인기관의 업무 4. 그 밖에 신용정보주체 보호 및 건전한 신용질서를 저해할 우려가 없는 업무로서 대통령령으로 정하는 업무 (4) 기업신용조회회사의 겸영업무는 다음 각 호와 같다. 1. 기업신용조회업 외\n",
      "=== 끝 ===\n",
      "질문: 신용정보법 제12조에 의하면, 신용정보회사와 유사한 업무를 수행할 수 있도록 다른 법령에서 허용한 경우, 사용할 수 있는 명칭은 무엇인가?\n",
      "선택지:\n",
      "1 마이데이터\n",
      "2 신용관리\n",
      "3 신용정보중개\n",
      "4 신용평가\n",
      "5 신용조사\n",
      "\n",
      "답변:<|eot_id|><|start_header_id|>assistant<|end_header_id|>\n",
      "\n",
      "\n"
     ]
    },
    {
     "name": "stderr",
     "output_type": "stream",
     "text": [
      "Inference:  25%|██▌       | 4/16 [00:01<00:05,  2.26it/s]"
     ]
    },
    {
     "name": "stdout",
     "output_type": "stream",
     "text": [
      "#################### Answer ###########################\n",
      "3\n",
      "#################### Question ###########################\n",
      "정보통신망법 제44조의6에 따르면, 특정 이용자의 정보 제공 청구를 할 수 있는 경우는 무엇인가?\n",
      "1 정보통신서비스 제공자가 정보를 삭제한 경우\n",
      "2 이용자의 접근권한이 일시적으로 제한된 경우\n",
      "3 사생활 침해 또는 명예훼손 등 권리를 침해당한 경우\n",
      "4 이용자가 정보 제공을 거부한 경우\n",
      "5 이용자의 동의 없이 정보를 수집한 경우\n",
      "<|begin_of_text|><|start_header_id|>system<|end_header_id|>\n",
      "\n",
      "당신은 금융/보안 QA 도우미입니다. 포맷을 엄격히 지키세요.<|eot_id|><|start_header_id|>user<|end_header_id|>\n",
      "\n",
      "아래 컨텍스트를 우선 사용해 정확히 답하세요. 불충분하면 아는 범위에서만 간결히 답하세요.\n",
      "\n",
      "아래 질문에 대해 적절한 **정답 선택지 번호만 출력**하세요.\n",
      "\n",
      "=== 컨텍스트 ===\n",
      "정보통신망법 제44조의6(이용자 정보의 제공청구)\n",
      "(1) 특정한 이용자에 의한 정보의 게재나 유통으로 사생활 침해 또는 명예훼손 등 권리를 침해당하였다고 주장하는 자는 민ㆍ형사상의 소를 제기하기 위하여 침해사실을 소명하여 제44조의10에 따 른 명예훼손 분쟁조정부에 해당 정보통신서비스 제공자가 보유하고 있는 해당 이용자의 정보(민ㆍ형사상의 소를 제 기하기 위한 성명ㆍ주소 등 대통령령으로 정하는 최소한의 정보를 말한다)를 제공하도록 청구할 수 있다. (2) 명예훼손 분쟁조정부는 제1항에 따른 청구를 받으면 해당 이용자와 연락할 수 없는 등의 특별한 사정이 있는 경 우 외에는 그 이용자의 의견을 들어 정보제공 여부를 결정하여야 한다. (3) 제1항에 따라 해당 이용자의 정보를 제공받은 자는 해당 이용자의 정보를 민ㆍ형사상의 소를 제기하기 위한 목 적 외의 목적으로 사용하여서는 아니 된다. (4) 그 밖의 이용자 정보 제공청구의 내용과 절차에 필요한 사항은 대통령령으로 정한다.\n",
      "\n",
      "정보통신망법 제44조의2(정보의 삭제요청 등)\n",
      "(1) 정보통신망을 통하여 일반에게 공개를 목적으로 제공된 정보로 사생활 침해나 명예 훼손 등 타인의 권리가 침해된 경우 그 침해를 받은 자는 해당 정보를 처리한 정보통신서비스 제공자에게 침해사실 을 소명하여 그 정보의 삭제 또는 반박내용의 게재(이하 “삭제등”이라 한다)를 요청할 수 있다. 이 경우 삭제등을 요 청하는 자(이하 이 조에서 “신청인”이라 한다)는 문자메시지, 전자우편 등 그 처리 경과 및 결과를 통지받을 수단을 지정할 수 있으며, 해당 정보를 게재한 자(이하 이 조에서 “정보게재자”라 한다)는 문자메시지, 전자우편 등 제2항에 따른 조치 사실을 통지받을 수단을 미리 지정할 수 있다. (2) 정보통신서비스 제공자는 제1항에 따른 해당 정보의 삭제등을 요청받으면 지체 없이 삭제ㆍ임시조치 등의 필요 한 조치를 하고 즉시 신청인 및 정보게재자에게 알려야 한다. 이 경우 정보통신서비스 제공자는 필요한 조치를 한 사실을 해당 게시판에 공시하는 등의 방법으로 이용자가 알 수 있도록 하여야 한다. (3) 정보통신서비스 제공자는 자신이 운영ㆍ관리하는 정보통신망에 제42조에 따른 표시방법을 지키지 아니하는 청 소년유해매체물이 게재되어 있거나 제42조의2에 따른 청소년 접근을 제한하는 조치 없이 청소년유해매체물을 광 고하는 내용이 전시되어 있는 경우에는 지체 없이 그 내용을 삭제하여야 한다. (4) 정보통신서비스 제공자는 제1항에 따른 정보의 삭제요청에도 불구하고 권리의 침해 여부를 판단하기 어렵거나 이해당사자 간에 다툼이 예상되는 경우에는 해당 정보에 대한 접근을 임시적으로 차단하는 조치(이하 “임시조치”라 한다)를 할 수 있다. 이 경우 임시조치의 기간은 30일 이내로 한다. (5) 정보통신서비스 제공자는 필요한 조치에 관한 내용ㆍ절차 등을 미리 약관에 구체적으로 밝혀야 한다. (6) 정보통신서비스 제공자는 자신이 운영ㆍ관리하는 정보통신망에 유통되는 정보에 대하여 제2항에 따른 필요한 조치를 하면 이로 인한 배상책임을 줄이거나 면제받을 수 있다.\n",
      "\n",
      "정보통신망법 제50조의4(정보 전송 역무 제공 등의 제한)\n",
      "(1) 정보통신서비스 제공자는 다음 각 호의 어느 하나에 해당하는 경우에 해 당 역무의 제공을 거부하는 조치를 할 수 있다. 1. 광고성 정보의 전송 또는 수신으로 역무의 제공에 장애가 일어나거나 일어날 우려가 있는 경우 2. 이용자가 광고성 정보의 수신을 원하지 아니하는 경우 3. 삭제 (2) 정보통신서비스 제공자는 제1항 또는 제4항에 따른 거부조치를 하려면 해당 역무 제공의 거부에 관한 사항을 그 역무의 이용자와 체결하는 정보통신서비스 이용계약의 내용에 포함하여야 한다. (3) 정보통신서비스 제공자는 제1항 또는 제4항에 따른 거부조치 사실을 그 역무를 제공받는 이용자 등 이해관계인 에게 알려야 한다. 다만, 미리 알리는 것이 곤란한 경우에는 거부조치를 한 후 지체 없이 알려야 한다. (4) 정보통신서비스 제공자는 이용계약을 통하여 해당 정보통신서비스 제공자가 이용자에게 제공하는 서비스가 제 50조 또는 제50조의8을 위반하여 영리목적의 광고성 정보전송에 이용되고 있는 경우 해당 역무의 제공을 거부하거 나 정보통신망이나 서비스의 취약점을 개선하는 등 필요한 조치를 강구하여야 한다.\n",
      "=== 끝 ===\n",
      "질문: 정보통신망법 제44조의6에 따르면, 특정 이용자의 정보 제공 청구를 할 수 있는 경우는 무엇인가?\n",
      "선택지:\n",
      "1 정보통신서비스 제공자가 정보를 삭제한 경우\n",
      "2 이용자의 접근권한이 일시적으로 제한된 경우\n",
      "3 사생활 침해 또는 명예훼손 등 권리를 침해당한 경우\n",
      "4 이용자가 정보 제공을 거부한 경우\n",
      "5 이용자의 동의 없이 정보를 수집한 경우\n",
      "\n",
      "답변:<|eot_id|><|start_header_id|>assistant<|end_header_id|>\n",
      "\n",
      "\n"
     ]
    },
    {
     "name": "stderr",
     "output_type": "stream",
     "text": [
      "Inference:  31%|███▏      | 5/16 [00:03<00:11,  1.08s/it]"
     ]
    },
    {
     "name": "stdout",
     "output_type": "stream",
     "text": [
      "#################### Answer ###########################\n",
      "1\n",
      "#################### Question ###########################\n",
      "정보통신망법 제48조의5에 의거하여, 정보통신망연결기기등 관련 침해사고 발생 시 과학기술정보통신부장관이 할 수 있는 조치는?\n",
      "1 침해사고의 원인을 분석하고 필요한 조치를 권고한다.\n",
      "2 침해사고 발생 시 모든 데이터를 복구한다.\n",
      "3 침해사고 발생 시 모든 관련 기관에 경고를 발송한다.\n",
      "4 침해사고 발생 시 모든 정보통신망을 차단한다.\n",
      "<|begin_of_text|><|start_header_id|>system<|end_header_id|>\n",
      "\n",
      "당신은 금융/보안 QA 도우미입니다. 포맷을 엄격히 지키세요.<|eot_id|><|start_header_id|>user<|end_header_id|>\n",
      "\n",
      "아래 컨텍스트를 우선 사용해 정확히 답하세요. 불충분하면 아는 범위에서만 간결히 답하세요.\n",
      "\n",
      "아래 질문에 대해 적절한 **정답 선택지 번호만 출력**하세요.\n",
      "\n",
      "=== 컨텍스트 ===\n",
      "정보통신망법 제48조의4(침해사고의 원인 분석 등)\n",
      "(1) 정보통신서비스 제공자 등 정보통신망을 운영하는 자는 침해사고가 발생하면 침해사고의 원인을 분석하고 그 결과에 따라 피해의 확산 방지를 위하여 사고대응, 복구 및 재발 방지에 필요한 조치 를 하여야 한다. (2) 과학기술정보통신부장관은 정보통신서비스 제공자의 정보통신망에 침해사고가 발생하면 그 침해사고의 원인을 분석하고 피해 확산 방지, 사고대응, 복구 및 재발 방지를 위한 대책을 마련하여 해당 정보통신서비스 제공자(공공 기관등은 제외한다)에게 필요한 조치를 이행하도록 명령할 수 있다. (3) 과학기술정보통신부장관은 제2항에 따른 조치의 이행 여부를 점검하고, 보완이 필요한 사항에 대하여 해당 정보 통신서비스 제공자에게 시정을 명할 수 있다. (4) 과학기술정보통신부장관은 정보통신서비스 제공자의 정보통신망에 중대한 침해사고가 발생한 경우 제2항에 따 른 원인 분석 및 대책 마련을 위하여 필요하면 정보보호에 전문성을 갖춘 민ㆍ관합동조사단을 구성하여 그 침해사 고의 원인 분석을 할 수 있다. (5) 과학기술정보통신부장관은 제2항에 따른 침해사고의 원인 분석 및 대책 마련을 위하여 필요하면 정보통신서비 스 제공자에게 정보통신망의 접속기록 등 관련 자료의 보전을 명할 수 있다. (6) 과학기술정보통신부장관은 제2항에 따른 침해사고의 원인 분석 및 대책 마련을 하기 위하여 필요하면 정보통신 서비스 제공자에게 침해사고 관련 자료의 제출을 요구할 수 있으며, 중대한 침해사고의 경우 소속 공무원 또는 제 4항에 따른 민ㆍ관합동조사단에게 관계인의 사업장에 출입하여 침해사고 원인을 조사하도록 할 수 있다. 다만, 「통 신비밀보호법」 제2조제11호에 따른 통신사실확인자료에 해당하는 자료의 제출은 같은 법으로 정하는 바에 따른다.\n",
      "\n",
      "정보통신망법 제48조의5(정보통신망연결기기등 관련 침해사고의 대응 등)\n",
      "(1) 과학기술정보통신부장관은 정보통신망연결기기등과 관 련된 침해사고가 발생하면 관계 중앙행정기관의 장과 협력하여 해당 침해사고의 원인을 분석할 수 있다. 률 (2) 과학기술정보통신부장관은 정보통신망연결기기등과 관련된 침해사고가 발생하여 국민의 생명ㆍ신체 또는 재산 에 위험을 초래할 가능성이 있는 경우 관계 중앙행정기관의 장에게 다음 각 호의 조치를 하도록 요청할 수 있다. 1. 제47조의4제1항에 따른 취약점 점검, 기술 지원 등의 조치 2. 피해 확산을 방지하기 위하여 필요한 조치 3. 그 밖에 정보통신망연결기기등의 정보보호를 위한 제도의 개선 (3) 과학기술정보통신부장관은 정보통신망연결기기등과 관련된 침해사고가 발생한 경우 해당 정보통신망연결기기 등을 제조하거나 수입한 자에게 제품 취약점 개선 등 침해사고의 확대 또는 재발을 방지하기 위한 조치를 할 것을 권고할 수 있다. (4) 과학기술정보통신부장관은 대통령령으로 정하는 전문기관이 다음 각 호의 사업을 수행하는 데 필요한 비용을 지원할 수 있다. 1. 정보통신망연결기기등과 관련된 정보보호지침 마련을 위한 연구 2. 정보통신망연결기기등과 관련된 시험ㆍ검사ㆍ인증 등의 기준 개선 연구\n",
      "\n",
      "정보통신망법 제48조의2(침해사고의 대응 등)\n",
      "(1) 과학기술정보통신부장관은 침해사고에 적절히 대응하기 위하여 다음 각 호의 업무 를 수행하고, 필요하면 업무의 전부 또는 일부를 한국인터넷진흥원이 수행하도록 할 수 있다. 1. 침해사고에 관한 정보의 수집ㆍ전파 2. 침해사고의 예보ㆍ경보 3. 침해사고에 대한 긴급조치 4. 그 밖에 대통령령으로 정하는 침해사고 대응조치 (2) 다음 각 호의 어느 하나에 해당하는 자는 대통령령으로 정하는 바에 따라 침해사고의 유형별 통계, 해당 정보통 신망의 소통량 통계 및 접속경로별 이용 통계 등 침해사고 관련 정보를 과학기술정보통신부장관이나 한국인터넷진 흥원에 제공하여야 한다. 1. 주요정보통신서비스 제공자 2. 집적정보통신시설 사업자 3. 그 밖에 정보통신망을 운영하는 자로서 대통령령으로 정하는 자 (3) 한국인터넷진흥원은 제2항에 따른 정보를\n",
      "=== 끝 ===\n",
      "질문: 정보통신망법 제48조의5에 의거하여, 정보통신망연결기기등 관련 침해사고 발생 시 과학기술정보통신부장관이 할 수 있는 조치는?\n",
      "선택지:\n",
      "1 침해사고의 원인을 분석하고 필요한 조치를 권고한다.\n",
      "2 침해사고 발생 시 모든 데이터를 복구한다.\n",
      "3 침해사고 발생 시 모든 관련 기관에 경고를 발송한다.\n",
      "4 침해사고 발생 시 모든 정보통신망을 차단한다.\n",
      "\n",
      "답변:<|eot_id|><|start_header_id|>assistant<|end_header_id|>\n",
      "\n",
      "\n"
     ]
    },
    {
     "name": "stderr",
     "output_type": "stream",
     "text": [
      "Inference:  38%|███▊      | 6/16 [00:04<00:08,  1.15it/s]"
     ]
    },
    {
     "name": "stdout",
     "output_type": "stream",
     "text": [
      "#################### Answer ###########################\n",
      "1\n",
      "#################### Question ###########################\n",
      "금융회사가 정보보호 예산을 관리할 때, 「전자금융감독규정」에 따라 정보기술부문 인력 중 정보보호 인력의 비율은 최소 몇 퍼센트 이상이어야 하는가?\n",
      "1 10%\n",
      "2 5%\n",
      "3 7%\n",
      "4 3%\n",
      "<|begin_of_text|><|start_header_id|>system<|end_header_id|>\n",
      "\n",
      "당신은 금융/보안 QA 도우미입니다. 포맷을 엄격히 지키세요.<|eot_id|><|start_header_id|>user<|end_header_id|>\n",
      "\n",
      "아래 컨텍스트를 우선 사용해 정확히 답하세요. 불충분하면 아는 범위에서만 간결히 답하세요.\n",
      "\n",
      "아래 질문에 대해 적절한 **정답 선택지 번호만 출력**하세요.\n",
      "\n",
      "=== 컨텍스트 ===\n",
      "전자금융거래법 제21조의2(정보보호최고책임자 지정)\n",
      "(1) 금융회사 또는 전자금융업자는 전자금융업무 및 그 기반이 되는 정보기술부 문 보안을 총괄하여 책임질 정보보호최고책임자를 지정하여야 한다. (2) 총자산, 종업원 수 등을 감안하여 대통령령으로 정하는 금융회사 또는 전자금융업자는 정보보호최고책임자를 임 원(「상법」 제401조의2제1항제3호에 따른 자를 포함한다)으로 지정하여야 한다. (3) 총자산, 종업원 수 등을 감안하여 대통령령으로 정하는 금융회사 또는 전자금융업자의 정보보호최고책임자는 제 4항의 업무 외의 다른 정보기술부문 업무를 겸직할 수 없다. (4) 제1항에 따른 정보보호최고책임자는 다음 각 호의 업무를 수행한다. 1. 제21조제2항에 따른 전자금융거래의 안정성 확보 및 이용자 보호를 위한 전략 및 계획의 수립 2. 정보기술부문의 보호 3. 정보기술부문의 보안에 필요한 인력관리 및 예산편성 4. 전자금융거래의 사고 예방 및 조치 5. 그 밖에 전자금융거래의 안정성 확보를 위하여 대통령령으로 정하는 사항 (5) 정보보호최고책임자의 자격요건 등에 필요한 사항은 대통령령으로 정한다.\n",
      "=== 끝 ===\n",
      "질문: 금융회사가 정보보호 예산을 관리할 때, 「전자금융감독규정」에 따라 정보기술부문 인력 중 정보보호 인력의 비율은 최소 몇 퍼센트 이상이어야 하는가?\n",
      "선택지:\n",
      "1 10%\n",
      "2 5%\n",
      "3 7%\n",
      "4 3%\n",
      "\n",
      "답변:<|eot_id|><|start_header_id|>assistant<|end_header_id|>\n",
      "\n",
      "\n"
     ]
    },
    {
     "name": "stderr",
     "output_type": "stream",
     "text": [
      "Inference:  44%|████▍     | 7/16 [00:04<00:05,  1.51it/s]"
     ]
    },
    {
     "name": "stdout",
     "output_type": "stream",
     "text": [
      "#################### Answer ###########################\n",
      "3\n",
      "#################### Question ###########################\n",
      "트로이 목마(Trojan) 기반 원격제어 악성코드(RAT)의 특징과 주요 탐지 지표를 설명하세요.\n"
     ]
    },
    {
     "name": "stderr",
     "output_type": "stream",
     "text": [
      "Inference:  50%|█████     | 8/16 [00:07<00:12,  1.51s/it]"
     ]
    },
    {
     "name": "stdout",
     "output_type": "stream",
     "text": [
      "#################### Answer ###########################\n",
      "트로이 목마(Trojan) 기반 원격제어 악성코드(RAT)는 웹 애플러의 취약적 공격으로, 특징은 다음과 같습니다.\n",
      "* 네트워크 침투를 통해 웹 페이지에 접근하여 정보를 훔쳐거나 삭제하는 등의 행위를 수행합니다.\n",
      "* 다양한 방법으로 웹 페이지를 조작하거나 파괴할 수 있습니다.\n",
      "주요 탐지 지표로는 다음과 같습니다.\n",
      "* 네트워크 보안 설정 확인\n",
      "* 웹 애플러 업데이트 및 패치 설치 확인\n",
      "* 웹 페이지 접근 시도움 감지 및 경고 설정\n",
      "* 정기적인 백업 및 데이터 복원 수행\n",
      "* 최신 보안 소프트웨어 및 패치 설치 및 관리\n",
      "#################### Question ###########################\n",
      "전자금융거래법에 따라 이용자가 금융 분쟁조정을 신청할 수 있는 기관을 기술하세요.\n",
      "<|begin_of_text|><|start_header_id|>system<|end_header_id|>\n",
      "\n",
      "당신은 금융/보안 QA 도우미입니다. 포맷을 엄격히 지키세요.<|eot_id|><|start_header_id|>user<|end_header_id|>\n",
      "\n",
      "아래 컨텍스트를 우선 사용해 정확히 답하세요. 불충분하면 아는 범위에서만 간결히 답하세요.\n",
      "\n",
      "=== 컨텍스트 ===\n",
      "전자금융거래법 제27조(분쟁처리 및 분쟁조정)\n",
      "(1)금융회사 또는 전자금융업자는 대통령령이 정하는 바에 따라 전자금융거래와 관련하 여 이용자가 제기하는 정당한 의견이나 불만을 반영하고 이용자가 전자금융거래에서 입은 손해를 배상하기 위한 절 차를 마련하여야 한다. (2)이용자는 전자금융거래의 처리에 관하여 이의가 있을 때에는 제1항에서 정한 절차에 따라 손해배상 등 분쟁처리 를 요구하거나 금융감독원 또는 한국소비자원 등을 통하여 분쟁조정을 신청할 수 있다. (3)제1항 및 제2항의 규정에 따른 분쟁처리 및 분쟁조정의 신청을 위한 구체적인 절차와 방법 등은 대통령령으로 정 한다. (4)금융회사 또는 전자금융업자는 전자금융거래의 계약을 체결하는 때에는 제1항 내지 제3항의 규정에 따른 절차를 명시하여야 한다. 제4장 전자금융업의 허가와 등록 및 업무\n",
      "\n",
      "전자금융거래법 제7조(거래내용의 확인)\n",
      "(1)금융회사 또는 전자금융업자는 이용자가 전자금융거래에 사용하는 전자적 장치(금융회사 또 는 전자금융업자와 이용자 사이에 미리 약정한 전자적 장치가 있는 경우에는 그 전자적 장치를 포함한다)를 통하여 거래내용을 확인할 수 있도록 하여야 한다. (2)금융회사 또는 전자금융업자는 이용자가 거래내용을 서면(전자문서를 제외한다. 이하 같다)으로 제공할 것을 요 청하는 경우에는 그 요청을 받은 날부터 2주 이내에 거래내용에 관한 서면을 교부하여야 한다. (3)제1항 및 제2항의 규정에 따라 제공하는 거래내용의 대상기간, 종류 및 범위 등에 관한 사항은 대통령령으로 정 한다.\n",
      "\n",
      "전자금융거래법 제2조(정의)\n",
      "금융회사를 거쳐 제29조제1항의 규정에 따른 전자채권관리기관(이하 “전자채권관리기관”이라 한다)에 등록될 것 마. 채무자가 채권자에게 가목 내지 다목의 요건을 모두 갖춘 전자문서를 「전자문서 및 전자거래 기본법」 제6조 제1항에 따라 송신하고 채권자가 이를 같은 법 제6조제2항의 규정에 따라 수신할 것 17. “거래지시”라 함은 이용자가 전자금융거래계약에 따라 금융회사 또는 전자금융업자에게 전자금융거래의 처리 를 지시하는 것을 말한다. 18. “오류”라 함은 이용자의 고의 또는 과실 없이 전자금융거래가 전자금융거래계약 또는 이용자의 거래지시에 따 라 이행되지 아니한 경우를 말한다. 19. “전자지급결제대행”이라 함은 전자적 방법으로 재화의 구입 또는 용역의 이용에 있어서 지급결제정보를 송신하 거나 수신하는 것 또는 그 대가의 정산을 대행하거나 매개하는 것을 말한다. 20. “가맹점”이란 다음 각 목의 자를 말한다. 가. 금융회사 또는 전자금융업자와의 계약에 따라 직불전자지급수단이나 선불전자지급수단 또는 전자화폐에 의 한 거래에 있어서 이용자에게 재화 또는 용역을 제공하는 자 나. 금융회사 또는 전자금융업자와의 계약에 따라 이용자에게 재화 또는 용역을 제공하는 자를 위하여 직불전자 지급수단이나 선불전자지급수단 또는 전자화폐에 의한 거래를 대행하는 자로서 대통령령으로 정하는 자 21. “전자금융기반시설”이란 전자금융거래에 이용되는 정보처리시스템 및 「정보통신망 이용촉진 및 정보보호 등에 관한 법률」 제2조제1항제1호에 따른 정보통신망을 말한다. 22. “전자적 침해행위”란 해킹, 컴퓨터 바이러스, 논리폭탄, 메일폭탄, 서비스 거부 또는 고출력 전자기파 등의 방법 으로 전자금융기반시설을 공격하는 행위를 말한다.\n",
      "=== 끝 ===\n",
      "아래 질문에 대해 **사실에 근거한 간결한 답변**을 작성하세요. \n",
      "\n",
      "규칙:\n",
      "1. 답변은 2~3문장 이내로 작성합니다. 장황한 서론, 결론 문구는 쓰지 않습니다.\n",
      "2. 불확실할 경우 '알 수 없습니다'라고 답하고 생성을 종료합니다.\n",
      "3. 특수문자 없이 오로지 한글과 숫자로만 대답합니다.\n",
      "\n",
      "질문: 전자금융거래법에 따라 이용자가 금융 분쟁조정을 신청할 수 있는 기관을 기술하세요.\n",
      "\n",
      "답변:<|eot_id|><|start_header_id|>assistant<|end_header_id|>\n",
      "\n",
      "\n"
     ]
    },
    {
     "name": "stderr",
     "output_type": "stream",
     "text": [
      "Inference:  56%|█████▋    | 9/16 [00:09<00:09,  1.39s/it]"
     ]
    },
    {
     "name": "stdout",
     "output_type": "stream",
     "text": [
      "#################### Answer ###########################\n",
      "금융회사 또는 전자금융업자는 대통령령이 정한 절차에 따라 전자금융거래의 처리에 관하여 분쟁조정을 신청할 수 있습니다.\n",
      "#################### Question ###########################\n",
      "딥페이크 기술 악용에 대비한 금융권의 대응 방안을 기술하세요.\n",
      "<|begin_of_text|><|start_header_id|>system<|end_header_id|>\n",
      "\n",
      "당신은 금융/보안 QA 도우미입니다. 포맷을 엄격히 지키세요.<|eot_id|><|start_header_id|>user<|end_header_id|>\n",
      "\n",
      "아래 질문에 대해 **사실에 근거한 간결한 답변**을 작성하세요. \n",
      "\n",
      "규칙:\n",
      "1. 답변은 2~3문장 이내로 작성합니다. 장황한 서론, 결론 문구는 쓰지 않습니다.\n",
      "2. 불확실할 경우 '알 수 없습니다'라고 답하고 생성을 종료합니다.\n",
      "3. 특수문자 없이 오로지 한글과 숫자로만 대답합니다.\n",
      "\n",
      "질문: 딥페이크 기술 악용에 대비한 금융권의 대응 방안을 기술하세요.\n",
      "\n",
      "답변:<|eot_id|><|start_header_id|>assistant<|end_header_id|>\n",
      "\n",
      "\n"
     ]
    },
    {
     "name": "stderr",
     "output_type": "stream",
     "text": [
      "Inference:  62%|██████▎   | 10/16 [00:10<00:08,  1.49s/it]"
     ]
    },
    {
     "name": "stdout",
     "output_type": "stream",
     "text": [
      "#################### Answer ###########################\n",
      "금융권의 대응 방안은 딥페이크 기술 악용에 대한 즉각적 대응을 강조합니다. 이를 위해, 실시간 모니터링 시스템 구축, 고가속 탐색 및 예방 조치, 그리고 적절한 규제 체계 구현 등을 통해 딥페이크 기술 악용을 효과적으로 차단합니다.\n",
      "#################### Question ###########################\n",
      "디지털 지갑(Digital Wallet)에서 우려되는 주요 보안 위협을 설명하세요.\n",
      "<|begin_of_text|><|start_header_id|>system<|end_header_id|>\n",
      "\n",
      "당신은 금융/보안 QA 도우미입니다. 포맷을 엄격히 지키세요.<|eot_id|><|start_header_id|>user<|end_header_id|>\n",
      "\n",
      "아래 질문에 대해 **사실에 근거한 간결한 답변**을 작성하세요. \n",
      "\n",
      "규칙:\n",
      "1. 답변은 2~3문장 이내로 작성합니다. 장황한 서론, 결론 문구는 쓰지 않습니다.\n",
      "2. 불확실할 경우 '알 수 없습니다'라고 답하고 생성을 종료합니다.\n",
      "3. 특수문자 없이 오로지 한글과 숫자로만 대답합니다.\n",
      "\n",
      "질문: 디지털 지갑(Digital Wallet)에서 우려되는 주요 보안 위협을 설명하세요.\n",
      "\n",
      "답변:<|eot_id|><|start_header_id|>assistant<|end_header_id|>\n",
      "\n",
      "\n"
     ]
    },
    {
     "name": "stderr",
     "output_type": "stream",
     "text": [
      "Inference:  69%|██████▉   | 11/16 [00:14<00:10,  2.20s/it]"
     ]
    },
    {
     "name": "stdout",
     "output_type": "stream",
     "text": [
      "#################### Answer ###########################\n",
      "디지털 지갑(Digital Wallet)은 사용자의 개인 정보와 자금을 보호하는 데 있어 다양한 보안 위험이 발생합니다. 주요 보안 위험으로는 다음과 같은 것들이 있습니다. Firstly, 해킹(Hacking) - 해커가 디지털 지갑의 시스템을 해킹하여 사용자의 개인 정보를 탈취할 수 있습니다. Secondly, 인공(Infiltration) - 악의 스팍이 디지털 지갑에 침투입하여 정보를 빼앗을 수 있습니다. Thirdly, 사회적 Engineering(Social Engineering) - 사용자를 속내기 위해 설계된 트릭이나 링크를 통해 개인 정보를 얻을 수 있습니다. Lastly, 물리적 보안 Physical Security - 디지털 지갑의 물리적 장치가 파손되거나 훔겨져서 정보를 빼앗을 수 있습니다.\n",
      "#################### Question ###########################\n",
      "개인정보 접근 권한 검토는 어떻게 수행해야 하며, 그 목적은 무엇인가요?\n",
      "<|begin_of_text|><|start_header_id|>system<|end_header_id|>\n",
      "\n",
      "당신은 금융/보안 QA 도우미입니다. 포맷을 엄격히 지키세요.<|eot_id|><|start_header_id|>user<|end_header_id|>\n",
      "\n",
      "아래 질문에 대해 **사실에 근거한 간결한 답변**을 작성하세요. \n",
      "\n",
      "규칙:\n",
      "1. 답변은 2~3문장 이내로 작성합니다. 장황한 서론, 결론 문구는 쓰지 않습니다.\n",
      "2. 불확실할 경우 '알 수 없습니다'라고 답하고 생성을 종료합니다.\n",
      "3. 특수문자 없이 오로지 한글과 숫자로만 대답합니다.\n",
      "\n",
      "질문: 개인정보 접근 권한 검토는 어떻게 수행해야 하며, 그 목적은 무엇인가요?\n",
      "\n",
      "답변:<|eot_id|><|start_header_id|>assistant<|end_header_id|>\n",
      "\n",
      "\n"
     ]
    },
    {
     "name": "stderr",
     "output_type": "stream",
     "text": [
      "Inference:  75%|███████▌  | 12/16 [00:15<00:07,  1.80s/it]"
     ]
    },
    {
     "name": "stdout",
     "output_type": "stream",
     "text": [
      "#################### Answer ###########################\n",
      "개인정보 접근 권한 검토는 정보보호의 원칙에 따라 수행됩니다. 이를 통해 개인정보 보호와 보안을 강화하는 것이 목적입니다.\n",
      "#################### Question ###########################\n",
      "정보보호의 3대 요소에 해당하는 보안 목표를 3가지 기술하세요.\n",
      "<|begin_of_text|><|start_header_id|>system<|end_header_id|>\n",
      "\n",
      "당신은 금융/보안 QA 도우미입니다. 포맷을 엄격히 지키세요.<|eot_id|><|start_header_id|>user<|end_header_id|>\n",
      "\n",
      "아래 질문에 대해 **사실에 근거한 간결한 답변**을 작성하세요. \n",
      "\n",
      "규칙:\n",
      "1. 답변은 2~3문장 이내로 작성합니다. 장황한 서론, 결론 문구는 쓰지 않습니다.\n",
      "2. 불확실할 경우 '알 수 없습니다'라고 답하고 생성을 종료합니다.\n",
      "3. 특수문자 없이 오로지 한글과 숫자로만 대답합니다.\n",
      "\n",
      "질문: 정보보호의 3대 요소에 해당하는 보안 목표를 3가지 기술하세요.\n",
      "\n",
      "답변:<|eot_id|><|start_header_id|>assistant<|end_header_id|>\n",
      "\n",
      "\n"
     ]
    },
    {
     "name": "stderr",
     "output_type": "stream",
     "text": [
      "Inference:  81%|████████▏ | 13/16 [00:17<00:05,  1.85s/it]"
     ]
    },
    {
     "name": "stdout",
     "output_type": "stream",
     "text": [
      "#################### Answer ###########################\n",
      "보안 목표 3가지는 다음과 같습니다.\n",
      "**데이터 암호성**\n",
      "**인증 및 권한 부여**\n",
      "**악용 방지**\n",
      "#################### Question ###########################\n",
      "금융회사가 정보보호 예산을 관리할 때, 전자금융감독규정상 정보기술부문 인력 및 예산의 기준 비율은 얼마인가요?\n",
      "<|begin_of_text|><|start_header_id|>system<|end_header_id|>\n",
      "\n",
      "당신은 금융/보안 QA 도우미입니다. 포맷을 엄격히 지키세요.<|eot_id|><|start_header_id|>user<|end_header_id|>\n",
      "\n",
      "아래 질문에 대해 **사실에 근거한 간결한 답변**을 작성하세요. \n",
      "\n",
      "규칙:\n",
      "1. 답변은 2~3문장 이내로 작성합니다. 장황한 서론, 결론 문구는 쓰지 않습니다.\n",
      "2. 불확실할 경우 '알 수 없습니다'라고 답하고 생성을 종료합니다.\n",
      "3. 특수문자 없이 오로지 한글과 숫자로만 대답합니다.\n",
      "\n",
      "질문: 금융회사가 정보보호 예산을 관리할 때, 전자금융감독규정상 정보기술부문 인력 및 예산의 기준 비율은 얼마인가요?\n",
      "\n",
      "답변:<|eot_id|><|start_header_id|>assistant<|end_header_id|>\n",
      "\n",
      "\n"
     ]
    },
    {
     "name": "stderr",
     "output_type": "stream",
     "text": [
      "Inference:  88%|████████▊ | 14/16 [00:20<00:04,  2.31s/it]"
     ]
    },
    {
     "name": "stdout",
     "output_type": "stream",
     "text": [
      "#################### Answer ###########################\n",
      "이 문제에 대한 정확한 데이터를 찾을 수 없지만, 일반적으로 금융회사의 정보보호 예산을 관리하는 데 필요한 인력 및 예산의 비율은 다음과 같습니다.\n",
      "* 인력\n",
      "* 예산\n",
      "#################### Question ###########################\n",
      "SMTP 프로토콜의 보안상 주요 역할을 설명하세요.\n",
      "<|begin_of_text|><|start_header_id|>system<|end_header_id|>\n",
      "\n",
      "당신은 금융/보안 QA 도우미입니다. 포맷을 엄격히 지키세요.<|eot_id|><|start_header_id|>user<|end_header_id|>\n",
      "\n",
      "아래 질문에 대해 **사실에 근거한 간결한 답변**을 작성하세요. \n",
      "\n",
      "규칙:\n",
      "1. 답변은 2~3문장 이내로 작성합니다. 장황한 서론, 결론 문구는 쓰지 않습니다.\n",
      "2. 불확실할 경우 '알 수 없습니다'라고 답하고 생성을 종료합니다.\n",
      "3. 특수문자 없이 오로지 한글과 숫자로만 대답합니다.\n",
      "\n",
      "질문: SMTP 프로토콜의 보안상 주요 역할을 설명하세요.\n",
      "\n",
      "답변:<|eot_id|><|start_header_id|>assistant<|end_header_id|>\n",
      "\n",
      "\n"
     ]
    },
    {
     "name": "stderr",
     "output_type": "stream",
     "text": [
      "Inference:  94%|█████████▍| 15/16 [00:23<00:02,  2.40s/it]"
     ]
    },
    {
     "name": "stdout",
     "output_type": "stream",
     "text": [
      "#################### Answer ###########################\n",
      "SMTP(Simple Mail Transfer Protocol) 프로토콜은 전자 메일 전송을 위한 표준화된 통신 프로토콜입니다. 보안상 주요 역할로는 다음과 같습니다\n",
      "암호화\n",
      "인증\n",
      "암호화 키 관리\n",
      "#################### Question ###########################\n",
      "개인신용평점 하락 가능성과 관련해 설명의무가 발생하는 경우, 금융기관이 설명해야 할 주요 내용은 무엇인가요?\n",
      "<|begin_of_text|><|start_header_id|>system<|end_header_id|>\n",
      "\n",
      "당신은 금융/보안 QA 도우미입니다. 포맷을 엄격히 지키세요.<|eot_id|><|start_header_id|>user<|end_header_id|>\n",
      "\n",
      "아래 컨텍스트를 우선 사용해 정확히 답하세요. 불충분하면 아는 범위에서만 간결히 답하세요.\n",
      "\n",
      "=== 컨텍스트 ===\n",
      "신용정보법 제35조의2(개인신용평점 하락 가능성 등에 대한 설명의무)\n",
      "대통령령으로 정하는 신용정보제공ㆍ이용자는 개인인 신용 정보주체와 신용위험이 따르는 금융거래로서 대통령령으로 정하는 금융거래를 하는 경우 다음 각 호의 사항을 해당 신용정보주체에게 설명하여야 한다. 1. 해당 금융거래로 인하여 개인신용평가회사가 개인신용평점을 만들어 낼 때 해당 신용정보주체에게 불이익이 발 생할 수 있다는 사실 2. 그 밖에 해당 금융거래로 인하여 해당 신용정보주체에게 영향을 미칠 수 있는 사항으로서 대통령령으로 정하는 사항\n",
      "=== 끝 ===\n",
      "아래 질문에 대해 **사실에 근거한 간결한 답변**을 작성하세요. \n",
      "\n",
      "규칙:\n",
      "1. 답변은 2~3문장 이내로 작성합니다. 장황한 서론, 결론 문구는 쓰지 않습니다.\n",
      "2. 불확실할 경우 '알 수 없습니다'라고 답하고 생성을 종료합니다.\n",
      "3. 특수문자 없이 오로지 한글과 숫자로만 대답합니다.\n",
      "\n",
      "질문: 개인신용평점 하락 가능성과 관련해 설명의무가 발생하는 경우, 금융기관이 설명해야 할 주요 내용은 무엇인가요?\n",
      "\n",
      "답변:<|eot_id|><|start_header_id|>assistant<|end_header_id|>\n",
      "\n",
      "\n"
     ]
    },
    {
     "name": "stderr",
     "output_type": "stream",
     "text": [
      "Inference: 100%|██████████| 16/16 [00:24<00:00,  1.56s/it]"
     ]
    },
    {
     "name": "stdout",
     "output_type": "stream",
     "text": [
      "#################### Answer ###########################\n",
      "금융거래에 따른 개인신용평점 하락 가능성을 설명하는 경우, 금융기관은 다음 사항을 설명해야 합니다. 1. 개인신용평가회의 영향력 있는 요소, 2. 개인신용평가회의 위험 요인, 3. 개인신용평가회의 관리 방안.\n"
     ]
    },
    {
     "name": "stderr",
     "output_type": "stream",
     "text": [
      "\n"
     ]
    }
   ],
   "source": [
    "preds = []\n",
    "\n",
    "for q in tqdm(test['Question'], desc=\"Inference\"):\n",
    "    print(\"#################### Question ###########################\")\n",
    "    print(q)\n",
    "    ans = generate_answer_with_indices(q, indices)\n",
    "    pred_answer = extract_answer_only(ans, original_question=q)\n",
    "    print(\"#################### Answer ###########################\")\n",
    "    print(strip_explanations(pred_answer))\n",
    "    preds.append(pred_answer)"
   ]
  },
  {
   "cell_type": "code",
   "execution_count": 22,
   "id": "127f0a1c-cdc2-4671-bf75-5b3e5a2eeaaf",
   "metadata": {},
   "outputs": [],
   "source": [
    "# sample_submission = pd.read_csv('../submission/sample_submission.csv')\n",
    "# sample_submission['Answer'] = preds\n",
    "# sample_submission.to_csv('../submission/gen_v4.05_submission.csv', index=False, encoding='utf-8-sig')"
   ]
  },
  {
   "cell_type": "code",
   "execution_count": null,
   "id": "d2b90f0b-1997-4373-955e-0990fd4a2861",
   "metadata": {},
   "outputs": [],
   "source": []
  },
  {
   "cell_type": "code",
   "execution_count": 23,
   "id": "67799b03-64f8-4670-9345-1b5000248138",
   "metadata": {},
   "outputs": [
    {
     "data": {
      "text/plain": [
       "[LawDoc(text='개인정보 보호법 제1조(목적)\\n이 법은 개인정보의 처리 및 보호에 관한 사항을 정함으로써 개인의 자유와 권리를 보호하고, 나아가 개인 의 존엄과 가치를 구현함을 목적으로 한다.', meta={'law_id': 'pipa', 'law_name': '개인정보 보호법', 'article_id': '제1조', 'article_title': '목적', 'effective_date': None, 'tok_len': 56, 'source_uri': '../data/개인정보 보호법(법률)(제19234호)(20250313).pdf', 'version': None}),\n",
       " LawDoc(text='개인정보 보호법 제2조(정의)\\n이 법에서 사용하는 용어의 뜻은 다음과 같다. 1. “개인정보”란 살아 있는 개인에 관한 정보로서 다음 각 목의 어느 하나에 해당하는 정보를 말한다. 가. 성명, 주민등록번호 및 영상 등을 통하여 개인을 알아볼 수 있는 정보 나. 해당 정보만으로는 특정 개인을 알아볼 수 없더라도 다른 정보와 쉽게 결합하여 알아볼 수 있는 정보. 이 경우 쉽게 결합할 수 있는지 여부는 다른 정보의 입수 가능성 등 개인을 알아보는 데 소요되는 시간, 비용, 기술 등 을 합리적으로 고려하여야 한다. 다. 가목 또는 나목을 제1호의2에 따라 가명처리함으로써 원래의 상태로 복원하기 위한 추가 정보의 사용ㆍ결합 없이는 특정 개인을 알아볼 수 없는 정보(이하 “가명정보”라 한다) 1의2. “가명처리”란 개인정보의 일부를 삭제하거나 일부 또는 전부를 대체하는 등의 방법으로 추가 정보가 없이는 특정 개인을 알아볼 수 없도록 처리하는 것을 말한다. 2. “처리”란 개인정보의 수집, 생성, 연계, 연동, 기록, 저장, 보유, 가공, 편집, 검색, 출력, 정정, 복구, 이용, 제공, 공개, 파기, 그 밖에 이와 유사한 행위를 말한다. 3. “정보주체”란 처리되는 정보에 의하여 알아볼 수 있는 사람으로서 그 정보의 주체가 되는 사람을 말한다. 4. “개인정보파일”이란 개인정보를 쉽게 검색할 수 있도록 일정한 규칙에 따라 체계적으로 배열하거나 구성한 개인 정보의 집합물을 말한다. 5. “개인정보처리자”란 업무를 목적으로 개인정보파일을 운용하기 위하여 스스로 또는 다른 사람을 통하여 개인정 보를 처리하는 공공기관, 법인, 단체 및 개인 등을 말한다. 6. “공공기관”이란 다음 각 목의 기관을 말한다. 가. 국회, 법원, 헌법재판소, 중앙선거관리위원회의 행정사무를 처리하는 기관, 중앙행정기관(대통령 소속 기관과 국무총리 소속 기관을 포함한다) 및 그 소속 기관, 지방자치단체 나. 그 밖의 국가기관 및 공공단체 중 대통령령으로 정하는 기관 7.', meta={'law_id': 'pipa', 'law_name': '개인정보 보호법', 'article_id': '제2조', 'article_title': '정의', 'effective_date': None, 'tok_len': 568, 'source_uri': '../data/개인정보 보호법(법률)(제19234호)(20250313).pdf', 'version': None}),\n",
       " LawDoc(text='개인정보 보호법 제2조(정의)\\n그 밖의 국가기관 및 공공단체 중 대통령령으로 정하는 기관 7. “고정형 영상정보처리기기”란 일정한 공간에 설치되어 지속적 또는 주기적으로 사람 또는 사물의 영상 등을 촬영 하거나 이를 유ㆍ무선망을 통하여 전송하는 장치로서 대통령령으로 정하는 장치를 말한다. 7의2. “이동형 영상정보처리기기”란 사람이 신체에 착용 또는 휴대하거나 이동 가능한 물체에 부착 또는 거치하여 사람 또는 사물의 영상 등을 촬영하거나 이를 유ㆍ무선망을 통하여 전송하는 장치로서 대통령령으로 정하 는 장치를 말한다. 8. “과학적 연구”란 기술의 개발과 실증, 기초연구, 응용연구 및 민간 투자 연구 등 과학적 방법을 적용하는 연구를 말한다.', meta={'law_id': 'pipa', 'law_name': '개인정보 보호법', 'article_id': '제2조', 'article_title': '정의', 'effective_date': None, 'tok_len': 215, 'source_uri': '../data/개인정보 보호법(법률)(제19234호)(20250313).pdf', 'version': None}),\n",
       " LawDoc(text='개인정보 보호법 제3조(개인정보 보호 원칙)\\n(1) 개인정보처리자는 개인정보의 처리 목적을 명확하게 하여야 하고 그 목적에 필요한 범위 에서 최소한의 개인정보만을 적법하고 정당하게 수집하여야 한다. (2) 개인정보처리자는 개인정보의 처리 목적에 필요한 범위에서 적합하게 개인정보를 처리하여야 하며, 그 목적 외 의 용도로 활용하여서는 아니 된다. (3) 개인정보처리자는 개인정보의 처리 목적에 필요한 범위에서 개인정보의 정확성, 완전성 및 최신성이 보장되도록 하여야 한다. (4) 개인정보처리자는 개인정보의 처리 방법 및 종류 등에 따라 정보주체의 권리가 침해받을 가능성과 그 위험 정도 를 고려하여 개인정보를 안전하게 관리하여야 한다. (5) 개인정보처리자는 제30조에 따른 개인정보 처리방침 등 개인정보의 처리에 관한 사항을 공개하여야 하며, 열람 청구권 등 정보주체의 권리를 보장하여야 한다. (6) 개인정보처리자는 정보주체의 사생활 침해를 최소화하는 방법으로 개인정보를 처리하여야 한다. (7) 개인정보처리자는 개인정보를 익명 또는 가명으로 처리하여도 개인정보 수집목적을 달성할 수 있는 경우 익명 처리가 가능한 경우에는 익명에 의하여, 익명처리로 목적을 달성할 수 없는 경우에는 가명에 의하여 처리될 수 있도 록 하여야 한다. (8) 개인정보처리자는 이 법 및 관계 법령에서 규정하고 있는 책임과 의무를 준수하고 실천함으로써 정보주체의 신 뢰를 얻기 위하여 노력하여야 한다.', meta={'law_id': 'pipa', 'law_name': '개인정보 보호법', 'article_id': '제3조', 'article_title': '개인정보 보호 원칙', 'effective_date': None, 'tok_len': 410, 'source_uri': '../data/개인정보 보호법(법률)(제19234호)(20250313).pdf', 'version': None}),\n",
       " LawDoc(text='개인정보 보호법 제4조(정보주체의 권리)\\n정보주체는 자신의 개인정보 처리와 관련하여 다음 각 호의 권리를 가진다. 1. 개인정보의 처리에 관한 정보를 제공받을 권리 2. 개인정보의 처리에 관한 동의 여부, 동의 범위 등을 선택하고 결정할 권리 3. 개인정보의 처리 여부를 확인하고 개인정보에 대한 열람(사본의 발급을 포함한다. 이하 같다) 및 전송을 요구할 권리 4. 개인정보의 처리 정지, 정정ㆍ삭제 및 파기를 요구할 권리 5. 개인정보의 처리로 인하여 발생한 피해를 신속하고 공정한 절차에 따라 구제받을 권리 6. 완전히 자동화된 개인정보 처리에 따른 결정을 거부하거나 그에 대한 설명 등을 요구할 권리', meta={'law_id': 'pipa', 'law_name': '개인정보 보호법', 'article_id': '제4조', 'article_title': '정보주체의 권리', 'effective_date': None, 'tok_len': 197, 'source_uri': '../data/개인정보 보호법(법률)(제19234호)(20250313).pdf', 'version': None})]"
      ]
     },
     "execution_count": 23,
     "metadata": {},
     "output_type": "execute_result"
    }
   ],
   "source": [
    "all_docs[:5]"
   ]
  },
  {
   "cell_type": "code",
   "execution_count": 28,
   "id": "10508bf2-c3d2-4f37-9160-a20b0764abb9",
   "metadata": {},
   "outputs": [
    {
     "name": "stdout",
     "output_type": "stream",
     "text": [
      "개인정보 보호법 제2조(정의)\n",
      "이 법에서 사용하는 용어의 뜻은 다음과 같다. 1. “개인정보”란 살아 있는 개인에 관한 정보로서 다음 각 목의 어느 하나에 해당하는 정보를 말한다. 가. 성명, 주민등록번호 및 영상 등을 통하여 개인을 알아볼 수 있는 정보 나. 해당 정보만으로는 특정 개인을 알아볼 수 없더라도 다른 정보와 쉽게 결합하여 알아볼 수 있는 정보. 이 경우 쉽게 결합할 수 있는지 여부는 다른 정보의 입수 가능성 등 개인을 알아보는 데 소요되는 시간, 비용, 기술 등 을 합리적으로 고려하여야 한다. 다. 가목 또는 나목을 제1호의2에 따라 가명처리함으로써 원래의 상태로 복원하기 위한 추가 정보의 사용ㆍ결합 없이는 특정 개인을 알아볼 수 없는 정보(이하 “가명정보”라 한다) 1의2. “가명처리”란 개인정보의 일부를 삭제하거나 일부 또는 전부를 대체하는 등의 방법으로 추가 정보가 없이는 특정 개인을 알아볼 수 없도록 처리하는 것을 말한다. 2. “처리”란 개인정보의 수집, 생성, 연계, 연동, 기록, 저장, 보유, 가공, 편집, 검색, 출력, 정정, 복구, 이용, 제공, 공개, 파기, 그 밖에 이와 유사한 행위를 말한다. 3. “정보주체”란 처리되는 정보에 의하여 알아볼 수 있는 사람으로서 그 정보의 주체가 되는 사람을 말한다. 4. “개인정보파일”이란 개인정보를 쉽게 검색할 수 있도록 일정한 규칙에 따라 체계적으로 배열하거나 구성한 개인 정보의 집합물을 말한다. 5. “개인정보처리자”란 업무를 목적으로 개인정보파일을 운용하기 위하여 스스로 또는 다른 사람을 통하여 개인정 보를 처리하는 공공기관, 법인, 단체 및 개인 등을 말한다. 6. “공공기관”이란 다음 각 목의 기관을 말한다. 가. 국회, 법원, 헌법재판소, 중앙선거관리위원회의 행정사무를 처리하는 기관, 중앙행정기관(대통령 소속 기관과 국무총리 소속 기관을 포함한다) 및 그 소속 기관, 지방자치단체 나. 그 밖의 국가기관 및 공공단체 중 대통령령으로 정하는 기관 7.\n"
     ]
    }
   ],
   "source": [
    "print(all_docs[1].text)"
   ]
  },
  {
   "cell_type": "code",
   "execution_count": 29,
   "id": "e8d712d4-4b86-4264-9f25-f369c06e2e2d",
   "metadata": {},
   "outputs": [
    {
     "data": {
      "text/plain": [
       "LawDoc(text='개인정보 보호법 제2조(정의)\\n이 법에서 사용하는 용어의 뜻은 다음과 같다. 1. “개인정보”란 살아 있는 개인에 관한 정보로서 다음 각 목의 어느 하나에 해당하는 정보를 말한다. 가. 성명, 주민등록번호 및 영상 등을 통하여 개인을 알아볼 수 있는 정보 나. 해당 정보만으로는 특정 개인을 알아볼 수 없더라도 다른 정보와 쉽게 결합하여 알아볼 수 있는 정보. 이 경우 쉽게 결합할 수 있는지 여부는 다른 정보의 입수 가능성 등 개인을 알아보는 데 소요되는 시간, 비용, 기술 등 을 합리적으로 고려하여야 한다. 다. 가목 또는 나목을 제1호의2에 따라 가명처리함으로써 원래의 상태로 복원하기 위한 추가 정보의 사용ㆍ결합 없이는 특정 개인을 알아볼 수 없는 정보(이하 “가명정보”라 한다) 1의2. “가명처리”란 개인정보의 일부를 삭제하거나 일부 또는 전부를 대체하는 등의 방법으로 추가 정보가 없이는 특정 개인을 알아볼 수 없도록 처리하는 것을 말한다. 2. “처리”란 개인정보의 수집, 생성, 연계, 연동, 기록, 저장, 보유, 가공, 편집, 검색, 출력, 정정, 복구, 이용, 제공, 공개, 파기, 그 밖에 이와 유사한 행위를 말한다. 3. “정보주체”란 처리되는 정보에 의하여 알아볼 수 있는 사람으로서 그 정보의 주체가 되는 사람을 말한다. 4. “개인정보파일”이란 개인정보를 쉽게 검색할 수 있도록 일정한 규칙에 따라 체계적으로 배열하거나 구성한 개인 정보의 집합물을 말한다. 5. “개인정보처리자”란 업무를 목적으로 개인정보파일을 운용하기 위하여 스스로 또는 다른 사람을 통하여 개인정 보를 처리하는 공공기관, 법인, 단체 및 개인 등을 말한다. 6. “공공기관”이란 다음 각 목의 기관을 말한다. 가. 국회, 법원, 헌법재판소, 중앙선거관리위원회의 행정사무를 처리하는 기관, 중앙행정기관(대통령 소속 기관과 국무총리 소속 기관을 포함한다) 및 그 소속 기관, 지방자치단체 나. 그 밖의 국가기관 및 공공단체 중 대통령령으로 정하는 기관 7.', meta={'law_id': 'pipa', 'law_name': '개인정보 보호법', 'article_id': '제2조', 'article_title': '정의', 'effective_date': None, 'tok_len': 568, 'source_uri': '../data/개인정보 보호법(법률)(제19234호)(20250313).pdf', 'version': None})"
      ]
     },
     "execution_count": 29,
     "metadata": {},
     "output_type": "execute_result"
    }
   ],
   "source": [
    "all_docs[1]"
   ]
  }
 ],
 "metadata": {
  "kernelspec": {
   "display_name": "Python 3 (ipykernel)",
   "language": "python",
   "name": "python3"
  },
  "language_info": {
   "codemirror_mode": {
    "name": "ipython",
    "version": 3
   },
   "file_extension": ".py",
   "mimetype": "text/x-python",
   "name": "python",
   "nbconvert_exporter": "python",
   "pygments_lexer": "ipython3",
   "version": "3.10.12"
  }
 },
 "nbformat": 4,
 "nbformat_minor": 5
}
